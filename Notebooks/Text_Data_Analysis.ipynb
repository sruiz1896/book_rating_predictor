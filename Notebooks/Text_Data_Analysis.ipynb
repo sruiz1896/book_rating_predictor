{
 "cells": [
  {
   "cell_type": "markdown",
   "id": "12667180",
   "metadata": {},
   "source": [
    "## Sabrina Ruiz \n",
    "# BrainStation Capstone: Book Rating Predictor\n",
    "## *Text Data Analysis*"
   ]
  },
  {
   "cell_type": "markdown",
   "id": "e5ea15d3",
   "metadata": {},
   "source": [
    "# Introduction\n",
    "In this notebook, I will optimize the text vectorization and processing for the `review` column of my cleaned data. I will create a custom tokenizer to best fit my data set. Lastly, I will test the text processing through a basic model.  "
   ]
  },
  {
   "cell_type": "markdown",
   "id": "0772e75c",
   "metadata": {},
   "source": [
    "# Set Up"
   ]
  },
  {
   "cell_type": "code",
   "execution_count": 1,
   "id": "3ee247fd",
   "metadata": {},
   "outputs": [],
   "source": [
    "import pandas as pd\n",
    "import numpy as np\n",
    "import matplotlib.pyplot as plt\n",
    "\n",
    "from sklearn.linear_model import LogisticRegression\n",
    "\n",
    "import warnings\n",
    "warnings.filterwarnings('ignore')"
   ]
  },
  {
   "cell_type": "code",
   "execution_count": 2,
   "id": "e814ed43",
   "metadata": {},
   "outputs": [
    {
     "name": "stderr",
     "output_type": "stream",
     "text": [
      "[nltk_data] Downloading package stopwords to\n",
      "[nltk_data]     C:\\Users\\missruiz\\AppData\\Roaming\\nltk_data...\n",
      "[nltk_data]   Package stopwords is already up-to-date!\n"
     ]
    }
   ],
   "source": [
    "from sklearn.model_selection import train_test_split\n",
    "from sklearn.feature_extraction.text import CountVectorizer\n",
    "from sklearn.feature_extraction.text import TfidfVectorizer\n",
    "import string\n",
    "import nltk\n",
    "stemmer = nltk.stem.PorterStemmer()\n",
    "# import the nltk stopwords\n",
    "nltk.download('stopwords')\n",
    "from nltk.corpus import stopwords\n",
    "\n",
    "from sklearn.compose import ColumnTransformer"
   ]
  },
  {
   "cell_type": "code",
   "execution_count": 3,
   "id": "a86c7365",
   "metadata": {},
   "outputs": [
    {
     "data": {
      "text/html": [
       "<div>\n",
       "<style scoped>\n",
       "    .dataframe tbody tr th:only-of-type {\n",
       "        vertical-align: middle;\n",
       "    }\n",
       "\n",
       "    .dataframe tbody tr th {\n",
       "        vertical-align: top;\n",
       "    }\n",
       "\n",
       "    .dataframe thead th {\n",
       "        text-align: right;\n",
       "    }\n",
       "</style>\n",
       "<table border=\"1\" class=\"dataframe\">\n",
       "  <thead>\n",
       "    <tr style=\"text-align: right;\">\n",
       "      <th></th>\n",
       "      <th>Unnamed: 0</th>\n",
       "      <th>Id</th>\n",
       "      <th>Title</th>\n",
       "      <th>User_id</th>\n",
       "      <th>profileName</th>\n",
       "      <th>review_score</th>\n",
       "      <th>review_summary</th>\n",
       "      <th>review</th>\n",
       "      <th>authors</th>\n",
       "      <th>publishedDate</th>\n",
       "      <th>categories</th>\n",
       "    </tr>\n",
       "  </thead>\n",
       "  <tbody>\n",
       "    <tr>\n",
       "      <th>0</th>\n",
       "      <td>0</td>\n",
       "      <td>1882931173</td>\n",
       "      <td>Its Only Art If Its Well Hung!</td>\n",
       "      <td>AVCGYZL8FQQTD</td>\n",
       "      <td>Jim of Oz \"jim-of-oz\"</td>\n",
       "      <td>4.0</td>\n",
       "      <td>Nice collection of Julie Strain images</td>\n",
       "      <td>This is only for Julie Strain fans. It's a col...</td>\n",
       "      <td>Julie Strain</td>\n",
       "      <td>1996</td>\n",
       "      <td>Comics &amp; Graphic Novels</td>\n",
       "    </tr>\n",
       "    <tr>\n",
       "      <th>1</th>\n",
       "      <td>1</td>\n",
       "      <td>0826414346</td>\n",
       "      <td>Dr. Seuss: American Icon</td>\n",
       "      <td>A30TK6U7DNS82R</td>\n",
       "      <td>Kevin Killian</td>\n",
       "      <td>5.0</td>\n",
       "      <td>Really Enjoyed It</td>\n",
       "      <td>I don't care much for Dr. Seuss but after read...</td>\n",
       "      <td>Philip Nel</td>\n",
       "      <td>2005-01-01</td>\n",
       "      <td>Biography &amp; Autobiography</td>\n",
       "    </tr>\n",
       "    <tr>\n",
       "      <th>2</th>\n",
       "      <td>2</td>\n",
       "      <td>0826414346</td>\n",
       "      <td>Dr. Seuss: American Icon</td>\n",
       "      <td>A3UH4UZ4RSVO82</td>\n",
       "      <td>John Granger</td>\n",
       "      <td>5.0</td>\n",
       "      <td>Essential for every personal and Public Library</td>\n",
       "      <td>If people become the books they read and if \"t...</td>\n",
       "      <td>Philip Nel</td>\n",
       "      <td>2005-01-01</td>\n",
       "      <td>Biography &amp; Autobiography</td>\n",
       "    </tr>\n",
       "    <tr>\n",
       "      <th>3</th>\n",
       "      <td>3</td>\n",
       "      <td>0826414346</td>\n",
       "      <td>Dr. Seuss: American Icon</td>\n",
       "      <td>A2MVUWT453QH61</td>\n",
       "      <td>Roy E. Perry \"amateur philosopher\"</td>\n",
       "      <td>4.0</td>\n",
       "      <td>Phlip Nel gives silly Seuss a serious treatment</td>\n",
       "      <td>Theodore Seuss Geisel (1904-1991), aka &amp;quot;D...</td>\n",
       "      <td>Philip Nel</td>\n",
       "      <td>2005-01-01</td>\n",
       "      <td>Biography &amp; Autobiography</td>\n",
       "    </tr>\n",
       "    <tr>\n",
       "      <th>4</th>\n",
       "      <td>4</td>\n",
       "      <td>0826414346</td>\n",
       "      <td>Dr. Seuss: American Icon</td>\n",
       "      <td>A22X4XUPKF66MR</td>\n",
       "      <td>D. H. Richards \"ninthwavestore\"</td>\n",
       "      <td>4.0</td>\n",
       "      <td>Good academic overview</td>\n",
       "      <td>Philip Nel - Dr. Seuss: American IconThis is b...</td>\n",
       "      <td>Philip Nel</td>\n",
       "      <td>2005-01-01</td>\n",
       "      <td>Biography &amp; Autobiography</td>\n",
       "    </tr>\n",
       "  </tbody>\n",
       "</table>\n",
       "</div>"
      ],
      "text/plain": [
       "   Unnamed: 0          Id                           Title         User_id  \\\n",
       "0           0  1882931173  Its Only Art If Its Well Hung!   AVCGYZL8FQQTD   \n",
       "1           1  0826414346        Dr. Seuss: American Icon  A30TK6U7DNS82R   \n",
       "2           2  0826414346        Dr. Seuss: American Icon  A3UH4UZ4RSVO82   \n",
       "3           3  0826414346        Dr. Seuss: American Icon  A2MVUWT453QH61   \n",
       "4           4  0826414346        Dr. Seuss: American Icon  A22X4XUPKF66MR   \n",
       "\n",
       "                          profileName  review_score  \\\n",
       "0               Jim of Oz \"jim-of-oz\"           4.0   \n",
       "1                       Kevin Killian           5.0   \n",
       "2                        John Granger           5.0   \n",
       "3  Roy E. Perry \"amateur philosopher\"           4.0   \n",
       "4     D. H. Richards \"ninthwavestore\"           4.0   \n",
       "\n",
       "                                    review_summary  \\\n",
       "0           Nice collection of Julie Strain images   \n",
       "1                                Really Enjoyed It   \n",
       "2  Essential for every personal and Public Library   \n",
       "3  Phlip Nel gives silly Seuss a serious treatment   \n",
       "4                           Good academic overview   \n",
       "\n",
       "                                              review       authors  \\\n",
       "0  This is only for Julie Strain fans. It's a col...  Julie Strain   \n",
       "1  I don't care much for Dr. Seuss but after read...    Philip Nel   \n",
       "2  If people become the books they read and if \"t...    Philip Nel   \n",
       "3  Theodore Seuss Geisel (1904-1991), aka &quot;D...    Philip Nel   \n",
       "4  Philip Nel - Dr. Seuss: American IconThis is b...    Philip Nel   \n",
       "\n",
       "  publishedDate                 categories  \n",
       "0          1996    Comics & Graphic Novels  \n",
       "1    2005-01-01  Biography & Autobiography  \n",
       "2    2005-01-01  Biography & Autobiography  \n",
       "3    2005-01-01  Biography & Autobiography  \n",
       "4    2005-01-01  Biography & Autobiography  "
      ]
     },
     "execution_count": 3,
     "metadata": {},
     "output_type": "execute_result"
    }
   ],
   "source": [
    "data = pd.read_csv('../data/combined_book_data_cleaned.csv')\n",
    "data.head()"
   ]
  },
  {
   "cell_type": "markdown",
   "id": "9cece48a",
   "metadata": {},
   "source": [
    "# Exploring 'Positive' 'Negative' Sentiment\n",
    "for the purposes of Sprint 2, I will convert the `review_score` to a binary representing *positive* and *negative* sentiment. If time permits, I might explore the possibility of a multiclass classifier. A multiclass system would perhaps addresess my current data imbalance issue, where the majority (88%) of my data is currently positive sentiment.  "
   ]
  },
  {
   "cell_type": "code",
   "execution_count": 4,
   "id": "782440d3",
   "metadata": {},
   "outputs": [
    {
     "data": {
      "text/html": [
       "<div>\n",
       "<style scoped>\n",
       "    .dataframe tbody tr th:only-of-type {\n",
       "        vertical-align: middle;\n",
       "    }\n",
       "\n",
       "    .dataframe tbody tr th {\n",
       "        vertical-align: top;\n",
       "    }\n",
       "\n",
       "    .dataframe thead th {\n",
       "        text-align: right;\n",
       "    }\n",
       "</style>\n",
       "<table border=\"1\" class=\"dataframe\">\n",
       "  <thead>\n",
       "    <tr style=\"text-align: right;\">\n",
       "      <th></th>\n",
       "      <th>Unnamed: 0</th>\n",
       "      <th>Id</th>\n",
       "      <th>Title</th>\n",
       "      <th>User_id</th>\n",
       "      <th>profileName</th>\n",
       "      <th>review_score</th>\n",
       "      <th>review_summary</th>\n",
       "      <th>review</th>\n",
       "      <th>authors</th>\n",
       "      <th>publishedDate</th>\n",
       "      <th>categories</th>\n",
       "    </tr>\n",
       "  </thead>\n",
       "  <tbody>\n",
       "    <tr>\n",
       "      <th>0</th>\n",
       "      <td>0</td>\n",
       "      <td>1882931173</td>\n",
       "      <td>Its Only Art If Its Well Hung!</td>\n",
       "      <td>AVCGYZL8FQQTD</td>\n",
       "      <td>Jim of Oz \"jim-of-oz\"</td>\n",
       "      <td>4.0</td>\n",
       "      <td>Nice collection of Julie Strain images</td>\n",
       "      <td>This is only for Julie Strain fans. It's a col...</td>\n",
       "      <td>Julie Strain</td>\n",
       "      <td>1996</td>\n",
       "      <td>Comics &amp; Graphic Novels</td>\n",
       "    </tr>\n",
       "    <tr>\n",
       "      <th>1</th>\n",
       "      <td>1</td>\n",
       "      <td>0826414346</td>\n",
       "      <td>Dr. Seuss: American Icon</td>\n",
       "      <td>A30TK6U7DNS82R</td>\n",
       "      <td>Kevin Killian</td>\n",
       "      <td>5.0</td>\n",
       "      <td>Really Enjoyed It</td>\n",
       "      <td>I don't care much for Dr. Seuss but after read...</td>\n",
       "      <td>Philip Nel</td>\n",
       "      <td>2005-01-01</td>\n",
       "      <td>Biography &amp; Autobiography</td>\n",
       "    </tr>\n",
       "  </tbody>\n",
       "</table>\n",
       "</div>"
      ],
      "text/plain": [
       "   Unnamed: 0          Id                           Title         User_id  \\\n",
       "0           0  1882931173  Its Only Art If Its Well Hung!   AVCGYZL8FQQTD   \n",
       "1           1  0826414346        Dr. Seuss: American Icon  A30TK6U7DNS82R   \n",
       "\n",
       "             profileName  review_score  \\\n",
       "0  Jim of Oz \"jim-of-oz\"           4.0   \n",
       "1          Kevin Killian           5.0   \n",
       "\n",
       "                           review_summary  \\\n",
       "0  Nice collection of Julie Strain images   \n",
       "1                       Really Enjoyed It   \n",
       "\n",
       "                                              review       authors  \\\n",
       "0  This is only for Julie Strain fans. It's a col...  Julie Strain   \n",
       "1  I don't care much for Dr. Seuss but after read...    Philip Nel   \n",
       "\n",
       "  publishedDate                 categories  \n",
       "0          1996    Comics & Graphic Novels  \n",
       "1    2005-01-01  Biography & Autobiography  "
      ]
     },
     "execution_count": 4,
     "metadata": {},
     "output_type": "execute_result"
    }
   ],
   "source": [
    "pos_neg_df = data.copy()\n",
    "pos_neg_df.head(2)"
   ]
  },
  {
   "cell_type": "code",
   "execution_count": 5,
   "id": "0cc5bec6",
   "metadata": {},
   "outputs": [
    {
     "data": {
      "text/html": [
       "<div>\n",
       "<style scoped>\n",
       "    .dataframe tbody tr th:only-of-type {\n",
       "        vertical-align: middle;\n",
       "    }\n",
       "\n",
       "    .dataframe tbody tr th {\n",
       "        vertical-align: top;\n",
       "    }\n",
       "\n",
       "    .dataframe thead th {\n",
       "        text-align: right;\n",
       "    }\n",
       "</style>\n",
       "<table border=\"1\" class=\"dataframe\">\n",
       "  <thead>\n",
       "    <tr style=\"text-align: right;\">\n",
       "      <th></th>\n",
       "      <th>Unnamed: 0</th>\n",
       "      <th>Id</th>\n",
       "      <th>Title</th>\n",
       "      <th>User_id</th>\n",
       "      <th>profileName</th>\n",
       "      <th>review_score</th>\n",
       "      <th>review_summary</th>\n",
       "      <th>review</th>\n",
       "      <th>authors</th>\n",
       "      <th>publishedDate</th>\n",
       "      <th>categories</th>\n",
       "    </tr>\n",
       "  </thead>\n",
       "  <tbody>\n",
       "    <tr>\n",
       "      <th>0</th>\n",
       "      <td>0</td>\n",
       "      <td>1882931173</td>\n",
       "      <td>Its Only Art If Its Well Hung!</td>\n",
       "      <td>AVCGYZL8FQQTD</td>\n",
       "      <td>Jim of Oz \"jim-of-oz\"</td>\n",
       "      <td>1</td>\n",
       "      <td>Nice collection of Julie Strain images</td>\n",
       "      <td>This is only for Julie Strain fans. It's a col...</td>\n",
       "      <td>Julie Strain</td>\n",
       "      <td>1996</td>\n",
       "      <td>Comics &amp; Graphic Novels</td>\n",
       "    </tr>\n",
       "    <tr>\n",
       "      <th>1</th>\n",
       "      <td>1</td>\n",
       "      <td>0826414346</td>\n",
       "      <td>Dr. Seuss: American Icon</td>\n",
       "      <td>A30TK6U7DNS82R</td>\n",
       "      <td>Kevin Killian</td>\n",
       "      <td>1</td>\n",
       "      <td>Really Enjoyed It</td>\n",
       "      <td>I don't care much for Dr. Seuss but after read...</td>\n",
       "      <td>Philip Nel</td>\n",
       "      <td>2005-01-01</td>\n",
       "      <td>Biography &amp; Autobiography</td>\n",
       "    </tr>\n",
       "    <tr>\n",
       "      <th>2</th>\n",
       "      <td>2</td>\n",
       "      <td>0826414346</td>\n",
       "      <td>Dr. Seuss: American Icon</td>\n",
       "      <td>A3UH4UZ4RSVO82</td>\n",
       "      <td>John Granger</td>\n",
       "      <td>1</td>\n",
       "      <td>Essential for every personal and Public Library</td>\n",
       "      <td>If people become the books they read and if \"t...</td>\n",
       "      <td>Philip Nel</td>\n",
       "      <td>2005-01-01</td>\n",
       "      <td>Biography &amp; Autobiography</td>\n",
       "    </tr>\n",
       "    <tr>\n",
       "      <th>3</th>\n",
       "      <td>3</td>\n",
       "      <td>0826414346</td>\n",
       "      <td>Dr. Seuss: American Icon</td>\n",
       "      <td>A2MVUWT453QH61</td>\n",
       "      <td>Roy E. Perry \"amateur philosopher\"</td>\n",
       "      <td>1</td>\n",
       "      <td>Phlip Nel gives silly Seuss a serious treatment</td>\n",
       "      <td>Theodore Seuss Geisel (1904-1991), aka &amp;quot;D...</td>\n",
       "      <td>Philip Nel</td>\n",
       "      <td>2005-01-01</td>\n",
       "      <td>Biography &amp; Autobiography</td>\n",
       "    </tr>\n",
       "    <tr>\n",
       "      <th>4</th>\n",
       "      <td>4</td>\n",
       "      <td>0826414346</td>\n",
       "      <td>Dr. Seuss: American Icon</td>\n",
       "      <td>A22X4XUPKF66MR</td>\n",
       "      <td>D. H. Richards \"ninthwavestore\"</td>\n",
       "      <td>1</td>\n",
       "      <td>Good academic overview</td>\n",
       "      <td>Philip Nel - Dr. Seuss: American IconThis is b...</td>\n",
       "      <td>Philip Nel</td>\n",
       "      <td>2005-01-01</td>\n",
       "      <td>Biography &amp; Autobiography</td>\n",
       "    </tr>\n",
       "  </tbody>\n",
       "</table>\n",
       "</div>"
      ],
      "text/plain": [
       "   Unnamed: 0          Id                           Title         User_id  \\\n",
       "0           0  1882931173  Its Only Art If Its Well Hung!   AVCGYZL8FQQTD   \n",
       "1           1  0826414346        Dr. Seuss: American Icon  A30TK6U7DNS82R   \n",
       "2           2  0826414346        Dr. Seuss: American Icon  A3UH4UZ4RSVO82   \n",
       "3           3  0826414346        Dr. Seuss: American Icon  A2MVUWT453QH61   \n",
       "4           4  0826414346        Dr. Seuss: American Icon  A22X4XUPKF66MR   \n",
       "\n",
       "                          profileName  review_score  \\\n",
       "0               Jim of Oz \"jim-of-oz\"             1   \n",
       "1                       Kevin Killian             1   \n",
       "2                        John Granger             1   \n",
       "3  Roy E. Perry \"amateur philosopher\"             1   \n",
       "4     D. H. Richards \"ninthwavestore\"             1   \n",
       "\n",
       "                                    review_summary  \\\n",
       "0           Nice collection of Julie Strain images   \n",
       "1                                Really Enjoyed It   \n",
       "2  Essential for every personal and Public Library   \n",
       "3  Phlip Nel gives silly Seuss a serious treatment   \n",
       "4                           Good academic overview   \n",
       "\n",
       "                                              review       authors  \\\n",
       "0  This is only for Julie Strain fans. It's a col...  Julie Strain   \n",
       "1  I don't care much for Dr. Seuss but after read...    Philip Nel   \n",
       "2  If people become the books they read and if \"t...    Philip Nel   \n",
       "3  Theodore Seuss Geisel (1904-1991), aka &quot;D...    Philip Nel   \n",
       "4  Philip Nel - Dr. Seuss: American IconThis is b...    Philip Nel   \n",
       "\n",
       "  publishedDate                 categories  \n",
       "0          1996    Comics & Graphic Novels  \n",
       "1    2005-01-01  Biography & Autobiography  \n",
       "2    2005-01-01  Biography & Autobiography  \n",
       "3    2005-01-01  Biography & Autobiography  \n",
       "4    2005-01-01  Biography & Autobiography  "
      ]
     },
     "execution_count": 5,
     "metadata": {},
     "output_type": "execute_result"
    }
   ],
   "source": [
    "pos_neg_df['review_score'] = np.where(pos_neg_df['review_score'] >= 3, 1, 0)\n",
    "pos_neg_df.head()"
   ]
  },
  {
   "cell_type": "code",
   "execution_count": 6,
   "id": "fccb0444",
   "metadata": {},
   "outputs": [
    {
     "data": {
      "text/html": [
       "<div>\n",
       "<style scoped>\n",
       "    .dataframe tbody tr th:only-of-type {\n",
       "        vertical-align: middle;\n",
       "    }\n",
       "\n",
       "    .dataframe tbody tr th {\n",
       "        vertical-align: top;\n",
       "    }\n",
       "\n",
       "    .dataframe thead th {\n",
       "        text-align: right;\n",
       "    }\n",
       "</style>\n",
       "<table border=\"1\" class=\"dataframe\">\n",
       "  <thead>\n",
       "    <tr style=\"text-align: right;\">\n",
       "      <th></th>\n",
       "      <th>Unnamed: 0</th>\n",
       "      <th>Id</th>\n",
       "      <th>Title</th>\n",
       "      <th>User_id</th>\n",
       "      <th>profileName</th>\n",
       "      <th>sentiment</th>\n",
       "      <th>review_summary</th>\n",
       "      <th>review</th>\n",
       "      <th>authors</th>\n",
       "      <th>publishedDate</th>\n",
       "      <th>categories</th>\n",
       "    </tr>\n",
       "  </thead>\n",
       "  <tbody>\n",
       "    <tr>\n",
       "      <th>0</th>\n",
       "      <td>0</td>\n",
       "      <td>1882931173</td>\n",
       "      <td>Its Only Art If Its Well Hung!</td>\n",
       "      <td>AVCGYZL8FQQTD</td>\n",
       "      <td>Jim of Oz \"jim-of-oz\"</td>\n",
       "      <td>1</td>\n",
       "      <td>Nice collection of Julie Strain images</td>\n",
       "      <td>This is only for Julie Strain fans. It's a col...</td>\n",
       "      <td>Julie Strain</td>\n",
       "      <td>1996</td>\n",
       "      <td>Comics &amp; Graphic Novels</td>\n",
       "    </tr>\n",
       "    <tr>\n",
       "      <th>1</th>\n",
       "      <td>1</td>\n",
       "      <td>0826414346</td>\n",
       "      <td>Dr. Seuss: American Icon</td>\n",
       "      <td>A30TK6U7DNS82R</td>\n",
       "      <td>Kevin Killian</td>\n",
       "      <td>1</td>\n",
       "      <td>Really Enjoyed It</td>\n",
       "      <td>I don't care much for Dr. Seuss but after read...</td>\n",
       "      <td>Philip Nel</td>\n",
       "      <td>2005-01-01</td>\n",
       "      <td>Biography &amp; Autobiography</td>\n",
       "    </tr>\n",
       "    <tr>\n",
       "      <th>2</th>\n",
       "      <td>2</td>\n",
       "      <td>0826414346</td>\n",
       "      <td>Dr. Seuss: American Icon</td>\n",
       "      <td>A3UH4UZ4RSVO82</td>\n",
       "      <td>John Granger</td>\n",
       "      <td>1</td>\n",
       "      <td>Essential for every personal and Public Library</td>\n",
       "      <td>If people become the books they read and if \"t...</td>\n",
       "      <td>Philip Nel</td>\n",
       "      <td>2005-01-01</td>\n",
       "      <td>Biography &amp; Autobiography</td>\n",
       "    </tr>\n",
       "    <tr>\n",
       "      <th>3</th>\n",
       "      <td>3</td>\n",
       "      <td>0826414346</td>\n",
       "      <td>Dr. Seuss: American Icon</td>\n",
       "      <td>A2MVUWT453QH61</td>\n",
       "      <td>Roy E. Perry \"amateur philosopher\"</td>\n",
       "      <td>1</td>\n",
       "      <td>Phlip Nel gives silly Seuss a serious treatment</td>\n",
       "      <td>Theodore Seuss Geisel (1904-1991), aka &amp;quot;D...</td>\n",
       "      <td>Philip Nel</td>\n",
       "      <td>2005-01-01</td>\n",
       "      <td>Biography &amp; Autobiography</td>\n",
       "    </tr>\n",
       "    <tr>\n",
       "      <th>4</th>\n",
       "      <td>4</td>\n",
       "      <td>0826414346</td>\n",
       "      <td>Dr. Seuss: American Icon</td>\n",
       "      <td>A22X4XUPKF66MR</td>\n",
       "      <td>D. H. Richards \"ninthwavestore\"</td>\n",
       "      <td>1</td>\n",
       "      <td>Good academic overview</td>\n",
       "      <td>Philip Nel - Dr. Seuss: American IconThis is b...</td>\n",
       "      <td>Philip Nel</td>\n",
       "      <td>2005-01-01</td>\n",
       "      <td>Biography &amp; Autobiography</td>\n",
       "    </tr>\n",
       "  </tbody>\n",
       "</table>\n",
       "</div>"
      ],
      "text/plain": [
       "   Unnamed: 0          Id                           Title         User_id  \\\n",
       "0           0  1882931173  Its Only Art If Its Well Hung!   AVCGYZL8FQQTD   \n",
       "1           1  0826414346        Dr. Seuss: American Icon  A30TK6U7DNS82R   \n",
       "2           2  0826414346        Dr. Seuss: American Icon  A3UH4UZ4RSVO82   \n",
       "3           3  0826414346        Dr. Seuss: American Icon  A2MVUWT453QH61   \n",
       "4           4  0826414346        Dr. Seuss: American Icon  A22X4XUPKF66MR   \n",
       "\n",
       "                          profileName  sentiment  \\\n",
       "0               Jim of Oz \"jim-of-oz\"          1   \n",
       "1                       Kevin Killian          1   \n",
       "2                        John Granger          1   \n",
       "3  Roy E. Perry \"amateur philosopher\"          1   \n",
       "4     D. H. Richards \"ninthwavestore\"          1   \n",
       "\n",
       "                                    review_summary  \\\n",
       "0           Nice collection of Julie Strain images   \n",
       "1                                Really Enjoyed It   \n",
       "2  Essential for every personal and Public Library   \n",
       "3  Phlip Nel gives silly Seuss a serious treatment   \n",
       "4                           Good academic overview   \n",
       "\n",
       "                                              review       authors  \\\n",
       "0  This is only for Julie Strain fans. It's a col...  Julie Strain   \n",
       "1  I don't care much for Dr. Seuss but after read...    Philip Nel   \n",
       "2  If people become the books they read and if \"t...    Philip Nel   \n",
       "3  Theodore Seuss Geisel (1904-1991), aka &quot;D...    Philip Nel   \n",
       "4  Philip Nel - Dr. Seuss: American IconThis is b...    Philip Nel   \n",
       "\n",
       "  publishedDate                 categories  \n",
       "0          1996    Comics & Graphic Novels  \n",
       "1    2005-01-01  Biography & Autobiography  \n",
       "2    2005-01-01  Biography & Autobiography  \n",
       "3    2005-01-01  Biography & Autobiography  \n",
       "4    2005-01-01  Biography & Autobiography  "
      ]
     },
     "execution_count": 6,
     "metadata": {},
     "output_type": "execute_result"
    }
   ],
   "source": [
    "# change column name to reflect changes\n",
    "pos_neg_df.rename(columns={\"review_score\": \"sentiment\"}, inplace=True)\n",
    "pos_neg_df.head()"
   ]
  },
  {
   "cell_type": "code",
   "execution_count": 7,
   "id": "a80dcc62",
   "metadata": {},
   "outputs": [
    {
     "data": {
      "image/png": "[encoded data removed]",
      "text/plain": [
       "<Figure size 640x480 with 1 Axes>"
      ]
     },
     "metadata": {},
     "output_type": "display_data"
    },
    {
     "name": "stdout",
     "output_type": "stream",
     "text": [
      "Class imbalance: [0.12 0.88]\n"
     ]
    }
   ],
   "source": [
    "values, counts = np.unique(pos_neg_df['sentiment'], return_counts=True)\n",
    "normalized_counts = counts/counts.sum()\n",
    "\n",
    "plt.figure()\n",
    "plt.bar([\"Negative\", \"Positive\"], normalized_counts*100, color = 'darkorchid') # plot normalized counts\n",
    "plt.xlabel('Review Sentiment')\n",
    "plt.ylabel('% of Reviews')\n",
    "plt.show()\n",
    "\n",
    "print(f\"Class imbalance: {np.round(normalized_counts, 2)}\")"
   ]
  },
  {
   "cell_type": "markdown",
   "id": "9eadab46",
   "metadata": {},
   "source": [
    "This is quite inbalanced! "
   ]
  },
  {
   "cell_type": "code",
   "execution_count": 8,
   "id": "785ad44c",
   "metadata": {},
   "outputs": [
    {
     "data": {
      "image/png": "[encoded data removed]",
      "text/plain": [
       "<Figure size 640x480 with 1 Axes>"
      ]
     },
     "metadata": {},
     "output_type": "display_data"
    }
   ],
   "source": [
    "values, counts = np.unique(data['review_score'], return_counts=True)\n",
    "normalized_counts = counts/counts.sum()\n",
    "\n",
    "plt.figure()\n",
    "plt.bar(values, normalized_counts * 100, color ='darkorchid')\n",
    "plt.xlabel('Review rating')\n",
    "plt.ylabel('% of reviews')\n",
    "plt.title(\"Rating distribution\")\n",
    "plt.show()"
   ]
  },
  {
   "cell_type": "code",
   "execution_count": 9,
   "id": "99b658f8",
   "metadata": {},
   "outputs": [
    {
     "data": {
      "text/plain": [
       "Unnamed: 0             0\n",
       "Id                     0\n",
       "Title                  0\n",
       "User_id                0\n",
       "profileName            0\n",
       "review_score           0\n",
       "review_summary       407\n",
       "review                 8\n",
       "authors                5\n",
       "publishedDate     354581\n",
       "categories        551290\n",
       "dtype: int64"
      ]
     },
     "execution_count": 9,
     "metadata": {},
     "output_type": "execute_result"
    }
   ],
   "source": [
    "data.isna().sum(axis=0) "
   ]
  },
  {
   "cell_type": "code",
   "execution_count": 10,
   "id": "5b3363f7",
   "metadata": {},
   "outputs": [],
   "source": [
    "#I will move this to the EDA file if this review column still has missing values there as well\n",
    "# (my current working EDA file does not show null review data)\n",
    "data.dropna(subset=['review'], inplace=True)"
   ]
  },
  {
   "cell_type": "code",
   "execution_count": 11,
   "id": "55e579f8",
   "metadata": {},
   "outputs": [
    {
     "data": {
      "text/plain": [
       "Unnamed: 0             0\n",
       "Id                     0\n",
       "Title                  0\n",
       "User_id                0\n",
       "profileName            0\n",
       "review_score           0\n",
       "review_summary       407\n",
       "review                 0\n",
       "authors                5\n",
       "publishedDate     354579\n",
       "categories        551288\n",
       "dtype: int64"
      ]
     },
     "execution_count": 11,
     "metadata": {},
     "output_type": "execute_result"
    }
   ],
   "source": [
    "data.isna().sum(axis=0) "
   ]
  },
  {
   "cell_type": "markdown",
   "id": "a8633253",
   "metadata": {},
   "source": [
    "# Preprocessing"
   ]
  },
  {
   "cell_type": "code",
   "execution_count": 12,
   "id": "4d4dd15e",
   "metadata": {},
   "outputs": [],
   "source": [
    "#Which is my final working dataframe?\n",
    "modeling_df = data"
   ]
  },
  {
   "cell_type": "code",
   "execution_count": 13,
   "id": "9126070f",
   "metadata": {},
   "outputs": [],
   "source": [
    "X = modeling_df.drop('review_score', axis=1)\n",
    "y = modeling_df['review_score']"
   ]
  },
  {
   "cell_type": "code",
   "execution_count": 14,
   "id": "1daef384",
   "metadata": {},
   "outputs": [],
   "source": [
    "# splitting our data into train and test sets\n",
    "X_train, X_test, y_train, y_test = train_test_split(X, y, test_size=0.33, random_state=18)"
   ]
  },
  {
   "cell_type": "markdown",
   "id": "cec4fd0c",
   "metadata": {},
   "source": [
    "#### First Vectorizer\n",
    "I will put my dataset through various versions of a CountVectorizer to see which yields the best results. First, I will start off with a standard one of simple English stop words and max the features at 500. "
   ]
  },
  {
   "cell_type": "code",
   "execution_count": 17,
   "id": "60e27ebc",
   "metadata": {},
   "outputs": [],
   "source": [
    "working_cv = CountVectorizer(stop_words=\"english\", min_df=10, max_features=50)"
   ]
  },
  {
   "cell_type": "code",
   "execution_count": 18,
   "id": "ee3402df",
   "metadata": {},
   "outputs": [
    {
     "ename": "MemoryError",
     "evalue": "",
     "output_type": "error",
     "traceback": [
      "\u001b[1;31m---------------------------------------------------------------------------\u001b[0m",
      "\u001b[1;31mMemoryError\u001b[0m                               Traceback (most recent call last)",
      "Cell \u001b[1;32mIn[18], line 1\u001b[0m\n\u001b[1;32m----> 1\u001b[0m working_cv\u001b[38;5;241m.\u001b[39mfit(X_train[\u001b[38;5;124m'\u001b[39m\u001b[38;5;124mreview\u001b[39m\u001b[38;5;124m'\u001b[39m])\n\u001b[0;32m      2\u001b[0m X_train_transformed \u001b[38;5;241m=\u001b[39m working_cv\u001b[38;5;241m.\u001b[39mtransform(X_train[\u001b[38;5;124m'\u001b[39m\u001b[38;5;124mreview\u001b[39m\u001b[38;5;124m'\u001b[39m])\n\u001b[0;32m      3\u001b[0m X_test_transformed \u001b[38;5;241m=\u001b[39m working_cv\u001b[38;5;241m.\u001b[39mtransform(X_test[\u001b[38;5;124m'\u001b[39m\u001b[38;5;124mreview\u001b[39m\u001b[38;5;124m'\u001b[39m])\n",
      "File \u001b[1;32m~\\anaconda3\\Lib\\site-packages\\sklearn\\feature_extraction\\text.py:1339\u001b[0m, in \u001b[0;36mCountVectorizer.fit\u001b[1;34m(self, raw_documents, y)\u001b[0m\n\u001b[0;32m   1323\u001b[0m \u001b[38;5;28;01mdef\u001b[39;00m \u001b[38;5;21mfit\u001b[39m(\u001b[38;5;28mself\u001b[39m, raw_documents, y\u001b[38;5;241m=\u001b[39m\u001b[38;5;28;01mNone\u001b[39;00m):\n\u001b[0;32m   1324\u001b[0m \u001b[38;5;250m    \u001b[39m\u001b[38;5;124;03m\"\"\"Learn a vocabulary dictionary of all tokens in the raw documents.\u001b[39;00m\n\u001b[0;32m   1325\u001b[0m \n\u001b[0;32m   1326\u001b[0m \u001b[38;5;124;03m    Parameters\u001b[39;00m\n\u001b[1;32m   (...)\u001b[0m\n\u001b[0;32m   1337\u001b[0m \u001b[38;5;124;03m        Fitted vectorizer.\u001b[39;00m\n\u001b[0;32m   1338\u001b[0m \u001b[38;5;124;03m    \"\"\"\u001b[39;00m\n\u001b[1;32m-> 1339\u001b[0m     \u001b[38;5;28mself\u001b[39m\u001b[38;5;241m.\u001b[39mfit_transform(raw_documents)\n\u001b[0;32m   1340\u001b[0m     \u001b[38;5;28;01mreturn\u001b[39;00m \u001b[38;5;28mself\u001b[39m\n",
      "File \u001b[1;32m~\\anaconda3\\Lib\\site-packages\\sklearn\\feature_extraction\\text.py:1388\u001b[0m, in \u001b[0;36mCountVectorizer.fit_transform\u001b[1;34m(self, raw_documents, y)\u001b[0m\n\u001b[0;32m   1380\u001b[0m             warnings\u001b[38;5;241m.\u001b[39mwarn(\n\u001b[0;32m   1381\u001b[0m                 \u001b[38;5;124m\"\u001b[39m\u001b[38;5;124mUpper case characters found in\u001b[39m\u001b[38;5;124m\"\u001b[39m\n\u001b[0;32m   1382\u001b[0m                 \u001b[38;5;124m\"\u001b[39m\u001b[38;5;124m vocabulary while \u001b[39m\u001b[38;5;124m'\u001b[39m\u001b[38;5;124mlowercase\u001b[39m\u001b[38;5;124m'\u001b[39m\u001b[38;5;124m\"\u001b[39m\n\u001b[0;32m   1383\u001b[0m                 \u001b[38;5;124m\"\u001b[39m\u001b[38;5;124m is True. These entries will not\u001b[39m\u001b[38;5;124m\"\u001b[39m\n\u001b[0;32m   1384\u001b[0m                 \u001b[38;5;124m\"\u001b[39m\u001b[38;5;124m be matched with any documents\u001b[39m\u001b[38;5;124m\"\u001b[39m\n\u001b[0;32m   1385\u001b[0m             )\n\u001b[0;32m   1386\u001b[0m             \u001b[38;5;28;01mbreak\u001b[39;00m\n\u001b[1;32m-> 1388\u001b[0m vocabulary, X \u001b[38;5;241m=\u001b[39m \u001b[38;5;28mself\u001b[39m\u001b[38;5;241m.\u001b[39m_count_vocab(raw_documents, \u001b[38;5;28mself\u001b[39m\u001b[38;5;241m.\u001b[39mfixed_vocabulary_)\n\u001b[0;32m   1390\u001b[0m \u001b[38;5;28;01mif\u001b[39;00m \u001b[38;5;28mself\u001b[39m\u001b[38;5;241m.\u001b[39mbinary:\n\u001b[0;32m   1391\u001b[0m     X\u001b[38;5;241m.\u001b[39mdata\u001b[38;5;241m.\u001b[39mfill(\u001b[38;5;241m1\u001b[39m)\n",
      "File \u001b[1;32m~\\anaconda3\\Lib\\site-packages\\sklearn\\feature_extraction\\text.py:1286\u001b[0m, in \u001b[0;36mCountVectorizer._count_vocab\u001b[1;34m(self, raw_documents, fixed_vocab)\u001b[0m\n\u001b[0;32m   1282\u001b[0m     \u001b[38;5;28;01mexcept\u001b[39;00m \u001b[38;5;167;01mKeyError\u001b[39;00m:\n\u001b[0;32m   1283\u001b[0m         \u001b[38;5;66;03m# Ignore out-of-vocabulary items for fixed_vocab=True\u001b[39;00m\n\u001b[0;32m   1284\u001b[0m         \u001b[38;5;28;01mcontinue\u001b[39;00m\n\u001b[1;32m-> 1286\u001b[0m j_indices\u001b[38;5;241m.\u001b[39mextend(feature_counter\u001b[38;5;241m.\u001b[39mkeys())\n\u001b[0;32m   1287\u001b[0m values\u001b[38;5;241m.\u001b[39mextend(feature_counter\u001b[38;5;241m.\u001b[39mvalues())\n\u001b[0;32m   1288\u001b[0m indptr\u001b[38;5;241m.\u001b[39mappend(\u001b[38;5;28mlen\u001b[39m(j_indices))\n",
      "\u001b[1;31mMemoryError\u001b[0m: "
     ]
    }
   ],
   "source": [
    "working_cv.fit(X_train['review'])\n",
    "X_train_transformed = working_cv.transform(X_train['review'])\n",
    "X_test_transformed = working_cv.transform(X_test['review'])\n",
    "\n",
    "X_test_transformed.shape"
   ]
  },
  {
   "cell_type": "code",
   "execution_count": null,
   "id": "551a9937",
   "metadata": {},
   "outputs": [],
   "source": [
    "#visualizing most common  wds\n",
    "\n",
    "word_counts = pd.DataFrame(\n",
    "    {\"counts\": X_train_transformed.toarray().sum(axis=0)},\n",
    "    index=working_cv.get_feature_names_out()\n",
    ").sort_values(\"counts\", ascending=False)\n",
    "\n",
    "word_counts.head(20).plot(kind=\"bar\", figsize=(15, 5), legend=False)\n",
    "plt.title(\"Top 20 most frequently occurring words\")\n",
    "plt.ylabel(\"Count\")\n",
    "plt.xticks(rotation=45)\n",
    "\n",
    "plt.show()"
   ]
  },
  {
   "cell_type": "code",
   "execution_count": null,
   "id": "b2af91cc",
   "metadata": {},
   "outputs": [],
   "source": [
    "# Fitting a model\n",
    "logreg = LogisticRegression(C = 0.1)\n",
    "logreg.fit(X_train_transformed, y_train)\n",
    "\n",
    "# Training and test score\n",
    "print(f\"Train score: {logreg.score(X_train_transformed, y_train)}\")\n",
    "print(f\"Test score: {logreg.score(X_test_transformed, y_test)}\")"
   ]
  },
  {
   "cell_type": "markdown",
   "id": "f1a18ac8",
   "metadata": {},
   "source": [
    "Although 65% may seem low, this is simply a baseline score. There was no hyperoptimization or customization done. From the simple logistic regression, here is a viualization of the top words with positive sentiment:"
   ]
  },
  {
   "cell_type": "code",
   "execution_count": null,
   "id": "ce7bbff4",
   "metadata": {},
   "outputs": [],
   "source": [
    "#visualizing positive sentiment \n",
    "word_counts = pd.DataFrame(\n",
    "    {\"coefficients\": logreg.coef_[0]},\n",
    "    index=working_cv.get_feature_names_out()\n",
    ").sort_values(\"coefficients\", ascending=False)\n",
    "\n",
    "word_counts.head(20).plot(kind=\"bar\", figsize=(15, 5), legend=False)\n",
    "plt.title(\"The 20 highest model coefficients indicating positive sentiment\")\n",
    "plt.ylabel(\"Coefficients\")\n",
    "plt.xticks(rotation=45)\n",
    "plt.show()\n"
   ]
  },
  {
   "cell_type": "markdown",
   "id": "43dc6db7",
   "metadata": {},
   "source": [
    "The words do not seem to have positive sentiment, but rather the opposite. It seems I have misinterpreted my input."
   ]
  },
  {
   "cell_type": "markdown",
   "id": "c168c472",
   "metadata": {},
   "source": [
    "#### Using a Custom Tokenizer"
   ]
  },
  {
   "cell_type": "markdown",
   "id": "a7f068fd",
   "metadata": {},
   "source": [
    "Next, I will attempt to create a custom tokenizer to best fit and optimize the model."
   ]
  },
  {
   "cell_type": "code",
   "execution_count": null,
   "id": "f10ad61d",
   "metadata": {},
   "outputs": [],
   "source": [
    "#words aside from stop words to ignore\n",
    "MY_STOP_WORDS = stopwords.words('english')\n",
    "GENERIC_WORDS = [\"book\" , \"author\" , \"read\" , \"character\" , \"story\" , \"page\" , \"write\" , \"series\" , \"review\"]\n",
    "MY_STOP_WORDS.extend(GENERIC_WORDS)\n",
    "\n",
    "def my_tokenizer(sentence):\n",
    "    # remove punctuation and set to lower case\n",
    "    for punctuation_mark in string.punctuation:\n",
    "        sentence = sentence.replace(punctuation_mark,'').lower()\n",
    "\n",
    "    # split sentence into words\n",
    "    listofwords = sentence.split(' ')\n",
    "    listofstemmed_words = []\n",
    "    \n",
    "    # remove stopwords and any tokens that are just empty strings\n",
    "    for word in listofwords:\n",
    "        if (not word in MY_STOP_WORDS) and (word!=''):\n",
    "            # Stem words\n",
    "            stemmed_word = stemmer.stem(word)\n",
    "            listofstemmed_words.append(stemmed_word)\n",
    "\n",
    "    return listofstemmed_words"
   ]
  },
  {
   "cell_type": "code",
   "execution_count": null,
   "id": "85847edb",
   "metadata": {},
   "outputs": [],
   "source": [
    "MY_STOP_WORDS"
   ]
  },
  {
   "cell_type": "code",
   "execution_count": null,
   "id": "d06a718f",
   "metadata": {},
   "outputs": [],
   "source": [
    "# sanity check\n",
    "sentence = \"Can you believe that: his (dog) like, read my book!\"\n",
    "my_tokenizer(sentence)"
   ]
  },
  {
   "cell_type": "markdown",
   "id": "2fb43937",
   "metadata": {},
   "source": [
    "The words on my added stop list seem to be removed as well! This seems like a good start. I will put this tokenizer to the test. "
   ]
  },
  {
   "cell_type": "code",
   "execution_count": null,
   "id": "2ea2fcb2",
   "metadata": {},
   "outputs": [],
   "source": [
    "custom_cv = CountVectorizer(min_df=5, \n",
    "                            max_features=1000,\n",
    "                             tokenizer=my_tokenizer\n",
    "                            )\n",
    "custom_cv.fit(X_train)\n",
    "\n",
    "X_train_custom_transformed = custom_cv.transform(X_train)\n",
    "X_test_custom_transformed = custom_cv.transform(X_test)\n",
    "\n",
    "X_train_custom_transformed.shape"
   ]
  },
  {
   "cell_type": "markdown",
   "id": "558beadf",
   "metadata": {},
   "source": [
    "Upon reruning the cell for final submission, this error message appeared. It seems something changed since the last run, so I will address this  at a later date. "
   ]
  },
  {
   "cell_type": "code",
   "execution_count": null,
   "id": "78408c71",
   "metadata": {},
   "outputs": [],
   "source": [
    "word_counts = pd.DataFrame(\n",
    "    {\"counts\": X_train_custom_transformed.toarray().sum(axis=0)},\n",
    "    index=custom_cv.get_feature_names_out()\n",
    ").sort_values(\"counts\", ascending=False)\n",
    "\n",
    "word_counts.head(20).plot(kind=\"bar\", figsize=(15, 5), legend=False)\n",
    "plt.title(\"Top 20 most frequently occurring words\")\n",
    "plt.ylabel(\"Count\")\n",
    "plt.xticks(rotation=45)\n",
    "plt.show()"
   ]
  },
  {
   "cell_type": "code",
   "execution_count": null,
   "id": "44f4177e",
   "metadata": {},
   "outputs": [],
   "source": [
    "#HAHA ITS JUST THE INDEX"
   ]
  },
  {
   "cell_type": "code",
   "execution_count": null,
   "id": "3f5de44b",
   "metadata": {},
   "outputs": [],
   "source": [
    "# Fitting a model\n",
    "logreg_for_custom_cv = LogisticRegression(C = 0.1)\n",
    "logreg_for_custom_cv.fit(X_train_custom_transformed, y_train)\n",
    "\n",
    "# Training and test score\n",
    "print(f\"Train score: {logreg.score(X_train_custom_transformed, y_train)}\")\n",
    "print(f\"Test score: {logreg.score(X_test_custom_transformed, y_test)}\")"
   ]
  },
  {
   "cell_type": "markdown",
   "id": "0d26d509",
   "metadata": {},
   "source": [
    "# Notes for Next Steps"
   ]
  },
  {
   "cell_type": "markdown",
   "id": "505844a3",
   "metadata": {},
   "source": [
    "Moving forward, I will work on the following steps:\n",
    "1. address data inbalance\n",
    "    - perhaps downsize positive sentiment data, or change the positive sentiment cutoff point\n",
    "2. get TO Modeling\n",
    "    - I will decide between a “recommendation” system or with a simple rating predictor as before. At the moment, I am leaning toward a real recommendation system as opposed to a simple output list based off top predicted ratings. \n",
    "    - Perhaps I wil do unsupervised -cluster --> recommender\n",
    "3. sentiment classifying Tweaks\n",
    "    - It seems I must fix my custom tokenizer - fix stemming, common words, add web embedding upon recommendation of instructor following today's presentation\n",
    "\n",
    "### multiclass classification\n",
    "One thing I can look into is perhaps testing a multiclass classifier as a way to address the data inbalance. \n",
    "    \n",
    "\n",
    "### Some personal notes to be deleted\n",
    "    - Multiclassifier: wont inherinly understand 5 is good, 0 bad, but all the ratings will be categorized as such. \n",
    "    - ordinal regression model\n",
    "    - ordinal encoding\n",
    "    - see if the model does better this way?\n",
    "    -would be a way to address the data imbalance\n",
    "    \n",
    "    -neaural net\n",
    "    decision tree\n",
    "    svms\n",
    "    knn"
   ]
  }
 ],
 "metadata": {
  "kernelspec": {
   "display_name": "Python 3 (ipykernel)",
   "language": "python",
   "name": "python3"
  },
  "language_info": {
   "codemirror_mode": {
    "name": "ipython",
    "version": 3
   },
   "file_extension": ".py",
   "mimetype": "text/x-python",
   "name": "python",
   "nbconvert_exporter": "python",
   "pygments_lexer": "ipython3",
   "version": "3.11.5"
  }
 },
 "nbformat": 4,
 "nbformat_minor": 5
}

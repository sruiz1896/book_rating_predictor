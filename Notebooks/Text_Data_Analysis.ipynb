{
  "cells": [
    {
      "cell_type": "markdown",
      "id": "12667180",
      "metadata": {
        "id": "12667180"
      },
      "source": [
        "#Text Data Analysis Notebook\n",
        "Book Rating Predictor <br>\n",
        "Sabrina Ruiz"
      ]
    },
    {
      "cell_type": "markdown",
      "id": "e5ea15d3",
      "metadata": {
        "id": "e5ea15d3"
      },
      "source": [
        "# Introduction\n",
        "In this notebook, I will optimize the text vectorization and processing for the `review` column of my cleaned data. I will create a custom tokenizer to best fit my data set. Lastly, I will create a prediction model that will predict a book's review score based on users' written reviews.\n",
        "\n",
        "#### ***Why predict the book review rating?***\n",
        "Ultimately, I plan to productionalize this project for my current workplace, an elementary school. I plan to create a system in which a child can input their review of a book they liked, and get a selection of books to read next."
      ]
    },
    {
      "cell_type": "markdown",
      "id": "0772e75c",
      "metadata": {
        "id": "0772e75c"
      },
      "source": [
        "# Set Up"
      ]
    },
    {
      "cell_type": "code",
      "execution_count": 114,
      "id": "3ee247fd",
      "metadata": {
        "id": "3ee247fd"
      },
      "outputs": [],
      "source": [
        "# basic libraries\n",
        "import pandas as pd\n",
        "import numpy as np\n",
        "import matplotlib.pyplot as plt\n",
        "import seaborn as sns\n",
        "import torch\n",
        "import os\n",
        "\n",
        "from numpy import mean, std\n",
        "\n",
        "import warnings\n",
        "warnings.filterwarnings('ignore')"
      ]
    },
    {
      "cell_type": "code",
      "execution_count": 143,
      "id": "e814ed43",
      "metadata": {
        "id": "e814ed43",
        "outputId": "ceb58f48-05a5-46bb-a961-e18a9a5a0ef8",
        "colab": {
          "base_uri": "https://localhost:8080/"
        }
      },
      "outputs": [
        {
          "metadata": {
            "tags": null
          },
          "name": "stderr",
          "output_type": "stream",
          "text": [
            "[nltk_data] Downloading package stopwords to /root/nltk_data...\n",
            "[nltk_data]   Package stopwords is already up-to-date!\n",
            "[nltk_data] Downloading package wordnet to /root/nltk_data...\n",
            "[nltk_data]   Package wordnet is already up-to-date!\n"
          ]
        }
      ],
      "source": [
        "#preprocessing libraries\n",
        "from sklearn.model_selection import train_test_split\n",
        "from sklearn.feature_extraction.text import CountVectorizer\n",
        "from sklearn.feature_extraction.text import TfidfVectorizer\n",
        "\n",
        "import string\n",
        "import nltk\n",
        "\n",
        "import re\n",
        "stemmer = nltk.stem.PorterStemmer()\n",
        "from nltk.stem import WordNetLemmatizer\n",
        "\n",
        "# import the nltk things\n",
        "nltk.download('stopwords')\n",
        "nltk.download('wordnet')\n",
        "from nltk.corpus import stopwords\n",
        "\n",
        "# modelling and related ml libraries\n",
        "from sklearn.linear_model import LogisticRegression\n",
        "from sklearn.neighbors import KNeighborsClassifier\n",
        "from sklearn.tree import DecisionTreeClassifier\n",
        "\n",
        "from sklearn.metrics import precision_score, recall_score\n",
        "from sklearn.metrics import accuracy_score, f1_score, classification_report\n",
        "from sklearn.model_selection import cross_val_score\n",
        "\n",
        "\n",
        "\n",
        "# from sklearn.metrics import confusion_matrix, ConfusionMatrixDisplay # this would be for binary predictor, didn't use\n",
        "\n",
        "import pickle\n",
        "\n",
        "\n",
        "#PyTorch | BERT libraries\n",
        "import tensorflow as tf\n",
        "from transformers import AutoTokenizer, BertTokenizer, DistilBertTokenizerFast\n",
        "from transformers import BertModel, TFBertModel #BertForSequenceClassification\n",
        "from transformers import AdamW, get_linear_schedule_with_warmup\n",
        "\n",
        "from torch import nn\n",
        "from torch.utils.data import DataLoader, Dataset\n",
        "from torch.optim import Adam, SGD, AdamW\n",
        "from torch.nn import Parameter\n",
        "\n",
        "\n",
        "\n",
        "# libraries that I thought I would use but ultimately didn't\n",
        "    #from sklearn.compose import ColumnTransformer\n",
        "    #from imblearn.under_sampling import RandomUnderSampler\n",
        "    #from sklearn.metrics.pairwise import cosine_similarity\n"
      ]
    },
    {
      "cell_type": "code",
      "source": [
        "# NOTEBOOK FORMAT STANDARDS\n",
        "np.random.seed(18)\n",
        "\n",
        "# setting a color palette for Seaborn visualizations\n",
        "bright_palette = sns.set_palette(palette = \"bright\")\n",
        "\n",
        "#other visual standards\n",
        "plt.rcParams['figure.figsize'] = (10,3) #mainly word count graphs\n",
        "plt.rcParams.update(plt.rcParamsDefault)\n",
        "plt.style.use('https://github.com/dhaitz/matplotlib-stylesheets/raw/master/pitayasmoothie-light.mplstyle')"
      ],
      "metadata": {
        "id": "2HGGr3QpP_rm"
      },
      "id": "2HGGr3QpP_rm",
      "execution_count": 87,
      "outputs": []
    },
    {
      "cell_type": "code",
      "source": [
        "# GOOGLE COLAB DRIVE CONNECTION\n",
        "from google.colab import drive\n",
        "drive.mount('/content/drive', force_remount=True)\n",
        "#force_remount=True, for file update"
      ],
      "metadata": {
        "id": "je0z35xUPWUx",
        "outputId": "d33c78b2-ffc8-4e17-80df-93f0ee1a1b98",
        "colab": {
          "base_uri": "https://localhost:8080/"
        }
      },
      "id": "je0z35xUPWUx",
      "execution_count": 5,
      "outputs": [
        {
          "output_type": "stream",
          "name": "stdout",
          "text": [
            "Mounted at /content/drive\n"
          ]
        }
      ]
    },
    {
      "cell_type": "code",
      "source": [
        "# os.listdir('/content/drive/My Drive/Brainstation/data/')"
      ],
      "metadata": {
        "colab": {
          "base_uri": "https://localhost:8080/",
          "height": 176
        },
        "id": "iyB38q7qj1M5",
        "outputId": "eca0076b-f194-4f26-d8ad-e5ce6e71855d"
      },
      "id": "iyB38q7qj1M5",
      "execution_count": null,
      "outputs": [
        {
          "output_type": "error",
          "ename": "FileNotFoundError",
          "evalue": "[Errno 2] No such file or directory: '/content/drive/My Drive/Brainstation/data/'",
          "traceback": [
            "\u001b[0;31m---------------------------------------------------------------------------\u001b[0m",
            "\u001b[0;31mFileNotFoundError\u001b[0m                         Traceback (most recent call last)",
            "\u001b[0;32m<ipython-input-6-6ee145719af8>\u001b[0m in \u001b[0;36m<cell line: 1>\u001b[0;34m()\u001b[0m\n\u001b[0;32m----> 1\u001b[0;31m \u001b[0mos\u001b[0m\u001b[0;34m.\u001b[0m\u001b[0mlistdir\u001b[0m\u001b[0;34m(\u001b[0m\u001b[0;34m'/content/drive/My Drive/Brainstation/data/'\u001b[0m\u001b[0;34m)\u001b[0m\u001b[0;34m\u001b[0m\u001b[0;34m\u001b[0m\u001b[0m\n\u001b[0m",
            "\u001b[0;31mFileNotFoundError\u001b[0m: [Errno 2] No such file or directory: '/content/drive/My Drive/Brainstation/data/'"
          ]
        }
      ]
    },
    {
      "cell_type": "code",
      "execution_count": 88,
      "id": "a86c7365",
      "metadata": {
        "id": "a86c7365",
        "outputId": "0f32689d-c90e-42c2-e8c7-25edc404ce1f",
        "colab": {
          "base_uri": "https://localhost:8080/",
          "height": 466
        }
      },
      "outputs": [
        {
          "output_type": "execute_result",
          "data": {
            "text/plain": [
              "           Id                           Title         User_id  \\\n",
              "0  1882931173  Its Only Art If Its Well Hung!   AVCGYZL8FQQTD   \n",
              "1  0826414346        Dr. Seuss: American Icon  A30TK6U7DNS82R   \n",
              "2  0826414346        Dr. Seuss: American Icon  A3UH4UZ4RSVO82   \n",
              "3  0826414346        Dr. Seuss: American Icon  A2MVUWT453QH61   \n",
              "4  0826414346        Dr. Seuss: American Icon  A22X4XUPKF66MR   \n",
              "\n",
              "                          profileName  review_score  \\\n",
              "0               Jim of Oz \"jim-of-oz\"             4   \n",
              "1                       Kevin Killian             5   \n",
              "2                        John Granger             5   \n",
              "3  Roy E. Perry \"amateur philosopher\"             4   \n",
              "4     D. H. Richards \"ninthwavestore\"             4   \n",
              "\n",
              "                                    review_summary  \\\n",
              "0           Nice collection of Julie Strain images   \n",
              "1                                Really Enjoyed It   \n",
              "2  Essential for every personal and Public Library   \n",
              "3  Phlip Nel gives silly Seuss a serious treatment   \n",
              "4                           Good academic overview   \n",
              "\n",
              "                                              review       authors  \\\n",
              "0  This is only for Julie Strain fans. It's a col...  Julie Strain   \n",
              "1  I don't care much for Dr. Seuss but after read...    Philip Nel   \n",
              "2  If people become the books they read and if \"t...    Philip Nel   \n",
              "3  Theodore Seuss Geisel (1904-1991), aka &quot;D...    Philip Nel   \n",
              "4  Philip Nel - Dr. Seuss: American IconThis is b...    Philip Nel   \n",
              "\n",
              "   publishedDate                 categories  \n",
              "0         1996.0    Comics & Graphic Novels  \n",
              "1         2005.0  Biography & Autobiography  \n",
              "2         2005.0  Biography & Autobiography  \n",
              "3         2005.0  Biography & Autobiography  \n",
              "4         2005.0  Biography & Autobiography  "
            ],
            "text/html": [
              "\n",
              "  <div id=\"df-d18e9009-5a29-4ced-9b30-2748aad9d740\" class=\"colab-df-container\">\n",
              "    <div>\n",
              "<style scoped>\n",
              "    .dataframe tbody tr th:only-of-type {\n",
              "        vertical-align: middle;\n",
              "    }\n",
              "\n",
              "    .dataframe tbody tr th {\n",
              "        vertical-align: top;\n",
              "    }\n",
              "\n",
              "    .dataframe thead th {\n",
              "        text-align: right;\n",
              "    }\n",
              "</style>\n",
              "<table border=\"1\" class=\"dataframe\">\n",
              "  <thead>\n",
              "    <tr style=\"text-align: right;\">\n",
              "      <th></th>\n",
              "      <th>Id</th>\n",
              "      <th>Title</th>\n",
              "      <th>User_id</th>\n",
              "      <th>profileName</th>\n",
              "      <th>review_score</th>\n",
              "      <th>review_summary</th>\n",
              "      <th>review</th>\n",
              "      <th>authors</th>\n",
              "      <th>publishedDate</th>\n",
              "      <th>categories</th>\n",
              "    </tr>\n",
              "  </thead>\n",
              "  <tbody>\n",
              "    <tr>\n",
              "      <th>0</th>\n",
              "      <td>1882931173</td>\n",
              "      <td>Its Only Art If Its Well Hung!</td>\n",
              "      <td>AVCGYZL8FQQTD</td>\n",
              "      <td>Jim of Oz \"jim-of-oz\"</td>\n",
              "      <td>4</td>\n",
              "      <td>Nice collection of Julie Strain images</td>\n",
              "      <td>This is only for Julie Strain fans. It's a col...</td>\n",
              "      <td>Julie Strain</td>\n",
              "      <td>1996.0</td>\n",
              "      <td>Comics &amp; Graphic Novels</td>\n",
              "    </tr>\n",
              "    <tr>\n",
              "      <th>1</th>\n",
              "      <td>0826414346</td>\n",
              "      <td>Dr. Seuss: American Icon</td>\n",
              "      <td>A30TK6U7DNS82R</td>\n",
              "      <td>Kevin Killian</td>\n",
              "      <td>5</td>\n",
              "      <td>Really Enjoyed It</td>\n",
              "      <td>I don't care much for Dr. Seuss but after read...</td>\n",
              "      <td>Philip Nel</td>\n",
              "      <td>2005.0</td>\n",
              "      <td>Biography &amp; Autobiography</td>\n",
              "    </tr>\n",
              "    <tr>\n",
              "      <th>2</th>\n",
              "      <td>0826414346</td>\n",
              "      <td>Dr. Seuss: American Icon</td>\n",
              "      <td>A3UH4UZ4RSVO82</td>\n",
              "      <td>John Granger</td>\n",
              "      <td>5</td>\n",
              "      <td>Essential for every personal and Public Library</td>\n",
              "      <td>If people become the books they read and if \"t...</td>\n",
              "      <td>Philip Nel</td>\n",
              "      <td>2005.0</td>\n",
              "      <td>Biography &amp; Autobiography</td>\n",
              "    </tr>\n",
              "    <tr>\n",
              "      <th>3</th>\n",
              "      <td>0826414346</td>\n",
              "      <td>Dr. Seuss: American Icon</td>\n",
              "      <td>A2MVUWT453QH61</td>\n",
              "      <td>Roy E. Perry \"amateur philosopher\"</td>\n",
              "      <td>4</td>\n",
              "      <td>Phlip Nel gives silly Seuss a serious treatment</td>\n",
              "      <td>Theodore Seuss Geisel (1904-1991), aka &amp;quot;D...</td>\n",
              "      <td>Philip Nel</td>\n",
              "      <td>2005.0</td>\n",
              "      <td>Biography &amp; Autobiography</td>\n",
              "    </tr>\n",
              "    <tr>\n",
              "      <th>4</th>\n",
              "      <td>0826414346</td>\n",
              "      <td>Dr. Seuss: American Icon</td>\n",
              "      <td>A22X4XUPKF66MR</td>\n",
              "      <td>D. H. Richards \"ninthwavestore\"</td>\n",
              "      <td>4</td>\n",
              "      <td>Good academic overview</td>\n",
              "      <td>Philip Nel - Dr. Seuss: American IconThis is b...</td>\n",
              "      <td>Philip Nel</td>\n",
              "      <td>2005.0</td>\n",
              "      <td>Biography &amp; Autobiography</td>\n",
              "    </tr>\n",
              "  </tbody>\n",
              "</table>\n",
              "</div>\n",
              "    <div class=\"colab-df-buttons\">\n",
              "\n",
              "  <div class=\"colab-df-container\">\n",
              "    <button class=\"colab-df-convert\" onclick=\"convertToInteractive('df-d18e9009-5a29-4ced-9b30-2748aad9d740')\"\n",
              "            title=\"Convert this dataframe to an interactive table.\"\n",
              "            style=\"display:none;\">\n",
              "\n",
              "  <svg xmlns=\"http://www.w3.org/2000/svg\" height=\"24px\" viewBox=\"0 -960 960 960\">\n",
              "    <path d=\"M120-120v-720h720v720H120Zm60-500h600v-160H180v160Zm220 220h160v-160H400v160Zm0 220h160v-160H400v160ZM180-400h160v-160H180v160Zm440 0h160v-160H620v160ZM180-180h160v-160H180v160Zm440 0h160v-160H620v160Z\"/>\n",
              "  </svg>\n",
              "    </button>\n",
              "\n",
              "  <style>\n",
              "    .colab-df-container {\n",
              "      display:flex;\n",
              "      gap: 12px;\n",
              "    }\n",
              "\n",
              "    .colab-df-convert {\n",
              "      background-color: #E8F0FE;\n",
              "      border: none;\n",
              "      border-radius: 50%;\n",
              "      cursor: pointer;\n",
              "      display: none;\n",
              "      fill: #1967D2;\n",
              "      height: 32px;\n",
              "      padding: 0 0 0 0;\n",
              "      width: 32px;\n",
              "    }\n",
              "\n",
              "    .colab-df-convert:hover {\n",
              "      background-color: #E2EBFA;\n",
              "      box-shadow: 0px 1px 2px rgba(60, 64, 67, 0.3), 0px 1px 3px 1px rgba(60, 64, 67, 0.15);\n",
              "      fill: #174EA6;\n",
              "    }\n",
              "\n",
              "    .colab-df-buttons div {\n",
              "      margin-bottom: 4px;\n",
              "    }\n",
              "\n",
              "    [theme=dark] .colab-df-convert {\n",
              "      background-color: #3B4455;\n",
              "      fill: #D2E3FC;\n",
              "    }\n",
              "\n",
              "    [theme=dark] .colab-df-convert:hover {\n",
              "      background-color: #434B5C;\n",
              "      box-shadow: 0px 1px 3px 1px rgba(0, 0, 0, 0.15);\n",
              "      filter: drop-shadow(0px 1px 2px rgba(0, 0, 0, 0.3));\n",
              "      fill: #FFFFFF;\n",
              "    }\n",
              "  </style>\n",
              "\n",
              "    <script>\n",
              "      const buttonEl =\n",
              "        document.querySelector('#df-d18e9009-5a29-4ced-9b30-2748aad9d740 button.colab-df-convert');\n",
              "      buttonEl.style.display =\n",
              "        google.colab.kernel.accessAllowed ? 'block' : 'none';\n",
              "\n",
              "      async function convertToInteractive(key) {\n",
              "        const element = document.querySelector('#df-d18e9009-5a29-4ced-9b30-2748aad9d740');\n",
              "        const dataTable =\n",
              "          await google.colab.kernel.invokeFunction('convertToInteractive',\n",
              "                                                    [key], {});\n",
              "        if (!dataTable) return;\n",
              "\n",
              "        const docLinkHtml = 'Like what you see? Visit the ' +\n",
              "          '<a target=\"_blank\" href=https://colab.research.google.com/notebooks/data_table.ipynb>data table notebook</a>'\n",
              "          + ' to learn more about interactive tables.';\n",
              "        element.innerHTML = '';\n",
              "        dataTable['output_type'] = 'display_data';\n",
              "        await google.colab.output.renderOutput(dataTable, element);\n",
              "        const docLink = document.createElement('div');\n",
              "        docLink.innerHTML = docLinkHtml;\n",
              "        element.appendChild(docLink);\n",
              "      }\n",
              "    </script>\n",
              "  </div>\n",
              "\n",
              "\n",
              "<div id=\"df-a100dd03-04e2-4fc2-83f3-c72ca63aacd1\">\n",
              "  <button class=\"colab-df-quickchart\" onclick=\"quickchart('df-a100dd03-04e2-4fc2-83f3-c72ca63aacd1')\"\n",
              "            title=\"Suggest charts\"\n",
              "            style=\"display:none;\">\n",
              "\n",
              "<svg xmlns=\"http://www.w3.org/2000/svg\" height=\"24px\"viewBox=\"0 0 24 24\"\n",
              "     width=\"24px\">\n",
              "    <g>\n",
              "        <path d=\"M19 3H5c-1.1 0-2 .9-2 2v14c0 1.1.9 2 2 2h14c1.1 0 2-.9 2-2V5c0-1.1-.9-2-2-2zM9 17H7v-7h2v7zm4 0h-2V7h2v10zm4 0h-2v-4h2v4z\"/>\n",
              "    </g>\n",
              "</svg>\n",
              "  </button>\n",
              "\n",
              "<style>\n",
              "  .colab-df-quickchart {\n",
              "      --bg-color: #E8F0FE;\n",
              "      --fill-color: #1967D2;\n",
              "      --hover-bg-color: #E2EBFA;\n",
              "      --hover-fill-color: #174EA6;\n",
              "      --disabled-fill-color: #AAA;\n",
              "      --disabled-bg-color: #DDD;\n",
              "  }\n",
              "\n",
              "  [theme=dark] .colab-df-quickchart {\n",
              "      --bg-color: #3B4455;\n",
              "      --fill-color: #D2E3FC;\n",
              "      --hover-bg-color: #434B5C;\n",
              "      --hover-fill-color: #FFFFFF;\n",
              "      --disabled-bg-color: #3B4455;\n",
              "      --disabled-fill-color: #666;\n",
              "  }\n",
              "\n",
              "  .colab-df-quickchart {\n",
              "    background-color: var(--bg-color);\n",
              "    border: none;\n",
              "    border-radius: 50%;\n",
              "    cursor: pointer;\n",
              "    display: none;\n",
              "    fill: var(--fill-color);\n",
              "    height: 32px;\n",
              "    padding: 0;\n",
              "    width: 32px;\n",
              "  }\n",
              "\n",
              "  .colab-df-quickchart:hover {\n",
              "    background-color: var(--hover-bg-color);\n",
              "    box-shadow: 0 1px 2px rgba(60, 64, 67, 0.3), 0 1px 3px 1px rgba(60, 64, 67, 0.15);\n",
              "    fill: var(--button-hover-fill-color);\n",
              "  }\n",
              "\n",
              "  .colab-df-quickchart-complete:disabled,\n",
              "  .colab-df-quickchart-complete:disabled:hover {\n",
              "    background-color: var(--disabled-bg-color);\n",
              "    fill: var(--disabled-fill-color);\n",
              "    box-shadow: none;\n",
              "  }\n",
              "\n",
              "  .colab-df-spinner {\n",
              "    border: 2px solid var(--fill-color);\n",
              "    border-color: transparent;\n",
              "    border-bottom-color: var(--fill-color);\n",
              "    animation:\n",
              "      spin 1s steps(1) infinite;\n",
              "  }\n",
              "\n",
              "  @keyframes spin {\n",
              "    0% {\n",
              "      border-color: transparent;\n",
              "      border-bottom-color: var(--fill-color);\n",
              "      border-left-color: var(--fill-color);\n",
              "    }\n",
              "    20% {\n",
              "      border-color: transparent;\n",
              "      border-left-color: var(--fill-color);\n",
              "      border-top-color: var(--fill-color);\n",
              "    }\n",
              "    30% {\n",
              "      border-color: transparent;\n",
              "      border-left-color: var(--fill-color);\n",
              "      border-top-color: var(--fill-color);\n",
              "      border-right-color: var(--fill-color);\n",
              "    }\n",
              "    40% {\n",
              "      border-color: transparent;\n",
              "      border-right-color: var(--fill-color);\n",
              "      border-top-color: var(--fill-color);\n",
              "    }\n",
              "    60% {\n",
              "      border-color: transparent;\n",
              "      border-right-color: var(--fill-color);\n",
              "    }\n",
              "    80% {\n",
              "      border-color: transparent;\n",
              "      border-right-color: var(--fill-color);\n",
              "      border-bottom-color: var(--fill-color);\n",
              "    }\n",
              "    90% {\n",
              "      border-color: transparent;\n",
              "      border-bottom-color: var(--fill-color);\n",
              "    }\n",
              "  }\n",
              "</style>\n",
              "\n",
              "  <script>\n",
              "    async function quickchart(key) {\n",
              "      const quickchartButtonEl =\n",
              "        document.querySelector('#' + key + ' button');\n",
              "      quickchartButtonEl.disabled = true;  // To prevent multiple clicks.\n",
              "      quickchartButtonEl.classList.add('colab-df-spinner');\n",
              "      try {\n",
              "        const charts = await google.colab.kernel.invokeFunction(\n",
              "            'suggestCharts', [key], {});\n",
              "      } catch (error) {\n",
              "        console.error('Error during call to suggestCharts:', error);\n",
              "      }\n",
              "      quickchartButtonEl.classList.remove('colab-df-spinner');\n",
              "      quickchartButtonEl.classList.add('colab-df-quickchart-complete');\n",
              "    }\n",
              "    (() => {\n",
              "      let quickchartButtonEl =\n",
              "        document.querySelector('#df-a100dd03-04e2-4fc2-83f3-c72ca63aacd1 button');\n",
              "      quickchartButtonEl.style.display =\n",
              "        google.colab.kernel.accessAllowed ? 'block' : 'none';\n",
              "    })();\n",
              "  </script>\n",
              "</div>\n",
              "\n",
              "    </div>\n",
              "  </div>\n"
            ]
          },
          "metadata": {},
          "execution_count": 88
        }
      ],
      "source": [
        "# LOAD EDA NTBK CLEANED DATA (From colab)\n",
        "data = pd.read_csv('/content/drive/My Drive/Brainstation/data/combined_book_data_cut.csv', index_col=0)\n",
        "data.head() # takes about 60 secs"
      ]
    },
    {
      "cell_type": "code",
      "source": [
        "data.shape"
      ],
      "metadata": {
        "colab": {
          "base_uri": "https://localhost:8080/"
        },
        "id": "-22OVt61KAJi",
        "outputId": "2aad8535-946b-4b5a-e552-9bc3799a7127"
      },
      "id": "-22OVt61KAJi",
      "execution_count": null,
      "outputs": [
        {
          "output_type": "execute_result",
          "data": {
            "text/plain": [
              "(2616533, 10)"
            ]
          },
          "metadata": {},
          "execution_count": 9
        }
      ]
    },
    {
      "cell_type": "markdown",
      "id": "9cece48a",
      "metadata": {
        "id": "9cece48a"
      },
      "source": [
        "# Exploring Sentiment\n",
        "for the purposes of exploring general sentiment, I will convert the `review_score` to a binary representing *positive* and *negative* sentiment. Next, I will explore the possibility of a multiclass classifier. A multiclass system would perhaps addresess any issues brought about with a simple binary.\n",
        "\n",
        "For the purpose of this project, I will set ***negative*** sentiment to be scores of 3 and below, and ***positive*** sentiment to be scores 4 & 5. Ultimately, I wish to train my final book recommender model on elementary school book data for children to use. In my experience, children tend to be more polar in their likes and dislikes."
      ]
    },
    {
      "cell_type": "markdown",
      "source": [
        "#### \"Positive\" & \"Negative\" Sentiment"
      ],
      "metadata": {
        "id": "ePPfeyctJr8J"
      },
      "id": "ePPfeyctJr8J"
    },
    {
      "cell_type": "code",
      "execution_count": null,
      "id": "782440d3",
      "metadata": {
        "id": "782440d3",
        "outputId": "77710325-6f6e-48f7-9609-4b1fee0583b0",
        "colab": {
          "base_uri": "https://localhost:8080/",
          "height": 199
        }
      },
      "outputs": [
        {
          "output_type": "execute_result",
          "data": {
            "text/plain": [
              "           Id                           Title         User_id  \\\n",
              "0  1882931173  Its Only Art If Its Well Hung!   AVCGYZL8FQQTD   \n",
              "1  0826414346        Dr. Seuss: American Icon  A30TK6U7DNS82R   \n",
              "\n",
              "             profileName  review_score  \\\n",
              "0  Jim of Oz \"jim-of-oz\"             4   \n",
              "1          Kevin Killian             5   \n",
              "\n",
              "                           review_summary  \\\n",
              "0  Nice collection of Julie Strain images   \n",
              "1                       Really Enjoyed It   \n",
              "\n",
              "                                              review       authors  \\\n",
              "0  This is only for Julie Strain fans. It's a col...  Julie Strain   \n",
              "1  I don't care much for Dr. Seuss but after read...    Philip Nel   \n",
              "\n",
              "   publishedDate                 categories  \n",
              "0         1996.0    Comics & Graphic Novels  \n",
              "1         2005.0  Biography & Autobiography  "
            ],
            "text/html": [
              "\n",
              "  <div id=\"df-bd167a94-cde8-4b40-84a7-eebe5654af36\" class=\"colab-df-container\">\n",
              "    <div>\n",
              "<style scoped>\n",
              "    .dataframe tbody tr th:only-of-type {\n",
              "        vertical-align: middle;\n",
              "    }\n",
              "\n",
              "    .dataframe tbody tr th {\n",
              "        vertical-align: top;\n",
              "    }\n",
              "\n",
              "    .dataframe thead th {\n",
              "        text-align: right;\n",
              "    }\n",
              "</style>\n",
              "<table border=\"1\" class=\"dataframe\">\n",
              "  <thead>\n",
              "    <tr style=\"text-align: right;\">\n",
              "      <th></th>\n",
              "      <th>Id</th>\n",
              "      <th>Title</th>\n",
              "      <th>User_id</th>\n",
              "      <th>profileName</th>\n",
              "      <th>review_score</th>\n",
              "      <th>review_summary</th>\n",
              "      <th>review</th>\n",
              "      <th>authors</th>\n",
              "      <th>publishedDate</th>\n",
              "      <th>categories</th>\n",
              "    </tr>\n",
              "  </thead>\n",
              "  <tbody>\n",
              "    <tr>\n",
              "      <th>0</th>\n",
              "      <td>1882931173</td>\n",
              "      <td>Its Only Art If Its Well Hung!</td>\n",
              "      <td>AVCGYZL8FQQTD</td>\n",
              "      <td>Jim of Oz \"jim-of-oz\"</td>\n",
              "      <td>4</td>\n",
              "      <td>Nice collection of Julie Strain images</td>\n",
              "      <td>This is only for Julie Strain fans. It's a col...</td>\n",
              "      <td>Julie Strain</td>\n",
              "      <td>1996.0</td>\n",
              "      <td>Comics &amp; Graphic Novels</td>\n",
              "    </tr>\n",
              "    <tr>\n",
              "      <th>1</th>\n",
              "      <td>0826414346</td>\n",
              "      <td>Dr. Seuss: American Icon</td>\n",
              "      <td>A30TK6U7DNS82R</td>\n",
              "      <td>Kevin Killian</td>\n",
              "      <td>5</td>\n",
              "      <td>Really Enjoyed It</td>\n",
              "      <td>I don't care much for Dr. Seuss but after read...</td>\n",
              "      <td>Philip Nel</td>\n",
              "      <td>2005.0</td>\n",
              "      <td>Biography &amp; Autobiography</td>\n",
              "    </tr>\n",
              "  </tbody>\n",
              "</table>\n",
              "</div>\n",
              "    <div class=\"colab-df-buttons\">\n",
              "\n",
              "  <div class=\"colab-df-container\">\n",
              "    <button class=\"colab-df-convert\" onclick=\"convertToInteractive('df-bd167a94-cde8-4b40-84a7-eebe5654af36')\"\n",
              "            title=\"Convert this dataframe to an interactive table.\"\n",
              "            style=\"display:none;\">\n",
              "\n",
              "  <svg xmlns=\"http://www.w3.org/2000/svg\" height=\"24px\" viewBox=\"0 -960 960 960\">\n",
              "    <path d=\"M120-120v-720h720v720H120Zm60-500h600v-160H180v160Zm220 220h160v-160H400v160Zm0 220h160v-160H400v160ZM180-400h160v-160H180v160Zm440 0h160v-160H620v160ZM180-180h160v-160H180v160Zm440 0h160v-160H620v160Z\"/>\n",
              "  </svg>\n",
              "    </button>\n",
              "\n",
              "  <style>\n",
              "    .colab-df-container {\n",
              "      display:flex;\n",
              "      gap: 12px;\n",
              "    }\n",
              "\n",
              "    .colab-df-convert {\n",
              "      background-color: #E8F0FE;\n",
              "      border: none;\n",
              "      border-radius: 50%;\n",
              "      cursor: pointer;\n",
              "      display: none;\n",
              "      fill: #1967D2;\n",
              "      height: 32px;\n",
              "      padding: 0 0 0 0;\n",
              "      width: 32px;\n",
              "    }\n",
              "\n",
              "    .colab-df-convert:hover {\n",
              "      background-color: #E2EBFA;\n",
              "      box-shadow: 0px 1px 2px rgba(60, 64, 67, 0.3), 0px 1px 3px 1px rgba(60, 64, 67, 0.15);\n",
              "      fill: #174EA6;\n",
              "    }\n",
              "\n",
              "    .colab-df-buttons div {\n",
              "      margin-bottom: 4px;\n",
              "    }\n",
              "\n",
              "    [theme=dark] .colab-df-convert {\n",
              "      background-color: #3B4455;\n",
              "      fill: #D2E3FC;\n",
              "    }\n",
              "\n",
              "    [theme=dark] .colab-df-convert:hover {\n",
              "      background-color: #434B5C;\n",
              "      box-shadow: 0px 1px 3px 1px rgba(0, 0, 0, 0.15);\n",
              "      filter: drop-shadow(0px 1px 2px rgba(0, 0, 0, 0.3));\n",
              "      fill: #FFFFFF;\n",
              "    }\n",
              "  </style>\n",
              "\n",
              "    <script>\n",
              "      const buttonEl =\n",
              "        document.querySelector('#df-bd167a94-cde8-4b40-84a7-eebe5654af36 button.colab-df-convert');\n",
              "      buttonEl.style.display =\n",
              "        google.colab.kernel.accessAllowed ? 'block' : 'none';\n",
              "\n",
              "      async function convertToInteractive(key) {\n",
              "        const element = document.querySelector('#df-bd167a94-cde8-4b40-84a7-eebe5654af36');\n",
              "        const dataTable =\n",
              "          await google.colab.kernel.invokeFunction('convertToInteractive',\n",
              "                                                    [key], {});\n",
              "        if (!dataTable) return;\n",
              "\n",
              "        const docLinkHtml = 'Like what you see? Visit the ' +\n",
              "          '<a target=\"_blank\" href=https://colab.research.google.com/notebooks/data_table.ipynb>data table notebook</a>'\n",
              "          + ' to learn more about interactive tables.';\n",
              "        element.innerHTML = '';\n",
              "        dataTable['output_type'] = 'display_data';\n",
              "        await google.colab.output.renderOutput(dataTable, element);\n",
              "        const docLink = document.createElement('div');\n",
              "        docLink.innerHTML = docLinkHtml;\n",
              "        element.appendChild(docLink);\n",
              "      }\n",
              "    </script>\n",
              "  </div>\n",
              "\n",
              "\n",
              "<div id=\"df-cf69479e-098a-4507-a6be-1f6e44655315\">\n",
              "  <button class=\"colab-df-quickchart\" onclick=\"quickchart('df-cf69479e-098a-4507-a6be-1f6e44655315')\"\n",
              "            title=\"Suggest charts\"\n",
              "            style=\"display:none;\">\n",
              "\n",
              "<svg xmlns=\"http://www.w3.org/2000/svg\" height=\"24px\"viewBox=\"0 0 24 24\"\n",
              "     width=\"24px\">\n",
              "    <g>\n",
              "        <path d=\"M19 3H5c-1.1 0-2 .9-2 2v14c0 1.1.9 2 2 2h14c1.1 0 2-.9 2-2V5c0-1.1-.9-2-2-2zM9 17H7v-7h2v7zm4 0h-2V7h2v10zm4 0h-2v-4h2v4z\"/>\n",
              "    </g>\n",
              "</svg>\n",
              "  </button>\n",
              "\n",
              "<style>\n",
              "  .colab-df-quickchart {\n",
              "      --bg-color: #E8F0FE;\n",
              "      --fill-color: #1967D2;\n",
              "      --hover-bg-color: #E2EBFA;\n",
              "      --hover-fill-color: #174EA6;\n",
              "      --disabled-fill-color: #AAA;\n",
              "      --disabled-bg-color: #DDD;\n",
              "  }\n",
              "\n",
              "  [theme=dark] .colab-df-quickchart {\n",
              "      --bg-color: #3B4455;\n",
              "      --fill-color: #D2E3FC;\n",
              "      --hover-bg-color: #434B5C;\n",
              "      --hover-fill-color: #FFFFFF;\n",
              "      --disabled-bg-color: #3B4455;\n",
              "      --disabled-fill-color: #666;\n",
              "  }\n",
              "\n",
              "  .colab-df-quickchart {\n",
              "    background-color: var(--bg-color);\n",
              "    border: none;\n",
              "    border-radius: 50%;\n",
              "    cursor: pointer;\n",
              "    display: none;\n",
              "    fill: var(--fill-color);\n",
              "    height: 32px;\n",
              "    padding: 0;\n",
              "    width: 32px;\n",
              "  }\n",
              "\n",
              "  .colab-df-quickchart:hover {\n",
              "    background-color: var(--hover-bg-color);\n",
              "    box-shadow: 0 1px 2px rgba(60, 64, 67, 0.3), 0 1px 3px 1px rgba(60, 64, 67, 0.15);\n",
              "    fill: var(--button-hover-fill-color);\n",
              "  }\n",
              "\n",
              "  .colab-df-quickchart-complete:disabled,\n",
              "  .colab-df-quickchart-complete:disabled:hover {\n",
              "    background-color: var(--disabled-bg-color);\n",
              "    fill: var(--disabled-fill-color);\n",
              "    box-shadow: none;\n",
              "  }\n",
              "\n",
              "  .colab-df-spinner {\n",
              "    border: 2px solid var(--fill-color);\n",
              "    border-color: transparent;\n",
              "    border-bottom-color: var(--fill-color);\n",
              "    animation:\n",
              "      spin 1s steps(1) infinite;\n",
              "  }\n",
              "\n",
              "  @keyframes spin {\n",
              "    0% {\n",
              "      border-color: transparent;\n",
              "      border-bottom-color: var(--fill-color);\n",
              "      border-left-color: var(--fill-color);\n",
              "    }\n",
              "    20% {\n",
              "      border-color: transparent;\n",
              "      border-left-color: var(--fill-color);\n",
              "      border-top-color: var(--fill-color);\n",
              "    }\n",
              "    30% {\n",
              "      border-color: transparent;\n",
              "      border-left-color: var(--fill-color);\n",
              "      border-top-color: var(--fill-color);\n",
              "      border-right-color: var(--fill-color);\n",
              "    }\n",
              "    40% {\n",
              "      border-color: transparent;\n",
              "      border-right-color: var(--fill-color);\n",
              "      border-top-color: var(--fill-color);\n",
              "    }\n",
              "    60% {\n",
              "      border-color: transparent;\n",
              "      border-right-color: var(--fill-color);\n",
              "    }\n",
              "    80% {\n",
              "      border-color: transparent;\n",
              "      border-right-color: var(--fill-color);\n",
              "      border-bottom-color: var(--fill-color);\n",
              "    }\n",
              "    90% {\n",
              "      border-color: transparent;\n",
              "      border-bottom-color: var(--fill-color);\n",
              "    }\n",
              "  }\n",
              "</style>\n",
              "\n",
              "  <script>\n",
              "    async function quickchart(key) {\n",
              "      const quickchartButtonEl =\n",
              "        document.querySelector('#' + key + ' button');\n",
              "      quickchartButtonEl.disabled = true;  // To prevent multiple clicks.\n",
              "      quickchartButtonEl.classList.add('colab-df-spinner');\n",
              "      try {\n",
              "        const charts = await google.colab.kernel.invokeFunction(\n",
              "            'suggestCharts', [key], {});\n",
              "      } catch (error) {\n",
              "        console.error('Error during call to suggestCharts:', error);\n",
              "      }\n",
              "      quickchartButtonEl.classList.remove('colab-df-spinner');\n",
              "      quickchartButtonEl.classList.add('colab-df-quickchart-complete');\n",
              "    }\n",
              "    (() => {\n",
              "      let quickchartButtonEl =\n",
              "        document.querySelector('#df-cf69479e-098a-4507-a6be-1f6e44655315 button');\n",
              "      quickchartButtonEl.style.display =\n",
              "        google.colab.kernel.accessAllowed ? 'block' : 'none';\n",
              "    })();\n",
              "  </script>\n",
              "</div>\n",
              "\n",
              "    </div>\n",
              "  </div>\n"
            ]
          },
          "metadata": {},
          "execution_count": 20
        }
      ],
      "source": [
        "#creating a new df, binary sentiment\n",
        "pos_neg_df = data.copy()\n",
        "pos_neg_df.head(2)"
      ]
    },
    {
      "cell_type": "code",
      "execution_count": null,
      "id": "0cc5bec6",
      "metadata": {
        "id": "0cc5bec6",
        "outputId": "d1aaa912-763d-49bf-98ca-a533eadd4a28",
        "colab": {
          "base_uri": "https://localhost:8080/",
          "height": 449
        }
      },
      "outputs": [
        {
          "output_type": "execute_result",
          "data": {
            "text/plain": [
              "           Id                           Title         User_id  \\\n",
              "0  1882931173  Its Only Art If Its Well Hung!   AVCGYZL8FQQTD   \n",
              "1  0826414346        Dr. Seuss: American Icon  A30TK6U7DNS82R   \n",
              "2  0826414346        Dr. Seuss: American Icon  A3UH4UZ4RSVO82   \n",
              "3  0826414346        Dr. Seuss: American Icon  A2MVUWT453QH61   \n",
              "4  0826414346        Dr. Seuss: American Icon  A22X4XUPKF66MR   \n",
              "\n",
              "                          profileName  sentiment  \\\n",
              "0               Jim of Oz \"jim-of-oz\"          1   \n",
              "1                       Kevin Killian          1   \n",
              "2                        John Granger          1   \n",
              "3  Roy E. Perry \"amateur philosopher\"          1   \n",
              "4     D. H. Richards \"ninthwavestore\"          1   \n",
              "\n",
              "                                    review_summary  \\\n",
              "0           Nice collection of Julie Strain images   \n",
              "1                                Really Enjoyed It   \n",
              "2  Essential for every personal and Public Library   \n",
              "3  Phlip Nel gives silly Seuss a serious treatment   \n",
              "4                           Good academic overview   \n",
              "\n",
              "                                              review       authors  \\\n",
              "0  This is only for Julie Strain fans. It's a col...  Julie Strain   \n",
              "1  I don't care much for Dr. Seuss but after read...    Philip Nel   \n",
              "2  If people become the books they read and if \"t...    Philip Nel   \n",
              "3  Theodore Seuss Geisel (1904-1991), aka &quot;D...    Philip Nel   \n",
              "4  Philip Nel - Dr. Seuss: American IconThis is b...    Philip Nel   \n",
              "\n",
              "   publishedDate                 categories  \n",
              "0         1996.0    Comics & Graphic Novels  \n",
              "1         2005.0  Biography & Autobiography  \n",
              "2         2005.0  Biography & Autobiography  \n",
              "3         2005.0  Biography & Autobiography  \n",
              "4         2005.0  Biography & Autobiography  "
            ],
            "text/html": [
              "\n",
              "  <div id=\"df-2c186b58-e7e5-4bd5-905e-52b1cb4ff132\" class=\"colab-df-container\">\n",
              "    <div>\n",
              "<style scoped>\n",
              "    .dataframe tbody tr th:only-of-type {\n",
              "        vertical-align: middle;\n",
              "    }\n",
              "\n",
              "    .dataframe tbody tr th {\n",
              "        vertical-align: top;\n",
              "    }\n",
              "\n",
              "    .dataframe thead th {\n",
              "        text-align: right;\n",
              "    }\n",
              "</style>\n",
              "<table border=\"1\" class=\"dataframe\">\n",
              "  <thead>\n",
              "    <tr style=\"text-align: right;\">\n",
              "      <th></th>\n",
              "      <th>Id</th>\n",
              "      <th>Title</th>\n",
              "      <th>User_id</th>\n",
              "      <th>profileName</th>\n",
              "      <th>sentiment</th>\n",
              "      <th>review_summary</th>\n",
              "      <th>review</th>\n",
              "      <th>authors</th>\n",
              "      <th>publishedDate</th>\n",
              "      <th>categories</th>\n",
              "    </tr>\n",
              "  </thead>\n",
              "  <tbody>\n",
              "    <tr>\n",
              "      <th>0</th>\n",
              "      <td>1882931173</td>\n",
              "      <td>Its Only Art If Its Well Hung!</td>\n",
              "      <td>AVCGYZL8FQQTD</td>\n",
              "      <td>Jim of Oz \"jim-of-oz\"</td>\n",
              "      <td>1</td>\n",
              "      <td>Nice collection of Julie Strain images</td>\n",
              "      <td>This is only for Julie Strain fans. It's a col...</td>\n",
              "      <td>Julie Strain</td>\n",
              "      <td>1996.0</td>\n",
              "      <td>Comics &amp; Graphic Novels</td>\n",
              "    </tr>\n",
              "    <tr>\n",
              "      <th>1</th>\n",
              "      <td>0826414346</td>\n",
              "      <td>Dr. Seuss: American Icon</td>\n",
              "      <td>A30TK6U7DNS82R</td>\n",
              "      <td>Kevin Killian</td>\n",
              "      <td>1</td>\n",
              "      <td>Really Enjoyed It</td>\n",
              "      <td>I don't care much for Dr. Seuss but after read...</td>\n",
              "      <td>Philip Nel</td>\n",
              "      <td>2005.0</td>\n",
              "      <td>Biography &amp; Autobiography</td>\n",
              "    </tr>\n",
              "    <tr>\n",
              "      <th>2</th>\n",
              "      <td>0826414346</td>\n",
              "      <td>Dr. Seuss: American Icon</td>\n",
              "      <td>A3UH4UZ4RSVO82</td>\n",
              "      <td>John Granger</td>\n",
              "      <td>1</td>\n",
              "      <td>Essential for every personal and Public Library</td>\n",
              "      <td>If people become the books they read and if \"t...</td>\n",
              "      <td>Philip Nel</td>\n",
              "      <td>2005.0</td>\n",
              "      <td>Biography &amp; Autobiography</td>\n",
              "    </tr>\n",
              "    <tr>\n",
              "      <th>3</th>\n",
              "      <td>0826414346</td>\n",
              "      <td>Dr. Seuss: American Icon</td>\n",
              "      <td>A2MVUWT453QH61</td>\n",
              "      <td>Roy E. Perry \"amateur philosopher\"</td>\n",
              "      <td>1</td>\n",
              "      <td>Phlip Nel gives silly Seuss a serious treatment</td>\n",
              "      <td>Theodore Seuss Geisel (1904-1991), aka &amp;quot;D...</td>\n",
              "      <td>Philip Nel</td>\n",
              "      <td>2005.0</td>\n",
              "      <td>Biography &amp; Autobiography</td>\n",
              "    </tr>\n",
              "    <tr>\n",
              "      <th>4</th>\n",
              "      <td>0826414346</td>\n",
              "      <td>Dr. Seuss: American Icon</td>\n",
              "      <td>A22X4XUPKF66MR</td>\n",
              "      <td>D. H. Richards \"ninthwavestore\"</td>\n",
              "      <td>1</td>\n",
              "      <td>Good academic overview</td>\n",
              "      <td>Philip Nel - Dr. Seuss: American IconThis is b...</td>\n",
              "      <td>Philip Nel</td>\n",
              "      <td>2005.0</td>\n",
              "      <td>Biography &amp; Autobiography</td>\n",
              "    </tr>\n",
              "  </tbody>\n",
              "</table>\n",
              "</div>\n",
              "    <div class=\"colab-df-buttons\">\n",
              "\n",
              "  <div class=\"colab-df-container\">\n",
              "    <button class=\"colab-df-convert\" onclick=\"convertToInteractive('df-2c186b58-e7e5-4bd5-905e-52b1cb4ff132')\"\n",
              "            title=\"Convert this dataframe to an interactive table.\"\n",
              "            style=\"display:none;\">\n",
              "\n",
              "  <svg xmlns=\"http://www.w3.org/2000/svg\" height=\"24px\" viewBox=\"0 -960 960 960\">\n",
              "    <path d=\"M120-120v-720h720v720H120Zm60-500h600v-160H180v160Zm220 220h160v-160H400v160Zm0 220h160v-160H400v160ZM180-400h160v-160H180v160Zm440 0h160v-160H620v160ZM180-180h160v-160H180v160Zm440 0h160v-160H620v160Z\"/>\n",
              "  </svg>\n",
              "    </button>\n",
              "\n",
              "  <style>\n",
              "    .colab-df-container {\n",
              "      display:flex;\n",
              "      gap: 12px;\n",
              "    }\n",
              "\n",
              "    .colab-df-convert {\n",
              "      background-color: #E8F0FE;\n",
              "      border: none;\n",
              "      border-radius: 50%;\n",
              "      cursor: pointer;\n",
              "      display: none;\n",
              "      fill: #1967D2;\n",
              "      height: 32px;\n",
              "      padding: 0 0 0 0;\n",
              "      width: 32px;\n",
              "    }\n",
              "\n",
              "    .colab-df-convert:hover {\n",
              "      background-color: #E2EBFA;\n",
              "      box-shadow: 0px 1px 2px rgba(60, 64, 67, 0.3), 0px 1px 3px 1px rgba(60, 64, 67, 0.15);\n",
              "      fill: #174EA6;\n",
              "    }\n",
              "\n",
              "    .colab-df-buttons div {\n",
              "      margin-bottom: 4px;\n",
              "    }\n",
              "\n",
              "    [theme=dark] .colab-df-convert {\n",
              "      background-color: #3B4455;\n",
              "      fill: #D2E3FC;\n",
              "    }\n",
              "\n",
              "    [theme=dark] .colab-df-convert:hover {\n",
              "      background-color: #434B5C;\n",
              "      box-shadow: 0px 1px 3px 1px rgba(0, 0, 0, 0.15);\n",
              "      filter: drop-shadow(0px 1px 2px rgba(0, 0, 0, 0.3));\n",
              "      fill: #FFFFFF;\n",
              "    }\n",
              "  </style>\n",
              "\n",
              "    <script>\n",
              "      const buttonEl =\n",
              "        document.querySelector('#df-2c186b58-e7e5-4bd5-905e-52b1cb4ff132 button.colab-df-convert');\n",
              "      buttonEl.style.display =\n",
              "        google.colab.kernel.accessAllowed ? 'block' : 'none';\n",
              "\n",
              "      async function convertToInteractive(key) {\n",
              "        const element = document.querySelector('#df-2c186b58-e7e5-4bd5-905e-52b1cb4ff132');\n",
              "        const dataTable =\n",
              "          await google.colab.kernel.invokeFunction('convertToInteractive',\n",
              "                                                    [key], {});\n",
              "        if (!dataTable) return;\n",
              "\n",
              "        const docLinkHtml = 'Like what you see? Visit the ' +\n",
              "          '<a target=\"_blank\" href=https://colab.research.google.com/notebooks/data_table.ipynb>data table notebook</a>'\n",
              "          + ' to learn more about interactive tables.';\n",
              "        element.innerHTML = '';\n",
              "        dataTable['output_type'] = 'display_data';\n",
              "        await google.colab.output.renderOutput(dataTable, element);\n",
              "        const docLink = document.createElement('div');\n",
              "        docLink.innerHTML = docLinkHtml;\n",
              "        element.appendChild(docLink);\n",
              "      }\n",
              "    </script>\n",
              "  </div>\n",
              "\n",
              "\n",
              "<div id=\"df-d3bf112e-46a6-4bf1-ac78-f640a1b839bb\">\n",
              "  <button class=\"colab-df-quickchart\" onclick=\"quickchart('df-d3bf112e-46a6-4bf1-ac78-f640a1b839bb')\"\n",
              "            title=\"Suggest charts\"\n",
              "            style=\"display:none;\">\n",
              "\n",
              "<svg xmlns=\"http://www.w3.org/2000/svg\" height=\"24px\"viewBox=\"0 0 24 24\"\n",
              "     width=\"24px\">\n",
              "    <g>\n",
              "        <path d=\"M19 3H5c-1.1 0-2 .9-2 2v14c0 1.1.9 2 2 2h14c1.1 0 2-.9 2-2V5c0-1.1-.9-2-2-2zM9 17H7v-7h2v7zm4 0h-2V7h2v10zm4 0h-2v-4h2v4z\"/>\n",
              "    </g>\n",
              "</svg>\n",
              "  </button>\n",
              "\n",
              "<style>\n",
              "  .colab-df-quickchart {\n",
              "      --bg-color: #E8F0FE;\n",
              "      --fill-color: #1967D2;\n",
              "      --hover-bg-color: #E2EBFA;\n",
              "      --hover-fill-color: #174EA6;\n",
              "      --disabled-fill-color: #AAA;\n",
              "      --disabled-bg-color: #DDD;\n",
              "  }\n",
              "\n",
              "  [theme=dark] .colab-df-quickchart {\n",
              "      --bg-color: #3B4455;\n",
              "      --fill-color: #D2E3FC;\n",
              "      --hover-bg-color: #434B5C;\n",
              "      --hover-fill-color: #FFFFFF;\n",
              "      --disabled-bg-color: #3B4455;\n",
              "      --disabled-fill-color: #666;\n",
              "  }\n",
              "\n",
              "  .colab-df-quickchart {\n",
              "    background-color: var(--bg-color);\n",
              "    border: none;\n",
              "    border-radius: 50%;\n",
              "    cursor: pointer;\n",
              "    display: none;\n",
              "    fill: var(--fill-color);\n",
              "    height: 32px;\n",
              "    padding: 0;\n",
              "    width: 32px;\n",
              "  }\n",
              "\n",
              "  .colab-df-quickchart:hover {\n",
              "    background-color: var(--hover-bg-color);\n",
              "    box-shadow: 0 1px 2px rgba(60, 64, 67, 0.3), 0 1px 3px 1px rgba(60, 64, 67, 0.15);\n",
              "    fill: var(--button-hover-fill-color);\n",
              "  }\n",
              "\n",
              "  .colab-df-quickchart-complete:disabled,\n",
              "  .colab-df-quickchart-complete:disabled:hover {\n",
              "    background-color: var(--disabled-bg-color);\n",
              "    fill: var(--disabled-fill-color);\n",
              "    box-shadow: none;\n",
              "  }\n",
              "\n",
              "  .colab-df-spinner {\n",
              "    border: 2px solid var(--fill-color);\n",
              "    border-color: transparent;\n",
              "    border-bottom-color: var(--fill-color);\n",
              "    animation:\n",
              "      spin 1s steps(1) infinite;\n",
              "  }\n",
              "\n",
              "  @keyframes spin {\n",
              "    0% {\n",
              "      border-color: transparent;\n",
              "      border-bottom-color: var(--fill-color);\n",
              "      border-left-color: var(--fill-color);\n",
              "    }\n",
              "    20% {\n",
              "      border-color: transparent;\n",
              "      border-left-color: var(--fill-color);\n",
              "      border-top-color: var(--fill-color);\n",
              "    }\n",
              "    30% {\n",
              "      border-color: transparent;\n",
              "      border-left-color: var(--fill-color);\n",
              "      border-top-color: var(--fill-color);\n",
              "      border-right-color: var(--fill-color);\n",
              "    }\n",
              "    40% {\n",
              "      border-color: transparent;\n",
              "      border-right-color: var(--fill-color);\n",
              "      border-top-color: var(--fill-color);\n",
              "    }\n",
              "    60% {\n",
              "      border-color: transparent;\n",
              "      border-right-color: var(--fill-color);\n",
              "    }\n",
              "    80% {\n",
              "      border-color: transparent;\n",
              "      border-right-color: var(--fill-color);\n",
              "      border-bottom-color: var(--fill-color);\n",
              "    }\n",
              "    90% {\n",
              "      border-color: transparent;\n",
              "      border-bottom-color: var(--fill-color);\n",
              "    }\n",
              "  }\n",
              "</style>\n",
              "\n",
              "  <script>\n",
              "    async function quickchart(key) {\n",
              "      const quickchartButtonEl =\n",
              "        document.querySelector('#' + key + ' button');\n",
              "      quickchartButtonEl.disabled = true;  // To prevent multiple clicks.\n",
              "      quickchartButtonEl.classList.add('colab-df-spinner');\n",
              "      try {\n",
              "        const charts = await google.colab.kernel.invokeFunction(\n",
              "            'suggestCharts', [key], {});\n",
              "      } catch (error) {\n",
              "        console.error('Error during call to suggestCharts:', error);\n",
              "      }\n",
              "      quickchartButtonEl.classList.remove('colab-df-spinner');\n",
              "      quickchartButtonEl.classList.add('colab-df-quickchart-complete');\n",
              "    }\n",
              "    (() => {\n",
              "      let quickchartButtonEl =\n",
              "        document.querySelector('#df-d3bf112e-46a6-4bf1-ac78-f640a1b839bb button');\n",
              "      quickchartButtonEl.style.display =\n",
              "        google.colab.kernel.accessAllowed ? 'block' : 'none';\n",
              "    })();\n",
              "  </script>\n",
              "</div>\n",
              "\n",
              "    </div>\n",
              "  </div>\n"
            ]
          },
          "metadata": {},
          "execution_count": 21
        }
      ],
      "source": [
        "\n",
        "pos_neg_df['review_score'] = np.where(pos_neg_df['review_score'] > 3, 1, 0)\n",
        "# change column name to reflect changes\n",
        "pos_neg_df.rename(columns={\"review_score\": \"sentiment\"}, inplace=True)\n",
        "pos_neg_df.head()"
      ]
    },
    {
      "cell_type": "code",
      "execution_count": null,
      "id": "a80dcc62",
      "metadata": {
        "id": "a80dcc62",
        "outputId": "ee14bf72-edf2-4a39-92d4-62450bedef26",
        "colab": {
          "base_uri": "https://localhost:8080/",
          "height": 343
        }
      },
      "outputs": [
        {
          "output_type": "display_data",
          "data": {
            "text/plain": [
              "<Figure size 800x300 with 1 Axes>"
            ],
            "image/png": "[encoded data removed]"
          },
          "metadata": {}
        },
        {
          "output_type": "stream",
          "name": "stdout",
          "text": [
            "Class imbalance: [0.2 0.8]\n"
          ]
        }
      ],
      "source": [
        "values, counts = np.unique(pos_neg_df['sentiment'], return_counts=True)\n",
        "normalized_counts = counts/counts.sum()\n",
        "\n",
        "plt.figure(figsize=(8, 3))\n",
        "plt.title(\"Sentiment Distribution\")\n",
        "plt.barh([\"Negative\", \"Positive\"], normalized_counts*100) # plot normalized counts\n",
        "plt.xlabel('Review Sentiment')\n",
        "plt.ylabel('% of Reviews')\n",
        "plt.show()\n",
        "\n",
        "print(f\"Class imbalance: {np.round(normalized_counts, 2)}\")"
      ]
    },
    {
      "cell_type": "markdown",
      "id": "9eadab46",
      "metadata": {
        "id": "9eadab46"
      },
      "source": [
        "This is quite inbalanced! To be more precise, [Google](https://developers.google.com/machine-learning/data-prep/construct/sampling-splitting/imbalanced-data) would classify this as a \"moderate\" degree of imbalance.\n",
        "#### MultiClass Sentiment\n",
        "Let's explore having a three-class division of sentiment, with a score of 3 being \"neutral.\""
      ]
    },
    {
      "cell_type": "code",
      "source": [
        "#create new df for 3 classes\n",
        "three_class_df = data.copy()\n",
        "#divide rating to 3\n",
        "three_class_df['sentiment'] = np.select([three_class_df['review_score'] == 1,\n",
        "                                         three_class_df['review_score'] == 2,\n",
        "                                         three_class_df['review_score'] == 3,\n",
        "                                         three_class_df['review_score'] == 4,\n",
        "                                         three_class_df['review_score'] == 5],\n",
        "                                          [0,0,1,1,2], default=np.nan)\n",
        "three_class_df"
      ],
      "metadata": {
        "colab": {
          "base_uri": "https://localhost:8080/",
          "height": 1000
        },
        "id": "_YFpmYd7K0ui",
        "outputId": "171e1d82-f442-4774-e314-5e547bea12b8"
      },
      "id": "_YFpmYd7K0ui",
      "execution_count": null,
      "outputs": [
        {
          "output_type": "execute_result",
          "data": {
            "text/plain": [
              "         Unnamed: 0          Id                           Title  \\\n",
              "0                 0  1882931173  Its Only Art If Its Well Hung!   \n",
              "1                 1  0826414346        Dr. Seuss: American Icon   \n",
              "2                 2  0826414346        Dr. Seuss: American Icon   \n",
              "3                 3  0826414346        Dr. Seuss: American Icon   \n",
              "4                 4  0826414346        Dr. Seuss: American Icon   \n",
              "...             ...         ...                             ...   \n",
              "2974297     2999787  B000NSLVCU             The Idea of History   \n",
              "2974298     2999788  B000NSLVCU             The Idea of History   \n",
              "2974299     2999789  B000NSLVCU             The Idea of History   \n",
              "2974300     2999790  B000NSLVCU             The Idea of History   \n",
              "2974301     2999791  B000NSLVCU             The Idea of History   \n",
              "\n",
              "                User_id                         profileName  review_score  \\\n",
              "0         AVCGYZL8FQQTD               Jim of Oz \"jim-of-oz\"             4   \n",
              "1        A30TK6U7DNS82R                       Kevin Killian             5   \n",
              "2        A3UH4UZ4RSVO82                        John Granger             5   \n",
              "3        A2MVUWT453QH61  Roy E. Perry \"amateur philosopher\"             4   \n",
              "4        A22X4XUPKF66MR     D. H. Richards \"ninthwavestore\"             4   \n",
              "...                 ...                                 ...           ...   \n",
              "2974297         unknown                             unknown             4   \n",
              "2974298  A1SMUB9ASL5L9Y                             jafrank             4   \n",
              "2974299  A2AQMEKZKK5EE4           L. L. Poulos \"Muslim Mom\"             4   \n",
              "2974300  A18SQGYBKS852K       Julia A. Klein \"knitting rat\"             5   \n",
              "2974301         unknown                             unknown             1   \n",
              "\n",
              "                                            review_summary  \\\n",
              "0                   Nice collection of Julie Strain images   \n",
              "1                                        Really Enjoyed It   \n",
              "2          Essential for every personal and Public Library   \n",
              "3          Phlip Nel gives silly Seuss a serious treatment   \n",
              "4                                   Good academic overview   \n",
              "...                                                    ...   \n",
              "2974297                                          Difficult   \n",
              "2974298      Quite good and ahead of its time occasionally   \n",
              "2974299  Easier reads of those not well versed in histo...   \n",
              "2974300   Yes, it is cheaper than the University Bookstore   \n",
              "2974301  Collingwood's ideas sink in a quagmire or verb...   \n",
              "\n",
              "                                                    review            authors  \\\n",
              "0        This is only for Julie Strain fans. It's a col...       Julie Strain   \n",
              "1        I don't care much for Dr. Seuss but after read...         Philip Nel   \n",
              "2        If people become the books they read and if \"t...         Philip Nel   \n",
              "3        Theodore Seuss Geisel (1904-1991), aka &quot;D...         Philip Nel   \n",
              "4        Philip Nel - Dr. Seuss: American IconThis is b...         Philip Nel   \n",
              "...                                                    ...                ...   \n",
              "2974297  This is an extremely difficult book to digest,...  R. G. Collingwood   \n",
              "2974298  This is pretty interesting. Collingwood seems ...  R. G. Collingwood   \n",
              "2974299  This is a good book but very esoteric. \"What i...  R. G. Collingwood   \n",
              "2974300  My daughter, a freshman at Indiana University,...  R. G. Collingwood   \n",
              "2974301  The guy has a few good ideas but, reader, bewa...  R. G. Collingwood   \n",
              "\n",
              "         publishedDate                 categories  sentiment  \n",
              "0               1996.0    Comics & Graphic Novels        1.0  \n",
              "1               2005.0  Biography & Autobiography        2.0  \n",
              "2               2005.0  Biography & Autobiography        2.0  \n",
              "3               2005.0  Biography & Autobiography        1.0  \n",
              "4               2005.0  Biography & Autobiography        1.0  \n",
              "...                ...                        ...        ...  \n",
              "2974297         2018.0                    History        1.0  \n",
              "2974298         2018.0                    History        1.0  \n",
              "2974299         2018.0                    History        1.0  \n",
              "2974300         2018.0                    History        2.0  \n",
              "2974301         2018.0                    History        0.0  \n",
              "\n",
              "[2974302 rows x 12 columns]"
            ],
            "text/html": [
              "\n",
              "  <div id=\"df-c34f53b5-3c99-4828-bec9-49d091890d6e\" class=\"colab-df-container\">\n",
              "    <div>\n",
              "<style scoped>\n",
              "    .dataframe tbody tr th:only-of-type {\n",
              "        vertical-align: middle;\n",
              "    }\n",
              "\n",
              "    .dataframe tbody tr th {\n",
              "        vertical-align: top;\n",
              "    }\n",
              "\n",
              "    .dataframe thead th {\n",
              "        text-align: right;\n",
              "    }\n",
              "</style>\n",
              "<table border=\"1\" class=\"dataframe\">\n",
              "  <thead>\n",
              "    <tr style=\"text-align: right;\">\n",
              "      <th></th>\n",
              "      <th>Unnamed: 0</th>\n",
              "      <th>Id</th>\n",
              "      <th>Title</th>\n",
              "      <th>User_id</th>\n",
              "      <th>profileName</th>\n",
              "      <th>review_score</th>\n",
              "      <th>review_summary</th>\n",
              "      <th>review</th>\n",
              "      <th>authors</th>\n",
              "      <th>publishedDate</th>\n",
              "      <th>categories</th>\n",
              "      <th>sentiment</th>\n",
              "    </tr>\n",
              "  </thead>\n",
              "  <tbody>\n",
              "    <tr>\n",
              "      <th>0</th>\n",
              "      <td>0</td>\n",
              "      <td>1882931173</td>\n",
              "      <td>Its Only Art If Its Well Hung!</td>\n",
              "      <td>AVCGYZL8FQQTD</td>\n",
              "      <td>Jim of Oz \"jim-of-oz\"</td>\n",
              "      <td>4</td>\n",
              "      <td>Nice collection of Julie Strain images</td>\n",
              "      <td>This is only for Julie Strain fans. It's a col...</td>\n",
              "      <td>Julie Strain</td>\n",
              "      <td>1996.0</td>\n",
              "      <td>Comics &amp; Graphic Novels</td>\n",
              "      <td>1.0</td>\n",
              "    </tr>\n",
              "    <tr>\n",
              "      <th>1</th>\n",
              "      <td>1</td>\n",
              "      <td>0826414346</td>\n",
              "      <td>Dr. Seuss: American Icon</td>\n",
              "      <td>A30TK6U7DNS82R</td>\n",
              "      <td>Kevin Killian</td>\n",
              "      <td>5</td>\n",
              "      <td>Really Enjoyed It</td>\n",
              "      <td>I don't care much for Dr. Seuss but after read...</td>\n",
              "      <td>Philip Nel</td>\n",
              "      <td>2005.0</td>\n",
              "      <td>Biography &amp; Autobiography</td>\n",
              "      <td>2.0</td>\n",
              "    </tr>\n",
              "    <tr>\n",
              "      <th>2</th>\n",
              "      <td>2</td>\n",
              "      <td>0826414346</td>\n",
              "      <td>Dr. Seuss: American Icon</td>\n",
              "      <td>A3UH4UZ4RSVO82</td>\n",
              "      <td>John Granger</td>\n",
              "      <td>5</td>\n",
              "      <td>Essential for every personal and Public Library</td>\n",
              "      <td>If people become the books they read and if \"t...</td>\n",
              "      <td>Philip Nel</td>\n",
              "      <td>2005.0</td>\n",
              "      <td>Biography &amp; Autobiography</td>\n",
              "      <td>2.0</td>\n",
              "    </tr>\n",
              "    <tr>\n",
              "      <th>3</th>\n",
              "      <td>3</td>\n",
              "      <td>0826414346</td>\n",
              "      <td>Dr. Seuss: American Icon</td>\n",
              "      <td>A2MVUWT453QH61</td>\n",
              "      <td>Roy E. Perry \"amateur philosopher\"</td>\n",
              "      <td>4</td>\n",
              "      <td>Phlip Nel gives silly Seuss a serious treatment</td>\n",
              "      <td>Theodore Seuss Geisel (1904-1991), aka &amp;quot;D...</td>\n",
              "      <td>Philip Nel</td>\n",
              "      <td>2005.0</td>\n",
              "      <td>Biography &amp; Autobiography</td>\n",
              "      <td>1.0</td>\n",
              "    </tr>\n",
              "    <tr>\n",
              "      <th>4</th>\n",
              "      <td>4</td>\n",
              "      <td>0826414346</td>\n",
              "      <td>Dr. Seuss: American Icon</td>\n",
              "      <td>A22X4XUPKF66MR</td>\n",
              "      <td>D. H. Richards \"ninthwavestore\"</td>\n",
              "      <td>4</td>\n",
              "      <td>Good academic overview</td>\n",
              "      <td>Philip Nel - Dr. Seuss: American IconThis is b...</td>\n",
              "      <td>Philip Nel</td>\n",
              "      <td>2005.0</td>\n",
              "      <td>Biography &amp; Autobiography</td>\n",
              "      <td>1.0</td>\n",
              "    </tr>\n",
              "    <tr>\n",
              "      <th>...</th>\n",
              "      <td>...</td>\n",
              "      <td>...</td>\n",
              "      <td>...</td>\n",
              "      <td>...</td>\n",
              "      <td>...</td>\n",
              "      <td>...</td>\n",
              "      <td>...</td>\n",
              "      <td>...</td>\n",
              "      <td>...</td>\n",
              "      <td>...</td>\n",
              "      <td>...</td>\n",
              "      <td>...</td>\n",
              "    </tr>\n",
              "    <tr>\n",
              "      <th>2974297</th>\n",
              "      <td>2999787</td>\n",
              "      <td>B000NSLVCU</td>\n",
              "      <td>The Idea of History</td>\n",
              "      <td>unknown</td>\n",
              "      <td>unknown</td>\n",
              "      <td>4</td>\n",
              "      <td>Difficult</td>\n",
              "      <td>This is an extremely difficult book to digest,...</td>\n",
              "      <td>R. G. Collingwood</td>\n",
              "      <td>2018.0</td>\n",
              "      <td>History</td>\n",
              "      <td>1.0</td>\n",
              "    </tr>\n",
              "    <tr>\n",
              "      <th>2974298</th>\n",
              "      <td>2999788</td>\n",
              "      <td>B000NSLVCU</td>\n",
              "      <td>The Idea of History</td>\n",
              "      <td>A1SMUB9ASL5L9Y</td>\n",
              "      <td>jafrank</td>\n",
              "      <td>4</td>\n",
              "      <td>Quite good and ahead of its time occasionally</td>\n",
              "      <td>This is pretty interesting. Collingwood seems ...</td>\n",
              "      <td>R. G. Collingwood</td>\n",
              "      <td>2018.0</td>\n",
              "      <td>History</td>\n",
              "      <td>1.0</td>\n",
              "    </tr>\n",
              "    <tr>\n",
              "      <th>2974299</th>\n",
              "      <td>2999789</td>\n",
              "      <td>B000NSLVCU</td>\n",
              "      <td>The Idea of History</td>\n",
              "      <td>A2AQMEKZKK5EE4</td>\n",
              "      <td>L. L. Poulos \"Muslim Mom\"</td>\n",
              "      <td>4</td>\n",
              "      <td>Easier reads of those not well versed in histo...</td>\n",
              "      <td>This is a good book but very esoteric. \"What i...</td>\n",
              "      <td>R. G. Collingwood</td>\n",
              "      <td>2018.0</td>\n",
              "      <td>History</td>\n",
              "      <td>1.0</td>\n",
              "    </tr>\n",
              "    <tr>\n",
              "      <th>2974300</th>\n",
              "      <td>2999790</td>\n",
              "      <td>B000NSLVCU</td>\n",
              "      <td>The Idea of History</td>\n",
              "      <td>A18SQGYBKS852K</td>\n",
              "      <td>Julia A. Klein \"knitting rat\"</td>\n",
              "      <td>5</td>\n",
              "      <td>Yes, it is cheaper than the University Bookstore</td>\n",
              "      <td>My daughter, a freshman at Indiana University,...</td>\n",
              "      <td>R. G. Collingwood</td>\n",
              "      <td>2018.0</td>\n",
              "      <td>History</td>\n",
              "      <td>2.0</td>\n",
              "    </tr>\n",
              "    <tr>\n",
              "      <th>2974301</th>\n",
              "      <td>2999791</td>\n",
              "      <td>B000NSLVCU</td>\n",
              "      <td>The Idea of History</td>\n",
              "      <td>unknown</td>\n",
              "      <td>unknown</td>\n",
              "      <td>1</td>\n",
              "      <td>Collingwood's ideas sink in a quagmire or verb...</td>\n",
              "      <td>The guy has a few good ideas but, reader, bewa...</td>\n",
              "      <td>R. G. Collingwood</td>\n",
              "      <td>2018.0</td>\n",
              "      <td>History</td>\n",
              "      <td>0.0</td>\n",
              "    </tr>\n",
              "  </tbody>\n",
              "</table>\n",
              "<p>2974302 rows × 12 columns</p>\n",
              "</div>\n",
              "    <div class=\"colab-df-buttons\">\n",
              "\n",
              "  <div class=\"colab-df-container\">\n",
              "    <button class=\"colab-df-convert\" onclick=\"convertToInteractive('df-c34f53b5-3c99-4828-bec9-49d091890d6e')\"\n",
              "            title=\"Convert this dataframe to an interactive table.\"\n",
              "            style=\"display:none;\">\n",
              "\n",
              "  <svg xmlns=\"http://www.w3.org/2000/svg\" height=\"24px\" viewBox=\"0 -960 960 960\">\n",
              "    <path d=\"M120-120v-720h720v720H120Zm60-500h600v-160H180v160Zm220 220h160v-160H400v160Zm0 220h160v-160H400v160ZM180-400h160v-160H180v160Zm440 0h160v-160H620v160ZM180-180h160v-160H180v160Zm440 0h160v-160H620v160Z\"/>\n",
              "  </svg>\n",
              "    </button>\n",
              "\n",
              "  <style>\n",
              "    .colab-df-container {\n",
              "      display:flex;\n",
              "      gap: 12px;\n",
              "    }\n",
              "\n",
              "    .colab-df-convert {\n",
              "      background-color: #E8F0FE;\n",
              "      border: none;\n",
              "      border-radius: 50%;\n",
              "      cursor: pointer;\n",
              "      display: none;\n",
              "      fill: #1967D2;\n",
              "      height: 32px;\n",
              "      padding: 0 0 0 0;\n",
              "      width: 32px;\n",
              "    }\n",
              "\n",
              "    .colab-df-convert:hover {\n",
              "      background-color: #E2EBFA;\n",
              "      box-shadow: 0px 1px 2px rgba(60, 64, 67, 0.3), 0px 1px 3px 1px rgba(60, 64, 67, 0.15);\n",
              "      fill: #174EA6;\n",
              "    }\n",
              "\n",
              "    .colab-df-buttons div {\n",
              "      margin-bottom: 4px;\n",
              "    }\n",
              "\n",
              "    [theme=dark] .colab-df-convert {\n",
              "      background-color: #3B4455;\n",
              "      fill: #D2E3FC;\n",
              "    }\n",
              "\n",
              "    [theme=dark] .colab-df-convert:hover {\n",
              "      background-color: #434B5C;\n",
              "      box-shadow: 0px 1px 3px 1px rgba(0, 0, 0, 0.15);\n",
              "      filter: drop-shadow(0px 1px 2px rgba(0, 0, 0, 0.3));\n",
              "      fill: #FFFFFF;\n",
              "    }\n",
              "  </style>\n",
              "\n",
              "    <script>\n",
              "      const buttonEl =\n",
              "        document.querySelector('#df-c34f53b5-3c99-4828-bec9-49d091890d6e button.colab-df-convert');\n",
              "      buttonEl.style.display =\n",
              "        google.colab.kernel.accessAllowed ? 'block' : 'none';\n",
              "\n",
              "      async function convertToInteractive(key) {\n",
              "        const element = document.querySelector('#df-c34f53b5-3c99-4828-bec9-49d091890d6e');\n",
              "        const dataTable =\n",
              "          await google.colab.kernel.invokeFunction('convertToInteractive',\n",
              "                                                    [key], {});\n",
              "        if (!dataTable) return;\n",
              "\n",
              "        const docLinkHtml = 'Like what you see? Visit the ' +\n",
              "          '<a target=\"_blank\" href=https://colab.research.google.com/notebooks/data_table.ipynb>data table notebook</a>'\n",
              "          + ' to learn more about interactive tables.';\n",
              "        element.innerHTML = '';\n",
              "        dataTable['output_type'] = 'display_data';\n",
              "        await google.colab.output.renderOutput(dataTable, element);\n",
              "        const docLink = document.createElement('div');\n",
              "        docLink.innerHTML = docLinkHtml;\n",
              "        element.appendChild(docLink);\n",
              "      }\n",
              "    </script>\n",
              "  </div>\n",
              "\n",
              "\n",
              "<div id=\"df-aaeec2d7-af2f-4ca6-a32d-6d8867f965cd\">\n",
              "  <button class=\"colab-df-quickchart\" onclick=\"quickchart('df-aaeec2d7-af2f-4ca6-a32d-6d8867f965cd')\"\n",
              "            title=\"Suggest charts\"\n",
              "            style=\"display:none;\">\n",
              "\n",
              "<svg xmlns=\"http://www.w3.org/2000/svg\" height=\"24px\"viewBox=\"0 0 24 24\"\n",
              "     width=\"24px\">\n",
              "    <g>\n",
              "        <path d=\"M19 3H5c-1.1 0-2 .9-2 2v14c0 1.1.9 2 2 2h14c1.1 0 2-.9 2-2V5c0-1.1-.9-2-2-2zM9 17H7v-7h2v7zm4 0h-2V7h2v10zm4 0h-2v-4h2v4z\"/>\n",
              "    </g>\n",
              "</svg>\n",
              "  </button>\n",
              "\n",
              "<style>\n",
              "  .colab-df-quickchart {\n",
              "      --bg-color: #E8F0FE;\n",
              "      --fill-color: #1967D2;\n",
              "      --hover-bg-color: #E2EBFA;\n",
              "      --hover-fill-color: #174EA6;\n",
              "      --disabled-fill-color: #AAA;\n",
              "      --disabled-bg-color: #DDD;\n",
              "  }\n",
              "\n",
              "  [theme=dark] .colab-df-quickchart {\n",
              "      --bg-color: #3B4455;\n",
              "      --fill-color: #D2E3FC;\n",
              "      --hover-bg-color: #434B5C;\n",
              "      --hover-fill-color: #FFFFFF;\n",
              "      --disabled-bg-color: #3B4455;\n",
              "      --disabled-fill-color: #666;\n",
              "  }\n",
              "\n",
              "  .colab-df-quickchart {\n",
              "    background-color: var(--bg-color);\n",
              "    border: none;\n",
              "    border-radius: 50%;\n",
              "    cursor: pointer;\n",
              "    display: none;\n",
              "    fill: var(--fill-color);\n",
              "    height: 32px;\n",
              "    padding: 0;\n",
              "    width: 32px;\n",
              "  }\n",
              "\n",
              "  .colab-df-quickchart:hover {\n",
              "    background-color: var(--hover-bg-color);\n",
              "    box-shadow: 0 1px 2px rgba(60, 64, 67, 0.3), 0 1px 3px 1px rgba(60, 64, 67, 0.15);\n",
              "    fill: var(--button-hover-fill-color);\n",
              "  }\n",
              "\n",
              "  .colab-df-quickchart-complete:disabled,\n",
              "  .colab-df-quickchart-complete:disabled:hover {\n",
              "    background-color: var(--disabled-bg-color);\n",
              "    fill: var(--disabled-fill-color);\n",
              "    box-shadow: none;\n",
              "  }\n",
              "\n",
              "  .colab-df-spinner {\n",
              "    border: 2px solid var(--fill-color);\n",
              "    border-color: transparent;\n",
              "    border-bottom-color: var(--fill-color);\n",
              "    animation:\n",
              "      spin 1s steps(1) infinite;\n",
              "  }\n",
              "\n",
              "  @keyframes spin {\n",
              "    0% {\n",
              "      border-color: transparent;\n",
              "      border-bottom-color: var(--fill-color);\n",
              "      border-left-color: var(--fill-color);\n",
              "    }\n",
              "    20% {\n",
              "      border-color: transparent;\n",
              "      border-left-color: var(--fill-color);\n",
              "      border-top-color: var(--fill-color);\n",
              "    }\n",
              "    30% {\n",
              "      border-color: transparent;\n",
              "      border-left-color: var(--fill-color);\n",
              "      border-top-color: var(--fill-color);\n",
              "      border-right-color: var(--fill-color);\n",
              "    }\n",
              "    40% {\n",
              "      border-color: transparent;\n",
              "      border-right-color: var(--fill-color);\n",
              "      border-top-color: var(--fill-color);\n",
              "    }\n",
              "    60% {\n",
              "      border-color: transparent;\n",
              "      border-right-color: var(--fill-color);\n",
              "    }\n",
              "    80% {\n",
              "      border-color: transparent;\n",
              "      border-right-color: var(--fill-color);\n",
              "      border-bottom-color: var(--fill-color);\n",
              "    }\n",
              "    90% {\n",
              "      border-color: transparent;\n",
              "      border-bottom-color: var(--fill-color);\n",
              "    }\n",
              "  }\n",
              "</style>\n",
              "\n",
              "  <script>\n",
              "    async function quickchart(key) {\n",
              "      const quickchartButtonEl =\n",
              "        document.querySelector('#' + key + ' button');\n",
              "      quickchartButtonEl.disabled = true;  // To prevent multiple clicks.\n",
              "      quickchartButtonEl.classList.add('colab-df-spinner');\n",
              "      try {\n",
              "        const charts = await google.colab.kernel.invokeFunction(\n",
              "            'suggestCharts', [key], {});\n",
              "      } catch (error) {\n",
              "        console.error('Error during call to suggestCharts:', error);\n",
              "      }\n",
              "      quickchartButtonEl.classList.remove('colab-df-spinner');\n",
              "      quickchartButtonEl.classList.add('colab-df-quickchart-complete');\n",
              "    }\n",
              "    (() => {\n",
              "      let quickchartButtonEl =\n",
              "        document.querySelector('#df-aaeec2d7-af2f-4ca6-a32d-6d8867f965cd button');\n",
              "      quickchartButtonEl.style.display =\n",
              "        google.colab.kernel.accessAllowed ? 'block' : 'none';\n",
              "    })();\n",
              "  </script>\n",
              "</div>\n",
              "\n",
              "  <div id=\"id_dc1f45f7-3b93-422f-bc15-ba5c92fc761f\">\n",
              "    <style>\n",
              "      .colab-df-generate {\n",
              "        background-color: #E8F0FE;\n",
              "        border: none;\n",
              "        border-radius: 50%;\n",
              "        cursor: pointer;\n",
              "        display: none;\n",
              "        fill: #1967D2;\n",
              "        height: 32px;\n",
              "        padding: 0 0 0 0;\n",
              "        width: 32px;\n",
              "      }\n",
              "\n",
              "      .colab-df-generate:hover {\n",
              "        background-color: #E2EBFA;\n",
              "        box-shadow: 0px 1px 2px rgba(60, 64, 67, 0.3), 0px 1px 3px 1px rgba(60, 64, 67, 0.15);\n",
              "        fill: #174EA6;\n",
              "      }\n",
              "\n",
              "      [theme=dark] .colab-df-generate {\n",
              "        background-color: #3B4455;\n",
              "        fill: #D2E3FC;\n",
              "      }\n",
              "\n",
              "      [theme=dark] .colab-df-generate:hover {\n",
              "        background-color: #434B5C;\n",
              "        box-shadow: 0px 1px 3px 1px rgba(0, 0, 0, 0.15);\n",
              "        filter: drop-shadow(0px 1px 2px rgba(0, 0, 0, 0.3));\n",
              "        fill: #FFFFFF;\n",
              "      }\n",
              "    </style>\n",
              "    <button class=\"colab-df-generate\" onclick=\"generateWithVariable('three_class_df')\"\n",
              "            title=\"Generate code using this dataframe.\"\n",
              "            style=\"display:none;\">\n",
              "\n",
              "  <svg xmlns=\"http://www.w3.org/2000/svg\" height=\"24px\"viewBox=\"0 0 24 24\"\n",
              "       width=\"24px\">\n",
              "    <path d=\"M7,19H8.4L18.45,9,17,7.55,7,17.6ZM5,21V16.75L18.45,3.32a2,2,0,0,1,2.83,0l1.4,1.43a1.91,1.91,0,0,1,.58,1.4,1.91,1.91,0,0,1-.58,1.4L9.25,21ZM18.45,9,17,7.55Zm-12,3A5.31,5.31,0,0,0,4.9,8.1,5.31,5.31,0,0,0,1,6.5,5.31,5.31,0,0,0,4.9,4.9,5.31,5.31,0,0,0,6.5,1,5.31,5.31,0,0,0,8.1,4.9,5.31,5.31,0,0,0,12,6.5,5.46,5.46,0,0,0,6.5,12Z\"/>\n",
              "  </svg>\n",
              "    </button>\n",
              "    <script>\n",
              "      (() => {\n",
              "      const buttonEl =\n",
              "        document.querySelector('#id_dc1f45f7-3b93-422f-bc15-ba5c92fc761f button.colab-df-generate');\n",
              "      buttonEl.style.display =\n",
              "        google.colab.kernel.accessAllowed ? 'block' : 'none';\n",
              "\n",
              "      buttonEl.onclick = () => {\n",
              "        google.colab.notebook.generateWithVariable('three_class_df');\n",
              "      }\n",
              "      })();\n",
              "    </script>\n",
              "  </div>\n",
              "\n",
              "    </div>\n",
              "  </div>\n"
            ]
          },
          "metadata": {},
          "execution_count": 20
        }
      ]
    },
    {
      "cell_type": "code",
      "source": [
        "values, counts = np.unique(three_class_df['sentiment'], return_counts=True)\n",
        "normalized_counts = counts/counts.sum()\n",
        "\n",
        "plt.figure()\n",
        "plt.bar([\"Negative\", \"Neutral\",\"Positive\"], normalized_counts*100) # plot normalized counts\n",
        "plt.xlabel('Review Sentiment')\n",
        "plt.ylabel('% of Reviews')\n",
        "plt.show()\n",
        "\n",
        "print(f\"Class imbalance: {np.round(normalized_counts, 2)}\")"
      ],
      "metadata": {
        "colab": {
          "base_uri": "https://localhost:8080/",
          "height": 462
        },
        "id": "BzOeV2ZQb2Kg",
        "outputId": "adf8271f-c59f-472d-9b55-43888d132422"
      },
      "id": "BzOeV2ZQb2Kg",
      "execution_count": null,
      "outputs": [
        {
          "output_type": "display_data",
          "data": {
            "text/plain": [
              "<Figure size 640x480 with 1 Axes>"
            ],
            "image/png": "[encoded data removed]"
          },
          "metadata": {}
        },
        {
          "output_type": "stream",
          "name": "stdout",
          "text": [
            "Class imbalance: [0.12 0.28 0.6 ]\n"
          ]
        }
      ]
    },
    {
      "cell_type": "markdown",
      "source": [
        "This is still pretty biased, and not an accurate division between the three classifications.\n",
        "\n",
        "Refer to the appendix for steps taken to address this inbalance.  "
      ],
      "metadata": {
        "id": "ATqyxHeYdROv"
      },
      "id": "ATqyxHeYdROv"
    },
    {
      "cell_type": "markdown",
      "id": "a8633253",
      "metadata": {
        "id": "a8633253"
      },
      "source": [
        "# Preprocessing"
      ]
    },
    {
      "cell_type": "markdown",
      "source": [
        "For the sake of processing power, only a sample of the data as shown in the code below, will be selected. This number was increased as much as possible using Google Colab's CPU. Seeing as my terminal shuts down as soon as each Vectorizer is completed, I will elect to save the `review` column's preprocessing as a CSV for efficiency."
      ],
      "metadata": {
        "id": "IBBBzLKCwH-T"
      },
      "id": "IBBBzLKCwH-T"
    },
    {
      "cell_type": "code",
      "execution_count": 97,
      "id": "4d4dd15e",
      "metadata": {
        "id": "4d4dd15e",
        "colab": {
          "base_uri": "https://localhost:8080/",
          "height": 1000
        },
        "outputId": "572d5f62-d361-4957-f81a-2af78b29c269"
      },
      "outputs": [
        {
          "output_type": "execute_result",
          "data": {
            "text/plain": [
              "                 Id                                              Title  \\\n",
              "2476676  096406054X  Mouse Tales: A Behind-the-Ears Look at Disneyl...   \n",
              "2941482  B000MC7FBS                                  WAR AS I KNEW IT.   \n",
              "141151   B000KIT9U4  The Shelters Of Stone - The Earth's Children S...   \n",
              "2153415  B000KAFUP0          The Clear and Simple Thesaurus Dictionary   \n",
              "2853977  1590591518               Learn to Program with Visual Basic 6   \n",
              "...             ...                                                ...   \n",
              "2173289  1413715230  Sunny, Ward of the State: Calamity Strikes a F...   \n",
              "1677085  0786282029                                   S Is For Silence   \n",
              "871374   B0006E2W9M  The grapes of wrath (The Collector's library o...   \n",
              "2461625  1570424713  Selling the Invisible: A Field Guide to Modern...   \n",
              "2263646  0915643030                          Riders of the Purple Sage   \n",
              "\n",
              "                User_id                                     profileName  \\\n",
              "2476676   A89Y6WZKEP069                              Jewelz- Theo's Mom   \n",
              "2941482  A3KFFGZCE3R836                                   Steven Patton   \n",
              "141151    A5XSPTAK24CDZ                                         HannahR   \n",
              "2153415   AFHYEO3Y1IIDD                               maximum verbosity   \n",
              "2853977  A12KQ3ZZO00ZBX                                     K. Schaller   \n",
              "...                 ...                                             ...   \n",
              "2173289  A1X0J509VGPTKA                                  SwitzerlandBob   \n",
              "1677085   AGJR0N9LE9MYU                                        Vidagray   \n",
              "871374          unknown                                         unknown   \n",
              "2461625   AFUSHCALNDGJJ                               Leonard \"Leonard\"   \n",
              "2263646  A2156S1GQEU0L4  Charles Wheeler \"Traditional Westerns Forever\"   \n",
              "\n",
              "         review_score                                review_summary  \\\n",
              "2476676             2  Caution: You may lose a bit of the magic....   \n",
              "2941482             5                             War as I knew it.   \n",
              "141151              1                                  Puh-leese...   \n",
              "2153415             5      Different than expected, but still happy   \n",
              "2853977             4                  Effective teaching technique   \n",
              "...               ...                                           ...   \n",
              "2173289             5    This book brought back memories for my Dad   \n",
              "1677085             5                            \"S\" is for Silence   \n",
              "871374              5      Get off Steinbeck, he's the the man, ...   \n",
              "2461625             5      An unassuming charming book, I loved it!   \n",
              "2263646             5            The Best There Is In The \"Western\"   \n",
              "\n",
              "                                                    review  \\\n",
              "2476676  This is a very well written book about the inn...   \n",
              "2941482  Fantastic! Wish we had a leader such as him to...   \n",
              "141151   ...hindsight being 20/20, I would have wished ...   \n",
              "2153415  I thought this book was for a little bit young...   \n",
              "2853977  Mr. Smiley uses the approach of solving real-w...   \n",
              "...                                                    ...   \n",
              "2173289  My Dad Bob Richartz grew up at Leake & Watts i...   \n",
              "1677085  Sue Grafton writes a good mystery. I love them...   \n",
              "871374   The Grapes of Wrath was a great book filled wi...   \n",
              "2461625  I started reading it and couldn't put it down....   \n",
              "2263646  What can one say about \"Riders of the Purple S...   \n",
              "\n",
              "                                  authors  publishedDate  \\\n",
              "2476676                      David Koenig         2005.0   \n",
              "2941482               George Smith Patton         1980.0   \n",
              "141151                       Jean M. Auel         2002.0   \n",
              "2153415  Harriet Wittels', 'Joan Greisman         2006.0   \n",
              "2853977                       John Smiley         2003.0   \n",
              "...                                   ...            ...   \n",
              "2173289               Sonja Heinze Coryat         2004.0   \n",
              "1677085                       Sue Grafton         2009.0   \n",
              "871374                Library of Congress         1981.0   \n",
              "2461625                    Harry Beckwith         2000.0   \n",
              "2263646                         Zane Grey         2022.0   \n",
              "\n",
              "                        categories  \n",
              "2476676  Biography & Autobiography  \n",
              "2941482                   Generals  \n",
              "141151                     Fiction  \n",
              "2153415        Juvenile Nonfiction  \n",
              "2853977              uncategorized  \n",
              "...                            ...  \n",
              "2173289              uncategorized  \n",
              "1677085                    Fiction  \n",
              "871374          Monographic series  \n",
              "2461625       Business & Economics  \n",
              "2263646                    Fiction  \n",
              "\n",
              "[100000 rows x 10 columns]"
            ],
            "text/html": [
              "\n",
              "  <div id=\"df-3894209b-535a-478d-9237-a8cc055bff8d\" class=\"colab-df-container\">\n",
              "    <div>\n",
              "<style scoped>\n",
              "    .dataframe tbody tr th:only-of-type {\n",
              "        vertical-align: middle;\n",
              "    }\n",
              "\n",
              "    .dataframe tbody tr th {\n",
              "        vertical-align: top;\n",
              "    }\n",
              "\n",
              "    .dataframe thead th {\n",
              "        text-align: right;\n",
              "    }\n",
              "</style>\n",
              "<table border=\"1\" class=\"dataframe\">\n",
              "  <thead>\n",
              "    <tr style=\"text-align: right;\">\n",
              "      <th></th>\n",
              "      <th>Id</th>\n",
              "      <th>Title</th>\n",
              "      <th>User_id</th>\n",
              "      <th>profileName</th>\n",
              "      <th>review_score</th>\n",
              "      <th>review_summary</th>\n",
              "      <th>review</th>\n",
              "      <th>authors</th>\n",
              "      <th>publishedDate</th>\n",
              "      <th>categories</th>\n",
              "    </tr>\n",
              "  </thead>\n",
              "  <tbody>\n",
              "    <tr>\n",
              "      <th>2476676</th>\n",
              "      <td>096406054X</td>\n",
              "      <td>Mouse Tales: A Behind-the-Ears Look at Disneyl...</td>\n",
              "      <td>A89Y6WZKEP069</td>\n",
              "      <td>Jewelz- Theo's Mom</td>\n",
              "      <td>2</td>\n",
              "      <td>Caution: You may lose a bit of the magic....</td>\n",
              "      <td>This is a very well written book about the inn...</td>\n",
              "      <td>David Koenig</td>\n",
              "      <td>2005.0</td>\n",
              "      <td>Biography &amp; Autobiography</td>\n",
              "    </tr>\n",
              "    <tr>\n",
              "      <th>2941482</th>\n",
              "      <td>B000MC7FBS</td>\n",
              "      <td>WAR AS I KNEW IT.</td>\n",
              "      <td>A3KFFGZCE3R836</td>\n",
              "      <td>Steven Patton</td>\n",
              "      <td>5</td>\n",
              "      <td>War as I knew it.</td>\n",
              "      <td>Fantastic! Wish we had a leader such as him to...</td>\n",
              "      <td>George Smith Patton</td>\n",
              "      <td>1980.0</td>\n",
              "      <td>Generals</td>\n",
              "    </tr>\n",
              "    <tr>\n",
              "      <th>141151</th>\n",
              "      <td>B000KIT9U4</td>\n",
              "      <td>The Shelters Of Stone - The Earth's Children S...</td>\n",
              "      <td>A5XSPTAK24CDZ</td>\n",
              "      <td>HannahR</td>\n",
              "      <td>1</td>\n",
              "      <td>Puh-leese...</td>\n",
              "      <td>...hindsight being 20/20, I would have wished ...</td>\n",
              "      <td>Jean M. Auel</td>\n",
              "      <td>2002.0</td>\n",
              "      <td>Fiction</td>\n",
              "    </tr>\n",
              "    <tr>\n",
              "      <th>2153415</th>\n",
              "      <td>B000KAFUP0</td>\n",
              "      <td>The Clear and Simple Thesaurus Dictionary</td>\n",
              "      <td>AFHYEO3Y1IIDD</td>\n",
              "      <td>maximum verbosity</td>\n",
              "      <td>5</td>\n",
              "      <td>Different than expected, but still happy</td>\n",
              "      <td>I thought this book was for a little bit young...</td>\n",
              "      <td>Harriet Wittels', 'Joan Greisman</td>\n",
              "      <td>2006.0</td>\n",
              "      <td>Juvenile Nonfiction</td>\n",
              "    </tr>\n",
              "    <tr>\n",
              "      <th>2853977</th>\n",
              "      <td>1590591518</td>\n",
              "      <td>Learn to Program with Visual Basic 6</td>\n",
              "      <td>A12KQ3ZZO00ZBX</td>\n",
              "      <td>K. Schaller</td>\n",
              "      <td>4</td>\n",
              "      <td>Effective teaching technique</td>\n",
              "      <td>Mr. Smiley uses the approach of solving real-w...</td>\n",
              "      <td>John Smiley</td>\n",
              "      <td>2003.0</td>\n",
              "      <td>uncategorized</td>\n",
              "    </tr>\n",
              "    <tr>\n",
              "      <th>...</th>\n",
              "      <td>...</td>\n",
              "      <td>...</td>\n",
              "      <td>...</td>\n",
              "      <td>...</td>\n",
              "      <td>...</td>\n",
              "      <td>...</td>\n",
              "      <td>...</td>\n",
              "      <td>...</td>\n",
              "      <td>...</td>\n",
              "      <td>...</td>\n",
              "    </tr>\n",
              "    <tr>\n",
              "      <th>2173289</th>\n",
              "      <td>1413715230</td>\n",
              "      <td>Sunny, Ward of the State: Calamity Strikes a F...</td>\n",
              "      <td>A1X0J509VGPTKA</td>\n",
              "      <td>SwitzerlandBob</td>\n",
              "      <td>5</td>\n",
              "      <td>This book brought back memories for my Dad</td>\n",
              "      <td>My Dad Bob Richartz grew up at Leake &amp; Watts i...</td>\n",
              "      <td>Sonja Heinze Coryat</td>\n",
              "      <td>2004.0</td>\n",
              "      <td>uncategorized</td>\n",
              "    </tr>\n",
              "    <tr>\n",
              "      <th>1677085</th>\n",
              "      <td>0786282029</td>\n",
              "      <td>S Is For Silence</td>\n",
              "      <td>AGJR0N9LE9MYU</td>\n",
              "      <td>Vidagray</td>\n",
              "      <td>5</td>\n",
              "      <td>\"S\" is for Silence</td>\n",
              "      <td>Sue Grafton writes a good mystery. I love them...</td>\n",
              "      <td>Sue Grafton</td>\n",
              "      <td>2009.0</td>\n",
              "      <td>Fiction</td>\n",
              "    </tr>\n",
              "    <tr>\n",
              "      <th>871374</th>\n",
              "      <td>B0006E2W9M</td>\n",
              "      <td>The grapes of wrath (The Collector's library o...</td>\n",
              "      <td>unknown</td>\n",
              "      <td>unknown</td>\n",
              "      <td>5</td>\n",
              "      <td>Get off Steinbeck, he's the the man, ...</td>\n",
              "      <td>The Grapes of Wrath was a great book filled wi...</td>\n",
              "      <td>Library of Congress</td>\n",
              "      <td>1981.0</td>\n",
              "      <td>Monographic series</td>\n",
              "    </tr>\n",
              "    <tr>\n",
              "      <th>2461625</th>\n",
              "      <td>1570424713</td>\n",
              "      <td>Selling the Invisible: A Field Guide to Modern...</td>\n",
              "      <td>AFUSHCALNDGJJ</td>\n",
              "      <td>Leonard \"Leonard\"</td>\n",
              "      <td>5</td>\n",
              "      <td>An unassuming charming book, I loved it!</td>\n",
              "      <td>I started reading it and couldn't put it down....</td>\n",
              "      <td>Harry Beckwith</td>\n",
              "      <td>2000.0</td>\n",
              "      <td>Business &amp; Economics</td>\n",
              "    </tr>\n",
              "    <tr>\n",
              "      <th>2263646</th>\n",
              "      <td>0915643030</td>\n",
              "      <td>Riders of the Purple Sage</td>\n",
              "      <td>A2156S1GQEU0L4</td>\n",
              "      <td>Charles Wheeler \"Traditional Westerns Forever\"</td>\n",
              "      <td>5</td>\n",
              "      <td>The Best There Is In The \"Western\"</td>\n",
              "      <td>What can one say about \"Riders of the Purple S...</td>\n",
              "      <td>Zane Grey</td>\n",
              "      <td>2022.0</td>\n",
              "      <td>Fiction</td>\n",
              "    </tr>\n",
              "  </tbody>\n",
              "</table>\n",
              "<p>100000 rows × 10 columns</p>\n",
              "</div>\n",
              "    <div class=\"colab-df-buttons\">\n",
              "\n",
              "  <div class=\"colab-df-container\">\n",
              "    <button class=\"colab-df-convert\" onclick=\"convertToInteractive('df-3894209b-535a-478d-9237-a8cc055bff8d')\"\n",
              "            title=\"Convert this dataframe to an interactive table.\"\n",
              "            style=\"display:none;\">\n",
              "\n",
              "  <svg xmlns=\"http://www.w3.org/2000/svg\" height=\"24px\" viewBox=\"0 -960 960 960\">\n",
              "    <path d=\"M120-120v-720h720v720H120Zm60-500h600v-160H180v160Zm220 220h160v-160H400v160Zm0 220h160v-160H400v160ZM180-400h160v-160H180v160Zm440 0h160v-160H620v160ZM180-180h160v-160H180v160Zm440 0h160v-160H620v160Z\"/>\n",
              "  </svg>\n",
              "    </button>\n",
              "\n",
              "  <style>\n",
              "    .colab-df-container {\n",
              "      display:flex;\n",
              "      gap: 12px;\n",
              "    }\n",
              "\n",
              "    .colab-df-convert {\n",
              "      background-color: #E8F0FE;\n",
              "      border: none;\n",
              "      border-radius: 50%;\n",
              "      cursor: pointer;\n",
              "      display: none;\n",
              "      fill: #1967D2;\n",
              "      height: 32px;\n",
              "      padding: 0 0 0 0;\n",
              "      width: 32px;\n",
              "    }\n",
              "\n",
              "    .colab-df-convert:hover {\n",
              "      background-color: #E2EBFA;\n",
              "      box-shadow: 0px 1px 2px rgba(60, 64, 67, 0.3), 0px 1px 3px 1px rgba(60, 64, 67, 0.15);\n",
              "      fill: #174EA6;\n",
              "    }\n",
              "\n",
              "    .colab-df-buttons div {\n",
              "      margin-bottom: 4px;\n",
              "    }\n",
              "\n",
              "    [theme=dark] .colab-df-convert {\n",
              "      background-color: #3B4455;\n",
              "      fill: #D2E3FC;\n",
              "    }\n",
              "\n",
              "    [theme=dark] .colab-df-convert:hover {\n",
              "      background-color: #434B5C;\n",
              "      box-shadow: 0px 1px 3px 1px rgba(0, 0, 0, 0.15);\n",
              "      filter: drop-shadow(0px 1px 2px rgba(0, 0, 0, 0.3));\n",
              "      fill: #FFFFFF;\n",
              "    }\n",
              "  </style>\n",
              "\n",
              "    <script>\n",
              "      const buttonEl =\n",
              "        document.querySelector('#df-3894209b-535a-478d-9237-a8cc055bff8d button.colab-df-convert');\n",
              "      buttonEl.style.display =\n",
              "        google.colab.kernel.accessAllowed ? 'block' : 'none';\n",
              "\n",
              "      async function convertToInteractive(key) {\n",
              "        const element = document.querySelector('#df-3894209b-535a-478d-9237-a8cc055bff8d');\n",
              "        const dataTable =\n",
              "          await google.colab.kernel.invokeFunction('convertToInteractive',\n",
              "                                                    [key], {});\n",
              "        if (!dataTable) return;\n",
              "\n",
              "        const docLinkHtml = 'Like what you see? Visit the ' +\n",
              "          '<a target=\"_blank\" href=https://colab.research.google.com/notebooks/data_table.ipynb>data table notebook</a>'\n",
              "          + ' to learn more about interactive tables.';\n",
              "        element.innerHTML = '';\n",
              "        dataTable['output_type'] = 'display_data';\n",
              "        await google.colab.output.renderOutput(dataTable, element);\n",
              "        const docLink = document.createElement('div');\n",
              "        docLink.innerHTML = docLinkHtml;\n",
              "        element.appendChild(docLink);\n",
              "      }\n",
              "    </script>\n",
              "  </div>\n",
              "\n",
              "\n",
              "<div id=\"df-7df03eb8-cf3d-49d2-a05f-db02f2941d45\">\n",
              "  <button class=\"colab-df-quickchart\" onclick=\"quickchart('df-7df03eb8-cf3d-49d2-a05f-db02f2941d45')\"\n",
              "            title=\"Suggest charts\"\n",
              "            style=\"display:none;\">\n",
              "\n",
              "<svg xmlns=\"http://www.w3.org/2000/svg\" height=\"24px\"viewBox=\"0 0 24 24\"\n",
              "     width=\"24px\">\n",
              "    <g>\n",
              "        <path d=\"M19 3H5c-1.1 0-2 .9-2 2v14c0 1.1.9 2 2 2h14c1.1 0 2-.9 2-2V5c0-1.1-.9-2-2-2zM9 17H7v-7h2v7zm4 0h-2V7h2v10zm4 0h-2v-4h2v4z\"/>\n",
              "    </g>\n",
              "</svg>\n",
              "  </button>\n",
              "\n",
              "<style>\n",
              "  .colab-df-quickchart {\n",
              "      --bg-color: #E8F0FE;\n",
              "      --fill-color: #1967D2;\n",
              "      --hover-bg-color: #E2EBFA;\n",
              "      --hover-fill-color: #174EA6;\n",
              "      --disabled-fill-color: #AAA;\n",
              "      --disabled-bg-color: #DDD;\n",
              "  }\n",
              "\n",
              "  [theme=dark] .colab-df-quickchart {\n",
              "      --bg-color: #3B4455;\n",
              "      --fill-color: #D2E3FC;\n",
              "      --hover-bg-color: #434B5C;\n",
              "      --hover-fill-color: #FFFFFF;\n",
              "      --disabled-bg-color: #3B4455;\n",
              "      --disabled-fill-color: #666;\n",
              "  }\n",
              "\n",
              "  .colab-df-quickchart {\n",
              "    background-color: var(--bg-color);\n",
              "    border: none;\n",
              "    border-radius: 50%;\n",
              "    cursor: pointer;\n",
              "    display: none;\n",
              "    fill: var(--fill-color);\n",
              "    height: 32px;\n",
              "    padding: 0;\n",
              "    width: 32px;\n",
              "  }\n",
              "\n",
              "  .colab-df-quickchart:hover {\n",
              "    background-color: var(--hover-bg-color);\n",
              "    box-shadow: 0 1px 2px rgba(60, 64, 67, 0.3), 0 1px 3px 1px rgba(60, 64, 67, 0.15);\n",
              "    fill: var(--button-hover-fill-color);\n",
              "  }\n",
              "\n",
              "  .colab-df-quickchart-complete:disabled,\n",
              "  .colab-df-quickchart-complete:disabled:hover {\n",
              "    background-color: var(--disabled-bg-color);\n",
              "    fill: var(--disabled-fill-color);\n",
              "    box-shadow: none;\n",
              "  }\n",
              "\n",
              "  .colab-df-spinner {\n",
              "    border: 2px solid var(--fill-color);\n",
              "    border-color: transparent;\n",
              "    border-bottom-color: var(--fill-color);\n",
              "    animation:\n",
              "      spin 1s steps(1) infinite;\n",
              "  }\n",
              "\n",
              "  @keyframes spin {\n",
              "    0% {\n",
              "      border-color: transparent;\n",
              "      border-bottom-color: var(--fill-color);\n",
              "      border-left-color: var(--fill-color);\n",
              "    }\n",
              "    20% {\n",
              "      border-color: transparent;\n",
              "      border-left-color: var(--fill-color);\n",
              "      border-top-color: var(--fill-color);\n",
              "    }\n",
              "    30% {\n",
              "      border-color: transparent;\n",
              "      border-left-color: var(--fill-color);\n",
              "      border-top-color: var(--fill-color);\n",
              "      border-right-color: var(--fill-color);\n",
              "    }\n",
              "    40% {\n",
              "      border-color: transparent;\n",
              "      border-right-color: var(--fill-color);\n",
              "      border-top-color: var(--fill-color);\n",
              "    }\n",
              "    60% {\n",
              "      border-color: transparent;\n",
              "      border-right-color: var(--fill-color);\n",
              "    }\n",
              "    80% {\n",
              "      border-color: transparent;\n",
              "      border-right-color: var(--fill-color);\n",
              "      border-bottom-color: var(--fill-color);\n",
              "    }\n",
              "    90% {\n",
              "      border-color: transparent;\n",
              "      border-bottom-color: var(--fill-color);\n",
              "    }\n",
              "  }\n",
              "</style>\n",
              "\n",
              "  <script>\n",
              "    async function quickchart(key) {\n",
              "      const quickchartButtonEl =\n",
              "        document.querySelector('#' + key + ' button');\n",
              "      quickchartButtonEl.disabled = true;  // To prevent multiple clicks.\n",
              "      quickchartButtonEl.classList.add('colab-df-spinner');\n",
              "      try {\n",
              "        const charts = await google.colab.kernel.invokeFunction(\n",
              "            'suggestCharts', [key], {});\n",
              "      } catch (error) {\n",
              "        console.error('Error during call to suggestCharts:', error);\n",
              "      }\n",
              "      quickchartButtonEl.classList.remove('colab-df-spinner');\n",
              "      quickchartButtonEl.classList.add('colab-df-quickchart-complete');\n",
              "    }\n",
              "    (() => {\n",
              "      let quickchartButtonEl =\n",
              "        document.querySelector('#df-7df03eb8-cf3d-49d2-a05f-db02f2941d45 button');\n",
              "      quickchartButtonEl.style.display =\n",
              "        google.colab.kernel.accessAllowed ? 'block' : 'none';\n",
              "    })();\n",
              "  </script>\n",
              "</div>\n",
              "\n",
              "  <div id=\"id_9fd0a59b-5a9c-4fa6-b86c-5b0e908de179\">\n",
              "    <style>\n",
              "      .colab-df-generate {\n",
              "        background-color: #E8F0FE;\n",
              "        border: none;\n",
              "        border-radius: 50%;\n",
              "        cursor: pointer;\n",
              "        display: none;\n",
              "        fill: #1967D2;\n",
              "        height: 32px;\n",
              "        padding: 0 0 0 0;\n",
              "        width: 32px;\n",
              "      }\n",
              "\n",
              "      .colab-df-generate:hover {\n",
              "        background-color: #E2EBFA;\n",
              "        box-shadow: 0px 1px 2px rgba(60, 64, 67, 0.3), 0px 1px 3px 1px rgba(60, 64, 67, 0.15);\n",
              "        fill: #174EA6;\n",
              "      }\n",
              "\n",
              "      [theme=dark] .colab-df-generate {\n",
              "        background-color: #3B4455;\n",
              "        fill: #D2E3FC;\n",
              "      }\n",
              "\n",
              "      [theme=dark] .colab-df-generate:hover {\n",
              "        background-color: #434B5C;\n",
              "        box-shadow: 0px 1px 3px 1px rgba(0, 0, 0, 0.15);\n",
              "        filter: drop-shadow(0px 1px 2px rgba(0, 0, 0, 0.3));\n",
              "        fill: #FFFFFF;\n",
              "      }\n",
              "    </style>\n",
              "    <button class=\"colab-df-generate\" onclick=\"generateWithVariable('modeling_df')\"\n",
              "            title=\"Generate code using this dataframe.\"\n",
              "            style=\"display:none;\">\n",
              "\n",
              "  <svg xmlns=\"http://www.w3.org/2000/svg\" height=\"24px\"viewBox=\"0 0 24 24\"\n",
              "       width=\"24px\">\n",
              "    <path d=\"M7,19H8.4L18.45,9,17,7.55,7,17.6ZM5,21V16.75L18.45,3.32a2,2,0,0,1,2.83,0l1.4,1.43a1.91,1.91,0,0,1,.58,1.4,1.91,1.91,0,0,1-.58,1.4L9.25,21ZM18.45,9,17,7.55Zm-12,3A5.31,5.31,0,0,0,4.9,8.1,5.31,5.31,0,0,0,1,6.5,5.31,5.31,0,0,0,4.9,4.9,5.31,5.31,0,0,0,6.5,1,5.31,5.31,0,0,0,8.1,4.9,5.31,5.31,0,0,0,12,6.5,5.46,5.46,0,0,0,6.5,12Z\"/>\n",
              "  </svg>\n",
              "    </button>\n",
              "    <script>\n",
              "      (() => {\n",
              "      const buttonEl =\n",
              "        document.querySelector('#id_9fd0a59b-5a9c-4fa6-b86c-5b0e908de179 button.colab-df-generate');\n",
              "      buttonEl.style.display =\n",
              "        google.colab.kernel.accessAllowed ? 'block' : 'none';\n",
              "\n",
              "      buttonEl.onclick = () => {\n",
              "        google.colab.notebook.generateWithVariable('modeling_df');\n",
              "      }\n",
              "      })();\n",
              "    </script>\n",
              "  </div>\n",
              "\n",
              "    </div>\n",
              "  </div>\n"
            ]
          },
          "metadata": {},
          "execution_count": 97
        }
      ],
      "source": [
        "#Which is my current  working dataframe?\n",
        "modeling_df = data.sample(n=100000, random_state=18)\n",
        "modeling_df"
      ]
    },
    {
      "cell_type": "code",
      "source": [
        "X = modeling_df[['Title','User_id', 'review']]\n",
        "y = modeling_df['review_score']"
      ],
      "metadata": {
        "id": "Jivbf9RVkw0-"
      },
      "id": "Jivbf9RVkw0-",
      "execution_count": 98,
      "outputs": []
    },
    {
      "cell_type": "code",
      "source": [
        "modeling_df_modified = data_with_clean_text_col.sample(n=10000, random_state=18)\n",
        "modeling_df_modified.head(2)"
      ],
      "metadata": {
        "colab": {
          "base_uri": "https://localhost:8080/",
          "height": 193
        },
        "id": "sy9luWnQwTPr",
        "outputId": "5601d19b-9b50-4525-bf8d-8401854e637e"
      },
      "id": "sy9luWnQwTPr",
      "execution_count": 80,
      "outputs": [
        {
          "output_type": "error",
          "ename": "NameError",
          "evalue": "name 'data_with_clean_text_col' is not defined",
          "traceback": [
            "\u001b[0;31m---------------------------------------------------------------------------\u001b[0m",
            "\u001b[0;31mNameError\u001b[0m                                 Traceback (most recent call last)",
            "\u001b[0;32m<ipython-input-80-ea086febac1f>\u001b[0m in \u001b[0;36m<cell line: 1>\u001b[0;34m()\u001b[0m\n\u001b[0;32m----> 1\u001b[0;31m \u001b[0mmodeling_df_modified\u001b[0m \u001b[0;34m=\u001b[0m \u001b[0mdata_with_clean_text_col\u001b[0m\u001b[0;34m.\u001b[0m\u001b[0msample\u001b[0m\u001b[0;34m(\u001b[0m\u001b[0mn\u001b[0m\u001b[0;34m=\u001b[0m\u001b[0;36m10000\u001b[0m\u001b[0;34m,\u001b[0m \u001b[0mrandom_state\u001b[0m\u001b[0;34m=\u001b[0m\u001b[0;36m18\u001b[0m\u001b[0;34m)\u001b[0m\u001b[0;34m\u001b[0m\u001b[0;34m\u001b[0m\u001b[0m\n\u001b[0m\u001b[1;32m      2\u001b[0m \u001b[0mmodeling_df_modified\u001b[0m\u001b[0;34m.\u001b[0m\u001b[0mhead\u001b[0m\u001b[0;34m(\u001b[0m\u001b[0;36m2\u001b[0m\u001b[0;34m)\u001b[0m\u001b[0;34m\u001b[0m\u001b[0;34m\u001b[0m\u001b[0m\n",
            "\u001b[0;31mNameError\u001b[0m: name 'data_with_clean_text_col' is not defined"
          ]
        }
      ]
    },
    {
      "cell_type": "code",
      "execution_count": 99,
      "id": "9126070f",
      "metadata": {
        "id": "9126070f",
        "colab": {
          "base_uri": "https://localhost:8080/",
          "height": 193
        },
        "outputId": "b9dbd197-9df3-4868-d50a-f6ac390d3ebc"
      },
      "outputs": [
        {
          "output_type": "error",
          "ename": "NameError",
          "evalue": "name 'modeling_df_modified' is not defined",
          "traceback": [
            "\u001b[0;31m---------------------------------------------------------------------------\u001b[0m",
            "\u001b[0;31mNameError\u001b[0m                                 Traceback (most recent call last)",
            "\u001b[0;32m<ipython-input-99-09f4c190f327>\u001b[0m in \u001b[0;36m<cell line: 1>\u001b[0;34m()\u001b[0m\n\u001b[0;32m----> 1\u001b[0;31m \u001b[0mX\u001b[0m \u001b[0;34m=\u001b[0m \u001b[0mmodeling_df_modified\u001b[0m\u001b[0;34m[\u001b[0m\u001b[0;34m[\u001b[0m\u001b[0;34m'Title'\u001b[0m\u001b[0;34m,\u001b[0m\u001b[0;34m'User_id'\u001b[0m\u001b[0;34m,\u001b[0m \u001b[0;34m'clean_review'\u001b[0m\u001b[0;34m]\u001b[0m\u001b[0;34m]\u001b[0m\u001b[0;34m\u001b[0m\u001b[0;34m\u001b[0m\u001b[0m\n\u001b[0m\u001b[1;32m      2\u001b[0m \u001b[0my\u001b[0m \u001b[0;34m=\u001b[0m \u001b[0mmodeling_df_modified\u001b[0m\u001b[0;34m[\u001b[0m\u001b[0;34m'review_score'\u001b[0m\u001b[0;34m]\u001b[0m\u001b[0;34m\u001b[0m\u001b[0;34m\u001b[0m\u001b[0m\n",
            "\u001b[0;31mNameError\u001b[0m: name 'modeling_df_modified' is not defined"
          ]
        }
      ],
      "source": [
        "X = modeling_df_modified[['Title','User_id', 'clean_review']]\n",
        "y = modeling_df_modified['review_score']"
      ]
    },
    {
      "cell_type": "code",
      "execution_count": 100,
      "id": "1daef384",
      "metadata": {
        "id": "1daef384"
      },
      "outputs": [],
      "source": [
        "# splitting our data into train and test sets\n",
        "X_remainder, X_test, y_remainder, y_test = train_test_split(X, y, test_size=0.33, random_state=18, stratify=y)\n",
        "# 10 secs\n",
        "# split train into train validation sets\n",
        "X_train, X_val, y_train, y_val = train_test_split(X_remainder, y_remainder, test_size=0.3, random_state=18)"
      ]
    },
    {
      "cell_type": "code",
      "source": [
        "X_train.head(2)"
      ],
      "metadata": {
        "id": "lgOmjT1Z9-uz",
        "outputId": "4c04c2db-93ac-4c5d-c3f5-b5ef0b1e6bb9",
        "colab": {
          "base_uri": "https://localhost:8080/",
          "height": 423
        }
      },
      "id": "lgOmjT1Z9-uz",
      "execution_count": null,
      "outputs": [
        {
          "output_type": "execute_result",
          "data": {
            "text/plain": [
              "                                                     Title         User_id  \\\n",
              "2581705  Owl Babies (Turtleback School & Library Bindin...   A55N8FQKPV7OW   \n",
              "1666935                     Desire Never Dies (Lady Spies)  A1AKQ1YUS4BT82   \n",
              "1122302           Vom Winde Verweht ( Gone With the Wind )   AQ1VC36EGABK5   \n",
              "2439415  Lockout: Why America Keeps Getting Immigration...  A2MB8VQSTCA7M0   \n",
              "836595                                    Abandoned Prayer  A1WIB83YCTO2R4   \n",
              "...                                                    ...             ...   \n",
              "2982527                                      Dry: A Memoir         unknown   \n",
              "1335314            Lydia Cassatt Reading the Morning Paper  A1AB7XM279L10G   \n",
              "667809                                            Red Tent   APIBA50XRYCUH   \n",
              "2658559            The Lord of the Rings Trilogy 3 Volumes  A2P7YA6JMPBIIT   \n",
              "645730    New Spaces, Old World Charm (Elements of Living)  A3FOYTR677OWGW   \n",
              "\n",
              "                                              clean_review  \n",
              "2581705  funny little poor little bill clearly littlest...  \n",
              "1666935  first chapter hooked continued slowly lost int...  \n",
              "1122302  love well known beautiful want great romance w...  \n",
              "2439415  michele wucker show u yet analyze complicated ...  \n",
              "836595   avid reader true crime boring almost gave many...  \n",
              "...                                                    ...  \n",
              "2982527  run buy minute finished quotrunning scissorsqu...  \n",
              "1335314  artist especially enjoyed description process ...  \n",
              "667809   one among thousandthe well written qualm femal...  \n",
              "2658559  man best ever written worldyou hear older stil...  \n",
              "645730   wife process redecorating house friend slipped...  \n",
              "\n",
              "[9380 rows x 3 columns]"
            ],
            "text/html": [
              "\n",
              "  <div id=\"df-e3a893c4-067d-4bb8-8a59-b81003ef0f30\" class=\"colab-df-container\">\n",
              "    <div>\n",
              "<style scoped>\n",
              "    .dataframe tbody tr th:only-of-type {\n",
              "        vertical-align: middle;\n",
              "    }\n",
              "\n",
              "    .dataframe tbody tr th {\n",
              "        vertical-align: top;\n",
              "    }\n",
              "\n",
              "    .dataframe thead th {\n",
              "        text-align: right;\n",
              "    }\n",
              "</style>\n",
              "<table border=\"1\" class=\"dataframe\">\n",
              "  <thead>\n",
              "    <tr style=\"text-align: right;\">\n",
              "      <th></th>\n",
              "      <th>Title</th>\n",
              "      <th>User_id</th>\n",
              "      <th>clean_review</th>\n",
              "    </tr>\n",
              "  </thead>\n",
              "  <tbody>\n",
              "    <tr>\n",
              "      <th>2581705</th>\n",
              "      <td>Owl Babies (Turtleback School &amp; Library Bindin...</td>\n",
              "      <td>A55N8FQKPV7OW</td>\n",
              "      <td>funny little poor little bill clearly littlest...</td>\n",
              "    </tr>\n",
              "    <tr>\n",
              "      <th>1666935</th>\n",
              "      <td>Desire Never Dies (Lady Spies)</td>\n",
              "      <td>A1AKQ1YUS4BT82</td>\n",
              "      <td>first chapter hooked continued slowly lost int...</td>\n",
              "    </tr>\n",
              "    <tr>\n",
              "      <th>1122302</th>\n",
              "      <td>Vom Winde Verweht ( Gone With the Wind )</td>\n",
              "      <td>AQ1VC36EGABK5</td>\n",
              "      <td>love well known beautiful want great romance w...</td>\n",
              "    </tr>\n",
              "    <tr>\n",
              "      <th>2439415</th>\n",
              "      <td>Lockout: Why America Keeps Getting Immigration...</td>\n",
              "      <td>A2MB8VQSTCA7M0</td>\n",
              "      <td>michele wucker show u yet analyze complicated ...</td>\n",
              "    </tr>\n",
              "    <tr>\n",
              "      <th>836595</th>\n",
              "      <td>Abandoned Prayer</td>\n",
              "      <td>A1WIB83YCTO2R4</td>\n",
              "      <td>avid reader true crime boring almost gave many...</td>\n",
              "    </tr>\n",
              "    <tr>\n",
              "      <th>...</th>\n",
              "      <td>...</td>\n",
              "      <td>...</td>\n",
              "      <td>...</td>\n",
              "    </tr>\n",
              "    <tr>\n",
              "      <th>2982527</th>\n",
              "      <td>Dry: A Memoir</td>\n",
              "      <td>unknown</td>\n",
              "      <td>run buy minute finished quotrunning scissorsqu...</td>\n",
              "    </tr>\n",
              "    <tr>\n",
              "      <th>1335314</th>\n",
              "      <td>Lydia Cassatt Reading the Morning Paper</td>\n",
              "      <td>A1AB7XM279L10G</td>\n",
              "      <td>artist especially enjoyed description process ...</td>\n",
              "    </tr>\n",
              "    <tr>\n",
              "      <th>667809</th>\n",
              "      <td>Red Tent</td>\n",
              "      <td>APIBA50XRYCUH</td>\n",
              "      <td>one among thousandthe well written qualm femal...</td>\n",
              "    </tr>\n",
              "    <tr>\n",
              "      <th>2658559</th>\n",
              "      <td>The Lord of the Rings Trilogy 3 Volumes</td>\n",
              "      <td>A2P7YA6JMPBIIT</td>\n",
              "      <td>man best ever written worldyou hear older stil...</td>\n",
              "    </tr>\n",
              "    <tr>\n",
              "      <th>645730</th>\n",
              "      <td>New Spaces, Old World Charm (Elements of Living)</td>\n",
              "      <td>A3FOYTR677OWGW</td>\n",
              "      <td>wife process redecorating house friend slipped...</td>\n",
              "    </tr>\n",
              "  </tbody>\n",
              "</table>\n",
              "<p>9380 rows × 3 columns</p>\n",
              "</div>\n",
              "    <div class=\"colab-df-buttons\">\n",
              "\n",
              "  <div class=\"colab-df-container\">\n",
              "    <button class=\"colab-df-convert\" onclick=\"convertToInteractive('df-e3a893c4-067d-4bb8-8a59-b81003ef0f30')\"\n",
              "            title=\"Convert this dataframe to an interactive table.\"\n",
              "            style=\"display:none;\">\n",
              "\n",
              "  <svg xmlns=\"http://www.w3.org/2000/svg\" height=\"24px\" viewBox=\"0 -960 960 960\">\n",
              "    <path d=\"M120-120v-720h720v720H120Zm60-500h600v-160H180v160Zm220 220h160v-160H400v160Zm0 220h160v-160H400v160ZM180-400h160v-160H180v160Zm440 0h160v-160H620v160ZM180-180h160v-160H180v160Zm440 0h160v-160H620v160Z\"/>\n",
              "  </svg>\n",
              "    </button>\n",
              "\n",
              "  <style>\n",
              "    .colab-df-container {\n",
              "      display:flex;\n",
              "      gap: 12px;\n",
              "    }\n",
              "\n",
              "    .colab-df-convert {\n",
              "      background-color: #E8F0FE;\n",
              "      border: none;\n",
              "      border-radius: 50%;\n",
              "      cursor: pointer;\n",
              "      display: none;\n",
              "      fill: #1967D2;\n",
              "      height: 32px;\n",
              "      padding: 0 0 0 0;\n",
              "      width: 32px;\n",
              "    }\n",
              "\n",
              "    .colab-df-convert:hover {\n",
              "      background-color: #E2EBFA;\n",
              "      box-shadow: 0px 1px 2px rgba(60, 64, 67, 0.3), 0px 1px 3px 1px rgba(60, 64, 67, 0.15);\n",
              "      fill: #174EA6;\n",
              "    }\n",
              "\n",
              "    .colab-df-buttons div {\n",
              "      margin-bottom: 4px;\n",
              "    }\n",
              "\n",
              "    [theme=dark] .colab-df-convert {\n",
              "      background-color: #3B4455;\n",
              "      fill: #D2E3FC;\n",
              "    }\n",
              "\n",
              "    [theme=dark] .colab-df-convert:hover {\n",
              "      background-color: #434B5C;\n",
              "      box-shadow: 0px 1px 3px 1px rgba(0, 0, 0, 0.15);\n",
              "      filter: drop-shadow(0px 1px 2px rgba(0, 0, 0, 0.3));\n",
              "      fill: #FFFFFF;\n",
              "    }\n",
              "  </style>\n",
              "\n",
              "    <script>\n",
              "      const buttonEl =\n",
              "        document.querySelector('#df-e3a893c4-067d-4bb8-8a59-b81003ef0f30 button.colab-df-convert');\n",
              "      buttonEl.style.display =\n",
              "        google.colab.kernel.accessAllowed ? 'block' : 'none';\n",
              "\n",
              "      async function convertToInteractive(key) {\n",
              "        const element = document.querySelector('#df-e3a893c4-067d-4bb8-8a59-b81003ef0f30');\n",
              "        const dataTable =\n",
              "          await google.colab.kernel.invokeFunction('convertToInteractive',\n",
              "                                                    [key], {});\n",
              "        if (!dataTable) return;\n",
              "\n",
              "        const docLinkHtml = 'Like what you see? Visit the ' +\n",
              "          '<a target=\"_blank\" href=https://colab.research.google.com/notebooks/data_table.ipynb>data table notebook</a>'\n",
              "          + ' to learn more about interactive tables.';\n",
              "        element.innerHTML = '';\n",
              "        dataTable['output_type'] = 'display_data';\n",
              "        await google.colab.output.renderOutput(dataTable, element);\n",
              "        const docLink = document.createElement('div');\n",
              "        docLink.innerHTML = docLinkHtml;\n",
              "        element.appendChild(docLink);\n",
              "      }\n",
              "    </script>\n",
              "  </div>\n",
              "\n",
              "\n",
              "<div id=\"df-26edf4bc-4dab-4328-acd8-59cf1d5bd210\">\n",
              "  <button class=\"colab-df-quickchart\" onclick=\"quickchart('df-26edf4bc-4dab-4328-acd8-59cf1d5bd210')\"\n",
              "            title=\"Suggest charts\"\n",
              "            style=\"display:none;\">\n",
              "\n",
              "<svg xmlns=\"http://www.w3.org/2000/svg\" height=\"24px\"viewBox=\"0 0 24 24\"\n",
              "     width=\"24px\">\n",
              "    <g>\n",
              "        <path d=\"M19 3H5c-1.1 0-2 .9-2 2v14c0 1.1.9 2 2 2h14c1.1 0 2-.9 2-2V5c0-1.1-.9-2-2-2zM9 17H7v-7h2v7zm4 0h-2V7h2v10zm4 0h-2v-4h2v4z\"/>\n",
              "    </g>\n",
              "</svg>\n",
              "  </button>\n",
              "\n",
              "<style>\n",
              "  .colab-df-quickchart {\n",
              "      --bg-color: #E8F0FE;\n",
              "      --fill-color: #1967D2;\n",
              "      --hover-bg-color: #E2EBFA;\n",
              "      --hover-fill-color: #174EA6;\n",
              "      --disabled-fill-color: #AAA;\n",
              "      --disabled-bg-color: #DDD;\n",
              "  }\n",
              "\n",
              "  [theme=dark] .colab-df-quickchart {\n",
              "      --bg-color: #3B4455;\n",
              "      --fill-color: #D2E3FC;\n",
              "      --hover-bg-color: #434B5C;\n",
              "      --hover-fill-color: #FFFFFF;\n",
              "      --disabled-bg-color: #3B4455;\n",
              "      --disabled-fill-color: #666;\n",
              "  }\n",
              "\n",
              "  .colab-df-quickchart {\n",
              "    background-color: var(--bg-color);\n",
              "    border: none;\n",
              "    border-radius: 50%;\n",
              "    cursor: pointer;\n",
              "    display: none;\n",
              "    fill: var(--fill-color);\n",
              "    height: 32px;\n",
              "    padding: 0;\n",
              "    width: 32px;\n",
              "  }\n",
              "\n",
              "  .colab-df-quickchart:hover {\n",
              "    background-color: var(--hover-bg-color);\n",
              "    box-shadow: 0 1px 2px rgba(60, 64, 67, 0.3), 0 1px 3px 1px rgba(60, 64, 67, 0.15);\n",
              "    fill: var(--button-hover-fill-color);\n",
              "  }\n",
              "\n",
              "  .colab-df-quickchart-complete:disabled,\n",
              "  .colab-df-quickchart-complete:disabled:hover {\n",
              "    background-color: var(--disabled-bg-color);\n",
              "    fill: var(--disabled-fill-color);\n",
              "    box-shadow: none;\n",
              "  }\n",
              "\n",
              "  .colab-df-spinner {\n",
              "    border: 2px solid var(--fill-color);\n",
              "    border-color: transparent;\n",
              "    border-bottom-color: var(--fill-color);\n",
              "    animation:\n",
              "      spin 1s steps(1) infinite;\n",
              "  }\n",
              "\n",
              "  @keyframes spin {\n",
              "    0% {\n",
              "      border-color: transparent;\n",
              "      border-bottom-color: var(--fill-color);\n",
              "      border-left-color: var(--fill-color);\n",
              "    }\n",
              "    20% {\n",
              "      border-color: transparent;\n",
              "      border-left-color: var(--fill-color);\n",
              "      border-top-color: var(--fill-color);\n",
              "    }\n",
              "    30% {\n",
              "      border-color: transparent;\n",
              "      border-left-color: var(--fill-color);\n",
              "      border-top-color: var(--fill-color);\n",
              "      border-right-color: var(--fill-color);\n",
              "    }\n",
              "    40% {\n",
              "      border-color: transparent;\n",
              "      border-right-color: var(--fill-color);\n",
              "      border-top-color: var(--fill-color);\n",
              "    }\n",
              "    60% {\n",
              "      border-color: transparent;\n",
              "      border-right-color: var(--fill-color);\n",
              "    }\n",
              "    80% {\n",
              "      border-color: transparent;\n",
              "      border-right-color: var(--fill-color);\n",
              "      border-bottom-color: var(--fill-color);\n",
              "    }\n",
              "    90% {\n",
              "      border-color: transparent;\n",
              "      border-bottom-color: var(--fill-color);\n",
              "    }\n",
              "  }\n",
              "</style>\n",
              "\n",
              "  <script>\n",
              "    async function quickchart(key) {\n",
              "      const quickchartButtonEl =\n",
              "        document.querySelector('#' + key + ' button');\n",
              "      quickchartButtonEl.disabled = true;  // To prevent multiple clicks.\n",
              "      quickchartButtonEl.classList.add('colab-df-spinner');\n",
              "      try {\n",
              "        const charts = await google.colab.kernel.invokeFunction(\n",
              "            'suggestCharts', [key], {});\n",
              "      } catch (error) {\n",
              "        console.error('Error during call to suggestCharts:', error);\n",
              "      }\n",
              "      quickchartButtonEl.classList.remove('colab-df-spinner');\n",
              "      quickchartButtonEl.classList.add('colab-df-quickchart-complete');\n",
              "    }\n",
              "    (() => {\n",
              "      let quickchartButtonEl =\n",
              "        document.querySelector('#df-26edf4bc-4dab-4328-acd8-59cf1d5bd210 button');\n",
              "      quickchartButtonEl.style.display =\n",
              "        google.colab.kernel.accessAllowed ? 'block' : 'none';\n",
              "    })();\n",
              "  </script>\n",
              "</div>\n",
              "\n",
              "  <div id=\"id_6d0887a0-ebdb-44d2-96a1-b0cec1686627\">\n",
              "    <style>\n",
              "      .colab-df-generate {\n",
              "        background-color: #E8F0FE;\n",
              "        border: none;\n",
              "        border-radius: 50%;\n",
              "        cursor: pointer;\n",
              "        display: none;\n",
              "        fill: #1967D2;\n",
              "        height: 32px;\n",
              "        padding: 0 0 0 0;\n",
              "        width: 32px;\n",
              "      }\n",
              "\n",
              "      .colab-df-generate:hover {\n",
              "        background-color: #E2EBFA;\n",
              "        box-shadow: 0px 1px 2px rgba(60, 64, 67, 0.3), 0px 1px 3px 1px rgba(60, 64, 67, 0.15);\n",
              "        fill: #174EA6;\n",
              "      }\n",
              "\n",
              "      [theme=dark] .colab-df-generate {\n",
              "        background-color: #3B4455;\n",
              "        fill: #D2E3FC;\n",
              "      }\n",
              "\n",
              "      [theme=dark] .colab-df-generate:hover {\n",
              "        background-color: #434B5C;\n",
              "        box-shadow: 0px 1px 3px 1px rgba(0, 0, 0, 0.15);\n",
              "        filter: drop-shadow(0px 1px 2px rgba(0, 0, 0, 0.3));\n",
              "        fill: #FFFFFF;\n",
              "      }\n",
              "    </style>\n",
              "    <button class=\"colab-df-generate\" onclick=\"generateWithVariable('X_train')\"\n",
              "            title=\"Generate code using this dataframe.\"\n",
              "            style=\"display:none;\">\n",
              "\n",
              "  <svg xmlns=\"http://www.w3.org/2000/svg\" height=\"24px\"viewBox=\"0 0 24 24\"\n",
              "       width=\"24px\">\n",
              "    <path d=\"M7,19H8.4L18.45,9,17,7.55,7,17.6ZM5,21V16.75L18.45,3.32a2,2,0,0,1,2.83,0l1.4,1.43a1.91,1.91,0,0,1,.58,1.4,1.91,1.91,0,0,1-.58,1.4L9.25,21ZM18.45,9,17,7.55Zm-12,3A5.31,5.31,0,0,0,4.9,8.1,5.31,5.31,0,0,0,1,6.5,5.31,5.31,0,0,0,4.9,4.9,5.31,5.31,0,0,0,6.5,1,5.31,5.31,0,0,0,8.1,4.9,5.31,5.31,0,0,0,12,6.5,5.46,5.46,0,0,0,6.5,12Z\"/>\n",
              "  </svg>\n",
              "    </button>\n",
              "    <script>\n",
              "      (() => {\n",
              "      const buttonEl =\n",
              "        document.querySelector('#id_6d0887a0-ebdb-44d2-96a1-b0cec1686627 button.colab-df-generate');\n",
              "      buttonEl.style.display =\n",
              "        google.colab.kernel.accessAllowed ? 'block' : 'none';\n",
              "\n",
              "      buttonEl.onclick = () => {\n",
              "        google.colab.notebook.generateWithVariable('X_train');\n",
              "      }\n",
              "      })();\n",
              "    </script>\n",
              "  </div>\n",
              "\n",
              "    </div>\n",
              "  </div>\n"
            ]
          },
          "metadata": {},
          "execution_count": 80
        }
      ]
    },
    {
      "cell_type": "code",
      "source": [
        "print(\"The train-test variable shapes:\")\n",
        "print(\"X_train:\",X_train.shape)\n",
        "print(\"x_val:\",X_val.shape)\n",
        "print(\"X_test:\",X_test.shape)\n",
        "print(\" \")\n",
        "print(\"y_train:\", y_train.shape)\n",
        "print(\"y_val:\", y_val.shape)\n",
        "print(\"y_test:\", y_test.shape)\n"
      ],
      "metadata": {
        "colab": {
          "base_uri": "https://localhost:8080/"
        },
        "id": "zeyDMeSAvvgE",
        "outputId": "bb55b428-35e7-41fd-9cf2-cfb16775ea2e"
      },
      "id": "zeyDMeSAvvgE",
      "execution_count": 82,
      "outputs": [
        {
          "output_type": "stream",
          "name": "stdout",
          "text": [
            "The train-test variable shapes:\n",
            "X_train: (469000, 3)\n",
            "x_val: (201000, 3)\n",
            "X_test: (330000, 3)\n",
            " \n",
            "y_train: (469000,)\n",
            "y_val: (201000,)\n",
            "y_test: (330000,)\n"
          ]
        }
      ]
    },
    {
      "cell_type": "code",
      "source": [
        "# Get the value counts of our train and test sets\n",
        "y_train_vals = y_train.value_counts()\n",
        "y_test_vals = y_test.value_counts()\n",
        "\n",
        "# Plot the distributions to check if they match the original\n",
        "fig, (ax1, ax2) = plt.subplots(1, 2, figsize=(10, 5), sharey=True)\n",
        "ax1.bar(y_train_vals.index.astype(str), y_train_vals.values/sum(y_train_vals.values))\n",
        "ax2.bar(y_test_vals.index.astype(str), y_test_vals.values/sum(y_test_vals.values))\n",
        "plt.suptitle(\"Class Distributions\")\n",
        "ax1.set_title(\"Train Set\")\n",
        "ax1.set_xlabel(\"Class\")\n",
        "ax1.set_ylabel(\"Percentage\")\n",
        "ax2.set_title(\"Test Set\")\n",
        "ax2.set_xlabel(\"Class\")\n",
        "plt.show()"
      ],
      "metadata": {
        "id": "fulEzBaP1GfE",
        "outputId": "67989248-55b8-4e37-ae95-250e252007b5",
        "colab": {
          "base_uri": "https://localhost:8080/",
          "height": 510
        }
      },
      "id": "fulEzBaP1GfE",
      "execution_count": null,
      "outputs": [
        {
          "output_type": "display_data",
          "data": {
            "text/plain": [
              "<Figure size 1000x500 with 2 Axes>"
            ],
            "image/png": "[encoded data removed]"
          },
          "metadata": {}
        }
      ]
    },
    {
      "cell_type": "markdown",
      "source": [
        "This ensured that the train-test split maintained the same distribution as the original dataset."
      ],
      "metadata": {
        "id": "KwuQU0xl19nR"
      },
      "id": "KwuQU0xl19nR"
    },
    {
      "cell_type": "markdown",
      "id": "c168c472",
      "metadata": {
        "id": "c168c472"
      },
      "source": [
        "#### Building a Custom Tokenizer"
      ]
    },
    {
      "cell_type": "markdown",
      "id": "a7f068fd",
      "metadata": {
        "id": "a7f068fd"
      },
      "source": [
        "Next, I will attempt to create a custom tokenizer to best fit and optimize the model. This will be the baseline results for my model later on."
      ]
    },
    {
      "cell_type": "code",
      "execution_count": 92,
      "id": "f10ad61d",
      "metadata": {
        "id": "f10ad61d"
      },
      "outputs": [],
      "source": [
        "#words aside from stop words to ignore\n",
        "MY_STOP_WORDS = stopwords.words('english')\n",
        "GENERIC_WORDS = [\"book\" , \"author\" , \"read\" , \"character\" , \"story\" , \"page\" , \"write\" , \"series\" , \"review\"]\n",
        "MY_STOP_WORDS.extend(GENERIC_WORDS)\n",
        "\n",
        "def my_tokenizer(sentence):\n",
        "    # remove punctuation and set to lower case\n",
        "    for punctuation_mark in string.punctuation:\n",
        "        sentence = sentence.replace(punctuation_mark,'').lower()\n",
        "\n",
        "    # split sentence into words\n",
        "    listofwords = sentence.split(' ')\n",
        "    listofstemmed_words = []\n",
        "\n",
        "    # remove stopwords and any tokens that are just empty strings\n",
        "    for word in listofwords:\n",
        "        if (not word in MY_STOP_WORDS) and (word!=''):\n",
        "            # Stem words\n",
        "            stemmed_word = stemmer.stem(word)\n",
        "            listofstemmed_words.append(stemmed_word)\n",
        "\n",
        "    return listofstemmed_words"
      ]
    },
    {
      "cell_type": "code",
      "execution_count": null,
      "id": "85847edb",
      "metadata": {
        "id": "85847edb"
      },
      "outputs": [],
      "source": [
        "# run if check needed\n",
        "# MY_STOP_WORDS"
      ]
    },
    {
      "cell_type": "code",
      "execution_count": null,
      "id": "d06a718f",
      "metadata": {
        "id": "d06a718f",
        "outputId": "2b40e7e6-efc7-4f2a-9f16-b1b0081d1f31",
        "colab": {
          "base_uri": "https://localhost:8080/"
        }
      },
      "outputs": [
        {
          "output_type": "execute_result",
          "data": {
            "text/plain": [
              "['believ', 'dog', 'like']"
            ]
          },
          "metadata": {},
          "execution_count": 23
        }
      ],
      "source": [
        "# sanity check\n",
        "sentence = \"Can you believe that: his (dog) like, read my book!\"\n",
        "my_tokenizer(sentence)"
      ]
    },
    {
      "cell_type": "markdown",
      "id": "2fb43937",
      "metadata": {
        "id": "2fb43937"
      },
      "source": [
        "The words on my added stop list seem to be removed as well! This seems like a good start. I will put this tokenizer to the test."
      ]
    },
    {
      "cell_type": "code",
      "execution_count": null,
      "id": "2ea2fcb2",
      "metadata": {
        "id": "2ea2fcb2",
        "outputId": "b79d378c-95c3-4b35-a424-5c4a548e74bd",
        "colab": {
          "base_uri": "https://localhost:8080/"
        }
      },
      "outputs": [
        {
          "output_type": "execute_result",
          "data": {
            "text/plain": [
              "(15000, 1000)"
            ]
          },
          "metadata": {},
          "execution_count": 35
        }
      ],
      "source": [
        "custom_cv = CountVectorizer(min_df =5,\n",
        "                            max_features= 1000,\n",
        "                            tokenizer=my_tokenizer)\n",
        "custom_cv.fit(X_train['review'])\n",
        "\n",
        "X_train_custom_transformed = custom_cv.transform(X_train['review'])\n",
        "X_test_custom_transformed = custom_cv.transform(X_test['review'])\n",
        "\n",
        "X_train_custom_transformed.shape"
      ]
    },
    {
      "cell_type": "code",
      "source": [
        "X_train_custom_transformed"
      ],
      "metadata": {
        "id": "yw0ho39IYiL2",
        "outputId": "d96b1c26-481a-4baf-f825-8ef366abcd3d",
        "colab": {
          "base_uri": "https://localhost:8080/"
        }
      },
      "id": "yw0ho39IYiL2",
      "execution_count": null,
      "outputs": [
        {
          "output_type": "execute_result",
          "data": {
            "text/plain": [
              "<10x10 sparse matrix of type '<class 'numpy.int64'>'\n",
              "\twith 10 stored elements in Compressed Sparse Row format>"
            ]
          },
          "metadata": {},
          "execution_count": 40
        }
      ]
    },
    {
      "cell_type": "code",
      "execution_count": null,
      "id": "78408c71",
      "metadata": {
        "id": "78408c71",
        "colab": {
          "base_uri": "https://localhost:8080/",
          "height": 459
        },
        "outputId": "c2bbeb31-f1d9-4cea-f35c-088271541b87"
      },
      "outputs": [
        {
          "output_type": "display_data",
          "data": {
            "text/plain": [
              "<Figure size 1500x500 with 1 Axes>"
            ],
            "image/png": "[encoded data removed]"
          },
          "metadata": {}
        }
      ],
      "source": [
        "word_counts = pd.DataFrame(\n",
        "    {\"counts\": X_train_custom_transformed.toarray().sum(axis=0)},\n",
        "    index=custom_cv.get_feature_names_out()\n",
        ").sort_values(\"counts\", ascending=False)\n",
        "\n",
        "word_counts.head(20).plot(kind=\"bar\", figsize=(15, 5), legend=False)\n",
        "plt.title(\"Top 20 most frequently occurring words\")\n",
        "plt.ylabel(\"Count\")\n",
        "plt.xticks(rotation=45)\n",
        "plt.show()"
      ]
    },
    {
      "cell_type": "markdown",
      "source": [
        "#### TF-IDF"
      ],
      "metadata": {
        "id": "dFUrx2hitm44"
      },
      "id": "dFUrx2hitm44"
    },
    {
      "cell_type": "code",
      "source": [
        "tfidf = TfidfVectorizer(min_df =2,\n",
        "                        max_features=1000,\n",
        "                        tokenizer=my_tokenizer\n",
        "                        )\n",
        "X_train_transformed_tfidf = tfidf.fit_transform (X_train.review)\n",
        "X_val_transformed_tfidf = tfidf.transform(X_val.review)\n",
        "X_test_transformed_tfidf = tfidf.transform(X_test.review)\n",
        "\n",
        "X_train_transformed_tfidf.shape\n",
        "#cell takes 10 mins\n",
        "# 50,000 = 5 mins\n",
        "# 1mil = 30 mins\n",
        "\n"
      ],
      "metadata": {
        "colab": {
          "base_uri": "https://localhost:8080/"
        },
        "id": "qEcsfcW33AWc",
        "outputId": "3fb61691-bdd5-4327-99fe-c1f7a3ed5179"
      },
      "id": "qEcsfcW33AWc",
      "execution_count": 93,
      "outputs": [
        {
          "output_type": "execute_result",
          "data": {
            "text/plain": [
              "(23450, 1000)"
            ]
          },
          "metadata": {},
          "execution_count": 93
        }
      ]
    },
    {
      "cell_type": "code",
      "source": [
        "word_counts = pd.DataFrame(\n",
        "    {\"counts\": X_train_transformed_tfidf.toarray().sum(axis=0)},\n",
        "    index=tfidf.get_feature_names_out()\n",
        ").sort_values(\"counts\", ascending=False)\n",
        "\n",
        "word_counts.head(20).plot(kind=\"bar\", figsize=(10, 3), legend=False)\n",
        "plt.title(\"Top 20 highest weighted words by TF-IDF\")\n",
        "plt.ylabel(\"Total TF-IDF weight\")\n",
        "plt.xticks(rotation=45)\n",
        "plt.show()"
      ],
      "metadata": {
        "id": "qKD5TgtoMhGO",
        "colab": {
          "base_uri": "https://localhost:8080/",
          "height": 328
        },
        "outputId": "c274502b-906e-4c35-88ba-e69a657b5cc6"
      },
      "id": "qKD5TgtoMhGO",
      "execution_count": null,
      "outputs": [
        {
          "output_type": "display_data",
          "data": {
            "text/plain": [
              "<Figure size 1000x300 with 1 Axes>"
            ],
            "image/png": "[encoded data removed]"
          },
          "metadata": {}
        }
      ]
    },
    {
      "cell_type": "code",
      "source": [
        "#100 000 sample\n",
        "tfidf_hundred = TfidfVectorizer(min_df =2,\n",
        "                        max_features=1000,\n",
        "                        tokenizer=my_tokenizer\n",
        "                        )\n",
        "X_train_transformed_hundred = tfidf_hundred.fit_transform (X_train.review)\n",
        "X_val_transformed_hundred = tfidf_hundred.transform(X_val.review)\n",
        "X_test_transformed_hundred = tfidf_hundred.transform(X_test.review)\n",
        "\n",
        "X_train_transformed_hundred.shape\n",
        "#cell takes 10 mins\n",
        "# 50,000 = 5 mins\n",
        "# 1mil = 30 mins"
      ],
      "metadata": {
        "id": "PXeyjpx3xRW4",
        "outputId": "c179f05f-7f37-4f6e-abd8-aaffde90d563",
        "colab": {
          "base_uri": "https://localhost:8080/"
        }
      },
      "id": "PXeyjpx3xRW4",
      "execution_count": 101,
      "outputs": [
        {
          "output_type": "execute_result",
          "data": {
            "text/plain": [
              "(46900, 1000)"
            ]
          },
          "metadata": {},
          "execution_count": 101
        }
      ]
    },
    {
      "cell_type": "code",
      "source": [
        "print(tfidf.get_feature_names_out()[800:900])\n"
      ],
      "metadata": {
        "colab": {
          "base_uri": "https://localhost:8080/"
        },
        "id": "81ViII4Jzl7I",
        "outputId": "a58b208b-776c-45e8-a183-3c7c42a7d551"
      },
      "id": "81ViII4Jzl7I",
      "execution_count": null,
      "outputs": [
        {
          "output_type": "stream",
          "name": "stdout",
          "text": [
            "['share' 'she' 'ship' 'short' 'show' 'side' 'similar' 'simpl' 'simpli'\n",
            " 'sinc' 'singl' 'sister' 'sit' 'situat' 'skill' 'slow' 'small' 'social'\n",
            " 'societi' 'someon' 'someth' 'sometim' 'somewhat' 'son' 'soon' 'sort'\n",
            " 'soul' 'sound' 'sourc' 'south' 'space' 'speak' 'special' 'specif' 'spend'\n",
            " 'spent' 'spirit' 'spiritu' 'stand' 'standard' 'star' 'start' 'state'\n",
            " 'stay' 'step' 'still' 'stop' 'stori' 'strang' 'strength' 'strong'\n",
            " 'structur' 'struggl' 'student' 'studi' 'stuff' 'style' 'subject'\n",
            " 'success' 'suffer' 'suggest' 'support' 'suppos' 'sure' 'surpris' 'surviv'\n",
            " 'suspens' 'symbol' 'system' 'take' 'taken' 'tale' 'talent' 'talk' 'teach'\n",
            " 'teacher' 'team' 'techniqu' 'technolog' 'teenag' 'tell' 'ten' 'term'\n",
            " 'terribl' 'test' 'text' 'thank' 'that' 'theme' 'theori' 'there' 'thing'\n",
            " 'think' 'third' 'though' 'thought' 'three' 'throughout' 'thu' 'time']\n"
          ]
        }
      ]
    },
    {
      "cell_type": "markdown",
      "source": [
        "# Modeling\n",
        "I have tested the TF-IDF results through various models learned. Please refer to the appendix for all models tested. <br>\n",
        "\n",
        "**My process:**<br>\n",
        "After running mulitple different models (LogReg, KNN, Decision Tree, BERT/Pytorch) with minimal parameter tuning, I chose to continue hypertuning the model `log_reg_final_model_large`. This one shown below yielded the best results in terms of score and not-overfitting."
      ],
      "metadata": {
        "id": "uRDB1KKo4CMO"
      },
      "id": "uRDB1KKo4CMO"
    },
    {
      "cell_type": "code",
      "source": [
        "#50 000 sample\n",
        "# Fitting a model\n",
        "logreg_param_added= LogisticRegression(C=5e1,\n",
        "                                  solver='lbfgs',\n",
        "                                  multi_class='multinomial',\n",
        "                                  random_state=18,\n",
        "                                  n_jobs=-1)\n",
        "logreg_param_added.fit(X_train_transformed_tfidf, y_train)\n",
        "\n",
        "# Training and test score\n",
        "print(f\"Train score: {logreg_param_added.score(X_train_transformed_tfidf, y_train)}\")\n",
        "print(f\"Test score: {logreg_param_added.score(X_val_transformed_tfidf, y_val)}\")\n",
        "pickle.dump(logreg_param_added,open('/content/drive/My Drive/Brainstation/models/log_reg_final_model', 'wb'))\n",
        "#parameters chosen per this notebook https://www.kaggle.com/code/kashnitsky/logistic-regression-tf-idf-baseline"
      ],
      "metadata": {
        "id": "lTjiUkOYjKuT",
        "outputId": "c5142e3a-d16e-4a06-b8a6-4e05e0a51dfa",
        "colab": {
          "base_uri": "https://localhost:8080/"
        }
      },
      "id": "lTjiUkOYjKuT",
      "execution_count": 96,
      "outputs": [
        {
          "output_type": "stream",
          "name": "stdout",
          "text": [
            "Train score: 0.6825586353944563\n",
            "Test score: 0.6188059701492538\n"
          ]
        }
      ]
    },
    {
      "cell_type": "markdown",
      "source": [
        "shows signs of overfitting"
      ],
      "metadata": {
        "id": "fp7D0PvjyIK_"
      },
      "id": "fp7D0PvjyIK_"
    },
    {
      "cell_type": "code",
      "source": [
        "#100 000 sample\n",
        "logreg_param_added_hundred= LogisticRegression(C=5e1,\n",
        "                                  solver='lbfgs',\n",
        "                                  multi_class='multinomial',\n",
        "                                  random_state=18,\n",
        "                                  n_jobs=-1)\n",
        "logreg_param_added_hundred.fit(X_train_transformed_hundred, y_train)\n",
        "\n",
        "# Training and test score\n",
        "print(f\"Train score: {logreg_param_added_hundred.score(X_train_transformed_hundred, y_train)}\")\n",
        "print(f\"Test score: {logreg_param_added_hundred.score(X_val_transformed_hundred, y_val)}\")\n",
        "pickle.dump(logreg_param_added_hundred,open('/content/drive/My Drive/Brainstation/models/log_reg_final_model_large', 'wb'))\n",
        "#parameters chosen per this notebook https://www.kaggle.com/code/kashnitsky/logistic-regression-tf-idf-baseline"
      ],
      "metadata": {
        "id": "_1DxuHzqw1xm",
        "outputId": "8c9138aa-8038-4fb0-aded-50acf505c9ab",
        "colab": {
          "base_uri": "https://localhost:8080/"
        }
      },
      "id": "_1DxuHzqw1xm",
      "execution_count": 102,
      "outputs": [
        {
          "output_type": "stream",
          "name": "stdout",
          "text": [
            "Train score: 0.6678464818763327\n",
            "Test score: 0.6383582089552239\n"
          ]
        }
      ]
    },
    {
      "cell_type": "markdown",
      "source": [
        "with a bigger sample, the gap between the scores is less noticeable! However, this is the biggest sample size my machine can tokenize, and thus I will have to be satisfied with this model as my final one."
      ],
      "metadata": {
        "id": "UZLY9ruDy_Wv"
      },
      "id": "UZLY9ruDy_Wv"
    },
    {
      "cell_type": "markdown",
      "source": [
        "#Model Analysis\n",
        "First, I will run all my models through a prediction function, then I will evaluate the results. I chose to use the F1 score to measure my model because"
      ],
      "metadata": {
        "id": "Pyca2IpGBFnY"
      },
      "id": "Pyca2IpGBFnY"
    },
    {
      "cell_type": "code",
      "source": [
        "final_model = pickle.load(open('/content/drive/My Drive/Brainstation/models/log_reg_final_model_large', 'rb'))\n",
        "final_model"
      ],
      "metadata": {
        "id": "3XFqXdOA00m-",
        "outputId": "17f892a4-2cfa-40e8-c466-4b8793418b1d",
        "colab": {
          "base_uri": "https://localhost:8080/",
          "height": 92
        }
      },
      "id": "3XFqXdOA00m-",
      "execution_count": 103,
      "outputs": [
        {
          "output_type": "execute_result",
          "data": {
            "text/plain": [
              "LogisticRegression(C=50.0, multi_class='multinomial', n_jobs=-1,\n",
              "                   random_state=18)"
            ],
            "text/html": [
              "<style>#sk-container-id-1 {color: black;background-color: white;}#sk-container-id-1 pre{padding: 0;}#sk-container-id-1 div.sk-toggleable {background-color: white;}#sk-container-id-1 label.sk-toggleable__label {cursor: pointer;display: block;width: 100%;margin-bottom: 0;padding: 0.3em;box-sizing: border-box;text-align: center;}#sk-container-id-1 label.sk-toggleable__label-arrow:before {content: \"▸\";float: left;margin-right: 0.25em;color: #696969;}#sk-container-id-1 label.sk-toggleable__label-arrow:hover:before {color: black;}#sk-container-id-1 div.sk-estimator:hover label.sk-toggleable__label-arrow:before {color: black;}#sk-container-id-1 div.sk-toggleable__content {max-height: 0;max-width: 0;overflow: hidden;text-align: left;background-color: #f0f8ff;}#sk-container-id-1 div.sk-toggleable__content pre {margin: 0.2em;color: black;border-radius: 0.25em;background-color: #f0f8ff;}#sk-container-id-1 input.sk-toggleable__control:checked~div.sk-toggleable__content {max-height: 200px;max-width: 100%;overflow: auto;}#sk-container-id-1 input.sk-toggleable__control:checked~label.sk-toggleable__label-arrow:before {content: \"▾\";}#sk-container-id-1 div.sk-estimator input.sk-toggleable__control:checked~label.sk-toggleable__label {background-color: #d4ebff;}#sk-container-id-1 div.sk-label input.sk-toggleable__control:checked~label.sk-toggleable__label {background-color: #d4ebff;}#sk-container-id-1 input.sk-hidden--visually {border: 0;clip: rect(1px 1px 1px 1px);clip: rect(1px, 1px, 1px, 1px);height: 1px;margin: -1px;overflow: hidden;padding: 0;position: absolute;width: 1px;}#sk-container-id-1 div.sk-estimator {font-family: monospace;background-color: #f0f8ff;border: 1px dotted black;border-radius: 0.25em;box-sizing: border-box;margin-bottom: 0.5em;}#sk-container-id-1 div.sk-estimator:hover {background-color: #d4ebff;}#sk-container-id-1 div.sk-parallel-item::after {content: \"\";width: 100%;border-bottom: 1px solid gray;flex-grow: 1;}#sk-container-id-1 div.sk-label:hover label.sk-toggleable__label {background-color: #d4ebff;}#sk-container-id-1 div.sk-serial::before {content: \"\";position: absolute;border-left: 1px solid gray;box-sizing: border-box;top: 0;bottom: 0;left: 50%;z-index: 0;}#sk-container-id-1 div.sk-serial {display: flex;flex-direction: column;align-items: center;background-color: white;padding-right: 0.2em;padding-left: 0.2em;position: relative;}#sk-container-id-1 div.sk-item {position: relative;z-index: 1;}#sk-container-id-1 div.sk-parallel {display: flex;align-items: stretch;justify-content: center;background-color: white;position: relative;}#sk-container-id-1 div.sk-item::before, #sk-container-id-1 div.sk-parallel-item::before {content: \"\";position: absolute;border-left: 1px solid gray;box-sizing: border-box;top: 0;bottom: 0;left: 50%;z-index: -1;}#sk-container-id-1 div.sk-parallel-item {display: flex;flex-direction: column;z-index: 1;position: relative;background-color: white;}#sk-container-id-1 div.sk-parallel-item:first-child::after {align-self: flex-end;width: 50%;}#sk-container-id-1 div.sk-parallel-item:last-child::after {align-self: flex-start;width: 50%;}#sk-container-id-1 div.sk-parallel-item:only-child::after {width: 0;}#sk-container-id-1 div.sk-dashed-wrapped {border: 1px dashed gray;margin: 0 0.4em 0.5em 0.4em;box-sizing: border-box;padding-bottom: 0.4em;background-color: white;}#sk-container-id-1 div.sk-label label {font-family: monospace;font-weight: bold;display: inline-block;line-height: 1.2em;}#sk-container-id-1 div.sk-label-container {text-align: center;}#sk-container-id-1 div.sk-container {/* jupyter's `normalize.less` sets `[hidden] { display: none; }` but bootstrap.min.css set `[hidden] { display: none !important; }` so we also need the `!important` here to be able to override the default hidden behavior on the sphinx rendered scikit-learn.org. See: https://github.com/scikit-learn/scikit-learn/issues/21755 */display: inline-block !important;position: relative;}#sk-container-id-1 div.sk-text-repr-fallback {display: none;}</style><div id=\"sk-container-id-1\" class=\"sk-top-container\"><div class=\"sk-text-repr-fallback\"><pre>LogisticRegression(C=50.0, multi_class=&#x27;multinomial&#x27;, n_jobs=-1,\n",
              "                   random_state=18)</pre><b>In a Jupyter environment, please rerun this cell to show the HTML representation or trust the notebook. <br />On GitHub, the HTML representation is unable to render, please try loading this page with nbviewer.org.</b></div><div class=\"sk-container\" hidden><div class=\"sk-item\"><div class=\"sk-estimator sk-toggleable\"><input class=\"sk-toggleable__control sk-hidden--visually\" id=\"sk-estimator-id-1\" type=\"checkbox\" checked><label for=\"sk-estimator-id-1\" class=\"sk-toggleable__label sk-toggleable__label-arrow\">LogisticRegression</label><div class=\"sk-toggleable__content\"><pre>LogisticRegression(C=50.0, multi_class=&#x27;multinomial&#x27;, n_jobs=-1,\n",
              "                   random_state=18)</pre></div></div></div></div></div>"
            ]
          },
          "metadata": {},
          "execution_count": 103
        }
      ]
    },
    {
      "cell_type": "code",
      "source": [
        "# testing pickle was saved correctly\n",
        "print(f\"Train score: {final_model.score(X_train_transformed_hundred, y_train)}\")\n",
        "print(f\"Test score: {final_model.score(X_val_transformed_hundred, y_val)}\")"
      ],
      "metadata": {
        "id": "TuaXQaZy1VqB",
        "outputId": "51c9edcc-5544-4e7c-fa49-5f98a287a643",
        "colab": {
          "base_uri": "https://localhost:8080/"
        }
      },
      "id": "TuaXQaZy1VqB",
      "execution_count": 107,
      "outputs": [
        {
          "output_type": "stream",
          "name": "stdout",
          "text": [
            "Train score: 0.6678464818763327\n",
            "Test score: 0.6383582089552239\n"
          ]
        }
      ]
    },
    {
      "cell_type": "code",
      "source": [
        "n_scores = cross_val_score(final_model, X_test_transformed_hundred, y_test, scoring='accuracy', n_jobs=-1)\n",
        "print('Mean Accuracy: %.3f (%.3f)' % (mean(n_scores), std(n_scores)))"
      ],
      "metadata": {
        "id": "0E38XGNL1GHT",
        "outputId": "fc81dd85-b072-4a1d-b50b-ecbe2d889416",
        "colab": {
          "base_uri": "https://localhost:8080/"
        }
      },
      "id": "0E38XGNL1GHT",
      "execution_count": 115,
      "outputs": [
        {
          "output_type": "stream",
          "name": "stdout",
          "text": [
            "Mean Accuracy: 0.627 (0.003)\n"
          ]
        }
      ]
    },
    {
      "cell_type": "code",
      "source": [
        "y_pred_hundred = final_model.predict(X_test_transformed_hundred)\n",
        "print('Predicted Class: %d' %y_pred_hundred[0])"
      ],
      "metadata": {
        "id": "J-zWsgDW5FPu",
        "outputId": "dab10a0e-ebc4-4bde-b619-31f91d782314",
        "colab": {
          "base_uri": "https://localhost:8080/"
        }
      },
      "id": "J-zWsgDW5FPu",
      "execution_count": 120,
      "outputs": [
        {
          "output_type": "stream",
          "name": "stdout",
          "text": [
            "Predicted Class: 5\n"
          ]
        }
      ]
    },
    {
      "cell_type": "code",
      "source": [
        "# Calculate precision, recall, and F1-score for each class\n",
        "precision = precision_score(y_test, y_pred_hundred, average=None)\n",
        "recall = recall_score(y_test, y_pred_hundred, average=None)\n",
        "f1 = f1_score(y_test, y_pred_hundred, average=None)\n",
        "\n",
        "# Print precision, recall, and F1-score for each class\n",
        "#for i in range(len(precision)):\n",
        " #   print(\"Class:\", i)\n",
        "  #  print(\"Precision:\", precision[i])\n",
        "   # print(\"Recall:\", recall[i])\n",
        "    #print(\"F1-score:\", f1[i])\n",
        "\n",
        "# Print classification report\n",
        "print(\"Classification Report:\")\n",
        "print(classification_report(y_test, y_pred_hundred))"
      ],
      "metadata": {
        "id": "iDDwJjaU6oFW",
        "outputId": "35a26522-cffd-447c-b019-c6e765806f37",
        "colab": {
          "base_uri": "https://localhost:8080/"
        }
      },
      "id": "iDDwJjaU6oFW",
      "execution_count": 123,
      "outputs": [
        {
          "output_type": "stream",
          "name": "stdout",
          "text": [
            "Classification Report:\n",
            "              precision    recall  f1-score   support\n",
            "\n",
            "           1       0.48      0.39      0.43      2233\n",
            "           2       0.27      0.14      0.18      1690\n",
            "           3       0.33      0.19      0.24      2758\n",
            "           4       0.40      0.19      0.26      6465\n",
            "           5       0.71      0.92      0.80     19854\n",
            "\n",
            "    accuracy                           0.64     33000\n",
            "   macro avg       0.44      0.36      0.38     33000\n",
            "weighted avg       0.58      0.64      0.59     33000\n",
            "\n"
          ]
        }
      ]
    },
    {
      "cell_type": "markdown",
      "source": [
        "From the results above, you can see that ultimately, my model did not do a very good job of predicting any of the ratings aside from 5. As even more evident in the \"support\" column, this is most likely due to the skewed number of 5-star ratings. To improve this model in the future, the first step will definetely be to address that data inbalance.\n",
        "\n",
        "That aside, the model generally has better precision than recall, except for ratings of `5`. The f1-score is highest for `5` and `1`, which again goes back to ratings count.  "
      ],
      "metadata": {
        "id": "qB-C920w7xBb"
      },
      "id": "qB-C920w7xBb"
    },
    {
      "cell_type": "markdown",
      "metadata": {
        "id": "0d26d509"
      },
      "source": [
        "# Next Steps & \"Productionalization\"\n",
        "If I were to further improve this model (aside from addressing the data  inbalance), I would try and use all the data available to me via higher computing power. Also, to formally use this model as a product, the next step would be to \"productionalize.\" In a future notebook, I will outline steps to create a simple web service for use.\n",
        "\n",
        "Below I have created a basic, fun predictor function that inputs a string of text, and outputs the predicted score.\n"
      ],
      "id": "0d26d509"
    },
    {
      "cell_type": "code",
      "source": [
        "def predict_rating(text):\n",
        "\n",
        "    # Preprocess the text\n",
        "    text_transformed = tfidf_hundred.transform([text])\n",
        "\n",
        "    # Predict the rating score\n",
        "    predicted_score = final_model.predict(text_transformed)\n",
        "\n",
        "    print(f'I think you would rate this book a {predicted_score[0]}!')"
      ],
      "metadata": {
        "id": "_HYwsl7I_veb"
      },
      "id": "_HYwsl7I_veb",
      "execution_count": 138,
      "outputs": []
    },
    {
      "cell_type": "code",
      "source": [
        "predict_rating(\"this is the best book in the whole world!\")"
      ],
      "metadata": {
        "id": "pmPXl4RSAQkU",
        "outputId": "7a50f392-c0f5-4af5-fdab-d24c8b1c2314",
        "colab": {
          "base_uri": "https://localhost:8080/"
        }
      },
      "id": "pmPXl4RSAQkU",
      "execution_count": 137,
      "outputs": [
        {
          "output_type": "stream",
          "name": "stdout",
          "text": [
            "\"I think you would rate this book a 5!\n"
          ]
        }
      ]
    },
    {
      "cell_type": "code",
      "source": [
        "predict_rating(\"this is the worst book in the whole world!\")"
      ],
      "metadata": {
        "id": "3vUnrtfAAjjk",
        "outputId": "a7f8ea6c-693d-4fa5-ca04-5dda93bb3f06",
        "colab": {
          "base_uri": "https://localhost:8080/"
        }
      },
      "id": "3vUnrtfAAjjk",
      "execution_count": 139,
      "outputs": [
        {
          "output_type": "stream",
          "name": "stdout",
          "text": [
            "I think you would rate this book a 1!\n"
          ]
        }
      ]
    },
    {
      "cell_type": "markdown",
      "source": [
        "The examples above are pretty clear cut. Let me try a more neutral statement."
      ],
      "metadata": {
        "id": "-NI-cyEQBKTZ"
      },
      "id": "-NI-cyEQBKTZ"
    },
    {
      "cell_type": "code",
      "source": [
        "predict_rating(\"This is the third Sherlock book by Conan Doyle. It's nothing like the show.\")"
      ],
      "metadata": {
        "id": "P11GqC0IBQ-4",
        "outputId": "3fff6345-f8c6-4e10-cc4e-748852706cb2",
        "colab": {
          "base_uri": "https://localhost:8080/"
        }
      },
      "id": "P11GqC0IBQ-4",
      "execution_count": 141,
      "outputs": [
        {
          "output_type": "stream",
          "name": "stdout",
          "text": [
            "I think you would rate this book a 2!\n"
          ]
        }
      ]
    },
    {
      "cell_type": "markdown",
      "source": [
        "# Appendix\n",
        "Below I outline additional methods I utilized over the course of this project.\n"
      ],
      "metadata": {
        "id": "GvDHpCZ0r_X1"
      },
      "id": "GvDHpCZ0r_X1"
    },
    {
      "cell_type": "markdown",
      "source": [
        "\n",
        "#### Addressing Data Inbalance\n",
        "\n",
        "I will take the following steps to address the data inbalance:\n",
        "\n",
        "\n",
        "1.   **Do nothing:** I will see if the imbalance affects results. If issues arise, I will move on to step 2.\n",
        "2.   **Undersampling** I will attempt removing reviews of the majority class, \"positive sentiment.\" Seeing as this is a large dataset, for the sake of computing power and efficiency, I decided \"oversampling\" would be less ideal.\n",
        "\n",
        "Any steps taken will be during or after the train-test split so as to have the test data remain as real as possible.\n",
        "\n"
      ],
      "metadata": {
        "id": "XSLe0ZyKvqst"
      },
      "id": "XSLe0ZyKvqst"
    },
    {
      "cell_type": "markdown",
      "source": [
        "#### Bag of Words Vectorizer\n",
        "I will put my dataset through various versions of a CountVectorizer to see which yields the best results. First, I will start off with a standard one of simple English stop words and max the features at 1000."
      ],
      "metadata": {
        "id": "G3F3MdpBuacI"
      },
      "id": "G3F3MdpBuacI"
    },
    {
      "cell_type": "code",
      "source": [
        "working_cv = CountVectorizer(stop_words=MY_STOP_WORDS, min_df=10, max_features=1000)\n",
        "working_cv.fit(X_train['review'])\n",
        "X_train_transformed = working_cv.transform(X_train['review'])\n",
        "X_test_transformed = working_cv.transform(X_test['review'])\n",
        "X_test_transformed.shape\n",
        "#cell takes 12 mins"
      ],
      "metadata": {
        "id": "60e27ebc"
      },
      "execution_count": null,
      "outputs": [],
      "id": "60e27ebc"
    },
    {
      "cell_type": "code",
      "execution_count": null,
      "id": "551a9937",
      "metadata": {
        "id": "551a9937",
        "colab": {
          "base_uri": "https://localhost:8080/",
          "height": 349
        },
        "outputId": "453281d0-f898-4f5e-b5f8-343f9a0b3612"
      },
      "outputs": [
        {
          "output_type": "display_data",
          "data": {
            "text/plain": [
              "<Figure size 1000x300 with 1 Axes>"
            ],
            "image/png": "[encoded data removed]"
          },
          "metadata": {}
        }
      ],
      "source": [
        "#visualizing most common  wds\n",
        "\n",
        "word_counts = pd.DataFrame(\n",
        "    {\"counts\": X_train_transformed.toarray().sum(axis=0)},\n",
        "    index=working_cv.get_feature_names_out()\n",
        ").sort_values(\"counts\", ascending=False)\n",
        "\n",
        "word_counts.head(20).plot(kind=\"bar\", figsize=(10,3), legend=False)\n",
        "plt.title(\"Top 20 most frequently occurring words\")\n",
        "plt.ylabel(\"Count\")\n",
        "plt.xticks(rotation=45)\n",
        "\n",
        "plt.show()"
      ]
    },
    {
      "cell_type": "code",
      "execution_count": null,
      "id": "b2af91cc",
      "metadata": {
        "id": "b2af91cc",
        "outputId": "206159ef-b192-4efb-84f3-ed2c2d0e6543",
        "colab": {
          "base_uri": "https://localhost:8080/"
        }
      },
      "outputs": [
        {
          "output_type": "stream",
          "name": "stdout",
          "text": [
            "Train score: 0.6956\n",
            "Test score: 0.6158\n"
          ]
        }
      ],
      "source": [
        "# Fitting a model\n",
        "logreg = LogisticRegression(C = 0.1)\n",
        "logreg.fit(X_train_transformed, y_train)\n",
        "\n",
        "# Training and test score\n",
        "print(f\"Train score: {logreg.score(X_train_transformed, y_train)}\")\n",
        "print(f\"Test score: {logreg.score(X_test_transformed, y_test)}\")"
      ]
    },
    {
      "cell_type": "markdown",
      "source": [
        "Although 65% may seem low, this is simply a baseline score. There was no hyperoptimization or customization done. From the simple logistic regression, here is a viualization of the top words with positive sentiment:"
      ],
      "metadata": {
        "id": "F_sx9MqTtmGK"
      },
      "id": "F_sx9MqTtmGK"
    },
    {
      "cell_type": "code",
      "source": [
        "word_counts.sort_values(\"coefficients\", ascending=False).head(20).plot(kind=\"bar\", figsize=(10,3), legend=False)\n",
        "plt.title(\"The 20 lowest model coefficients indicating positive sentiment\")\n",
        "plt.ylabel(\"Coefficients\")\n",
        "plt.xticks(rotation=45)\n",
        "plt.show()"
      ],
      "metadata": {
        "colab": {
          "base_uri": "https://localhost:8080/",
          "height": 360
        },
        "id": "UkmoHHmMFE84",
        "outputId": "12b46a7c-390f-4965-95b8-74d859e1ecf3"
      },
      "id": "UkmoHHmMFE84",
      "execution_count": null,
      "outputs": [
        {
          "output_type": "display_data",
          "data": {
            "text/plain": [
              "<Figure size 1000x300 with 1 Axes>"
            ],
            "image/png": "[encoded data removed]"
          },
          "metadata": {}
        }
      ]
    },
    {
      "cell_type": "code",
      "execution_count": null,
      "id": "ce7bbff4",
      "metadata": {
        "id": "ce7bbff4",
        "outputId": "369720db-1e72-4bb5-9756-2b5f3a97b468",
        "colab": {
          "base_uri": "https://localhost:8080/",
          "height": 351
        }
      },
      "outputs": [
        {
          "output_type": "display_data",
          "data": {
            "text/plain": [
              "<Figure size 1000x300 with 1 Axes>"
            ],
            "image/png": "[encoded data removed]"
          },
          "metadata": {}
        }
      ],
      "source": [
        "#visualizing positive sentiment\n",
        "word_counts = pd.DataFrame(\n",
        "    {\"coefficients\": logreg.coef_[0]},\n",
        "    index=working_cv.get_feature_names_out()\n",
        ").sort_values(\"coefficients\", ascending=True)\n",
        "\n",
        "word_counts.head(20).plot(kind=\"bar\", figsize=(10,3), legend=False)\n",
        "plt.title(\"The 20 highest model coefficients indicating negative sentiment\")\n",
        "plt.ylabel(\"Coefficients\")\n",
        "plt.xticks(rotation=45)\n",
        "plt.show()\n"
      ]
    },
    {
      "cell_type": "markdown",
      "source": [
        "It seems that in this case, negative coefficients seem to have positive connotations, and vice versa for positive coefficients."
      ],
      "metadata": {
        "id": "u_CahFpMtlGz"
      },
      "id": "u_CahFpMtlGz"
    },
    {
      "cell_type": "markdown",
      "source": [
        "## Text Classification with BERT\n",
        "Sources"
      ],
      "metadata": {
        "id": "DA2Tn4eCdGYd"
      },
      "id": "DA2Tn4eCdGYd"
    },
    {
      "cell_type": "markdown",
      "source": [
        "## Preprocessing Pt 2 (for BERT input)"
      ],
      "metadata": {
        "id": "YRxsmfQyJR3p"
      },
      "id": "YRxsmfQyJR3p"
    },
    {
      "cell_type": "markdown",
      "source": [
        "To make the process run smoothly, I will preprocess the data, save it to a csv, then recall that data as needed.\n",
        "\n",
        "**Creating Cleaned Text DataFrame**"
      ],
      "metadata": {
        "id": "YxFMyOOEHVlG"
      },
      "id": "YxFMyOOEHVlG"
    },
    {
      "cell_type": "code",
      "source": [
        "# preparing \"review\" text column for tokenizing (aka add cleaned text only column)\n",
        "def clean_text(text):\n",
        "    # Remove URLs\n",
        "    text = re.sub(r'http\\S+', '', text)\n",
        "\n",
        "    # Remove punctuation and special characters\n",
        "    text = re.sub(r'[^\\w\\s]', '', text)\n",
        "\n",
        "    # Remove digits\n",
        "    text = re.sub(\"\\d+\", \" \", text)\n",
        "\n",
        "    ## remove extra whitespace\n",
        "    text = re.sub('\\s+', ' ', text)\n",
        "\n",
        "    # Lowercase the text\n",
        "    text = text.lower()\n",
        "\n",
        "    # Remove stop words\n",
        "    stop_words = MY_STOP_WORDS\n",
        "    words = text.split()\n",
        "    words = [word for word in words if word not in stop_words]\n",
        "    text = ' '.join(words)\n",
        "\n",
        "    # Lemmatization\n",
        "    lemmatizer = WordNetLemmatizer()\n",
        "    words = text.split()\n",
        "    words = [lemmatizer.lemmatize(word) for word in words]\n",
        "    text = ' '.join(words)\n",
        "\n",
        "    return text\n",
        "# this cleaning function found at https://www.kaggle.com/code/ahmedmoharm/sentiment-analysis-bert-pytorch"
      ],
      "metadata": {
        "id": "CSOJAq19HNAZ"
      },
      "id": "CSOJAq19HNAZ",
      "execution_count": null,
      "outputs": []
    },
    {
      "cell_type": "code",
      "source": [
        "data_with_clean_text_col = data[['Title','User_id', 'review', 'review_score']]"
      ],
      "metadata": {
        "id": "QC04VkF8IujR"
      },
      "id": "QC04VkF8IujR",
      "execution_count": null,
      "outputs": []
    },
    {
      "cell_type": "code",
      "source": [
        "data_with_clean_text_col.shape\n"
      ],
      "metadata": {
        "colab": {
          "base_uri": "https://localhost:8080/"
        },
        "id": "tOZAi19BT2jf",
        "outputId": "1946f6b9-c8fa-44b9-eab9-2ce958769888"
      },
      "id": "tOZAi19BT2jf",
      "execution_count": null,
      "outputs": [
        {
          "output_type": "execute_result",
          "data": {
            "text/plain": [
              "(2616533, 4)"
            ]
          },
          "metadata": {},
          "execution_count": 14
        }
      ]
    },
    {
      "cell_type": "code",
      "source": [
        "data_with_clean_text_col['clean_review'] = data_with_clean_text_col['review'].apply(lambda i: clean_text(i))"
      ],
      "metadata": {
        "id": "4XnOyuvnIhs2"
      },
      "id": "4XnOyuvnIhs2",
      "execution_count": null,
      "outputs": []
    },
    {
      "cell_type": "code",
      "source": [
        "data_with_clean_text_col.head()"
      ],
      "metadata": {
        "colab": {
          "base_uri": "https://localhost:8080/",
          "height": 206
        },
        "id": "9rsI_yBkPw-B",
        "outputId": "ed7fab82-567e-48dd-a8bf-ea2a1fa6b8ff"
      },
      "id": "9rsI_yBkPw-B",
      "execution_count": null,
      "outputs": [
        {
          "output_type": "execute_result",
          "data": {
            "text/plain": [
              "                            Title         User_id  \\\n",
              "0  Its Only Art If Its Well Hung!   AVCGYZL8FQQTD   \n",
              "1        Dr. Seuss: American Icon  A30TK6U7DNS82R   \n",
              "2        Dr. Seuss: American Icon  A3UH4UZ4RSVO82   \n",
              "3        Dr. Seuss: American Icon  A2MVUWT453QH61   \n",
              "4        Dr. Seuss: American Icon  A22X4XUPKF66MR   \n",
              "\n",
              "                                              review  review_score  \\\n",
              "0  This is only for Julie Strain fans. It's a col...             4   \n",
              "1  I don't care much for Dr. Seuss but after read...             5   \n",
              "2  If people become the books they read and if \"t...             5   \n",
              "3  Theodore Seuss Geisel (1904-1991), aka &quot;D...             4   \n",
              "4  Philip Nel - Dr. Seuss: American IconThis is b...             4   \n",
              "\n",
              "                                        clean_review  \n",
              "0  julie strain fan collection photo page worth n...  \n",
              "1  dont care much dr seuss reading philip nels ch...  \n",
              "2  people become book child father man dr seuss t...  \n",
              "3  theodore seuss geisel aka quotdr seussquot one...  \n",
              "4  philip nel dr seuss american iconthis basicall...  "
            ],
            "text/html": [
              "\n",
              "  <div id=\"df-11d87c84-b892-431b-9d74-8aedda495dc5\" class=\"colab-df-container\">\n",
              "    <div>\n",
              "<style scoped>\n",
              "    .dataframe tbody tr th:only-of-type {\n",
              "        vertical-align: middle;\n",
              "    }\n",
              "\n",
              "    .dataframe tbody tr th {\n",
              "        vertical-align: top;\n",
              "    }\n",
              "\n",
              "    .dataframe thead th {\n",
              "        text-align: right;\n",
              "    }\n",
              "</style>\n",
              "<table border=\"1\" class=\"dataframe\">\n",
              "  <thead>\n",
              "    <tr style=\"text-align: right;\">\n",
              "      <th></th>\n",
              "      <th>Title</th>\n",
              "      <th>User_id</th>\n",
              "      <th>review</th>\n",
              "      <th>review_score</th>\n",
              "      <th>clean_review</th>\n",
              "    </tr>\n",
              "  </thead>\n",
              "  <tbody>\n",
              "    <tr>\n",
              "      <th>0</th>\n",
              "      <td>Its Only Art If Its Well Hung!</td>\n",
              "      <td>AVCGYZL8FQQTD</td>\n",
              "      <td>This is only for Julie Strain fans. It's a col...</td>\n",
              "      <td>4</td>\n",
              "      <td>julie strain fan collection photo page worth n...</td>\n",
              "    </tr>\n",
              "    <tr>\n",
              "      <th>1</th>\n",
              "      <td>Dr. Seuss: American Icon</td>\n",
              "      <td>A30TK6U7DNS82R</td>\n",
              "      <td>I don't care much for Dr. Seuss but after read...</td>\n",
              "      <td>5</td>\n",
              "      <td>dont care much dr seuss reading philip nels ch...</td>\n",
              "    </tr>\n",
              "    <tr>\n",
              "      <th>2</th>\n",
              "      <td>Dr. Seuss: American Icon</td>\n",
              "      <td>A3UH4UZ4RSVO82</td>\n",
              "      <td>If people become the books they read and if \"t...</td>\n",
              "      <td>5</td>\n",
              "      <td>people become book child father man dr seuss t...</td>\n",
              "    </tr>\n",
              "    <tr>\n",
              "      <th>3</th>\n",
              "      <td>Dr. Seuss: American Icon</td>\n",
              "      <td>A2MVUWT453QH61</td>\n",
              "      <td>Theodore Seuss Geisel (1904-1991), aka &amp;quot;D...</td>\n",
              "      <td>4</td>\n",
              "      <td>theodore seuss geisel aka quotdr seussquot one...</td>\n",
              "    </tr>\n",
              "    <tr>\n",
              "      <th>4</th>\n",
              "      <td>Dr. Seuss: American Icon</td>\n",
              "      <td>A22X4XUPKF66MR</td>\n",
              "      <td>Philip Nel - Dr. Seuss: American IconThis is b...</td>\n",
              "      <td>4</td>\n",
              "      <td>philip nel dr seuss american iconthis basicall...</td>\n",
              "    </tr>\n",
              "  </tbody>\n",
              "</table>\n",
              "</div>\n",
              "    <div class=\"colab-df-buttons\">\n",
              "\n",
              "  <div class=\"colab-df-container\">\n",
              "    <button class=\"colab-df-convert\" onclick=\"convertToInteractive('df-11d87c84-b892-431b-9d74-8aedda495dc5')\"\n",
              "            title=\"Convert this dataframe to an interactive table.\"\n",
              "            style=\"display:none;\">\n",
              "\n",
              "  <svg xmlns=\"http://www.w3.org/2000/svg\" height=\"24px\" viewBox=\"0 -960 960 960\">\n",
              "    <path d=\"M120-120v-720h720v720H120Zm60-500h600v-160H180v160Zm220 220h160v-160H400v160Zm0 220h160v-160H400v160ZM180-400h160v-160H180v160Zm440 0h160v-160H620v160ZM180-180h160v-160H180v160Zm440 0h160v-160H620v160Z\"/>\n",
              "  </svg>\n",
              "    </button>\n",
              "\n",
              "  <style>\n",
              "    .colab-df-container {\n",
              "      display:flex;\n",
              "      gap: 12px;\n",
              "    }\n",
              "\n",
              "    .colab-df-convert {\n",
              "      background-color: #E8F0FE;\n",
              "      border: none;\n",
              "      border-radius: 50%;\n",
              "      cursor: pointer;\n",
              "      display: none;\n",
              "      fill: #1967D2;\n",
              "      height: 32px;\n",
              "      padding: 0 0 0 0;\n",
              "      width: 32px;\n",
              "    }\n",
              "\n",
              "    .colab-df-convert:hover {\n",
              "      background-color: #E2EBFA;\n",
              "      box-shadow: 0px 1px 2px rgba(60, 64, 67, 0.3), 0px 1px 3px 1px rgba(60, 64, 67, 0.15);\n",
              "      fill: #174EA6;\n",
              "    }\n",
              "\n",
              "    .colab-df-buttons div {\n",
              "      margin-bottom: 4px;\n",
              "    }\n",
              "\n",
              "    [theme=dark] .colab-df-convert {\n",
              "      background-color: #3B4455;\n",
              "      fill: #D2E3FC;\n",
              "    }\n",
              "\n",
              "    [theme=dark] .colab-df-convert:hover {\n",
              "      background-color: #434B5C;\n",
              "      box-shadow: 0px 1px 3px 1px rgba(0, 0, 0, 0.15);\n",
              "      filter: drop-shadow(0px 1px 2px rgba(0, 0, 0, 0.3));\n",
              "      fill: #FFFFFF;\n",
              "    }\n",
              "  </style>\n",
              "\n",
              "    <script>\n",
              "      const buttonEl =\n",
              "        document.querySelector('#df-11d87c84-b892-431b-9d74-8aedda495dc5 button.colab-df-convert');\n",
              "      buttonEl.style.display =\n",
              "        google.colab.kernel.accessAllowed ? 'block' : 'none';\n",
              "\n",
              "      async function convertToInteractive(key) {\n",
              "        const element = document.querySelector('#df-11d87c84-b892-431b-9d74-8aedda495dc5');\n",
              "        const dataTable =\n",
              "          await google.colab.kernel.invokeFunction('convertToInteractive',\n",
              "                                                    [key], {});\n",
              "        if (!dataTable) return;\n",
              "\n",
              "        const docLinkHtml = 'Like what you see? Visit the ' +\n",
              "          '<a target=\"_blank\" href=https://colab.research.google.com/notebooks/data_table.ipynb>data table notebook</a>'\n",
              "          + ' to learn more about interactive tables.';\n",
              "        element.innerHTML = '';\n",
              "        dataTable['output_type'] = 'display_data';\n",
              "        await google.colab.output.renderOutput(dataTable, element);\n",
              "        const docLink = document.createElement('div');\n",
              "        docLink.innerHTML = docLinkHtml;\n",
              "        element.appendChild(docLink);\n",
              "      }\n",
              "    </script>\n",
              "  </div>\n",
              "\n",
              "\n",
              "<div id=\"df-747b5741-4af3-4125-a041-53eeefd4f4b8\">\n",
              "  <button class=\"colab-df-quickchart\" onclick=\"quickchart('df-747b5741-4af3-4125-a041-53eeefd4f4b8')\"\n",
              "            title=\"Suggest charts\"\n",
              "            style=\"display:none;\">\n",
              "\n",
              "<svg xmlns=\"http://www.w3.org/2000/svg\" height=\"24px\"viewBox=\"0 0 24 24\"\n",
              "     width=\"24px\">\n",
              "    <g>\n",
              "        <path d=\"M19 3H5c-1.1 0-2 .9-2 2v14c0 1.1.9 2 2 2h14c1.1 0 2-.9 2-2V5c0-1.1-.9-2-2-2zM9 17H7v-7h2v7zm4 0h-2V7h2v10zm4 0h-2v-4h2v4z\"/>\n",
              "    </g>\n",
              "</svg>\n",
              "  </button>\n",
              "\n",
              "<style>\n",
              "  .colab-df-quickchart {\n",
              "      --bg-color: #E8F0FE;\n",
              "      --fill-color: #1967D2;\n",
              "      --hover-bg-color: #E2EBFA;\n",
              "      --hover-fill-color: #174EA6;\n",
              "      --disabled-fill-color: #AAA;\n",
              "      --disabled-bg-color: #DDD;\n",
              "  }\n",
              "\n",
              "  [theme=dark] .colab-df-quickchart {\n",
              "      --bg-color: #3B4455;\n",
              "      --fill-color: #D2E3FC;\n",
              "      --hover-bg-color: #434B5C;\n",
              "      --hover-fill-color: #FFFFFF;\n",
              "      --disabled-bg-color: #3B4455;\n",
              "      --disabled-fill-color: #666;\n",
              "  }\n",
              "\n",
              "  .colab-df-quickchart {\n",
              "    background-color: var(--bg-color);\n",
              "    border: none;\n",
              "    border-radius: 50%;\n",
              "    cursor: pointer;\n",
              "    display: none;\n",
              "    fill: var(--fill-color);\n",
              "    height: 32px;\n",
              "    padding: 0;\n",
              "    width: 32px;\n",
              "  }\n",
              "\n",
              "  .colab-df-quickchart:hover {\n",
              "    background-color: var(--hover-bg-color);\n",
              "    box-shadow: 0 1px 2px rgba(60, 64, 67, 0.3), 0 1px 3px 1px rgba(60, 64, 67, 0.15);\n",
              "    fill: var(--button-hover-fill-color);\n",
              "  }\n",
              "\n",
              "  .colab-df-quickchart-complete:disabled,\n",
              "  .colab-df-quickchart-complete:disabled:hover {\n",
              "    background-color: var(--disabled-bg-color);\n",
              "    fill: var(--disabled-fill-color);\n",
              "    box-shadow: none;\n",
              "  }\n",
              "\n",
              "  .colab-df-spinner {\n",
              "    border: 2px solid var(--fill-color);\n",
              "    border-color: transparent;\n",
              "    border-bottom-color: var(--fill-color);\n",
              "    animation:\n",
              "      spin 1s steps(1) infinite;\n",
              "  }\n",
              "\n",
              "  @keyframes spin {\n",
              "    0% {\n",
              "      border-color: transparent;\n",
              "      border-bottom-color: var(--fill-color);\n",
              "      border-left-color: var(--fill-color);\n",
              "    }\n",
              "    20% {\n",
              "      border-color: transparent;\n",
              "      border-left-color: var(--fill-color);\n",
              "      border-top-color: var(--fill-color);\n",
              "    }\n",
              "    30% {\n",
              "      border-color: transparent;\n",
              "      border-left-color: var(--fill-color);\n",
              "      border-top-color: var(--fill-color);\n",
              "      border-right-color: var(--fill-color);\n",
              "    }\n",
              "    40% {\n",
              "      border-color: transparent;\n",
              "      border-right-color: var(--fill-color);\n",
              "      border-top-color: var(--fill-color);\n",
              "    }\n",
              "    60% {\n",
              "      border-color: transparent;\n",
              "      border-right-color: var(--fill-color);\n",
              "    }\n",
              "    80% {\n",
              "      border-color: transparent;\n",
              "      border-right-color: var(--fill-color);\n",
              "      border-bottom-color: var(--fill-color);\n",
              "    }\n",
              "    90% {\n",
              "      border-color: transparent;\n",
              "      border-bottom-color: var(--fill-color);\n",
              "    }\n",
              "  }\n",
              "</style>\n",
              "\n",
              "  <script>\n",
              "    async function quickchart(key) {\n",
              "      const quickchartButtonEl =\n",
              "        document.querySelector('#' + key + ' button');\n",
              "      quickchartButtonEl.disabled = true;  // To prevent multiple clicks.\n",
              "      quickchartButtonEl.classList.add('colab-df-spinner');\n",
              "      try {\n",
              "        const charts = await google.colab.kernel.invokeFunction(\n",
              "            'suggestCharts', [key], {});\n",
              "      } catch (error) {\n",
              "        console.error('Error during call to suggestCharts:', error);\n",
              "      }\n",
              "      quickchartButtonEl.classList.remove('colab-df-spinner');\n",
              "      quickchartButtonEl.classList.add('colab-df-quickchart-complete');\n",
              "    }\n",
              "    (() => {\n",
              "      let quickchartButtonEl =\n",
              "        document.querySelector('#df-747b5741-4af3-4125-a041-53eeefd4f4b8 button');\n",
              "      quickchartButtonEl.style.display =\n",
              "        google.colab.kernel.accessAllowed ? 'block' : 'none';\n",
              "    })();\n",
              "  </script>\n",
              "</div>\n",
              "\n",
              "    </div>\n",
              "  </div>\n"
            ]
          },
          "metadata": {},
          "execution_count": 16
        }
      ]
    },
    {
      "cell_type": "code",
      "source": [
        "#export tokenized df, this will be the new working df\n",
        "data_with_clean_text_col.to_csv('clean_text_complete.csv')\n",
        "!cp clean_text_complete.csv \"/content/drive/My Drive/\"\n",
        "\n",
        "# LOAD DATA BACK IN? See set up section at top, dataframe with same name"
      ],
      "metadata": {
        "id": "JO0grYt7Ijx0"
      },
      "id": "JO0grYt7Ijx0",
      "execution_count": null,
      "outputs": []
    },
    {
      "cell_type": "code",
      "source": [
        "# LOAD CLEANED TEXT REVIEW DF (SEE #BERT V2 FOR PROCESS)\n",
        "data_with_clean_text_col = pd.read_csv('/content/drive/My Drive/Brainstation/data/clean_text_complete_idk.csv', index_col=0)\n",
        "data_with_clean_text_col.head() # takes about 60 secs"
      ],
      "metadata": {
        "id": "-gBuJ43b77ji"
      },
      "id": "-gBuJ43b77ji",
      "execution_count": null,
      "outputs": []
    },
    {
      "cell_type": "markdown",
      "source": [
        "**1. Define Dataset & Model**\n"
      ],
      "metadata": {
        "id": "PR7CuveIJPuC"
      },
      "id": "PR7CuveIJPuC"
    },
    {
      "cell_type": "code",
      "source": [
        "# Set up the GPU for COLAB & model\n",
        "device = 'cuda' if torch.cuda.is_available() else 'cpu'"
      ],
      "metadata": {
        "id": "FPocCUiaCJc8"
      },
      "id": "FPocCUiaCJc8",
      "execution_count": null,
      "outputs": []
    },
    {
      "cell_type": "code",
      "source": [
        "# Set up parameters\n",
        "bert_model_name = 'distilbert-base-uncased'\n",
        "num_classes = len(modeling_df_modified['review_score'].unique()) # number of unique labels for our multi-class classification problem\n",
        "output_attentions = False,\n",
        "max_length = 500\n",
        "batch_size = 16\n",
        "num_epochs = 4\n",
        "learning_rate = 2e-5"
      ],
      "metadata": {
        "id": "JF49taT7_CqJ"
      },
      "id": "JF49taT7_CqJ",
      "execution_count": null,
      "outputs": []
    },
    {
      "cell_type": "code",
      "source": [
        "#tokenizer = DistilBertTokenizerFast.from_pretrained(bert_model_name)"
      ],
      "metadata": {
        "id": "740Ol0M_Klog"
      },
      "id": "740Ol0M_Klog",
      "execution_count": null,
      "outputs": []
    },
    {
      "cell_type": "code",
      "source": [
        "model = BertForSequenceClassification.from_pretrained(\n",
        "    bert_model_name,\n",
        "    num_labels = num_classes,\n",
        "    output_hidden_states = False,\n",
        ")\n",
        "model.to(device)"
      ],
      "metadata": {
        "colab": {
          "base_uri": "https://localhost:8080/"
        },
        "id": "zxor87QjDqHy",
        "outputId": "3e8bcae0-259a-4154-b837-4eb49e3a3852"
      },
      "id": "zxor87QjDqHy",
      "execution_count": null,
      "outputs": [
        {
          "output_type": "stream",
          "name": "stderr",
          "text": [
            "You are using a model of type distilbert to instantiate a model of type bert. This is not supported for all configurations of models and can yield errors.\n",
            "Some weights of BertForSequenceClassification were not initialized from the model checkpoint at distilbert-base-uncased and are newly initialized: ['encoder.layer.4.attention.self.query.weight', 'encoder.layer.5.attention.self.key.weight', 'encoder.layer.1.output.dense.weight', 'encoder.layer.2.output.LayerNorm.bias', 'encoder.layer.6.attention.self.key.weight', 'encoder.layer.3.attention.output.dense.bias', 'encoder.layer.9.attention.output.LayerNorm.weight', 'encoder.layer.10.attention.self.key.weight', 'encoder.layer.10.attention.self.value.weight', 'encoder.layer.1.output.LayerNorm.bias', 'encoder.layer.5.intermediate.dense.weight', 'encoder.layer.1.intermediate.dense.bias', 'encoder.layer.10.intermediate.dense.bias', 'encoder.layer.11.attention.output.LayerNorm.weight', 'encoder.layer.3.output.LayerNorm.bias', 'encoder.layer.11.output.LayerNorm.weight', 'encoder.layer.10.output.LayerNorm.bias', 'encoder.layer.10.attention.self.key.bias', 'encoder.layer.6.attention.output.LayerNorm.bias', 'encoder.layer.11.intermediate.dense.bias', 'encoder.layer.2.attention.output.LayerNorm.bias', 'encoder.layer.9.attention.output.dense.weight', 'encoder.layer.4.attention.output.dense.weight', 'encoder.layer.5.attention.self.value.weight', 'embeddings.token_type_embeddings.weight', 'encoder.layer.4.intermediate.dense.bias', 'encoder.layer.8.output.dense.weight', 'encoder.layer.11.attention.self.query.bias', 'encoder.layer.9.intermediate.dense.bias', 'encoder.layer.3.intermediate.dense.weight', 'encoder.layer.7.attention.self.key.bias', 'encoder.layer.1.attention.self.key.weight', 'encoder.layer.2.attention.self.value.weight', 'encoder.layer.0.attention.output.dense.weight', 'encoder.layer.8.intermediate.dense.bias', 'encoder.layer.7.attention.self.query.bias', 'encoder.layer.6.attention.output.dense.weight', 'encoder.layer.3.attention.self.value.weight', 'encoder.layer.5.attention.self.query.bias', 'encoder.layer.10.attention.output.dense.bias', 'encoder.layer.5.attention.self.key.bias', 'encoder.layer.2.attention.self.query.bias', 'encoder.layer.4.attention.self.value.bias', 'encoder.layer.9.attention.self.key.bias', 'encoder.layer.7.attention.self.value.weight', 'encoder.layer.1.output.dense.bias', 'encoder.layer.5.attention.self.query.weight', 'encoder.layer.6.attention.output.dense.bias', 'encoder.layer.0.attention.self.query.bias', 'encoder.layer.4.attention.output.LayerNorm.bias', 'encoder.layer.11.output.dense.weight', 'encoder.layer.5.output.dense.bias', 'encoder.layer.6.intermediate.dense.weight', 'encoder.layer.5.intermediate.dense.bias', 'encoder.layer.0.output.dense.weight', 'encoder.layer.10.attention.self.value.bias', 'embeddings.word_embeddings.weight', 'encoder.layer.2.attention.output.dense.bias', 'encoder.layer.3.attention.output.LayerNorm.bias', 'encoder.layer.3.attention.self.value.bias', 'encoder.layer.6.output.LayerNorm.weight', 'encoder.layer.3.output.dense.weight', 'classifier.weight', 'encoder.layer.9.attention.self.query.weight', 'encoder.layer.9.output.LayerNorm.weight', 'encoder.layer.7.attention.self.value.bias', 'encoder.layer.11.attention.self.value.bias', 'encoder.layer.3.output.dense.bias', 'encoder.layer.6.attention.self.query.weight', 'encoder.layer.10.attention.self.query.weight', 'encoder.layer.11.intermediate.dense.weight', 'encoder.layer.4.attention.self.value.weight', 'encoder.layer.8.attention.self.value.weight', 'encoder.layer.7.output.dense.bias', 'encoder.layer.8.attention.output.LayerNorm.weight', 'encoder.layer.4.output.dense.weight', 'encoder.layer.9.attention.self.query.bias', 'encoder.layer.1.attention.self.value.weight', 'encoder.layer.1.attention.self.value.bias', 'encoder.layer.4.attention.output.dense.bias', 'encoder.layer.8.attention.self.value.bias', 'encoder.layer.2.attention.self.key.bias', 'encoder.layer.5.attention.output.LayerNorm.bias', 'encoder.layer.8.attention.self.key.bias', 'encoder.layer.6.attention.output.LayerNorm.weight', 'encoder.layer.9.output.LayerNorm.bias', 'encoder.layer.11.output.LayerNorm.bias', 'encoder.layer.2.output.dense.bias', 'encoder.layer.4.attention.self.query.bias', 'encoder.layer.10.output.LayerNorm.weight', 'encoder.layer.8.attention.self.key.weight', 'encoder.layer.11.attention.self.key.bias', 'encoder.layer.8.attention.self.query.weight', 'encoder.layer.0.attention.output.LayerNorm.weight', 'encoder.layer.3.attention.output.LayerNorm.weight', 'encoder.layer.0.attention.self.query.weight', 'encoder.layer.8.intermediate.dense.weight', 'encoder.layer.9.output.dense.bias', 'encoder.layer.6.output.LayerNorm.bias', 'encoder.layer.2.output.dense.weight', 'encoder.layer.2.attention.self.key.weight', 'encoder.layer.8.attention.output.LayerNorm.bias', 'encoder.layer.2.attention.output.LayerNorm.weight', 'encoder.layer.4.attention.self.key.bias', 'encoder.layer.5.attention.output.dense.weight', 'encoder.layer.11.attention.output.LayerNorm.bias', 'encoder.layer.0.output.dense.bias', 'encoder.layer.7.output.dense.weight', 'encoder.layer.8.attention.output.dense.bias', 'encoder.layer.8.output.LayerNorm.weight', 'encoder.layer.0.output.LayerNorm.bias', 'encoder.layer.1.attention.output.dense.weight', 'encoder.layer.2.intermediate.dense.weight', 'encoder.layer.0.attention.self.value.bias', 'encoder.layer.11.attention.self.value.weight', 'encoder.layer.7.output.LayerNorm.bias', 'encoder.layer.1.attention.self.query.weight', 'encoder.layer.6.attention.self.value.bias', 'encoder.layer.9.attention.self.key.weight', 'encoder.layer.7.attention.output.dense.weight', 'encoder.layer.5.attention.output.dense.bias', 'encoder.layer.10.intermediate.dense.weight', 'encoder.layer.0.intermediate.dense.bias', 'encoder.layer.3.attention.self.key.bias', 'encoder.layer.4.output.LayerNorm.weight', 'encoder.layer.10.attention.output.dense.weight', 'encoder.layer.10.output.dense.weight', 'encoder.layer.4.intermediate.dense.weight', 'encoder.layer.6.attention.self.value.weight', 'encoder.layer.4.attention.self.key.weight', 'encoder.layer.7.output.LayerNorm.weight', 'encoder.layer.8.attention.self.query.bias', 'encoder.layer.10.attention.output.LayerNorm.weight', 'encoder.layer.1.attention.self.query.bias', 'encoder.layer.0.attention.output.LayerNorm.bias', 'encoder.layer.9.output.dense.weight', 'encoder.layer.9.attention.output.LayerNorm.bias', 'encoder.layer.11.attention.self.key.weight', 'encoder.layer.3.intermediate.dense.bias', 'encoder.layer.7.attention.self.key.weight', 'encoder.layer.5.output.dense.weight', 'pooler.dense.weight', 'encoder.layer.1.output.LayerNorm.weight', 'encoder.layer.7.attention.self.query.weight', 'encoder.layer.5.output.LayerNorm.bias', 'encoder.layer.7.intermediate.dense.bias', 'encoder.layer.9.intermediate.dense.weight', 'encoder.layer.9.attention.self.value.weight', 'encoder.layer.7.attention.output.LayerNorm.bias', 'encoder.layer.2.attention.self.value.bias', 'encoder.layer.3.attention.self.query.weight', 'encoder.layer.3.attention.output.dense.weight', 'encoder.layer.10.output.dense.bias', 'encoder.layer.11.attention.output.dense.weight', 'encoder.layer.1.attention.self.key.bias', 'encoder.layer.0.intermediate.dense.weight', 'encoder.layer.4.output.dense.bias', 'encoder.layer.3.attention.self.query.bias', 'encoder.layer.2.attention.self.query.weight', 'encoder.layer.11.output.dense.bias', 'encoder.layer.1.intermediate.dense.weight', 'encoder.layer.2.output.LayerNorm.weight', 'encoder.layer.10.attention.output.LayerNorm.bias', 'encoder.layer.0.attention.self.value.weight', 'encoder.layer.0.output.LayerNorm.weight', 'encoder.layer.8.output.dense.bias', 'encoder.layer.6.output.dense.bias', 'encoder.layer.9.attention.output.dense.bias', 'embeddings.LayerNorm.bias', 'encoder.layer.2.intermediate.dense.bias', 'embeddings.position_embeddings.weight', 'encoder.layer.0.attention.self.key.bias', 'encoder.layer.1.attention.output.dense.bias', 'encoder.layer.5.attention.output.LayerNorm.weight', 'encoder.layer.7.attention.output.dense.bias', 'encoder.layer.11.attention.self.query.weight', 'encoder.layer.1.attention.output.LayerNorm.bias', 'encoder.layer.4.attention.output.LayerNorm.weight', 'encoder.layer.3.output.LayerNorm.weight', 'encoder.layer.8.attention.output.dense.weight', 'encoder.layer.6.attention.self.key.bias', 'encoder.layer.8.output.LayerNorm.bias', 'encoder.layer.9.attention.self.value.bias', 'encoder.layer.4.output.LayerNorm.bias', 'encoder.layer.10.attention.self.query.bias', 'encoder.layer.0.attention.self.key.weight', 'encoder.layer.6.attention.self.query.bias', 'pooler.dense.bias', 'encoder.layer.3.attention.self.key.weight', 'embeddings.LayerNorm.weight', 'encoder.layer.5.attention.self.value.bias', 'encoder.layer.6.intermediate.dense.bias', 'encoder.layer.6.output.dense.weight', 'classifier.bias', 'encoder.layer.5.output.LayerNorm.weight', 'encoder.layer.11.attention.output.dense.bias', 'encoder.layer.2.attention.output.dense.weight', 'encoder.layer.7.intermediate.dense.weight', 'encoder.layer.0.attention.output.dense.bias', 'encoder.layer.1.attention.output.LayerNorm.weight', 'encoder.layer.7.attention.output.LayerNorm.weight']\n",
            "You should probably TRAIN this model on a down-stream task to be able to use it for predictions and inference.\n"
          ]
        },
        {
          "output_type": "execute_result",
          "data": {
            "text/plain": [
              "BertForSequenceClassification(\n",
              "  (bert): BertModel(\n",
              "    (embeddings): BertEmbeddings(\n",
              "      (word_embeddings): Embedding(30522, 768, padding_idx=0)\n",
              "      (position_embeddings): Embedding(512, 768)\n",
              "      (token_type_embeddings): Embedding(2, 768)\n",
              "      (LayerNorm): LayerNorm((768,), eps=1e-12, elementwise_affine=True)\n",
              "      (dropout): Dropout(p=0.1, inplace=False)\n",
              "    )\n",
              "    (encoder): BertEncoder(\n",
              "      (layer): ModuleList(\n",
              "        (0-11): 12 x BertLayer(\n",
              "          (attention): BertAttention(\n",
              "            (self): BertSelfAttention(\n",
              "              (query): Linear(in_features=768, out_features=768, bias=True)\n",
              "              (key): Linear(in_features=768, out_features=768, bias=True)\n",
              "              (value): Linear(in_features=768, out_features=768, bias=True)\n",
              "              (dropout): Dropout(p=0.1, inplace=False)\n",
              "            )\n",
              "            (output): BertSelfOutput(\n",
              "              (dense): Linear(in_features=768, out_features=768, bias=True)\n",
              "              (LayerNorm): LayerNorm((768,), eps=1e-12, elementwise_affine=True)\n",
              "              (dropout): Dropout(p=0.1, inplace=False)\n",
              "            )\n",
              "          )\n",
              "          (intermediate): BertIntermediate(\n",
              "            (dense): Linear(in_features=768, out_features=3072, bias=True)\n",
              "            (intermediate_act_fn): GELUActivation()\n",
              "          )\n",
              "          (output): BertOutput(\n",
              "            (dense): Linear(in_features=3072, out_features=768, bias=True)\n",
              "            (LayerNorm): LayerNorm((768,), eps=1e-12, elementwise_affine=True)\n",
              "            (dropout): Dropout(p=0.1, inplace=False)\n",
              "          )\n",
              "        )\n",
              "      )\n",
              "    )\n",
              "    (pooler): BertPooler(\n",
              "      (dense): Linear(in_features=768, out_features=768, bias=True)\n",
              "      (activation): Tanh()\n",
              "    )\n",
              "  )\n",
              "  (dropout): Dropout(p=0.1, inplace=False)\n",
              "  (classifier): Linear(in_features=768, out_features=5, bias=True)\n",
              ")"
            ]
          },
          "metadata": {},
          "execution_count": 53
        }
      ]
    },
    {
      "cell_type": "code",
      "source": [
        "# splitting data into training-test-validation sets as opposed to variables\n",
        "other_df, test_df = train_test_split(modeling_df_modified, test_size=0.33, random_state=18, stratify=y)\n",
        "test_df = test_df.reset_index(drop=True)\n",
        "\n",
        "#add validating set\n",
        "train_df, val_df = train_test_split(other_df, test_size=0.3, random_state=18)"
      ],
      "metadata": {
        "id": "EeHoRrdQXfLJ"
      },
      "id": "EeHoRrdQXfLJ",
      "execution_count": null,
      "outputs": []
    },
    {
      "cell_type": "code",
      "source": [
        "train_df.head(1)"
      ],
      "metadata": {
        "colab": {
          "base_uri": "https://localhost:8080/",
          "height": 81
        },
        "id": "x0AEj2bOhgcR",
        "outputId": "e5b134ab-5e42-464c-fa52-1504439c1d99"
      },
      "id": "x0AEj2bOhgcR",
      "execution_count": null,
      "outputs": [
        {
          "output_type": "execute_result",
          "data": {
            "text/plain": [
              "                Title  User_id  \\\n",
              "2344978  Master Class  unknown   \n",
              "\n",
              "                                                    review  review_score  \\\n",
              "2344978  Let history books decide if Callas was this or...             5   \n",
              "\n",
              "                                              clean_review  \n",
              "2344978  let history book decide calla mcnallys play at...  "
            ],
            "text/html": [
              "\n",
              "  <div id=\"df-f87c8c6f-ab7d-4390-9e05-4d4832e949c4\" class=\"colab-df-container\">\n",
              "    <div>\n",
              "<style scoped>\n",
              "    .dataframe tbody tr th:only-of-type {\n",
              "        vertical-align: middle;\n",
              "    }\n",
              "\n",
              "    .dataframe tbody tr th {\n",
              "        vertical-align: top;\n",
              "    }\n",
              "\n",
              "    .dataframe thead th {\n",
              "        text-align: right;\n",
              "    }\n",
              "</style>\n",
              "<table border=\"1\" class=\"dataframe\">\n",
              "  <thead>\n",
              "    <tr style=\"text-align: right;\">\n",
              "      <th></th>\n",
              "      <th>Title</th>\n",
              "      <th>User_id</th>\n",
              "      <th>review</th>\n",
              "      <th>review_score</th>\n",
              "      <th>clean_review</th>\n",
              "    </tr>\n",
              "  </thead>\n",
              "  <tbody>\n",
              "    <tr>\n",
              "      <th>2344978</th>\n",
              "      <td>Master Class</td>\n",
              "      <td>unknown</td>\n",
              "      <td>Let history books decide if Callas was this or...</td>\n",
              "      <td>5</td>\n",
              "      <td>let history book decide calla mcnallys play at...</td>\n",
              "    </tr>\n",
              "  </tbody>\n",
              "</table>\n",
              "</div>\n",
              "    <div class=\"colab-df-buttons\">\n",
              "\n",
              "  <div class=\"colab-df-container\">\n",
              "    <button class=\"colab-df-convert\" onclick=\"convertToInteractive('df-f87c8c6f-ab7d-4390-9e05-4d4832e949c4')\"\n",
              "            title=\"Convert this dataframe to an interactive table.\"\n",
              "            style=\"display:none;\">\n",
              "\n",
              "  <svg xmlns=\"http://www.w3.org/2000/svg\" height=\"24px\" viewBox=\"0 -960 960 960\">\n",
              "    <path d=\"M120-120v-720h720v720H120Zm60-500h600v-160H180v160Zm220 220h160v-160H400v160Zm0 220h160v-160H400v160ZM180-400h160v-160H180v160Zm440 0h160v-160H620v160ZM180-180h160v-160H180v160Zm440 0h160v-160H620v160Z\"/>\n",
              "  </svg>\n",
              "    </button>\n",
              "\n",
              "  <style>\n",
              "    .colab-df-container {\n",
              "      display:flex;\n",
              "      gap: 12px;\n",
              "    }\n",
              "\n",
              "    .colab-df-convert {\n",
              "      background-color: #E8F0FE;\n",
              "      border: none;\n",
              "      border-radius: 50%;\n",
              "      cursor: pointer;\n",
              "      display: none;\n",
              "      fill: #1967D2;\n",
              "      height: 32px;\n",
              "      padding: 0 0 0 0;\n",
              "      width: 32px;\n",
              "    }\n",
              "\n",
              "    .colab-df-convert:hover {\n",
              "      background-color: #E2EBFA;\n",
              "      box-shadow: 0px 1px 2px rgba(60, 64, 67, 0.3), 0px 1px 3px 1px rgba(60, 64, 67, 0.15);\n",
              "      fill: #174EA6;\n",
              "    }\n",
              "\n",
              "    .colab-df-buttons div {\n",
              "      margin-bottom: 4px;\n",
              "    }\n",
              "\n",
              "    [theme=dark] .colab-df-convert {\n",
              "      background-color: #3B4455;\n",
              "      fill: #D2E3FC;\n",
              "    }\n",
              "\n",
              "    [theme=dark] .colab-df-convert:hover {\n",
              "      background-color: #434B5C;\n",
              "      box-shadow: 0px 1px 3px 1px rgba(0, 0, 0, 0.15);\n",
              "      filter: drop-shadow(0px 1px 2px rgba(0, 0, 0, 0.3));\n",
              "      fill: #FFFFFF;\n",
              "    }\n",
              "  </style>\n",
              "\n",
              "    <script>\n",
              "      const buttonEl =\n",
              "        document.querySelector('#df-f87c8c6f-ab7d-4390-9e05-4d4832e949c4 button.colab-df-convert');\n",
              "      buttonEl.style.display =\n",
              "        google.colab.kernel.accessAllowed ? 'block' : 'none';\n",
              "\n",
              "      async function convertToInteractive(key) {\n",
              "        const element = document.querySelector('#df-f87c8c6f-ab7d-4390-9e05-4d4832e949c4');\n",
              "        const dataTable =\n",
              "          await google.colab.kernel.invokeFunction('convertToInteractive',\n",
              "                                                    [key], {});\n",
              "        if (!dataTable) return;\n",
              "\n",
              "        const docLinkHtml = 'Like what you see? Visit the ' +\n",
              "          '<a target=\"_blank\" href=https://colab.research.google.com/notebooks/data_table.ipynb>data table notebook</a>'\n",
              "          + ' to learn more about interactive tables.';\n",
              "        element.innerHTML = '';\n",
              "        dataTable['output_type'] = 'display_data';\n",
              "        await google.colab.output.renderOutput(dataTable, element);\n",
              "        const docLink = document.createElement('div');\n",
              "        docLink.innerHTML = docLinkHtml;\n",
              "        element.appendChild(docLink);\n",
              "      }\n",
              "    </script>\n",
              "  </div>\n",
              "\n",
              "\n",
              "    </div>\n",
              "  </div>\n"
            ]
          },
          "metadata": {},
          "execution_count": 16
        }
      ]
    },
    {
      "cell_type": "code",
      "source": [
        "# this dataset class organizes the df for input to BERT model\n",
        "class ClassificationDataset(Dataset):\n",
        "    def __init__(self, df):\n",
        "        self.df = df\n",
        "        self.texts = df['clean_review'].tolist()\n",
        "        self.labels = df['review_score'].tolist()\n",
        "        self.tokenizer = DistilBertTokenizerFast.from_pretrained(bert_model_name)\n",
        "        self.max_length = 500\n",
        "\n",
        "    def __len__(self):\n",
        "        return len(self.df)\n",
        "\n",
        "    def __getitem__(self, index):\n",
        "      text = self.texts[index], # text=review/input,\n",
        "      label = self.labels[index]\n",
        "\n",
        "      encoding = self.tokenizer(\n",
        "            text,\n",
        "            return_tensors= 'pt', #returns tokenized data as pytorch tensors\n",
        "            max_length= self.max_length,\n",
        "            padding='max_length',\n",
        "            return_attention_mask=True,\n",
        "            truncation=True\n",
        "        )\n",
        "\n",
        "      return {'input_ids': encoding['input_ids'].flatten(),\n",
        "                'attention_mask': encoding['attention_mask'].flatten(),\n",
        "                'label': torch.tensor(label)}\n"
      ],
      "metadata": {
        "id": "_rgTQznOQl4j"
      },
      "id": "_rgTQznOQl4j",
      "execution_count": null,
      "outputs": []
    },
    {
      "cell_type": "code",
      "source": [
        "#testing that class outputs w no errors\n",
        "testing_dataset_class = ClassificationDataset(train_df)"
      ],
      "metadata": {
        "id": "BdGb2vg1_7hM"
      },
      "id": "BdGb2vg1_7hM",
      "execution_count": null,
      "outputs": []
    },
    {
      "cell_type": "markdown",
      "source": [
        "**2. Create Dataloaders**"
      ],
      "metadata": {
        "id": "T6-AHXLiJn9i"
      },
      "id": "T6-AHXLiJn9i"
    },
    {
      "cell_type": "code",
      "source": [
        "\n",
        "train_set = ClassificationDataset(train_df)\n",
        "val_set = ClassificationDataset(val_df)\n",
        "test_set = ClassificationDataset(test_df)\n",
        "###########################################################"
      ],
      "metadata": {
        "id": "Od_jPJPzHAtA"
      },
      "id": "Od_jPJPzHAtA",
      "execution_count": null,
      "outputs": []
    },
    {
      "cell_type": "code",
      "source": [
        "print(\"No. of reviews in datasets:\")\n",
        "print(\"train set: {}\".format(len(train_set)))\n",
        "print(\"val set: {}\".format(len(val_set)))\n",
        "print(\"test set: {}\".format(len(test_set)))\n",
        "#check to see if output matches original length, as of this print, it does!"
      ],
      "metadata": {
        "colab": {
          "base_uri": "https://localhost:8080/"
        },
        "id": "JqdP2jDGKtEm",
        "outputId": "3fac1dd0-d3f4-4508-8fb6-c5136f9604ff"
      },
      "id": "JqdP2jDGKtEm",
      "execution_count": null,
      "outputs": [
        {
          "output_type": "stream",
          "name": "stdout",
          "text": [
            "No. of reviews in datasets:\n",
            "train set: 4690\n",
            "val set: 2010\n",
            "test set: 3300\n"
          ]
        }
      ]
    },
    {
      "cell_type": "code",
      "source": [
        "#Create Data loaders\n",
        "train_dataloader = DataLoader(train_set, batch_size=batch_size, shuffle=True)\n",
        "val_dataloader = DataLoader(val_set, batch_size=batch_size, shuffle=True)\n",
        "test_loader =  DataLoader(test_set, batch_size=batch_size, shuffle=False)"
      ],
      "metadata": {
        "id": "6I7hk3dqNRYP"
      },
      "id": "6I7hk3dqNRYP",
      "execution_count": null,
      "outputs": []
    },
    {
      "cell_type": "markdown",
      "source": [
        "**3. Fine-tuning a Model**<br>\n",
        "\n",
        "The following steps will be taken to further develop the model:\n",
        "*   define an optimizer\n",
        "*   define an accuracy/evaluation methods\n",
        "  *   set up validation"
      ],
      "metadata": {
        "id": "sMWGpkcQN-cR"
      },
      "id": "sMWGpkcQN-cR"
    },
    {
      "cell_type": "code",
      "source": [
        "# get score distribution and weights for crossEntropyLoss parameters\n",
        "score_counts = modeling_df_modified.groupby('review_score')\n",
        "#DISTRIBUTION\n",
        "score_distribution = []\n",
        "for i in range(num_classes):\n",
        "    score_distribution.append(len(score_counts.groups[i+1])/len(modeling_df_modified))\n",
        "\n",
        "score_distribution = torch.tensor(score_distribution, dtype=torch.float32)\n",
        "\n",
        "# WEIGHTS\n",
        "weights = 1.0 / score_distribution\n",
        "weights = weights / weights.sum()\n",
        "\n",
        "\n",
        "print('{:<20}: {}'.format('Score distribution', score_distribution.tolist()))\n",
        "print('{:<20}: {}'.format('Weights', weights.tolist()))"
      ],
      "metadata": {
        "colab": {
          "base_uri": "https://localhost:8080/"
        },
        "id": "AL0nsx1HSI2v",
        "outputId": "e5cf1277-1747-403f-f903-2f4235c5a4d2"
      },
      "id": "AL0nsx1HSI2v",
      "execution_count": null,
      "outputs": [
        {
          "output_type": "stream",
          "name": "stdout",
          "text": [
            "Score distribution  : [0.06920000165700912, 0.051500000059604645, 0.07829999923706055, 0.1979999989271164, 0.6029999852180481]\n",
            "Weights             : [0.27087610960006714, 0.36397337913513184, 0.23939499258995056, 0.09466984122991562, 0.03108561784029007]\n"
          ]
        }
      ]
    },
    {
      "cell_type": "code",
      "source": [
        "# Define the optimizer\n",
        "loss_function = torch.nn.CrossEntropyLoss(weight=weights.to(device), reduction='mean')\n",
        "optimizer = torch.optim.Adam(params=model.parameters(), lr=learning_rate)"
      ],
      "metadata": {
        "id": "CY1MMTdlTfqe"
      },
      "id": "CY1MMTdlTfqe",
      "execution_count": null,
      "outputs": []
    },
    {
      "cell_type": "code",
      "source": [
        "#define accuracy function\n",
        "def calculate_accuracy(big_idx, targets):\n",
        "    n_correct = (big_idx==targets).sum().item()\n",
        "    return n_correct"
      ],
      "metadata": {
        "id": "i-MQXOwkT0e-"
      },
      "id": "i-MQXOwkT0e-",
      "execution_count": null,
      "outputs": []
    },
    {
      "cell_type": "code",
      "source": [
        "# For validation\n",
        "def validate(model, data_loader):\n",
        "    model.eval()\n",
        "    n_correct = 0\n",
        "    nb_test_steps = 0\n",
        "    nb_test_examples = 0\n",
        "    test_loss = 0\n",
        "    y_pred = []\n",
        "    y_true = []\n",
        "\n",
        "    with torch.no_grad():\n",
        "        for _, data in enumerate(data_loader, 0):\n",
        "            input_ids = data['input_ids'].to(device)\n",
        "            mask = data['attention_mask'].to(device)\n",
        "            labels = data['label'].to(device)\n",
        "\n",
        "            outputs = model(input_ids, mask)\n",
        "            loss = loss_function(outputs[0], labels)\n",
        "            test_loss += loss.item()\n",
        "\n",
        "            # gets labels with highest probabilities and their corresponding indices\n",
        "            big_val, big_idx = torch.max(outputs[0].data, dim=1)\n",
        "            n_correct += calculate_accuracy(big_idx, labels)\n",
        "\n",
        "            preds = (big_idx + 1).cpu().tolist()\n",
        "            gold = (labels + 1).cpu().tolist()\n",
        "            y_pred.extend(preds)\n",
        "            y_true.extend(gold)\n",
        "\n",
        "            nb_test_steps += 1\n",
        "            nb_test_examples += labels.size(0)\n",
        "\n",
        "    epoch_loss = test_loss/nb_test_steps\n",
        "    epoch_accu = (n_correct*100)/nb_test_examples\n",
        "    print(f\"Validation Loss: {epoch_loss}\")\n",
        "    print(f\"Validation Accuracy: {epoch_accu}\\n\")\n",
        "\n",
        "    return y_true, y_pred, epoch_accu"
      ],
      "metadata": {
        "id": "OEqdVrCoUF0a"
      },
      "id": "OEqdVrCoUF0a",
      "execution_count": null,
      "outputs": []
    },
    {
      "cell_type": "code",
      "source": [
        "# Training loop\n",
        "def train(epoch):\n",
        "    # number of batches run by model\n",
        "    nb_tr_steps = 0\n",
        "    # number of training examples run by model\n",
        "    nb_tr_examples = 0\n",
        "    # number of examples classified correctly by model\n",
        "    n_correct = 0\n",
        "    tr_loss = 0\n",
        "    model.train()\n",
        "\n",
        "    #DataLoader\n",
        "    for batch, data in enumerate(train_dataloader):\n",
        "        input_ids = data['input_ids'].to(device)\n",
        "        mask = data['attention_mask'].to(device)\n",
        "        labels = data['label'].to(device)\n",
        "    #\n",
        "        outputs = model(input_ids, mask)\n",
        "        loss = loss_function(outputs[0], labels)\n",
        "        tr_loss += loss.item()\n",
        "\n",
        "        # gets labels with highest probabilities and their corresponding indices\n",
        "        big_val, big_idx = torch.max(outputs[0].data, dim=1)\n",
        "        n_correct += calculate_accuracy(big_idx, labels)\n",
        "\n",
        "        nb_tr_steps += 1\n",
        "        nb_tr_examples+=labels.size(0)\n",
        "\n",
        "        if batch % SAVE_EVERY == 0:\n",
        "            loss_step = tr_loss/nb_tr_steps\n",
        "            accu_step = (n_correct*100)/nb_tr_examples\n",
        "            print(\"Batch {} of epoch {} complete.\".format(batch, epoch+1))\n",
        "            print(f\"Training Loss: {loss_step}   Training Accuracy: {accu_step}\")\n",
        "\n",
        "            torch.save(model.state_dict(), '/content/drive/My Drive/Brainstation/model_checkpoint_partial.dat')\n",
        "            print(\"Saving checkpoint at '/content/drive/My Drive/Brainstation/model_checkpoint_partial.dat'\")\n",
        "\n",
        "        optimizer.zero_grad()\n",
        "        loss.backward()\n",
        "        # When using GPU\n",
        "        optimizer.step()\n",
        "\n",
        "    print('\\n*****\\n')\n",
        "    print(f'The Total Accuracy for Epoch {epoch+1}: {(n_correct*100)/nb_tr_examples}')\n",
        "    epoch_loss = tr_loss/nb_tr_steps\n",
        "    epoch_accu = (n_correct*100)/nb_tr_examples\n",
        "    print(f\"Training Loss: {epoch_loss}\")\n",
        "    print(f\"Training Accuracy: {epoch_accu}\\n\")\n",
        "\n",
        "    # Evaluate model after training it on this epoch\n",
        "    validate(model, val_loader)\n",
        "\n",
        "    torch.save(model.state_dict(),'/content/drive/My Drive/Brainstation/model_checkpoint.dat')\n",
        "    print(\"Saving checkpoint at '/content/drive/My Drive/Brainstation/model_checkpoint.dat'\")\n",
        "    print(\"Saving model at \", os.path.join('/content/drive/My Drive/Brainstation/', str(epoch+1)), '\\n\\n================================================\\n')\n",
        "\n",
        "    return"
      ],
      "metadata": {
        "id": "3e3EAuurUPjU"
      },
      "id": "3e3EAuurUPjU",
      "execution_count": null,
      "outputs": []
    },
    {
      "cell_type": "code",
      "source": [
        "for epoch in range(num_epochs):\n",
        "    train(epoch)"
      ],
      "metadata": {
        "colab": {
          "base_uri": "https://localhost:8080/",
          "height": 367
        },
        "id": "me6PG9bKeveB",
        "outputId": "434beb64-26d3-44d0-9e52-8eba2b9ee27f"
      },
      "id": "me6PG9bKeveB",
      "execution_count": null,
      "outputs": [
        {
          "output_type": "error",
          "ename": "RuntimeError",
          "evalue": "CUDA error: device-side assert triggered\nCUDA kernel errors might be asynchronously reported at some other API call, so the stacktrace below might be incorrect.\nFor debugging consider passing CUDA_LAUNCH_BLOCKING=1.\nCompile with `TORCH_USE_CUDA_DSA` to enable device-side assertions.\n",
          "traceback": [
            "\u001b[0;31m---------------------------------------------------------------------------\u001b[0m",
            "\u001b[0;31mRuntimeError\u001b[0m                              Traceback (most recent call last)",
            "\u001b[0;32m<ipython-input-76-0f48f206d43e>\u001b[0m in \u001b[0;36m<cell line: 1>\u001b[0;34m()\u001b[0m\n\u001b[1;32m      1\u001b[0m \u001b[0;32mfor\u001b[0m \u001b[0mepoch\u001b[0m \u001b[0;32min\u001b[0m \u001b[0mrange\u001b[0m\u001b[0;34m(\u001b[0m\u001b[0mnum_epochs\u001b[0m\u001b[0;34m)\u001b[0m\u001b[0;34m:\u001b[0m\u001b[0;34m\u001b[0m\u001b[0;34m\u001b[0m\u001b[0m\n\u001b[0;32m----> 2\u001b[0;31m     \u001b[0mtrain\u001b[0m\u001b[0;34m(\u001b[0m\u001b[0mepoch\u001b[0m\u001b[0;34m)\u001b[0m\u001b[0;34m\u001b[0m\u001b[0;34m\u001b[0m\u001b[0m\n\u001b[0m",
            "\u001b[0;32m<ipython-input-75-ed5d6673f02d>\u001b[0m in \u001b[0;36mtrain\u001b[0;34m(epoch)\u001b[0m\n\u001b[1;32m     12\u001b[0m     \u001b[0;31m#DataLoader\u001b[0m\u001b[0;34m\u001b[0m\u001b[0;34m\u001b[0m\u001b[0m\n\u001b[1;32m     13\u001b[0m     \u001b[0;32mfor\u001b[0m \u001b[0mbatch\u001b[0m\u001b[0;34m,\u001b[0m \u001b[0mdata\u001b[0m \u001b[0;32min\u001b[0m \u001b[0menumerate\u001b[0m\u001b[0;34m(\u001b[0m\u001b[0mtrain_dataloader\u001b[0m\u001b[0;34m)\u001b[0m\u001b[0;34m:\u001b[0m\u001b[0;34m\u001b[0m\u001b[0;34m\u001b[0m\u001b[0m\n\u001b[0;32m---> 14\u001b[0;31m         \u001b[0minput_ids\u001b[0m \u001b[0;34m=\u001b[0m \u001b[0mdata\u001b[0m\u001b[0;34m[\u001b[0m\u001b[0;34m'input_ids'\u001b[0m\u001b[0;34m]\u001b[0m\u001b[0;34m.\u001b[0m\u001b[0mto\u001b[0m\u001b[0;34m(\u001b[0m\u001b[0mdevice\u001b[0m\u001b[0;34m)\u001b[0m\u001b[0;34m\u001b[0m\u001b[0;34m\u001b[0m\u001b[0m\n\u001b[0m\u001b[1;32m     15\u001b[0m         \u001b[0mmask\u001b[0m \u001b[0;34m=\u001b[0m \u001b[0mdata\u001b[0m\u001b[0;34m[\u001b[0m\u001b[0;34m'attention_mask'\u001b[0m\u001b[0;34m]\u001b[0m\u001b[0;34m.\u001b[0m\u001b[0mto\u001b[0m\u001b[0;34m(\u001b[0m\u001b[0mdevice\u001b[0m\u001b[0;34m)\u001b[0m\u001b[0;34m\u001b[0m\u001b[0;34m\u001b[0m\u001b[0m\n\u001b[1;32m     16\u001b[0m         \u001b[0mlabels\u001b[0m \u001b[0;34m=\u001b[0m \u001b[0mdata\u001b[0m\u001b[0;34m[\u001b[0m\u001b[0;34m'label'\u001b[0m\u001b[0;34m]\u001b[0m\u001b[0;34m.\u001b[0m\u001b[0mto\u001b[0m\u001b[0;34m(\u001b[0m\u001b[0mdevice\u001b[0m\u001b[0;34m)\u001b[0m\u001b[0;34m\u001b[0m\u001b[0;34m\u001b[0m\u001b[0m\n",
            "\u001b[0;31mRuntimeError\u001b[0m: CUDA error: device-side assert triggered\nCUDA kernel errors might be asynchronously reported at some other API call, so the stacktrace below might be incorrect.\nFor debugging consider passing CUDA_LAUNCH_BLOCKING=1.\nCompile with `TORCH_USE_CUDA_DSA` to enable device-side assertions.\n"
          ]
        }
      ]
    },
    {
      "cell_type": "code",
      "source": [
        "#this should be a BERT classifier\n",
        "class BertClassifier(nn.Module):\n",
        "    def __init__(self, num_classes=5):\n",
        "        super(BertClassifier, self).__init__() #ensure proper intialization\n",
        "        self.bert = BertForSequenceClassification.from_pretrained(bert_model_name)\n",
        "        self.dropout = nn.Dropout(0.1)\n",
        "        self.fc = nn.Linear(self.bert.config.hidden_size, num_classes)\n",
        "\n",
        "def forward(self, input_ids, attention_mask):\n",
        "        outputs = self.bert(input_ids=input_ids, attention_mask=attention_mask)\n",
        "        pooled_output = outputs.pooler_output\n",
        "        x = self.dropout(pooled_output)\n",
        "        logits = self.fc(x)\n",
        "        return logits"
      ],
      "metadata": {
        "id": "-kqdDEpkmzPB"
      },
      "id": "-kqdDEpkmzPB",
      "execution_count": null,
      "outputs": []
    },
    {
      "cell_type": "code",
      "source": [
        "def train(model, data_loader, optimizer, scheduler, device):\n",
        "    model.train()\n",
        "    for batch in data_loader:\n",
        "        optimizer.zero_grad() #clears gradient for new batch\n",
        "        input_ids = batch['input_ids'].to(device) #extracts this info to device\n",
        "        attention_mask = batch['attention_mask'].to(device)\n",
        "        labels = batch['label'].to(device)\n",
        "        outputs = model(input_ids=input_ids, attention_mask=attention_mask) #computes odel output to current bath input data\n",
        "        loss = nn.CrossEntropyLoss()(outputs, labels)\n",
        "        loss.backward()\n",
        "        optimizer.step() #this is where the learning happens\n",
        "        scheduler.step() #helps it from getting stuck \"in local minima\""
      ],
      "metadata": {
        "id": "8gSyBlal_9Nf"
      },
      "id": "8gSyBlal_9Nf",
      "execution_count": null,
      "outputs": []
    },
    {
      "cell_type": "code",
      "source": [
        "train()"
      ],
      "metadata": {
        "id": "Z7uiP_gCbZNA"
      },
      "id": "Z7uiP_gCbZNA",
      "execution_count": null,
      "outputs": []
    },
    {
      "cell_type": "code",
      "source": [
        "def evaluate(model, data_loader, device):\n",
        "    model.eval()\n",
        "    predictions = []\n",
        "    actual_labels = []\n",
        "    with torch.no_grad():\n",
        "        for batch in data_loader:\n",
        "            input_ids = batch['input_ids'].to(device)\n",
        "            attention_mask = batch['attention_mask'].to(device)\n",
        "            labels = batch['label'].to(device)\n",
        "            outputs = model(input_ids=input_ids, attention_mask=attention_mask)\n",
        "            _, preds = torch.max(outputs, dim=1)\n",
        "            predictions.extend(preds.cpu().tolist())\n",
        "            actual_labels.extend(labels.cpu().tolist())\n",
        "    return accuracy_score(actual_labels, predictions), classification_report(actual_labels, predictions)"
      ],
      "metadata": {
        "id": "i3NaGroZZ2YD"
      },
      "id": "i3NaGroZZ2YD",
      "execution_count": null,
      "outputs": []
    },
    {
      "cell_type": "code",
      "source": [
        "def predict_sentiment(text, model, tokenizer, device='CPU', max_length=128):\n",
        "    model.eval()\n",
        "    encoding = tokenizer(text, return_tensors='pt', max_length=max_length, padding='max_length', truncation=True)\n",
        "    input_ids = encoding['input_ids'].to(device)\n",
        "    attention_mask = encoding['attention_mask'].to(device)\n",
        "\n",
        "    outputs = model(input_ids, attention_mask)\n",
        "\n",
        "     preds = torch.max(outputs, dim=1)\n",
        "    return \"positive\" if preds.item() == 1 else \"negative\""
      ],
      "metadata": {
        "colab": {
          "base_uri": "https://localhost:8080/",
          "height": 141
        },
        "id": "Swb5eF5BZ2fe",
        "outputId": "fd9bc3d6-fc75-4d79-bff5-c2d0d844eadb"
      },
      "id": "Swb5eF5BZ2fe",
      "execution_count": null,
      "outputs": [
        {
          "output_type": "error",
          "ename": "IndentationError",
          "evalue": "unexpected indent (<ipython-input-195-65ae9f06d404>, line 9)",
          "traceback": [
            "\u001b[0;36m  File \u001b[0;32m\"<ipython-input-195-65ae9f06d404>\"\u001b[0;36m, line \u001b[0;32m9\u001b[0m\n\u001b[0;31m    preds = torch.max(outputs, dim=1)\u001b[0m\n\u001b[0m    ^\u001b[0m\n\u001b[0;31mIndentationError\u001b[0m\u001b[0;31m:\u001b[0m unexpected indent\n"
          ]
        }
      ]
    },
    {
      "cell_type": "code",
      "source": [
        "checking = train()\n",
        "checking.train(model=BertSequenceClassifier, dta_loader=train_dataloader, optimizer=optimizer, scheduler=scheduler, device=device)"
      ],
      "metadata": {
        "colab": {
          "base_uri": "https://localhost:8080/",
          "height": 193
        },
        "id": "fwv3b9UHdmzL",
        "outputId": "4a0b1dc4-caf9-40e6-f2ad-e55860def2f2"
      },
      "id": "fwv3b9UHdmzL",
      "execution_count": null,
      "outputs": [
        {
          "output_type": "error",
          "ename": "TypeError",
          "evalue": "train() missing 5 required positional arguments: 'model', 'data_loader', 'optimizer', 'scheduler', and 'device'",
          "traceback": [
            "\u001b[0;31m---------------------------------------------------------------------------\u001b[0m",
            "\u001b[0;31mTypeError\u001b[0m                                 Traceback (most recent call last)",
            "\u001b[0;32m<ipython-input-203-ce22947346fc>\u001b[0m in \u001b[0;36m<cell line: 1>\u001b[0;34m()\u001b[0m\n\u001b[0;32m----> 1\u001b[0;31m \u001b[0mchecking\u001b[0m \u001b[0;34m=\u001b[0m \u001b[0mtrain\u001b[0m\u001b[0;34m(\u001b[0m\u001b[0;34m)\u001b[0m\u001b[0;34m\u001b[0m\u001b[0;34m\u001b[0m\u001b[0m\n\u001b[0m\u001b[1;32m      2\u001b[0m \u001b[0mchecking\u001b[0m\u001b[0;34m.\u001b[0m\u001b[0mtrain\u001b[0m\u001b[0;34m(\u001b[0m\u001b[0mmodel\u001b[0m\u001b[0;34m=\u001b[0m\u001b[0mBertSequenceClassifier\u001b[0m\u001b[0;34m,\u001b[0m \u001b[0mdta_loader\u001b[0m\u001b[0;34m=\u001b[0m\u001b[0mtrain_dataloader\u001b[0m\u001b[0;34m,\u001b[0m \u001b[0moptimizer\u001b[0m\u001b[0;34m=\u001b[0m\u001b[0moptimizer\u001b[0m\u001b[0;34m,\u001b[0m \u001b[0mscheduler\u001b[0m\u001b[0;34m=\u001b[0m\u001b[0mscheduler\u001b[0m\u001b[0;34m,\u001b[0m \u001b[0mdevice\u001b[0m\u001b[0;34m=\u001b[0m\u001b[0mdevice\u001b[0m\u001b[0;34m)\u001b[0m\u001b[0;34m\u001b[0m\u001b[0;34m\u001b[0m\u001b[0m\n",
            "\u001b[0;31mTypeError\u001b[0m: train() missing 5 required positional arguments: 'model', 'data_loader', 'optimizer', 'scheduler', and 'device'"
          ]
        }
      ]
    },
    {
      "cell_type": "code",
      "source": [
        "optimizer = AdamW(model.parameters(), lr=learning_rate)\n",
        "total_steps = len(train_dataloader) * num_epochs\n",
        "\n",
        "scheduler = get_linear_schedule_with_warmup(\n",
        "        optimizer,\n",
        "        num_warmup_steps=0,\n",
        "        num_training_steps=total_steps\n",
        "        )"
      ],
      "metadata": {
        "id": "5OmA5HmTGYFP"
      },
      "id": "5OmA5HmTGYFP",
      "execution_count": null,
      "outputs": []
    },
    {
      "cell_type": "code",
      "source": [
        "scheduler"
      ],
      "metadata": {
        "colab": {
          "base_uri": "https://localhost:8080/"
        },
        "id": "TfaGzoRZQuoQ",
        "outputId": "8a97fbaa-4b88-4fc9-a02a-220a4901bfcd"
      },
      "id": "TfaGzoRZQuoQ",
      "execution_count": null,
      "outputs": [
        {
          "output_type": "execute_result",
          "data": {
            "text/plain": [
              "<torch.optim.lr_scheduler.LambdaLR at 0x7b6be46f8d30>"
            ]
          },
          "metadata": {},
          "execution_count": 176
        }
      ]
    },
    {
      "cell_type": "code",
      "source": [
        "for epoch in range(num_epochs):\n",
        "        print(f\"Epoch {epoch + 1}/{num_epochs}\")\n",
        "        train(train_df,  val_df)\n",
        "        print('success!')"
      ],
      "metadata": {
        "colab": {
          "base_uri": "https://localhost:8080/",
          "height": 391
        },
        "id": "O7A_Fa3ePST7",
        "outputId": "33af4aaf-96c0-4f6c-dd28-c313005a0dbe"
      },
      "id": "O7A_Fa3ePST7",
      "execution_count": null,
      "outputs": [
        {
          "output_type": "stream",
          "name": "stdout",
          "text": [
            "Epoch 1/4\n"
          ]
        },
        {
          "output_type": "error",
          "ename": "AttributeError",
          "evalue": "'str' object has no attribute '_apply'",
          "traceback": [
            "\u001b[0;31m---------------------------------------------------------------------------\u001b[0m",
            "\u001b[0;31mAttributeError\u001b[0m                            Traceback (most recent call last)",
            "\u001b[0;32m<ipython-input-186-a4ce4773a584>\u001b[0m in \u001b[0;36m<cell line: 1>\u001b[0;34m()\u001b[0m\n\u001b[1;32m      1\u001b[0m \u001b[0;32mfor\u001b[0m \u001b[0mepoch\u001b[0m \u001b[0;32min\u001b[0m \u001b[0mrange\u001b[0m\u001b[0;34m(\u001b[0m\u001b[0mnum_epochs\u001b[0m\u001b[0;34m)\u001b[0m\u001b[0;34m:\u001b[0m\u001b[0;34m\u001b[0m\u001b[0;34m\u001b[0m\u001b[0m\n\u001b[1;32m      2\u001b[0m         \u001b[0mprint\u001b[0m\u001b[0;34m(\u001b[0m\u001b[0;34mf\"Epoch {epoch + 1}/{num_epochs}\"\u001b[0m\u001b[0;34m)\u001b[0m\u001b[0;34m\u001b[0m\u001b[0;34m\u001b[0m\u001b[0m\n\u001b[0;32m----> 3\u001b[0;31m         \u001b[0mtrain\u001b[0m\u001b[0;34m(\u001b[0m\u001b[0mtrain_df\u001b[0m\u001b[0;34m,\u001b[0m  \u001b[0mval_df\u001b[0m\u001b[0;34m)\u001b[0m\u001b[0;34m\u001b[0m\u001b[0;34m\u001b[0m\u001b[0m\n\u001b[0m\u001b[1;32m      4\u001b[0m         \u001b[0mprint\u001b[0m\u001b[0;34m(\u001b[0m\u001b[0;34m'success!'\u001b[0m\u001b[0;34m)\u001b[0m\u001b[0;34m\u001b[0m\u001b[0;34m\u001b[0m\u001b[0m\n",
            "\u001b[0;32m<ipython-input-185-92ceab0c24fd>\u001b[0m in \u001b[0;36mtrain\u001b[0;34m(train_data, valid_data)\u001b[0m\n\u001b[1;32m     10\u001b[0m   \u001b[0;31m#model\u001b[0m\u001b[0;34m\u001b[0m\u001b[0;34m\u001b[0m\u001b[0m\n\u001b[1;32m     11\u001b[0m   \u001b[0mmodel\u001b[0m \u001b[0;34m=\u001b[0m \u001b[0mBertSequenceClassifier\u001b[0m\u001b[0;34m\u001b[0m\u001b[0;34m\u001b[0m\u001b[0m\n\u001b[0;32m---> 12\u001b[0;31m   \u001b[0mmodel\u001b[0m\u001b[0;34m.\u001b[0m\u001b[0mto\u001b[0m\u001b[0;34m(\u001b[0m\u001b[0mdevice\u001b[0m\u001b[0;34m)\u001b[0m\u001b[0;34m\u001b[0m\u001b[0;34m\u001b[0m\u001b[0m\n\u001b[0m\u001b[1;32m     13\u001b[0m \u001b[0;34m\u001b[0m\u001b[0m\n\u001b[1;32m     14\u001b[0m   \u001b[0;31m#optimizer\u001b[0m\u001b[0;34m\u001b[0m\u001b[0;34m\u001b[0m\u001b[0m\n",
            "\u001b[0;32m/usr/local/lib/python3.10/dist-packages/torch/nn/modules/module.py\u001b[0m in \u001b[0;36mto\u001b[0;34m(self, *args, **kwargs)\u001b[0m\n\u001b[1;32m   1158\u001b[0m             \u001b[0;32mreturn\u001b[0m \u001b[0mt\u001b[0m\u001b[0;34m.\u001b[0m\u001b[0mto\u001b[0m\u001b[0;34m(\u001b[0m\u001b[0mdevice\u001b[0m\u001b[0;34m,\u001b[0m \u001b[0mdtype\u001b[0m \u001b[0;32mif\u001b[0m \u001b[0mt\u001b[0m\u001b[0;34m.\u001b[0m\u001b[0mis_floating_point\u001b[0m\u001b[0;34m(\u001b[0m\u001b[0;34m)\u001b[0m \u001b[0;32mor\u001b[0m \u001b[0mt\u001b[0m\u001b[0;34m.\u001b[0m\u001b[0mis_complex\u001b[0m\u001b[0;34m(\u001b[0m\u001b[0;34m)\u001b[0m \u001b[0;32melse\u001b[0m \u001b[0;32mNone\u001b[0m\u001b[0;34m,\u001b[0m \u001b[0mnon_blocking\u001b[0m\u001b[0;34m)\u001b[0m\u001b[0;34m\u001b[0m\u001b[0;34m\u001b[0m\u001b[0m\n\u001b[1;32m   1159\u001b[0m \u001b[0;34m\u001b[0m\u001b[0m\n\u001b[0;32m-> 1160\u001b[0;31m         \u001b[0;32mreturn\u001b[0m \u001b[0mself\u001b[0m\u001b[0;34m.\u001b[0m\u001b[0m_apply\u001b[0m\u001b[0;34m(\u001b[0m\u001b[0mconvert\u001b[0m\u001b[0;34m)\u001b[0m\u001b[0;34m\u001b[0m\u001b[0;34m\u001b[0m\u001b[0m\n\u001b[0m\u001b[1;32m   1161\u001b[0m \u001b[0;34m\u001b[0m\u001b[0m\n\u001b[1;32m   1162\u001b[0m     def register_full_backward_pre_hook(\n",
            "\u001b[0;31mAttributeError\u001b[0m: 'str' object has no attribute '_apply'"
          ]
        }
      ]
    },
    {
      "cell_type": "code",
      "source": [
        "def ReviewScorePredictor(comment, model):\n",
        "  \"\"\"\n",
        "  This function predicts a score for inputted text\n",
        "\n",
        "  :comment: the string containing the review comment.\n",
        "  :model: the model to be used for the prediction,\n",
        "          ie sequence_class_model\n",
        "  \"\"\"\n",
        "\n",
        "  df = pd.DataFrame()\n",
        "  df['comment'] = [comment]\n",
        "  df['score'] = ['0']\n",
        "\n",
        "  dataset = ClassificationDataset(df)\n",
        "\n",
        "  TEST_BATCH_SIZE = 1\n",
        "  NUM_WORKERS = 1\n",
        "\n",
        "  test_params = {'batch_size': TEST_BATCH_SIZE,\n",
        "              'shuffle': True,\n",
        "              'num_workers': NUM_WORKERS}\n",
        "\n",
        "  data_loader = DataLoader(dataset, **test_params)\n",
        "\n",
        "  total_examples = len(df)\n",
        "  predictions = np.zeros([total_examples], dtype=object)\n",
        "\n",
        "  for batch, data in enumerate(data_loader):\n",
        "\n",
        "    # Get the tokenization values.\n",
        "    input_ids = data['input_ids'].to(device)\n",
        "    mask = data['attn_mask'].to(device)\n",
        "\n",
        "    # Make the prediction with the trained model.\n",
        "    outputs = model(input_ids, mask)\n",
        "\n",
        "    # Get the star rating.\n",
        "    big_val, big_idx = torch.max(outputs[0].data, dim=1)\n",
        "    rating_predictions = (big_idx + 1).cpu().numpy()\n",
        "\n",
        "  return rating_predictions[0]"
      ],
      "metadata": {
        "id": "M8-OLl7xbQEl"
      },
      "id": "M8-OLl7xbQEl",
      "execution_count": 124,
      "outputs": []
    },
    {
      "cell_type": "code",
      "source": [
        "#test review\n",
        "review = \"I love reading Harry Potter books.\""
      ],
      "metadata": {
        "id": "vWkiypcagxeD"
      },
      "id": "vWkiypcagxeD",
      "execution_count": 125,
      "outputs": []
    },
    {
      "cell_type": "code",
      "source": [
        "# test predictor\n",
        "prediction = ReviewScorePredictor(review, final_model)"
      ],
      "metadata": {
        "colab": {
          "base_uri": "https://localhost:8080/",
          "height": 314
        },
        "id": "3ZNvdhYeg4Jh",
        "outputId": "5405aecc-490f-44a4-d2c6-35cc1a6a9f70"
      },
      "id": "3ZNvdhYeg4Jh",
      "execution_count": 126,
      "outputs": [
        {
          "output_type": "error",
          "ename": "NameError",
          "evalue": "name 'ClassificationDataset' is not defined",
          "traceback": [
            "\u001b[0;31m---------------------------------------------------------------------------\u001b[0m",
            "\u001b[0;31mNameError\u001b[0m                                 Traceback (most recent call last)",
            "\u001b[0;32m<ipython-input-126-7d933371381b>\u001b[0m in \u001b[0;36m<cell line: 2>\u001b[0;34m()\u001b[0m\n\u001b[1;32m      1\u001b[0m \u001b[0;31m# test predictor\u001b[0m\u001b[0;34m\u001b[0m\u001b[0;34m\u001b[0m\u001b[0m\n\u001b[0;32m----> 2\u001b[0;31m \u001b[0mprediction\u001b[0m \u001b[0;34m=\u001b[0m \u001b[0mReviewScorePredictor\u001b[0m\u001b[0;34m(\u001b[0m\u001b[0mreview\u001b[0m\u001b[0;34m,\u001b[0m \u001b[0mfinal_model\u001b[0m\u001b[0;34m)\u001b[0m\u001b[0;34m\u001b[0m\u001b[0;34m\u001b[0m\u001b[0m\n\u001b[0m",
            "\u001b[0;32m<ipython-input-124-4bdd6cf75a2d>\u001b[0m in \u001b[0;36mReviewScorePredictor\u001b[0;34m(comment, model)\u001b[0m\n\u001b[1;32m     12\u001b[0m   \u001b[0mdf\u001b[0m\u001b[0;34m[\u001b[0m\u001b[0;34m'score'\u001b[0m\u001b[0;34m]\u001b[0m \u001b[0;34m=\u001b[0m \u001b[0;34m[\u001b[0m\u001b[0;34m'0'\u001b[0m\u001b[0;34m]\u001b[0m\u001b[0;34m\u001b[0m\u001b[0;34m\u001b[0m\u001b[0m\n\u001b[1;32m     13\u001b[0m \u001b[0;34m\u001b[0m\u001b[0m\n\u001b[0;32m---> 14\u001b[0;31m   \u001b[0mdataset\u001b[0m \u001b[0;34m=\u001b[0m \u001b[0mClassificationDataset\u001b[0m\u001b[0;34m(\u001b[0m\u001b[0mdf\u001b[0m\u001b[0;34m)\u001b[0m\u001b[0;34m\u001b[0m\u001b[0;34m\u001b[0m\u001b[0m\n\u001b[0m\u001b[1;32m     15\u001b[0m \u001b[0;34m\u001b[0m\u001b[0m\n\u001b[1;32m     16\u001b[0m   \u001b[0mTEST_BATCH_SIZE\u001b[0m \u001b[0;34m=\u001b[0m \u001b[0;36m1\u001b[0m\u001b[0;34m\u001b[0m\u001b[0;34m\u001b[0m\u001b[0m\n",
            "\u001b[0;31mNameError\u001b[0m: name 'ClassificationDataset' is not defined"
          ]
        }
      ]
    },
    {
      "cell_type": "code",
      "source": [
        "bert_model = TFBertModel.from_pretrained('distilbert-base-uncased')\n",
        "tokenizer = BertTokenizer.from_pretrained('distilbert-base-uncased')\n",
        "\n",
        "model_bert_v2 = \"distilbert-base-uncased\"\n",
        "tokenizer = AutoTokenizer.from_pretrained(model_bert_v2)"
      ],
      "metadata": {
        "colab": {
          "base_uri": "https://localhost:8080/",
          "height": 284,
          "referenced_widgets": [
            "9f3bbb7d06f84361852aee04df2cc39f",
            "09674bb988d9488ca03d4ec48e0d2bed",
            "ef2cf1a0cd034276b7bbb7dc6fdadccb",
            "53252814ba624a0dae75dd68700bd4d2",
            "c7f4529c81904867899d813913d64b19",
            "43587063c83f4731bce30705bff253d4",
            "dea02b3ba70f45d78404d8d3858b487b",
            "1b4e08d353d141cfbae7a53186796aca",
            "d662741dbef945ee96d3f81a7921fdff",
            "1ce63bf64237471e8a67668bf8622add",
            "6f70051893914fe09a35d034ef0e63cf",
            "b573aedc30bc48dcb347cc3502c1a3e1",
            "608ef0b5a99a4011bc9d53d514b3c8b9",
            "d2d7427e60ca4bc99262bc8a805e7c2a",
            "f325901cbf5745cba219365e402d9736",
            "3bb19edf28284b5090221e79341b00b7",
            "3da0c41a7bd6408991ea7c0564915621",
            "90ddddf2ce9148a398ed7b0e3f2b7aae",
            "94cd62990087478292d013c5ac74a2af",
            "6c22b4f0f80a4f41b616fa7332a7519d",
            "8c2763a53ffb40eb897adba9d9ffa05e",
            "55891e9ad51340d48ae165d1b39b8cdf",
            "bf4ec634aafc4ebfbea1a4a9c87a4c0b",
            "8a5c2242129d4d8597e67b3a107908e3",
            "ddb3bf30b5e040eb9c49830707af4446",
            "325aedc54d1f4cb2ab2f3a93ae8b3a97",
            "44ae97ea1ea34454b76c5e03beb46884",
            "e2a439b294944a44bc049e30f69beb9f",
            "063391b3429245309bcdd1296b48a12f",
            "3ff3960ec6b5498e9ede5692387b0f60",
            "102747835ca146539d707e73b1455bc5",
            "b5c4e464f3544137b6611efb526b42dd",
            "7adea33c3b144efbb2fceec5b347608b",
            "642564bb23574ba3bac331cb021d428a",
            "1e915d19ccc54cdeb97725550daf3d0f",
            "75d731b6034548b1ab6019080521d72d",
            "4553429a5d8e46e6b253e495521c9215",
            "36acc46ae46c4603823a6d8a30e8470c",
            "21882461c71f4aa4ad8e1abc3c93fa89",
            "33221b5e5df3415d95244a4efba03f71",
            "66249b4bdf02489ea8866ee874ba6edd",
            "7c542a7bbfd541e8a47858b9eeaee9f4",
            "6b490f18bda64f9da30560451b503429",
            "d2366f111b9946e79f1615bbb6c985be",
            "9ce3a38e607c4ca7a27327181ead2689",
            "d7c35a5114784b6aa491ddc69d7a4f93",
            "e36e0ce769ea4ebf8bf6fd9e230eed53",
            "24a6ed2a5e624f31a1ad51de71b43bf2",
            "92cbaa3463ac49e4b208c493041ed774",
            "c23bb79d8a114a80a380f9f35c57a3e2",
            "a31c586f65014d69a2fc73773cf26c29",
            "e3c1520ad63b493ea821ce2e306cfa7f",
            "1110a62795284e1ebc0a61bdb296b50f",
            "04f12f4a839c4d9e87134c8706484a30",
            "2fde33e33ca347658515c9fdd7be01e1"
          ]
        },
        "id": "g076fAoBdFPX",
        "outputId": "1e99d017-41f9-450a-a69c-c9dd1b4ad6ea"
      },
      "id": "g076fAoBdFPX",
      "execution_count": null,
      "outputs": [
        {
          "output_type": "display_data",
          "data": {
            "text/plain": [
              "config.json:   0%|          | 0.00/570 [00:00<?, ?B/s]"
            ],
            "application/vnd.jupyter.widget-view+json": {
              "version_major": 2,
              "version_minor": 0,
              "model_id": "9f3bbb7d06f84361852aee04df2cc39f"
            }
          },
          "metadata": {}
        },
        {
          "output_type": "display_data",
          "data": {
            "text/plain": [
              "model.safetensors:   0%|          | 0.00/440M [00:00<?, ?B/s]"
            ],
            "application/vnd.jupyter.widget-view+json": {
              "version_major": 2,
              "version_minor": 0,
              "model_id": "b573aedc30bc48dcb347cc3502c1a3e1"
            }
          },
          "metadata": {}
        },
        {
          "output_type": "stream",
          "name": "stderr",
          "text": [
            "Some weights of the PyTorch model were not used when initializing the TF 2.0 model TFBertModel: ['cls.seq_relationship.bias', 'cls.predictions.transform.dense.weight', 'cls.predictions.transform.LayerNorm.weight', 'cls.predictions.bias', 'cls.predictions.transform.dense.bias', 'cls.seq_relationship.weight', 'cls.predictions.transform.LayerNorm.bias']\n",
            "- This IS expected if you are initializing TFBertModel from a PyTorch model trained on another task or with another architecture (e.g. initializing a TFBertForSequenceClassification model from a BertForPreTraining model).\n",
            "- This IS NOT expected if you are initializing TFBertModel from a PyTorch model that you expect to be exactly identical (e.g. initializing a TFBertForSequenceClassification model from a BertForSequenceClassification model).\n",
            "All the weights of TFBertModel were initialized from the PyTorch model.\n",
            "If your task is similar to the task the model of the checkpoint was trained on, you can already use TFBertModel for predictions without further training.\n"
          ]
        },
        {
          "output_type": "display_data",
          "data": {
            "text/plain": [
              "tokenizer_config.json:   0%|          | 0.00/28.0 [00:00<?, ?B/s]"
            ],
            "application/vnd.jupyter.widget-view+json": {
              "version_major": 2,
              "version_minor": 0,
              "model_id": "bf4ec634aafc4ebfbea1a4a9c87a4c0b"
            }
          },
          "metadata": {}
        },
        {
          "output_type": "display_data",
          "data": {
            "text/plain": [
              "vocab.txt:   0%|          | 0.00/232k [00:00<?, ?B/s]"
            ],
            "application/vnd.jupyter.widget-view+json": {
              "version_major": 2,
              "version_minor": 0,
              "model_id": "642564bb23574ba3bac331cb021d428a"
            }
          },
          "metadata": {}
        },
        {
          "output_type": "display_data",
          "data": {
            "text/plain": [
              "tokenizer.json:   0%|          | 0.00/466k [00:00<?, ?B/s]"
            ],
            "application/vnd.jupyter.widget-view+json": {
              "version_major": 2,
              "version_minor": 0,
              "model_id": "9ce3a38e607c4ca7a27327181ead2689"
            }
          },
          "metadata": {}
        }
      ]
    },
    {
      "cell_type": "code",
      "source": [],
      "metadata": {
        "id": "VKZEiY2qdc7q",
        "outputId": "6a239d33-511a-4786-8f15-c6a719a913dc",
        "colab": {
          "base_uri": "https://localhost:8080/"
        }
      },
      "id": "VKZEiY2qdc7q",
      "execution_count": null,
      "outputs": [
        {
          "output_type": "stream",
          "name": "stderr",
          "text": [
            "Token indices sequence length is longer than the specified maximum sequence length for this model (700 > 512). Running this sequence through the model will result in indexing errors\n"
          ]
        }
      ]
    },
    {
      "cell_type": "markdown",
      "source": [
        "## Bert V2  :Sequence Classifier"
      ],
      "metadata": {
        "id": "LBEy8w-LlzsW"
      },
      "id": "LBEy8w-LlzsW"
    },
    {
      "cell_type": "code",
      "source": [
        "\n",
        "#DEFINE BERT MODEL FOR SEQUENCE CLASSIFICATION\n",
        "sequence_class_model = BertForSequenceClassification.from_pretrained(\n",
        "    \"distilbert-base-uncased\",\n",
        "    num_labels = len(modeling_df_modified.review_score.unique()), #how many class labels\n",
        "    output_attentions = False, #parameters irrelavant to this project\n",
        "    output_hidden_states = False, #parameters irrelavant to this project\n",
        ")\n",
        "sequence_class_model.to(device)"
      ],
      "metadata": {
        "id": "GiT34Jatl21q",
        "outputId": "f5333f5f-6cc8-4cde-a626-7fc877275ae8",
        "colab": {
          "base_uri": "https://localhost:8080/"
        }
      },
      "id": "GiT34Jatl21q",
      "execution_count": null,
      "outputs": [
        {
          "output_type": "stream",
          "name": "stderr",
          "text": [
            "You are using a model of type distilbert to instantiate a model of type bert. This is not supported for all configurations of models and can yield errors.\n",
            "Some weights of BertForSequenceClassification were not initialized from the model checkpoint at distilbert-base-uncased and are newly initialized: ['encoder.layer.5.attention.self.value.bias', 'encoder.layer.8.attention.output.LayerNorm.bias', 'encoder.layer.3.output.dense.bias', 'embeddings.word_embeddings.weight', 'encoder.layer.7.attention.self.value.bias', 'encoder.layer.0.attention.self.key.bias', 'encoder.layer.6.attention.self.key.weight', 'encoder.layer.7.output.dense.weight', 'pooler.dense.weight', 'encoder.layer.3.attention.output.LayerNorm.weight', 'encoder.layer.4.attention.output.dense.weight', 'encoder.layer.3.attention.output.LayerNorm.bias', 'encoder.layer.3.output.dense.weight', 'encoder.layer.9.attention.self.query.weight', 'encoder.layer.2.attention.self.value.weight', 'encoder.layer.0.attention.output.dense.bias', 'classifier.weight', 'encoder.layer.6.attention.output.dense.bias', 'encoder.layer.0.output.dense.weight', 'encoder.layer.11.attention.output.dense.weight', 'classifier.bias', 'encoder.layer.9.attention.output.dense.bias', 'encoder.layer.3.attention.self.query.weight', 'encoder.layer.7.attention.output.LayerNorm.weight', 'encoder.layer.0.attention.self.key.weight', 'encoder.layer.10.output.LayerNorm.weight', 'embeddings.LayerNorm.bias', 'encoder.layer.6.output.LayerNorm.bias', 'encoder.layer.7.attention.output.dense.bias', 'encoder.layer.9.attention.self.value.weight', 'encoder.layer.2.intermediate.dense.bias', 'encoder.layer.4.output.dense.bias', 'encoder.layer.0.output.LayerNorm.weight', 'encoder.layer.8.intermediate.dense.bias', 'encoder.layer.10.intermediate.dense.bias', 'encoder.layer.5.attention.self.query.bias', 'encoder.layer.9.output.dense.weight', 'pooler.dense.bias', 'encoder.layer.7.output.LayerNorm.weight', 'encoder.layer.5.attention.output.dense.bias', 'encoder.layer.8.output.dense.weight', 'encoder.layer.5.output.LayerNorm.weight', 'encoder.layer.11.attention.self.query.bias', 'encoder.layer.6.attention.self.query.weight', 'encoder.layer.7.attention.self.query.bias', 'encoder.layer.8.attention.output.LayerNorm.weight', 'encoder.layer.9.intermediate.dense.weight', 'encoder.layer.2.output.dense.weight', 'encoder.layer.11.intermediate.dense.bias', 'encoder.layer.6.attention.output.dense.weight', 'encoder.layer.6.attention.self.key.bias', 'encoder.layer.4.output.LayerNorm.weight', 'encoder.layer.11.attention.self.value.bias', 'encoder.layer.4.attention.self.value.bias', 'encoder.layer.2.output.LayerNorm.bias', 'encoder.layer.8.intermediate.dense.weight', 'encoder.layer.10.output.LayerNorm.bias', 'encoder.layer.2.attention.self.query.bias', 'encoder.layer.8.attention.output.dense.bias', 'encoder.layer.1.attention.self.value.weight', 'encoder.layer.0.attention.output.dense.weight', 'encoder.layer.3.attention.self.value.weight', 'encoder.layer.1.intermediate.dense.bias', 'encoder.layer.5.attention.output.dense.weight', 'encoder.layer.8.attention.self.query.bias', 'encoder.layer.9.attention.self.key.weight', 'encoder.layer.1.attention.self.query.weight', 'encoder.layer.9.attention.self.value.bias', 'encoder.layer.0.intermediate.dense.weight', 'encoder.layer.0.output.LayerNorm.bias', 'encoder.layer.4.intermediate.dense.weight', 'encoder.layer.9.output.LayerNorm.weight', 'encoder.layer.7.attention.output.dense.weight', 'encoder.layer.11.intermediate.dense.weight', 'encoder.layer.2.attention.self.key.weight', 'encoder.layer.2.attention.self.value.bias', 'encoder.layer.6.output.LayerNorm.weight', 'encoder.layer.8.attention.output.dense.weight', 'encoder.layer.6.attention.self.value.weight', 'encoder.layer.9.attention.output.dense.weight', 'encoder.layer.4.attention.self.query.weight', 'encoder.layer.4.intermediate.dense.bias', 'encoder.layer.7.intermediate.dense.weight', 'encoder.layer.5.output.dense.weight', 'encoder.layer.3.attention.self.value.bias', 'encoder.layer.2.attention.output.dense.weight', 'encoder.layer.1.attention.output.dense.bias', 'encoder.layer.6.attention.self.query.bias', 'encoder.layer.10.attention.self.key.bias', 'encoder.layer.1.attention.output.dense.weight', 'encoder.layer.9.output.dense.bias', 'encoder.layer.1.output.LayerNorm.bias', 'encoder.layer.8.attention.self.value.weight', 'encoder.layer.2.intermediate.dense.weight', 'encoder.layer.11.output.dense.bias', 'encoder.layer.11.output.LayerNorm.bias', 'encoder.layer.1.attention.output.LayerNorm.weight', 'encoder.layer.10.output.dense.weight', 'encoder.layer.5.attention.self.value.weight', 'encoder.layer.1.attention.self.query.bias', 'encoder.layer.1.attention.output.LayerNorm.bias', 'encoder.layer.0.attention.output.LayerNorm.bias', 'encoder.layer.4.output.dense.weight', 'encoder.layer.6.intermediate.dense.bias', 'encoder.layer.2.attention.output.dense.bias', 'encoder.layer.2.output.LayerNorm.weight', 'encoder.layer.3.output.LayerNorm.bias', 'encoder.layer.5.attention.self.key.weight', 'encoder.layer.7.output.LayerNorm.bias', 'encoder.layer.5.output.dense.bias', 'encoder.layer.4.attention.output.LayerNorm.weight', 'encoder.layer.3.attention.self.query.bias', 'encoder.layer.8.attention.self.key.bias', 'embeddings.position_embeddings.weight', 'encoder.layer.9.attention.self.query.bias', 'encoder.layer.3.attention.output.dense.bias', 'encoder.layer.0.attention.self.value.bias', 'encoder.layer.6.output.dense.bias', 'encoder.layer.2.attention.output.LayerNorm.bias', 'encoder.layer.10.attention.output.dense.bias', 'encoder.layer.11.attention.output.dense.bias', 'encoder.layer.5.output.LayerNorm.bias', 'encoder.layer.1.output.dense.bias', 'encoder.layer.10.intermediate.dense.weight', 'encoder.layer.9.attention.output.LayerNorm.bias', 'encoder.layer.1.output.LayerNorm.weight', 'encoder.layer.4.attention.output.LayerNorm.bias', 'encoder.layer.11.attention.self.value.weight', 'encoder.layer.1.attention.self.key.weight', 'encoder.layer.10.attention.self.value.weight', 'encoder.layer.8.attention.self.value.bias', 'embeddings.LayerNorm.weight', 'encoder.layer.7.attention.self.key.bias', 'encoder.layer.4.attention.self.value.weight', 'encoder.layer.7.attention.output.LayerNorm.bias', 'encoder.layer.11.attention.output.LayerNorm.bias', 'encoder.layer.3.output.LayerNorm.weight', 'encoder.layer.9.attention.output.LayerNorm.weight', 'encoder.layer.0.attention.self.query.weight', 'encoder.layer.2.attention.self.key.bias', 'encoder.layer.7.intermediate.dense.bias', 'encoder.layer.10.attention.self.key.weight', 'encoder.layer.1.attention.self.key.bias', 'encoder.layer.6.intermediate.dense.weight', 'encoder.layer.8.output.LayerNorm.weight', 'encoder.layer.4.attention.self.key.bias', 'encoder.layer.5.intermediate.dense.bias', 'encoder.layer.3.attention.self.key.weight', 'encoder.layer.2.attention.self.query.weight', 'encoder.layer.6.attention.output.LayerNorm.weight', 'encoder.layer.4.attention.output.dense.bias', 'encoder.layer.11.attention.self.key.weight', 'encoder.layer.0.attention.output.LayerNorm.weight', 'encoder.layer.10.attention.output.LayerNorm.bias', 'encoder.layer.1.output.dense.weight', 'encoder.layer.3.intermediate.dense.weight', 'encoder.layer.11.output.LayerNorm.weight', 'encoder.layer.10.attention.output.dense.weight', 'encoder.layer.10.attention.output.LayerNorm.weight', 'encoder.layer.3.intermediate.dense.bias', 'encoder.layer.0.attention.self.query.bias', 'encoder.layer.11.attention.output.LayerNorm.weight', 'encoder.layer.8.attention.self.query.weight', 'encoder.layer.6.attention.self.value.bias', 'embeddings.token_type_embeddings.weight', 'encoder.layer.7.attention.self.value.weight', 'encoder.layer.9.attention.self.key.bias', 'encoder.layer.5.attention.output.LayerNorm.bias', 'encoder.layer.7.output.dense.bias', 'encoder.layer.9.intermediate.dense.bias', 'encoder.layer.0.output.dense.bias', 'encoder.layer.4.output.LayerNorm.bias', 'encoder.layer.6.attention.output.LayerNorm.bias', 'encoder.layer.0.intermediate.dense.bias', 'encoder.layer.7.attention.self.query.weight', 'encoder.layer.8.output.dense.bias', 'encoder.layer.8.attention.self.key.weight', 'encoder.layer.3.attention.output.dense.weight', 'encoder.layer.10.attention.self.query.bias', 'encoder.layer.6.output.dense.weight', 'encoder.layer.4.attention.self.query.bias', 'encoder.layer.2.attention.output.LayerNorm.weight', 'encoder.layer.10.output.dense.bias', 'encoder.layer.0.attention.self.value.weight', 'encoder.layer.4.attention.self.key.weight', 'encoder.layer.3.attention.self.key.bias', 'encoder.layer.11.attention.self.query.weight', 'encoder.layer.11.output.dense.weight', 'encoder.layer.8.output.LayerNorm.bias', 'encoder.layer.9.output.LayerNorm.bias', 'encoder.layer.2.output.dense.bias', 'encoder.layer.10.attention.self.query.weight', 'encoder.layer.7.attention.self.key.weight', 'encoder.layer.11.attention.self.key.bias', 'encoder.layer.5.intermediate.dense.weight', 'encoder.layer.5.attention.self.query.weight', 'encoder.layer.5.attention.self.key.bias', 'encoder.layer.5.attention.output.LayerNorm.weight', 'encoder.layer.10.attention.self.value.bias', 'encoder.layer.1.attention.self.value.bias', 'encoder.layer.1.intermediate.dense.weight']\n",
            "You should probably TRAIN this model on a down-stream task to be able to use it for predictions and inference.\n"
          ]
        },
        {
          "output_type": "execute_result",
          "data": {
            "text/plain": [
              "BertForSequenceClassification(\n",
              "  (bert): BertModel(\n",
              "    (embeddings): BertEmbeddings(\n",
              "      (word_embeddings): Embedding(30522, 768, padding_idx=0)\n",
              "      (position_embeddings): Embedding(512, 768)\n",
              "      (token_type_embeddings): Embedding(2, 768)\n",
              "      (LayerNorm): LayerNorm((768,), eps=1e-12, elementwise_affine=True)\n",
              "      (dropout): Dropout(p=0.1, inplace=False)\n",
              "    )\n",
              "    (encoder): BertEncoder(\n",
              "      (layer): ModuleList(\n",
              "        (0-11): 12 x BertLayer(\n",
              "          (attention): BertAttention(\n",
              "            (self): BertSelfAttention(\n",
              "              (query): Linear(in_features=768, out_features=768, bias=True)\n",
              "              (key): Linear(in_features=768, out_features=768, bias=True)\n",
              "              (value): Linear(in_features=768, out_features=768, bias=True)\n",
              "              (dropout): Dropout(p=0.1, inplace=False)\n",
              "            )\n",
              "            (output): BertSelfOutput(\n",
              "              (dense): Linear(in_features=768, out_features=768, bias=True)\n",
              "              (LayerNorm): LayerNorm((768,), eps=1e-12, elementwise_affine=True)\n",
              "              (dropout): Dropout(p=0.1, inplace=False)\n",
              "            )\n",
              "          )\n",
              "          (intermediate): BertIntermediate(\n",
              "            (dense): Linear(in_features=768, out_features=3072, bias=True)\n",
              "            (intermediate_act_fn): GELUActivation()\n",
              "          )\n",
              "          (output): BertOutput(\n",
              "            (dense): Linear(in_features=3072, out_features=768, bias=True)\n",
              "            (LayerNorm): LayerNorm((768,), eps=1e-12, elementwise_affine=True)\n",
              "            (dropout): Dropout(p=0.1, inplace=False)\n",
              "          )\n",
              "        )\n",
              "      )\n",
              "    )\n",
              "    (pooler): BertPooler(\n",
              "      (dense): Linear(in_features=768, out_features=768, bias=True)\n",
              "      (activation): Tanh()\n",
              "    )\n",
              "  )\n",
              "  (dropout): Dropout(p=0.1, inplace=False)\n",
              "  (classifier): Linear(in_features=768, out_features=5, bias=True)\n",
              ")"
            ]
          },
          "metadata": {},
          "execution_count": 96
        }
      ]
    },
    {
      "cell_type": "code",
      "source": [
        "def train(model, data_loader, optimizer, scheduler, device):\n",
        "    model.train()\n",
        "    for batch in data_loader:\n",
        "        optimizer.zero_grad()\n",
        "        input_ids = batch['input_ids'].to(device)\n",
        "        attention_mask = batch['attention_mask'].to(device)\n",
        "        labels = batch['label'].to(device)\n",
        "        outputs = model(input_ids=input_ids, attention_mask=attention_mask)\n",
        "        loss = nn.CrossEntropyLoss()(outputs, labels)\n",
        "        loss.backward()\n",
        "        optimizer.step()\n",
        "        scheduler.step()"
      ],
      "metadata": {
        "id": "iYUS5MNAreU3"
      },
      "id": "iYUS5MNAreU3",
      "execution_count": null,
      "outputs": []
    },
    {
      "cell_type": "code",
      "source": [
        "encoded_dataset = dataset.map(preprocess_function, batched=True)"
      ],
      "metadata": {
        "id": "qaDbVAZpD5G7"
      },
      "id": "qaDbVAZpD5G7",
      "execution_count": null,
      "outputs": []
    },
    {
      "cell_type": "code",
      "source": [
        "modeling_df_modified.columns"
      ],
      "metadata": {
        "colab": {
          "base_uri": "https://localhost:8080/"
        },
        "id": "0qXYteDEALz1",
        "outputId": "f67a2cc3-a866-46bf-9871-359c127ee63f"
      },
      "id": "0qXYteDEALz1",
      "execution_count": null,
      "outputs": [
        {
          "output_type": "execute_result",
          "data": {
            "text/plain": [
              "Index(['Title', 'User_id', 'review', 'review_score', 'clean_review'], dtype='object')"
            ]
          },
          "metadata": {},
          "execution_count": 29
        }
      ]
    },
    {
      "cell_type": "code",
      "source": [
        "len(['stars'].unique())"
      ],
      "metadata": {
        "id": "SsS8OJ2Y_46d"
      },
      "id": "SsS8OJ2Y_46d",
      "execution_count": null,
      "outputs": []
    },
    {
      "cell_type": "code",
      "source": [
        "#tokenizing the whole data set\n",
        "def tokenize(batch):\n",
        "    return tokenizer(batch[\"text\"], padding=True, truncation=True)\n"
      ],
      "metadata": {
        "id": "N9gDN6qbpYVF"
      },
      "id": "N9gDN6qbpYVF",
      "execution_count": null,
      "outputs": []
    },
    {
      "cell_type": "markdown",
      "source": [
        "## BERT V3"
      ],
      "metadata": {
        "id": "7KHhN0reozpi"
      },
      "id": "7KHhN0reozpi"
    },
    {
      "cell_type": "code",
      "source": [
        "#define the model\n",
        "model = BertForSequenceClassification.from_pretrained(\n",
        "    \"bert-base-uncased\",\n",
        "    num_labels = len(modeling_df_modified['review_score'].unique()), # Number of unique labels for our multi-class classification problem.\n",
        "    output_attentions = False,\n",
        "    output_hidden_states = False,\n",
        ")\n",
        "model.to(device)"
      ],
      "metadata": {
        "id": "fNce4CBqo6ch",
        "colab": {
          "base_uri": "https://localhost:8080/",
          "height": 917,
          "referenced_widgets": [
            "d4ce870c3f8147a1af6b4b6378643e32",
            "0256766b614c4eda95f4f35fb5f095ca",
            "2fbf81d3f9a84acf945bb6495cb8b279",
            "5003f6c489714e09a8fa49b38f97676a",
            "3ef2a24f92744479bb3dddb58dd9bb25",
            "2e82949f480740dd8e2f0f2d49468fb0",
            "f54728f59daf4e85b4c98b3802e52104",
            "06563727b92d4176b32a4564e07c4a9d",
            "0169f5badb7f4c259d5af99f362c1f7d",
            "066027201bae4a9083e4f3b82493265d",
            "0f96d720862a4038adede2884d56a86c",
            "d0ada1b26eb341b585e26a4c09ce2446",
            "6f22edc5e19c4784a4c5bd6549ff06fa",
            "cc22ce3c6ea84d16ac2db10c1fc2c5cd",
            "6bcfccdb1d844720ba5871abc129e30e",
            "7ced8c4578fc443998276d366f18d902",
            "aedd9ecb7638451f8c5887a969fda2c7",
            "a51fc09a125149468bf91b8655c0850c",
            "3fac5f4d8ff44c30a1b727b65da47bae",
            "769661f6be3b4ce9abd515265e522925",
            "c3aa359aa3af41fd98a227beb40e6ff1",
            "6bf1f263dcd84da5b41864db08d553c6"
          ]
        },
        "outputId": "753139de-fd59-4de8-9319-c8ce54407d75"
      },
      "id": "fNce4CBqo6ch",
      "execution_count": null,
      "outputs": [
        {
          "output_type": "display_data",
          "data": {
            "text/plain": [
              "config.json:   0%|          | 0.00/570 [00:00<?, ?B/s]"
            ],
            "application/vnd.jupyter.widget-view+json": {
              "version_major": 2,
              "version_minor": 0,
              "model_id": "d4ce870c3f8147a1af6b4b6378643e32"
            }
          },
          "metadata": {}
        },
        {
          "output_type": "display_data",
          "data": {
            "text/plain": [
              "model.safetensors:   0%|          | 0.00/440M [00:00<?, ?B/s]"
            ],
            "application/vnd.jupyter.widget-view+json": {
              "version_major": 2,
              "version_minor": 0,
              "model_id": "d0ada1b26eb341b585e26a4c09ce2446"
            }
          },
          "metadata": {}
        },
        {
          "output_type": "stream",
          "name": "stderr",
          "text": [
            "Some weights of BertForSequenceClassification were not initialized from the model checkpoint at bert-base-uncased and are newly initialized: ['classifier.bias', 'classifier.weight']\n",
            "You should probably TRAIN this model on a down-stream task to be able to use it for predictions and inference.\n"
          ]
        },
        {
          "output_type": "execute_result",
          "data": {
            "text/plain": [
              "BertForSequenceClassification(\n",
              "  (bert): BertModel(\n",
              "    (embeddings): BertEmbeddings(\n",
              "      (word_embeddings): Embedding(30522, 768, padding_idx=0)\n",
              "      (position_embeddings): Embedding(512, 768)\n",
              "      (token_type_embeddings): Embedding(2, 768)\n",
              "      (LayerNorm): LayerNorm((768,), eps=1e-12, elementwise_affine=True)\n",
              "      (dropout): Dropout(p=0.1, inplace=False)\n",
              "    )\n",
              "    (encoder): BertEncoder(\n",
              "      (layer): ModuleList(\n",
              "        (0-11): 12 x BertLayer(\n",
              "          (attention): BertAttention(\n",
              "            (self): BertSelfAttention(\n",
              "              (query): Linear(in_features=768, out_features=768, bias=True)\n",
              "              (key): Linear(in_features=768, out_features=768, bias=True)\n",
              "              (value): Linear(in_features=768, out_features=768, bias=True)\n",
              "              (dropout): Dropout(p=0.1, inplace=False)\n",
              "            )\n",
              "            (output): BertSelfOutput(\n",
              "              (dense): Linear(in_features=768, out_features=768, bias=True)\n",
              "              (LayerNorm): LayerNorm((768,), eps=1e-12, elementwise_affine=True)\n",
              "              (dropout): Dropout(p=0.1, inplace=False)\n",
              "            )\n",
              "          )\n",
              "          (intermediate): BertIntermediate(\n",
              "            (dense): Linear(in_features=768, out_features=3072, bias=True)\n",
              "            (intermediate_act_fn): GELUActivation()\n",
              "          )\n",
              "          (output): BertOutput(\n",
              "            (dense): Linear(in_features=3072, out_features=768, bias=True)\n",
              "            (LayerNorm): LayerNorm((768,), eps=1e-12, elementwise_affine=True)\n",
              "            (dropout): Dropout(p=0.1, inplace=False)\n",
              "          )\n",
              "        )\n",
              "      )\n",
              "    )\n",
              "    (pooler): BertPooler(\n",
              "      (dense): Linear(in_features=768, out_features=768, bias=True)\n",
              "      (activation): Tanh()\n",
              "    )\n",
              "  )\n",
              "  (dropout): Dropout(p=0.1, inplace=False)\n",
              "  (classifier): Linear(in_features=768, out_features=5, bias=True)\n",
              ")"
            ]
          },
          "metadata": {},
          "execution_count": 204
        }
      ]
    },
    {
      "cell_type": "code",
      "source": [],
      "metadata": {
        "id": "_ULk7Wq_fqRq"
      },
      "id": "_ULk7Wq_fqRq",
      "execution_count": null,
      "outputs": []
    },
    {
      "cell_type": "markdown",
      "source": [],
      "metadata": {
        "id": "BKki5OMAjRk1"
      },
      "id": "BKki5OMAjRk1"
    },
    {
      "cell_type": "markdown",
      "source": [
        "## Building a Recommender System"
      ],
      "metadata": {
        "id": "UlR4w-ww3VOV"
      },
      "id": "UlR4w-ww3VOV"
    },
    {
      "cell_type": "code",
      "source": [
        "X_train_transformed_tfidf"
      ],
      "metadata": {
        "colab": {
          "base_uri": "https://localhost:8080/"
        },
        "id": "BgvoQQbjPYiC",
        "outputId": "a9b3140c-89c2-4fcf-a679-04a9acd640e4"
      },
      "id": "BgvoQQbjPYiC",
      "execution_count": null,
      "outputs": [
        {
          "output_type": "execute_result",
          "data": {
            "text/plain": [
              "<75000x1000 sparse matrix of type '<class 'numpy.float64'>'\n",
              "\twith 2662738 stored elements in Compressed Sparse Row format>"
            ]
          },
          "metadata": {},
          "execution_count": 10
        }
      ]
    },
    {
      "cell_type": "code",
      "source": [
        "# Cosine Similarity\n",
        "similarities = cosine_similarity(X_train_transformed_tfidf, dense_output=False)\n",
        "# didn't work"
      ],
      "metadata": {
        "id": "FVXje0cV3Sve"
      },
      "id": "FVXje0cV3Sve",
      "execution_count": null,
      "outputs": []
    },
    {
      "cell_type": "code",
      "source": [
        "cos_similarity_tfidf = cosine_similarity(X_train_transformed_tfidf, dense_output=False)"
      ],
      "metadata": {
        "id": "Sxbu6Rrrgix5"
      },
      "id": "Sxbu6Rrrgix5",
      "execution_count": null,
      "outputs": []
    },
    {
      "cell_type": "code",
      "source": [
        "similarities.shape"
      ],
      "metadata": {
        "id": "EONiBZgpDP4A",
        "colab": {
          "base_uri": "https://localhost:8080/"
        },
        "outputId": "5dd8d3ec-4b71-436a-fc76-5f795b36bf41"
      },
      "id": "EONiBZgpDP4A",
      "execution_count": null,
      "outputs": [
        {
          "output_type": "execute_result",
          "data": {
            "text/plain": [
              "(7500, 7500)"
            ]
          },
          "metadata": {},
          "execution_count": 13
        }
      ]
    },
    {
      "cell_type": "markdown",
      "source": [
        "Let's run this through a sample user's reviews."
      ],
      "metadata": {
        "id": "uQt1rQNM68rN"
      },
      "id": "uQt1rQNM68rN"
    },
    {
      "cell_type": "code",
      "source": [
        "def book_recommender_by_user_reviews(user, review, similarities) :\n",
        "\n",
        "    # Get the reviews by the user\n",
        "    review_index = review[review['review'] == user].index\n",
        "\n",
        "    # Create a dataframe with the book reviews\n",
        "    sim_df = pd.DataFrame(\n",
        "        {'book': review['Title'],\n",
        "         'sample review': review['review'],\n",
        "         'similarity': np.array(similarities[review_index, :].todense()).squeeze(),\n",
        "        })\n",
        "\n",
        "    # Get the top 10 book with > 10 votes\n",
        "    top_books = sim_df.sort_values(by='similarity', ascending=False).head(10)\n",
        "\n",
        "    return top_books"
      ],
      "metadata": {
        "id": "iXcqP3fU7Y9B"
      },
      "id": "iXcqP3fU7Y9B",
      "execution_count": null,
      "outputs": []
    },
    {
      "cell_type": "code",
      "source": [
        "test = \"Mr. Smiley uses the approach of solving real-world problems\""
      ],
      "metadata": {
        "id": "cXyGfkD1xCwZ"
      },
      "id": "cXyGfkD1xCwZ",
      "execution_count": null,
      "outputs": []
    },
    {
      "cell_type": "code",
      "source": [
        "books_unique = modeling_df.Title.unique()\n",
        "books_unique"
      ],
      "metadata": {
        "colab": {
          "base_uri": "https://localhost:8080/"
        },
        "id": "7jKm9FZ1yg1f",
        "outputId": "4f99d209-10ad-406e-f5b9-e4350301e597"
      },
      "id": "7jKm9FZ1yg1f",
      "execution_count": null,
      "outputs": [
        {
          "output_type": "execute_result",
          "data": {
            "text/plain": [
              "array(['Mouse Tales: A Behind-the-Ears Look at Disneyland: Golden Anniversary Special Edition (Hardcover Book with Audio CD)',\n",
              "       'WAR AS I KNEW IT.',\n",
              "       \"The Shelters Of Stone - The Earth's Children Series, Book 5\", ...,\n",
              "       'Cater Your Own Wedding: Easy Ways to Do It Yourself in Style',\n",
              "       'Angel Letters',\n",
              "       \"Grace abounding to the chief of sinners & The life & death of Mr. Badman, (Everyman's library. Theology & philosophy)\"],\n",
              "      dtype=object)"
            ]
          },
          "metadata": {},
          "execution_count": 36
        }
      ]
    },
    {
      "cell_type": "code",
      "source": [
        "item_ratings = {}\n",
        "for item in books_unique:\n",
        "    predicted_rating = X_train_transformed_tfidf.predict(modeling_df.review[0], item).est\n",
        "    item_ratings[item] = predicted_rating"
      ],
      "metadata": {
        "colab": {
          "base_uri": "https://localhost:8080/",
          "height": 228
        },
        "id": "98pIt3S-y2Zg",
        "outputId": "776b3687-726a-4a42-d6fe-3c5ada673d55"
      },
      "id": "98pIt3S-y2Zg",
      "execution_count": null,
      "outputs": [
        {
          "output_type": "error",
          "ename": "AttributeError",
          "evalue": "'csr_matrix' object has no attribute 'predict'",
          "traceback": [
            "\u001b[0;31m---------------------------------------------------------------------------\u001b[0m",
            "\u001b[0;31mAttributeError\u001b[0m                            Traceback (most recent call last)",
            "\u001b[0;32m<ipython-input-39-357aaaae5077>\u001b[0m in \u001b[0;36m<cell line: 2>\u001b[0;34m()\u001b[0m\n\u001b[1;32m      1\u001b[0m \u001b[0mitem_ratings\u001b[0m \u001b[0;34m=\u001b[0m \u001b[0;34m{\u001b[0m\u001b[0;34m}\u001b[0m\u001b[0;34m\u001b[0m\u001b[0;34m\u001b[0m\u001b[0m\n\u001b[1;32m      2\u001b[0m \u001b[0;32mfor\u001b[0m \u001b[0mitem\u001b[0m \u001b[0;32min\u001b[0m \u001b[0mbooks_unique\u001b[0m\u001b[0;34m:\u001b[0m\u001b[0;34m\u001b[0m\u001b[0;34m\u001b[0m\u001b[0m\n\u001b[0;32m----> 3\u001b[0;31m     \u001b[0mpredicted_rating\u001b[0m \u001b[0;34m=\u001b[0m \u001b[0mX_train_transformed_tfidf\u001b[0m\u001b[0;34m.\u001b[0m\u001b[0mpredict\u001b[0m\u001b[0;34m(\u001b[0m\u001b[0mmodeling_df\u001b[0m\u001b[0;34m.\u001b[0m\u001b[0mreview\u001b[0m\u001b[0;34m[\u001b[0m\u001b[0;36m0\u001b[0m\u001b[0;34m]\u001b[0m\u001b[0;34m,\u001b[0m \u001b[0mitem\u001b[0m\u001b[0;34m)\u001b[0m\u001b[0;34m.\u001b[0m\u001b[0mest\u001b[0m\u001b[0;34m\u001b[0m\u001b[0;34m\u001b[0m\u001b[0m\n\u001b[0m\u001b[1;32m      4\u001b[0m     \u001b[0mitem_ratings\u001b[0m\u001b[0;34m[\u001b[0m\u001b[0mitem\u001b[0m\u001b[0;34m]\u001b[0m \u001b[0;34m=\u001b[0m \u001b[0mpredicted_rating\u001b[0m\u001b[0;34m\u001b[0m\u001b[0;34m\u001b[0m\u001b[0m\n",
            "\u001b[0;31mAttributeError\u001b[0m: 'csr_matrix' object has no attribute 'predict'"
          ]
        }
      ]
    },
    {
      "cell_type": "code",
      "source": [
        "def book_recommendations(i, M, items, k=10):\n",
        "    \"\"\"\n",
        "    Recommends movies based on a similarity dataframe\n",
        "    Parameters\n",
        "    ----------\n",
        "    i : str\n",
        "        book title (index of the similarity dataframe)\n",
        "    M : pd.DataFrame\n",
        "        Similarity dataframe, symmetric, with movies as indices and columns\n",
        "    items : pd.DataFrame\n",
        "        Contains both the title and some other features used to define similarity\n",
        "    k : int\n",
        "        Amount of recommendations to return\n",
        "    \"\"\"\n",
        "    ix = M.loc[:,i].to_numpy().argpartition(range(-1,-k,-1))\n",
        "    closest = M.columns[ix[-1:-(k+2):-1]]\n",
        "    closest = closest.drop(i, errors='ignore')\n",
        "    return pd.DataFrame(closest).merge(items).head(k)\n"
      ],
      "metadata": {
        "id": "YvQ1A81w0wLx"
      },
      "id": "YvQ1A81w0wLx",
      "execution_count": null,
      "outputs": []
    },
    {
      "cell_type": "code",
      "source": [
        " book_recommendations(\"\", modeling_df, similarities)"
      ],
      "metadata": {
        "colab": {
          "base_uri": "https://localhost:8080/",
          "height": 581
        },
        "id": "CJA5f3s90-E_",
        "outputId": "0df4ee44-90a1-475d-be85-a16e12460957"
      },
      "id": "CJA5f3s90-E_",
      "execution_count": null,
      "outputs": [
        {
          "output_type": "error",
          "ename": "KeyError",
          "evalue": "\"Mr. Smiley uses the approach of solving real-world programming problems to guide beginners through the world of Visual Basic operations. The book is beautifully written, and I found myself able to easily identify with some of the people mentioned. All in all a good buy if you're wanting to learn the basics (and some intermediate programming too).\"",
          "traceback": [
            "\u001b[0;31m---------------------------------------------------------------------------\u001b[0m",
            "\u001b[0;31mKeyError\u001b[0m                                  Traceback (most recent call last)",
            "\u001b[0;32m/usr/local/lib/python3.10/dist-packages/pandas/core/indexes/base.py\u001b[0m in \u001b[0;36mget_loc\u001b[0;34m(self, key, method, tolerance)\u001b[0m\n\u001b[1;32m   3801\u001b[0m             \u001b[0;32mtry\u001b[0m\u001b[0;34m:\u001b[0m\u001b[0;34m\u001b[0m\u001b[0;34m\u001b[0m\u001b[0m\n\u001b[0;32m-> 3802\u001b[0;31m                 \u001b[0;32mreturn\u001b[0m \u001b[0mself\u001b[0m\u001b[0;34m.\u001b[0m\u001b[0m_engine\u001b[0m\u001b[0;34m.\u001b[0m\u001b[0mget_loc\u001b[0m\u001b[0;34m(\u001b[0m\u001b[0mcasted_key\u001b[0m\u001b[0;34m)\u001b[0m\u001b[0;34m\u001b[0m\u001b[0;34m\u001b[0m\u001b[0m\n\u001b[0m\u001b[1;32m   3803\u001b[0m             \u001b[0;32mexcept\u001b[0m \u001b[0mKeyError\u001b[0m \u001b[0;32mas\u001b[0m \u001b[0merr\u001b[0m\u001b[0;34m:\u001b[0m\u001b[0;34m\u001b[0m\u001b[0;34m\u001b[0m\u001b[0m\n",
            "\u001b[0;32m/usr/local/lib/python3.10/dist-packages/pandas/_libs/index.pyx\u001b[0m in \u001b[0;36mpandas._libs.index.IndexEngine.get_loc\u001b[0;34m()\u001b[0m\n",
            "\u001b[0;32m/usr/local/lib/python3.10/dist-packages/pandas/_libs/index.pyx\u001b[0m in \u001b[0;36mpandas._libs.index.IndexEngine.get_loc\u001b[0;34m()\u001b[0m\n",
            "\u001b[0;32mpandas/_libs/hashtable_class_helper.pxi\u001b[0m in \u001b[0;36mpandas._libs.hashtable.PyObjectHashTable.get_item\u001b[0;34m()\u001b[0m\n",
            "\u001b[0;32mpandas/_libs/hashtable_class_helper.pxi\u001b[0m in \u001b[0;36mpandas._libs.hashtable.PyObjectHashTable.get_item\u001b[0;34m()\u001b[0m\n",
            "\u001b[0;31mKeyError\u001b[0m: \"Mr. Smiley uses the approach of solving real-world programming problems to guide beginners through the world of Visual Basic operations. The book is beautifully written, and I found myself able to easily identify with some of the people mentioned. All in all a good buy if you're wanting to learn the basics (and some intermediate programming too).\"",
            "\nThe above exception was the direct cause of the following exception:\n",
            "\u001b[0;31mKeyError\u001b[0m                                  Traceback (most recent call last)",
            "\u001b[0;32m<ipython-input-53-ee520e3921fe>\u001b[0m in \u001b[0;36m<cell line: 1>\u001b[0;34m()\u001b[0m\n\u001b[0;32m----> 1\u001b[0;31m \u001b[0mbook_recommendations\u001b[0m\u001b[0;34m(\u001b[0m\u001b[0;34m\"Mr. Smiley uses the approach of solving real-world programming problems to guide beginners through the world of Visual Basic operations. The book is beautifully written, and I found myself able to easily identify with some of the people mentioned. All in all a good buy if you're wanting to learn the basics (and some intermediate programming too).\"\u001b[0m\u001b[0;34m,\u001b[0m \u001b[0mmodeling_df\u001b[0m\u001b[0;34m,\u001b[0m \u001b[0msimilarities\u001b[0m\u001b[0;34m)\u001b[0m\u001b[0;34m\u001b[0m\u001b[0;34m\u001b[0m\u001b[0m\n\u001b[0m",
            "\u001b[0;32m<ipython-input-52-7ad106ab45e6>\u001b[0m in \u001b[0;36mbook_recommendations\u001b[0;34m(i, M, items, k)\u001b[0m\n\u001b[1;32m     13\u001b[0m         \u001b[0mAmount\u001b[0m \u001b[0mof\u001b[0m \u001b[0mrecommendations\u001b[0m \u001b[0mto\u001b[0m \u001b[0;32mreturn\u001b[0m\u001b[0;34m\u001b[0m\u001b[0;34m\u001b[0m\u001b[0m\n\u001b[1;32m     14\u001b[0m     \"\"\"\n\u001b[0;32m---> 15\u001b[0;31m     \u001b[0mix\u001b[0m \u001b[0;34m=\u001b[0m \u001b[0mM\u001b[0m\u001b[0;34m.\u001b[0m\u001b[0mloc\u001b[0m\u001b[0;34m[\u001b[0m\u001b[0;34m:\u001b[0m\u001b[0;34m,\u001b[0m\u001b[0mi\u001b[0m\u001b[0;34m]\u001b[0m\u001b[0;34m.\u001b[0m\u001b[0mto_numpy\u001b[0m\u001b[0;34m(\u001b[0m\u001b[0;34m)\u001b[0m\u001b[0;34m.\u001b[0m\u001b[0margpartition\u001b[0m\u001b[0;34m(\u001b[0m\u001b[0mrange\u001b[0m\u001b[0;34m(\u001b[0m\u001b[0;34m-\u001b[0m\u001b[0;36m1\u001b[0m\u001b[0;34m,\u001b[0m\u001b[0;34m-\u001b[0m\u001b[0mk\u001b[0m\u001b[0;34m,\u001b[0m\u001b[0;34m-\u001b[0m\u001b[0;36m1\u001b[0m\u001b[0;34m)\u001b[0m\u001b[0;34m)\u001b[0m\u001b[0;34m\u001b[0m\u001b[0;34m\u001b[0m\u001b[0m\n\u001b[0m\u001b[1;32m     16\u001b[0m     \u001b[0mclosest\u001b[0m \u001b[0;34m=\u001b[0m \u001b[0mM\u001b[0m\u001b[0;34m.\u001b[0m\u001b[0mcolumns\u001b[0m\u001b[0;34m[\u001b[0m\u001b[0mix\u001b[0m\u001b[0;34m[\u001b[0m\u001b[0;34m-\u001b[0m\u001b[0;36m1\u001b[0m\u001b[0;34m:\u001b[0m\u001b[0;34m-\u001b[0m\u001b[0;34m(\u001b[0m\u001b[0mk\u001b[0m\u001b[0;34m+\u001b[0m\u001b[0;36m2\u001b[0m\u001b[0;34m)\u001b[0m\u001b[0;34m:\u001b[0m\u001b[0;34m-\u001b[0m\u001b[0;36m1\u001b[0m\u001b[0;34m]\u001b[0m\u001b[0;34m]\u001b[0m\u001b[0;34m\u001b[0m\u001b[0;34m\u001b[0m\u001b[0m\n\u001b[1;32m     17\u001b[0m     \u001b[0mclosest\u001b[0m \u001b[0;34m=\u001b[0m \u001b[0mclosest\u001b[0m\u001b[0;34m.\u001b[0m\u001b[0mdrop\u001b[0m\u001b[0;34m(\u001b[0m\u001b[0mi\u001b[0m\u001b[0;34m,\u001b[0m \u001b[0merrors\u001b[0m\u001b[0;34m=\u001b[0m\u001b[0;34m'ignore'\u001b[0m\u001b[0;34m)\u001b[0m\u001b[0;34m\u001b[0m\u001b[0;34m\u001b[0m\u001b[0m\n",
            "\u001b[0;32m/usr/local/lib/python3.10/dist-packages/pandas/core/indexing.py\u001b[0m in \u001b[0;36m__getitem__\u001b[0;34m(self, key)\u001b[0m\n\u001b[1;32m   1065\u001b[0m             \u001b[0;32mif\u001b[0m \u001b[0mself\u001b[0m\u001b[0;34m.\u001b[0m\u001b[0m_is_scalar_access\u001b[0m\u001b[0;34m(\u001b[0m\u001b[0mkey\u001b[0m\u001b[0;34m)\u001b[0m\u001b[0;34m:\u001b[0m\u001b[0;34m\u001b[0m\u001b[0;34m\u001b[0m\u001b[0m\n\u001b[1;32m   1066\u001b[0m                 \u001b[0;32mreturn\u001b[0m \u001b[0mself\u001b[0m\u001b[0;34m.\u001b[0m\u001b[0mobj\u001b[0m\u001b[0;34m.\u001b[0m\u001b[0m_get_value\u001b[0m\u001b[0;34m(\u001b[0m\u001b[0;34m*\u001b[0m\u001b[0mkey\u001b[0m\u001b[0;34m,\u001b[0m \u001b[0mtakeable\u001b[0m\u001b[0;34m=\u001b[0m\u001b[0mself\u001b[0m\u001b[0;34m.\u001b[0m\u001b[0m_takeable\u001b[0m\u001b[0;34m)\u001b[0m\u001b[0;34m\u001b[0m\u001b[0;34m\u001b[0m\u001b[0m\n\u001b[0;32m-> 1067\u001b[0;31m             \u001b[0;32mreturn\u001b[0m \u001b[0mself\u001b[0m\u001b[0;34m.\u001b[0m\u001b[0m_getitem_tuple\u001b[0m\u001b[0;34m(\u001b[0m\u001b[0mkey\u001b[0m\u001b[0;34m)\u001b[0m\u001b[0;34m\u001b[0m\u001b[0;34m\u001b[0m\u001b[0m\n\u001b[0m\u001b[1;32m   1068\u001b[0m         \u001b[0;32melse\u001b[0m\u001b[0;34m:\u001b[0m\u001b[0;34m\u001b[0m\u001b[0;34m\u001b[0m\u001b[0m\n\u001b[1;32m   1069\u001b[0m             \u001b[0;31m# we by definition only have the 0th axis\u001b[0m\u001b[0;34m\u001b[0m\u001b[0;34m\u001b[0m\u001b[0m\n",
            "\u001b[0;32m/usr/local/lib/python3.10/dist-packages/pandas/core/indexing.py\u001b[0m in \u001b[0;36m_getitem_tuple\u001b[0;34m(self, tup)\u001b[0m\n\u001b[1;32m   1245\u001b[0m         \u001b[0;32mwith\u001b[0m \u001b[0msuppress\u001b[0m\u001b[0;34m(\u001b[0m\u001b[0mIndexingError\u001b[0m\u001b[0;34m)\u001b[0m\u001b[0;34m:\u001b[0m\u001b[0;34m\u001b[0m\u001b[0;34m\u001b[0m\u001b[0m\n\u001b[1;32m   1246\u001b[0m             \u001b[0mtup\u001b[0m \u001b[0;34m=\u001b[0m \u001b[0mself\u001b[0m\u001b[0;34m.\u001b[0m\u001b[0m_expand_ellipsis\u001b[0m\u001b[0;34m(\u001b[0m\u001b[0mtup\u001b[0m\u001b[0;34m)\u001b[0m\u001b[0;34m\u001b[0m\u001b[0;34m\u001b[0m\u001b[0m\n\u001b[0;32m-> 1247\u001b[0;31m             \u001b[0;32mreturn\u001b[0m \u001b[0mself\u001b[0m\u001b[0;34m.\u001b[0m\u001b[0m_getitem_lowerdim\u001b[0m\u001b[0;34m(\u001b[0m\u001b[0mtup\u001b[0m\u001b[0;34m)\u001b[0m\u001b[0;34m\u001b[0m\u001b[0;34m\u001b[0m\u001b[0m\n\u001b[0m\u001b[1;32m   1248\u001b[0m \u001b[0;34m\u001b[0m\u001b[0m\n\u001b[1;32m   1249\u001b[0m         \u001b[0;31m# no multi-index, so validate all of the indexers\u001b[0m\u001b[0;34m\u001b[0m\u001b[0;34m\u001b[0m\u001b[0m\n",
            "\u001b[0;32m/usr/local/lib/python3.10/dist-packages/pandas/core/indexing.py\u001b[0m in \u001b[0;36m_getitem_lowerdim\u001b[0;34m(self, tup)\u001b[0m\n\u001b[1;32m    965\u001b[0m                 \u001b[0;31m# We don't need to check for tuples here because those are\u001b[0m\u001b[0;34m\u001b[0m\u001b[0;34m\u001b[0m\u001b[0m\n\u001b[1;32m    966\u001b[0m                 \u001b[0;31m#  caught by the _is_nested_tuple_indexer check above.\u001b[0m\u001b[0;34m\u001b[0m\u001b[0;34m\u001b[0m\u001b[0m\n\u001b[0;32m--> 967\u001b[0;31m                 \u001b[0msection\u001b[0m \u001b[0;34m=\u001b[0m \u001b[0mself\u001b[0m\u001b[0;34m.\u001b[0m\u001b[0m_getitem_axis\u001b[0m\u001b[0;34m(\u001b[0m\u001b[0mkey\u001b[0m\u001b[0;34m,\u001b[0m \u001b[0maxis\u001b[0m\u001b[0;34m=\u001b[0m\u001b[0mi\u001b[0m\u001b[0;34m)\u001b[0m\u001b[0;34m\u001b[0m\u001b[0;34m\u001b[0m\u001b[0m\n\u001b[0m\u001b[1;32m    968\u001b[0m \u001b[0;34m\u001b[0m\u001b[0m\n\u001b[1;32m    969\u001b[0m                 \u001b[0;31m# We should never have a scalar section here, because\u001b[0m\u001b[0;34m\u001b[0m\u001b[0;34m\u001b[0m\u001b[0m\n",
            "\u001b[0;32m/usr/local/lib/python3.10/dist-packages/pandas/core/indexing.py\u001b[0m in \u001b[0;36m_getitem_axis\u001b[0;34m(self, key, axis)\u001b[0m\n\u001b[1;32m   1310\u001b[0m         \u001b[0;31m# fall thru to straight lookup\u001b[0m\u001b[0;34m\u001b[0m\u001b[0;34m\u001b[0m\u001b[0m\n\u001b[1;32m   1311\u001b[0m         \u001b[0mself\u001b[0m\u001b[0;34m.\u001b[0m\u001b[0m_validate_key\u001b[0m\u001b[0;34m(\u001b[0m\u001b[0mkey\u001b[0m\u001b[0;34m,\u001b[0m \u001b[0maxis\u001b[0m\u001b[0;34m)\u001b[0m\u001b[0;34m\u001b[0m\u001b[0;34m\u001b[0m\u001b[0m\n\u001b[0;32m-> 1312\u001b[0;31m         \u001b[0;32mreturn\u001b[0m \u001b[0mself\u001b[0m\u001b[0;34m.\u001b[0m\u001b[0m_get_label\u001b[0m\u001b[0;34m(\u001b[0m\u001b[0mkey\u001b[0m\u001b[0;34m,\u001b[0m \u001b[0maxis\u001b[0m\u001b[0;34m=\u001b[0m\u001b[0maxis\u001b[0m\u001b[0;34m)\u001b[0m\u001b[0;34m\u001b[0m\u001b[0;34m\u001b[0m\u001b[0m\n\u001b[0m\u001b[1;32m   1313\u001b[0m \u001b[0;34m\u001b[0m\u001b[0m\n\u001b[1;32m   1314\u001b[0m     \u001b[0;32mdef\u001b[0m \u001b[0m_get_slice_axis\u001b[0m\u001b[0;34m(\u001b[0m\u001b[0mself\u001b[0m\u001b[0;34m,\u001b[0m \u001b[0mslice_obj\u001b[0m\u001b[0;34m:\u001b[0m \u001b[0mslice\u001b[0m\u001b[0;34m,\u001b[0m \u001b[0maxis\u001b[0m\u001b[0;34m:\u001b[0m \u001b[0mint\u001b[0m\u001b[0;34m)\u001b[0m\u001b[0;34m:\u001b[0m\u001b[0;34m\u001b[0m\u001b[0;34m\u001b[0m\u001b[0m\n",
            "\u001b[0;32m/usr/local/lib/python3.10/dist-packages/pandas/core/indexing.py\u001b[0m in \u001b[0;36m_get_label\u001b[0;34m(self, label, axis)\u001b[0m\n\u001b[1;32m   1258\u001b[0m     \u001b[0;32mdef\u001b[0m \u001b[0m_get_label\u001b[0m\u001b[0;34m(\u001b[0m\u001b[0mself\u001b[0m\u001b[0;34m,\u001b[0m \u001b[0mlabel\u001b[0m\u001b[0;34m,\u001b[0m \u001b[0maxis\u001b[0m\u001b[0;34m:\u001b[0m \u001b[0mint\u001b[0m\u001b[0;34m)\u001b[0m\u001b[0;34m:\u001b[0m\u001b[0;34m\u001b[0m\u001b[0;34m\u001b[0m\u001b[0m\n\u001b[1;32m   1259\u001b[0m         \u001b[0;31m# GH#5567 this will fail if the label is not present in the axis.\u001b[0m\u001b[0;34m\u001b[0m\u001b[0;34m\u001b[0m\u001b[0m\n\u001b[0;32m-> 1260\u001b[0;31m         \u001b[0;32mreturn\u001b[0m \u001b[0mself\u001b[0m\u001b[0;34m.\u001b[0m\u001b[0mobj\u001b[0m\u001b[0;34m.\u001b[0m\u001b[0mxs\u001b[0m\u001b[0;34m(\u001b[0m\u001b[0mlabel\u001b[0m\u001b[0;34m,\u001b[0m \u001b[0maxis\u001b[0m\u001b[0;34m=\u001b[0m\u001b[0maxis\u001b[0m\u001b[0;34m)\u001b[0m\u001b[0;34m\u001b[0m\u001b[0;34m\u001b[0m\u001b[0m\n\u001b[0m\u001b[1;32m   1261\u001b[0m \u001b[0;34m\u001b[0m\u001b[0m\n\u001b[1;32m   1262\u001b[0m     \u001b[0;32mdef\u001b[0m \u001b[0m_handle_lowerdim_multi_index_axis0\u001b[0m\u001b[0;34m(\u001b[0m\u001b[0mself\u001b[0m\u001b[0;34m,\u001b[0m \u001b[0mtup\u001b[0m\u001b[0;34m:\u001b[0m \u001b[0mtuple\u001b[0m\u001b[0;34m)\u001b[0m\u001b[0;34m:\u001b[0m\u001b[0;34m\u001b[0m\u001b[0;34m\u001b[0m\u001b[0m\n",
            "\u001b[0;32m/usr/local/lib/python3.10/dist-packages/pandas/core/generic.py\u001b[0m in \u001b[0;36mxs\u001b[0;34m(self, key, axis, level, drop_level)\u001b[0m\n\u001b[1;32m   4039\u001b[0m         \u001b[0;32mif\u001b[0m \u001b[0maxis\u001b[0m \u001b[0;34m==\u001b[0m \u001b[0;36m1\u001b[0m\u001b[0;34m:\u001b[0m\u001b[0;34m\u001b[0m\u001b[0;34m\u001b[0m\u001b[0m\n\u001b[1;32m   4040\u001b[0m             \u001b[0;32mif\u001b[0m \u001b[0mdrop_level\u001b[0m\u001b[0;34m:\u001b[0m\u001b[0;34m\u001b[0m\u001b[0;34m\u001b[0m\u001b[0m\n\u001b[0;32m-> 4041\u001b[0;31m                 \u001b[0;32mreturn\u001b[0m \u001b[0mself\u001b[0m\u001b[0;34m[\u001b[0m\u001b[0mkey\u001b[0m\u001b[0;34m]\u001b[0m\u001b[0;34m\u001b[0m\u001b[0;34m\u001b[0m\u001b[0m\n\u001b[0m\u001b[1;32m   4042\u001b[0m             \u001b[0mindex\u001b[0m \u001b[0;34m=\u001b[0m \u001b[0mself\u001b[0m\u001b[0;34m.\u001b[0m\u001b[0mcolumns\u001b[0m\u001b[0;34m\u001b[0m\u001b[0;34m\u001b[0m\u001b[0m\n\u001b[1;32m   4043\u001b[0m         \u001b[0;32melse\u001b[0m\u001b[0;34m:\u001b[0m\u001b[0;34m\u001b[0m\u001b[0;34m\u001b[0m\u001b[0m\n",
            "\u001b[0;32m/usr/local/lib/python3.10/dist-packages/pandas/core/frame.py\u001b[0m in \u001b[0;36m__getitem__\u001b[0;34m(self, key)\u001b[0m\n\u001b[1;32m   3805\u001b[0m             \u001b[0;32mif\u001b[0m \u001b[0mself\u001b[0m\u001b[0;34m.\u001b[0m\u001b[0mcolumns\u001b[0m\u001b[0;34m.\u001b[0m\u001b[0mnlevels\u001b[0m \u001b[0;34m>\u001b[0m \u001b[0;36m1\u001b[0m\u001b[0;34m:\u001b[0m\u001b[0;34m\u001b[0m\u001b[0;34m\u001b[0m\u001b[0m\n\u001b[1;32m   3806\u001b[0m                 \u001b[0;32mreturn\u001b[0m \u001b[0mself\u001b[0m\u001b[0;34m.\u001b[0m\u001b[0m_getitem_multilevel\u001b[0m\u001b[0;34m(\u001b[0m\u001b[0mkey\u001b[0m\u001b[0;34m)\u001b[0m\u001b[0;34m\u001b[0m\u001b[0;34m\u001b[0m\u001b[0m\n\u001b[0;32m-> 3807\u001b[0;31m             \u001b[0mindexer\u001b[0m \u001b[0;34m=\u001b[0m \u001b[0mself\u001b[0m\u001b[0;34m.\u001b[0m\u001b[0mcolumns\u001b[0m\u001b[0;34m.\u001b[0m\u001b[0mget_loc\u001b[0m\u001b[0;34m(\u001b[0m\u001b[0mkey\u001b[0m\u001b[0;34m)\u001b[0m\u001b[0;34m\u001b[0m\u001b[0;34m\u001b[0m\u001b[0m\n\u001b[0m\u001b[1;32m   3808\u001b[0m             \u001b[0;32mif\u001b[0m \u001b[0mis_integer\u001b[0m\u001b[0;34m(\u001b[0m\u001b[0mindexer\u001b[0m\u001b[0;34m)\u001b[0m\u001b[0;34m:\u001b[0m\u001b[0;34m\u001b[0m\u001b[0;34m\u001b[0m\u001b[0m\n\u001b[1;32m   3809\u001b[0m                 \u001b[0mindexer\u001b[0m \u001b[0;34m=\u001b[0m \u001b[0;34m[\u001b[0m\u001b[0mindexer\u001b[0m\u001b[0;34m]\u001b[0m\u001b[0;34m\u001b[0m\u001b[0;34m\u001b[0m\u001b[0m\n",
            "\u001b[0;32m/usr/local/lib/python3.10/dist-packages/pandas/core/indexes/base.py\u001b[0m in \u001b[0;36mget_loc\u001b[0;34m(self, key, method, tolerance)\u001b[0m\n\u001b[1;32m   3802\u001b[0m                 \u001b[0;32mreturn\u001b[0m \u001b[0mself\u001b[0m\u001b[0;34m.\u001b[0m\u001b[0m_engine\u001b[0m\u001b[0;34m.\u001b[0m\u001b[0mget_loc\u001b[0m\u001b[0;34m(\u001b[0m\u001b[0mcasted_key\u001b[0m\u001b[0;34m)\u001b[0m\u001b[0;34m\u001b[0m\u001b[0;34m\u001b[0m\u001b[0m\n\u001b[1;32m   3803\u001b[0m             \u001b[0;32mexcept\u001b[0m \u001b[0mKeyError\u001b[0m \u001b[0;32mas\u001b[0m \u001b[0merr\u001b[0m\u001b[0;34m:\u001b[0m\u001b[0;34m\u001b[0m\u001b[0;34m\u001b[0m\u001b[0m\n\u001b[0;32m-> 3804\u001b[0;31m                 \u001b[0;32mraise\u001b[0m \u001b[0mKeyError\u001b[0m\u001b[0;34m(\u001b[0m\u001b[0mkey\u001b[0m\u001b[0;34m)\u001b[0m \u001b[0;32mfrom\u001b[0m \u001b[0merr\u001b[0m\u001b[0;34m\u001b[0m\u001b[0;34m\u001b[0m\u001b[0m\n\u001b[0m\u001b[1;32m   3805\u001b[0m             \u001b[0;32mexcept\u001b[0m \u001b[0mTypeError\u001b[0m\u001b[0;34m:\u001b[0m\u001b[0;34m\u001b[0m\u001b[0;34m\u001b[0m\u001b[0m\n\u001b[1;32m   3806\u001b[0m                 \u001b[0;31m# If we have a listlike key, _check_indexing_error will raise\u001b[0m\u001b[0;34m\u001b[0m\u001b[0;34m\u001b[0m\u001b[0m\n",
            "\u001b[0;31mKeyError\u001b[0m: \"Mr. Smiley uses the approach of solving real-world programming problems to guide beginners through the world of Visual Basic operations. The book is beautifully written, and I found myself able to easily identify with some of the people mentioned. All in all a good buy if you're wanting to learn the basics (and some intermediate programming too).\""
          ]
        }
      ]
    },
    {
      "cell_type": "code",
      "source": [
        "modeling_df.iloc[4]['review']"
      ],
      "metadata": {
        "colab": {
          "base_uri": "https://localhost:8080/",
          "height": 71
        },
        "id": "foQb7q1e1ps1",
        "outputId": "138a632d-3c61-4ea2-e5e3-11c83764ed42"
      },
      "id": "foQb7q1e1ps1",
      "execution_count": null,
      "outputs": [
        {
          "output_type": "execute_result",
          "data": {
            "text/plain": [
              "\"Mr. Smiley uses the approach of solving real-world programming problems to guide beginners through the world of Visual Basic operations. The book is beautifully written, and I found myself able to easily identify with some of the people mentioned. All in all a good buy if you're wanting to learn the basics (and some intermediate programming too).\""
            ],
            "application/vnd.google.colaboratory.intrinsic+json": {
              "type": "string"
            }
          },
          "metadata": {},
          "execution_count": 50
        }
      ]
    },
    {
      "cell_type": "markdown",
      "source": [],
      "metadata": {
        "id": "wifL2fNe1opm"
      },
      "id": "wifL2fNe1opm"
    },
    {
      "cell_type": "code",
      "source": [],
      "metadata": {
        "id": "DIl1gotn1phq"
      },
      "id": "DIl1gotn1phq",
      "execution_count": null,
      "outputs": []
    },
    {
      "cell_type": "code",
      "source": [
        "similar_books = book_recommender_by_user_reviews(\"A22X4XUPKF66MR\", modeling_df, similarities)\n",
        "similar_books.head(10)"
      ],
      "metadata": {
        "colab": {
          "base_uri": "https://localhost:8080/",
          "height": 338
        },
        "id": "_ODN5e8EDL87",
        "outputId": "51a090be-68c1-429d-ef17-5b7cfc6108b0"
      },
      "id": "_ODN5e8EDL87",
      "execution_count": null,
      "outputs": [
        {
          "output_type": "error",
          "ename": "ValueError",
          "evalue": "Per-column arrays must each be 1-dimensional",
          "traceback": [
            "\u001b[0;31m---------------------------------------------------------------------------\u001b[0m",
            "\u001b[0;31mValueError\u001b[0m                                Traceback (most recent call last)",
            "\u001b[0;32m<ipython-input-34-9caca50d3332>\u001b[0m in \u001b[0;36m<cell line: 1>\u001b[0;34m()\u001b[0m\n\u001b[0;32m----> 1\u001b[0;31m \u001b[0msimilar_books\u001b[0m \u001b[0;34m=\u001b[0m \u001b[0mbook_recommender_by_user_reviews\u001b[0m\u001b[0;34m(\u001b[0m\u001b[0;34m\"A22X4XUPKF66MR\"\u001b[0m\u001b[0;34m,\u001b[0m \u001b[0mmodeling_df\u001b[0m\u001b[0;34m,\u001b[0m \u001b[0msimilarities\u001b[0m\u001b[0;34m)\u001b[0m\u001b[0;34m\u001b[0m\u001b[0;34m\u001b[0m\u001b[0m\n\u001b[0m\u001b[1;32m      2\u001b[0m \u001b[0msimilar_books\u001b[0m\u001b[0;34m.\u001b[0m\u001b[0mhead\u001b[0m\u001b[0;34m(\u001b[0m\u001b[0;36m10\u001b[0m\u001b[0;34m)\u001b[0m\u001b[0;34m\u001b[0m\u001b[0;34m\u001b[0m\u001b[0m\n",
            "\u001b[0;32m<ipython-input-33-e5ed8262b20e>\u001b[0m in \u001b[0;36mbook_recommender_by_user_reviews\u001b[0;34m(user, review, similarities)\u001b[0m\n\u001b[1;32m      5\u001b[0m \u001b[0;34m\u001b[0m\u001b[0m\n\u001b[1;32m      6\u001b[0m     \u001b[0;31m# Create a dataframe with the book reviews\u001b[0m\u001b[0;34m\u001b[0m\u001b[0;34m\u001b[0m\u001b[0m\n\u001b[0;32m----> 7\u001b[0;31m     sim_df = pd.DataFrame(\n\u001b[0m\u001b[1;32m      8\u001b[0m         {'book': review['Title'],\n\u001b[1;32m      9\u001b[0m          \u001b[0;34m'sample review'\u001b[0m\u001b[0;34m:\u001b[0m \u001b[0mreview\u001b[0m\u001b[0;34m[\u001b[0m\u001b[0;34m'review'\u001b[0m\u001b[0;34m]\u001b[0m\u001b[0;34m,\u001b[0m\u001b[0;34m\u001b[0m\u001b[0;34m\u001b[0m\u001b[0m\n",
            "\u001b[0;32m/usr/local/lib/python3.10/dist-packages/pandas/core/frame.py\u001b[0m in \u001b[0;36m__init__\u001b[0;34m(self, data, index, columns, dtype, copy)\u001b[0m\n\u001b[1;32m    662\u001b[0m         \u001b[0;32melif\u001b[0m \u001b[0misinstance\u001b[0m\u001b[0;34m(\u001b[0m\u001b[0mdata\u001b[0m\u001b[0;34m,\u001b[0m \u001b[0mdict\u001b[0m\u001b[0;34m)\u001b[0m\u001b[0;34m:\u001b[0m\u001b[0;34m\u001b[0m\u001b[0;34m\u001b[0m\u001b[0m\n\u001b[1;32m    663\u001b[0m             \u001b[0;31m# GH#38939 de facto copy defaults to False only in non-dict cases\u001b[0m\u001b[0;34m\u001b[0m\u001b[0;34m\u001b[0m\u001b[0m\n\u001b[0;32m--> 664\u001b[0;31m             \u001b[0mmgr\u001b[0m \u001b[0;34m=\u001b[0m \u001b[0mdict_to_mgr\u001b[0m\u001b[0;34m(\u001b[0m\u001b[0mdata\u001b[0m\u001b[0;34m,\u001b[0m \u001b[0mindex\u001b[0m\u001b[0;34m,\u001b[0m \u001b[0mcolumns\u001b[0m\u001b[0;34m,\u001b[0m \u001b[0mdtype\u001b[0m\u001b[0;34m=\u001b[0m\u001b[0mdtype\u001b[0m\u001b[0;34m,\u001b[0m \u001b[0mcopy\u001b[0m\u001b[0;34m=\u001b[0m\u001b[0mcopy\u001b[0m\u001b[0;34m,\u001b[0m \u001b[0mtyp\u001b[0m\u001b[0;34m=\u001b[0m\u001b[0mmanager\u001b[0m\u001b[0;34m)\u001b[0m\u001b[0;34m\u001b[0m\u001b[0;34m\u001b[0m\u001b[0m\n\u001b[0m\u001b[1;32m    665\u001b[0m         \u001b[0;32melif\u001b[0m \u001b[0misinstance\u001b[0m\u001b[0;34m(\u001b[0m\u001b[0mdata\u001b[0m\u001b[0;34m,\u001b[0m \u001b[0mma\u001b[0m\u001b[0;34m.\u001b[0m\u001b[0mMaskedArray\u001b[0m\u001b[0;34m)\u001b[0m\u001b[0;34m:\u001b[0m\u001b[0;34m\u001b[0m\u001b[0;34m\u001b[0m\u001b[0m\n\u001b[1;32m    666\u001b[0m             \u001b[0;32mimport\u001b[0m \u001b[0mnumpy\u001b[0m\u001b[0;34m.\u001b[0m\u001b[0mma\u001b[0m\u001b[0;34m.\u001b[0m\u001b[0mmrecords\u001b[0m \u001b[0;32mas\u001b[0m \u001b[0mmrecords\u001b[0m\u001b[0;34m\u001b[0m\u001b[0;34m\u001b[0m\u001b[0m\n",
            "\u001b[0;32m/usr/local/lib/python3.10/dist-packages/pandas/core/internals/construction.py\u001b[0m in \u001b[0;36mdict_to_mgr\u001b[0;34m(data, index, columns, dtype, typ, copy)\u001b[0m\n\u001b[1;32m    491\u001b[0m             \u001b[0marrays\u001b[0m \u001b[0;34m=\u001b[0m \u001b[0;34m[\u001b[0m\u001b[0mx\u001b[0m\u001b[0;34m.\u001b[0m\u001b[0mcopy\u001b[0m\u001b[0;34m(\u001b[0m\u001b[0;34m)\u001b[0m \u001b[0;32mif\u001b[0m \u001b[0mhasattr\u001b[0m\u001b[0;34m(\u001b[0m\u001b[0mx\u001b[0m\u001b[0;34m,\u001b[0m \u001b[0;34m\"dtype\"\u001b[0m\u001b[0;34m)\u001b[0m \u001b[0;32melse\u001b[0m \u001b[0mx\u001b[0m \u001b[0;32mfor\u001b[0m \u001b[0mx\u001b[0m \u001b[0;32min\u001b[0m \u001b[0marrays\u001b[0m\u001b[0;34m]\u001b[0m\u001b[0;34m\u001b[0m\u001b[0;34m\u001b[0m\u001b[0m\n\u001b[1;32m    492\u001b[0m \u001b[0;34m\u001b[0m\u001b[0m\n\u001b[0;32m--> 493\u001b[0;31m     \u001b[0;32mreturn\u001b[0m \u001b[0marrays_to_mgr\u001b[0m\u001b[0;34m(\u001b[0m\u001b[0marrays\u001b[0m\u001b[0;34m,\u001b[0m \u001b[0mcolumns\u001b[0m\u001b[0;34m,\u001b[0m \u001b[0mindex\u001b[0m\u001b[0;34m,\u001b[0m \u001b[0mdtype\u001b[0m\u001b[0;34m=\u001b[0m\u001b[0mdtype\u001b[0m\u001b[0;34m,\u001b[0m \u001b[0mtyp\u001b[0m\u001b[0;34m=\u001b[0m\u001b[0mtyp\u001b[0m\u001b[0;34m,\u001b[0m \u001b[0mconsolidate\u001b[0m\u001b[0;34m=\u001b[0m\u001b[0mcopy\u001b[0m\u001b[0;34m)\u001b[0m\u001b[0;34m\u001b[0m\u001b[0;34m\u001b[0m\u001b[0m\n\u001b[0m\u001b[1;32m    494\u001b[0m \u001b[0;34m\u001b[0m\u001b[0m\n\u001b[1;32m    495\u001b[0m \u001b[0;34m\u001b[0m\u001b[0m\n",
            "\u001b[0;32m/usr/local/lib/python3.10/dist-packages/pandas/core/internals/construction.py\u001b[0m in \u001b[0;36marrays_to_mgr\u001b[0;34m(arrays, columns, index, dtype, verify_integrity, typ, consolidate)\u001b[0m\n\u001b[1;32m    116\u001b[0m         \u001b[0;31m# figure out the index, if necessary\u001b[0m\u001b[0;34m\u001b[0m\u001b[0;34m\u001b[0m\u001b[0m\n\u001b[1;32m    117\u001b[0m         \u001b[0;32mif\u001b[0m \u001b[0mindex\u001b[0m \u001b[0;32mis\u001b[0m \u001b[0;32mNone\u001b[0m\u001b[0;34m:\u001b[0m\u001b[0;34m\u001b[0m\u001b[0;34m\u001b[0m\u001b[0m\n\u001b[0;32m--> 118\u001b[0;31m             \u001b[0mindex\u001b[0m \u001b[0;34m=\u001b[0m \u001b[0m_extract_index\u001b[0m\u001b[0;34m(\u001b[0m\u001b[0marrays\u001b[0m\u001b[0;34m)\u001b[0m\u001b[0;34m\u001b[0m\u001b[0;34m\u001b[0m\u001b[0m\n\u001b[0m\u001b[1;32m    119\u001b[0m         \u001b[0;32melse\u001b[0m\u001b[0;34m:\u001b[0m\u001b[0;34m\u001b[0m\u001b[0;34m\u001b[0m\u001b[0m\n\u001b[1;32m    120\u001b[0m             \u001b[0mindex\u001b[0m \u001b[0;34m=\u001b[0m \u001b[0mensure_index\u001b[0m\u001b[0;34m(\u001b[0m\u001b[0mindex\u001b[0m\u001b[0;34m)\u001b[0m\u001b[0;34m\u001b[0m\u001b[0;34m\u001b[0m\u001b[0m\n",
            "\u001b[0;32m/usr/local/lib/python3.10/dist-packages/pandas/core/internals/construction.py\u001b[0m in \u001b[0;36m_extract_index\u001b[0;34m(data)\u001b[0m\n\u001b[1;32m    651\u001b[0m                 \u001b[0mraw_lengths\u001b[0m\u001b[0;34m.\u001b[0m\u001b[0mappend\u001b[0m\u001b[0;34m(\u001b[0m\u001b[0mlen\u001b[0m\u001b[0;34m(\u001b[0m\u001b[0mval\u001b[0m\u001b[0;34m)\u001b[0m\u001b[0;34m)\u001b[0m\u001b[0;34m\u001b[0m\u001b[0;34m\u001b[0m\u001b[0m\n\u001b[1;32m    652\u001b[0m             \u001b[0;32melif\u001b[0m \u001b[0misinstance\u001b[0m\u001b[0;34m(\u001b[0m\u001b[0mval\u001b[0m\u001b[0;34m,\u001b[0m \u001b[0mnp\u001b[0m\u001b[0;34m.\u001b[0m\u001b[0mndarray\u001b[0m\u001b[0;34m)\u001b[0m \u001b[0;32mand\u001b[0m \u001b[0mval\u001b[0m\u001b[0;34m.\u001b[0m\u001b[0mndim\u001b[0m \u001b[0;34m>\u001b[0m \u001b[0;36m1\u001b[0m\u001b[0;34m:\u001b[0m\u001b[0;34m\u001b[0m\u001b[0;34m\u001b[0m\u001b[0m\n\u001b[0;32m--> 653\u001b[0;31m                 \u001b[0;32mraise\u001b[0m \u001b[0mValueError\u001b[0m\u001b[0;34m(\u001b[0m\u001b[0;34m\"Per-column arrays must each be 1-dimensional\"\u001b[0m\u001b[0;34m)\u001b[0m\u001b[0;34m\u001b[0m\u001b[0;34m\u001b[0m\u001b[0m\n\u001b[0m\u001b[1;32m    654\u001b[0m \u001b[0;34m\u001b[0m\u001b[0m\n\u001b[1;32m    655\u001b[0m         \u001b[0;32mif\u001b[0m \u001b[0;32mnot\u001b[0m \u001b[0mindexes\u001b[0m \u001b[0;32mand\u001b[0m \u001b[0;32mnot\u001b[0m \u001b[0mraw_lengths\u001b[0m\u001b[0;34m:\u001b[0m\u001b[0;34m\u001b[0m\u001b[0;34m\u001b[0m\u001b[0m\n",
            "\u001b[0;31mValueError\u001b[0m: Per-column arrays must each be 1-dimensional"
          ]
        }
      ]
    },
    {
      "cell_type": "code",
      "source": [
        "# Create a Pandas Series and calculate the value counts\n",
        "value_counts_series = modeling_df[\"Title\"].value_counts(normalize=True)\n",
        "\n",
        "# Get the top ten values\n",
        "top_ten = value_counts_series.head(10)\n",
        "\n",
        "# Plot the top ten values\n",
        "plt.bar(top_ten.index, top_ten.values)\n",
        "plt.ylabel('Counts')\n",
        "plt.xticks(rotation=90)\n",
        "plt.title('Top Ten Books Reviewed')\n",
        "plt.show()"
      ],
      "metadata": {
        "colab": {
          "base_uri": "https://localhost:8080/",
          "height": 868
        },
        "id": "ufEoXpJ05Wqf",
        "outputId": "063a706a-74c4-424f-887d-6a1d48d2c47c"
      },
      "id": "ufEoXpJ05Wqf",
      "execution_count": null,
      "outputs": [
        {
          "output_type": "display_data",
          "data": {
            "text/plain": [
              "<Figure size 640x480 with 1 Axes>"
            ],
            "image/png": "[encoded data removed]"
          },
          "metadata": {}
        }
      ]
    },
    {
      "cell_type": "code",
      "source": [],
      "metadata": {
        "colab": {
          "base_uri": "https://localhost:8080/"
        },
        "id": "xVi4hy4jt7Xt",
        "outputId": "6e2531d3-8394-494c-8483-963846ef5dfd"
      },
      "id": "xVi4hy4jt7Xt",
      "execution_count": null,
      "outputs": [
        {
          "output_type": "stream",
          "name": "stderr",
          "text": [
            "[nltk_data] Downloading package wordnet to /root/nltk_data...\n",
            "[nltk_data]   Package wordnet is already up-to-date!\n"
          ]
        }
      ]
    },
    {
      "cell_type": "code",
      "source": [
        "modeling_df['clean_review'] = modeling_df['review'].apply(lambda i: clean_text(i))"
      ],
      "metadata": {
        "id": "SFSdWR3ziZ91"
      },
      "id": "SFSdWR3ziZ91",
      "execution_count": null,
      "outputs": []
    },
    {
      "cell_type": "code",
      "source": [
        "modeling_df.head(1)"
      ],
      "metadata": {
        "colab": {
          "base_uri": "https://localhost:8080/",
          "height": 222
        },
        "id": "SvB8iZk_nGGG",
        "outputId": "d59ac716-6994-4c98-9b9f-8dcb44f2461d"
      },
      "id": "SvB8iZk_nGGG",
      "execution_count": null,
      "outputs": [
        {
          "output_type": "execute_result",
          "data": {
            "text/plain": [
              "                 Id                                              Title  \\\n",
              "2476676  096406054X  Mouse Tales: A Behind-the-Ears Look at Disneyl...   \n",
              "\n",
              "               User_id         profileName  review_score  \\\n",
              "2476676  A89Y6WZKEP069  Jewelz- Theo's Mom             2   \n",
              "\n",
              "                                       review_summary  \\\n",
              "2476676  Caution: You may lose a bit of the magic....   \n",
              "\n",
              "                                                    review       authors  \\\n",
              "2476676  This is a very well written book about the inn...  David Koenig   \n",
              "\n",
              "         publishedDate                 categories  \\\n",
              "2476676         2005.0  Biography & Autobiography   \n",
              "\n",
              "                                              clean_review  \n",
              "2476676  well written book inner working secret disneyl...  "
            ],
            "text/html": [
              "\n",
              "  <div id=\"df-097d618e-35a2-43bc-ba24-bcf494e3afd2\" class=\"colab-df-container\">\n",
              "    <div>\n",
              "<style scoped>\n",
              "    .dataframe tbody tr th:only-of-type {\n",
              "        vertical-align: middle;\n",
              "    }\n",
              "\n",
              "    .dataframe tbody tr th {\n",
              "        vertical-align: top;\n",
              "    }\n",
              "\n",
              "    .dataframe thead th {\n",
              "        text-align: right;\n",
              "    }\n",
              "</style>\n",
              "<table border=\"1\" class=\"dataframe\">\n",
              "  <thead>\n",
              "    <tr style=\"text-align: right;\">\n",
              "      <th></th>\n",
              "      <th>Id</th>\n",
              "      <th>Title</th>\n",
              "      <th>User_id</th>\n",
              "      <th>profileName</th>\n",
              "      <th>review_score</th>\n",
              "      <th>review_summary</th>\n",
              "      <th>review</th>\n",
              "      <th>authors</th>\n",
              "      <th>publishedDate</th>\n",
              "      <th>categories</th>\n",
              "      <th>clean_review</th>\n",
              "    </tr>\n",
              "  </thead>\n",
              "  <tbody>\n",
              "    <tr>\n",
              "      <th>2476676</th>\n",
              "      <td>096406054X</td>\n",
              "      <td>Mouse Tales: A Behind-the-Ears Look at Disneyl...</td>\n",
              "      <td>A89Y6WZKEP069</td>\n",
              "      <td>Jewelz- Theo's Mom</td>\n",
              "      <td>2</td>\n",
              "      <td>Caution: You may lose a bit of the magic....</td>\n",
              "      <td>This is a very well written book about the inn...</td>\n",
              "      <td>David Koenig</td>\n",
              "      <td>2005.0</td>\n",
              "      <td>Biography &amp; Autobiography</td>\n",
              "      <td>well written book inner working secret disneyl...</td>\n",
              "    </tr>\n",
              "  </tbody>\n",
              "</table>\n",
              "</div>\n",
              "    <div class=\"colab-df-buttons\">\n",
              "\n",
              "  <div class=\"colab-df-container\">\n",
              "    <button class=\"colab-df-convert\" onclick=\"convertToInteractive('df-097d618e-35a2-43bc-ba24-bcf494e3afd2')\"\n",
              "            title=\"Convert this dataframe to an interactive table.\"\n",
              "            style=\"display:none;\">\n",
              "\n",
              "  <svg xmlns=\"http://www.w3.org/2000/svg\" height=\"24px\" viewBox=\"0 -960 960 960\">\n",
              "    <path d=\"M120-120v-720h720v720H120Zm60-500h600v-160H180v160Zm220 220h160v-160H400v160Zm0 220h160v-160H400v160ZM180-400h160v-160H180v160Zm440 0h160v-160H620v160ZM180-180h160v-160H180v160Zm440 0h160v-160H620v160Z\"/>\n",
              "  </svg>\n",
              "    </button>\n",
              "\n",
              "  <style>\n",
              "    .colab-df-container {\n",
              "      display:flex;\n",
              "      gap: 12px;\n",
              "    }\n",
              "\n",
              "    .colab-df-convert {\n",
              "      background-color: #E8F0FE;\n",
              "      border: none;\n",
              "      border-radius: 50%;\n",
              "      cursor: pointer;\n",
              "      display: none;\n",
              "      fill: #1967D2;\n",
              "      height: 32px;\n",
              "      padding: 0 0 0 0;\n",
              "      width: 32px;\n",
              "    }\n",
              "\n",
              "    .colab-df-convert:hover {\n",
              "      background-color: #E2EBFA;\n",
              "      box-shadow: 0px 1px 2px rgba(60, 64, 67, 0.3), 0px 1px 3px 1px rgba(60, 64, 67, 0.15);\n",
              "      fill: #174EA6;\n",
              "    }\n",
              "\n",
              "    .colab-df-buttons div {\n",
              "      margin-bottom: 4px;\n",
              "    }\n",
              "\n",
              "    [theme=dark] .colab-df-convert {\n",
              "      background-color: #3B4455;\n",
              "      fill: #D2E3FC;\n",
              "    }\n",
              "\n",
              "    [theme=dark] .colab-df-convert:hover {\n",
              "      background-color: #434B5C;\n",
              "      box-shadow: 0px 1px 3px 1px rgba(0, 0, 0, 0.15);\n",
              "      filter: drop-shadow(0px 1px 2px rgba(0, 0, 0, 0.3));\n",
              "      fill: #FFFFFF;\n",
              "    }\n",
              "  </style>\n",
              "\n",
              "    <script>\n",
              "      const buttonEl =\n",
              "        document.querySelector('#df-097d618e-35a2-43bc-ba24-bcf494e3afd2 button.colab-df-convert');\n",
              "      buttonEl.style.display =\n",
              "        google.colab.kernel.accessAllowed ? 'block' : 'none';\n",
              "\n",
              "      async function convertToInteractive(key) {\n",
              "        const element = document.querySelector('#df-097d618e-35a2-43bc-ba24-bcf494e3afd2');\n",
              "        const dataTable =\n",
              "          await google.colab.kernel.invokeFunction('convertToInteractive',\n",
              "                                                    [key], {});\n",
              "        if (!dataTable) return;\n",
              "\n",
              "        const docLinkHtml = 'Like what you see? Visit the ' +\n",
              "          '<a target=\"_blank\" href=https://colab.research.google.com/notebooks/data_table.ipynb>data table notebook</a>'\n",
              "          + ' to learn more about interactive tables.';\n",
              "        element.innerHTML = '';\n",
              "        dataTable['output_type'] = 'display_data';\n",
              "        await google.colab.output.renderOutput(dataTable, element);\n",
              "        const docLink = document.createElement('div');\n",
              "        docLink.innerHTML = docLinkHtml;\n",
              "        element.appendChild(docLink);\n",
              "      }\n",
              "    </script>\n",
              "  </div>\n",
              "\n",
              "\n",
              "    </div>\n",
              "  </div>\n"
            ]
          },
          "metadata": {},
          "execution_count": 29
        }
      ]
    },
    {
      "cell_type": "code",
      "source": [
        "modeling_df['clean_review'] = modeling_df['review'].apply(lambda i: clean_text(i))\n",
        "\n",
        "#export tokenized df, this will be the new working df\n",
        "modeling_df.to_csv('tokenized_data.csv')\n",
        "!cp tokenized_data.csv \"/content/drive/My Drive/\""
      ],
      "metadata": {
        "id": "OaKOAd43nHMZ"
      },
      "id": "OaKOAd43nHMZ",
      "execution_count": null,
      "outputs": []
    },
    {
      "cell_type": "markdown",
      "source": [
        "## Choosing Between Models - LogReg, KNN, Decision Tree"
      ],
      "metadata": {
        "id": "7vHa8RkPf0kK"
      },
      "id": "7vHa8RkPf0kK"
    },
    {
      "cell_type": "code",
      "source": [
        "# log reg model\n",
        "logreg_tfidf_small_sample = LogisticRegression(C = 0.1)\n",
        "logreg_tfidf_small_sample.fit(X_train_transformed_tfidf, y_train)\n",
        "\n",
        "# Training and test score\n",
        "print(f\"Train score: {logreg_tfidf_small_sample.score(X_train_transformed_tfidf, y_train)}\")\n",
        "print(f\"Val score: {logreg_tfidf_small_sample.score(X_val_transformed_tfidf, y_val)}\")"
      ],
      "metadata": {
        "id": "8Jgg3e-j1KCh",
        "outputId": "b40b5da2-c6d9-4be8-878d-9fedc1dcc168",
        "colab": {
          "base_uri": "https://localhost:8080/"
        }
      },
      "id": "8Jgg3e-j1KCh",
      "execution_count": null,
      "outputs": [
        {
          "output_type": "stream",
          "name": "stdout",
          "text": [
            "Train score: 0.6496567164179105\n",
            "Test score: 0.647869696969697\n"
          ]
        }
      ]
    },
    {
      "cell_type": "markdown",
      "source": [
        "For very little parameter tuning, this isn't so bad! With a .650-.648 train-test score, I can see that overfitting is not an issue as well. However, I am sure this can be improved further, next, I will get baseline scores for two other model types: KNN & Decision Trees."
      ],
      "metadata": {
        "id": "w0BeN9bp82FW"
      },
      "id": "w0BeN9bp82FW"
    },
    {
      "cell_type": "code",
      "source": [
        "# log reg model\n",
        "logreg_tfidf_small_sample = LogisticRegression(C = 0.1)\n",
        "logreg_tfidf_small_sample.fit(X_train_transformed_tfidf, y_train)\n",
        "\n",
        "# Training and test score\n",
        "print(f\"Train score: {logreg_tfidf_small_sample.score(X_train_transformed_tfidf, y_train)}\")\n",
        "print(f\"Val score: {logreg_tfidf_small_sample.score(X_val_transformed_tfidf, y_val)}\")"
      ],
      "metadata": {
        "id": "MiCWhcU_80RV",
        "outputId": "33778b2a-f9b4-4d04-c42a-9c589c20c7fa",
        "colab": {
          "base_uri": "https://localhost:8080/"
        }
      },
      "id": "MiCWhcU_80RV",
      "execution_count": 14,
      "outputs": [
        {
          "output_type": "stream",
          "name": "stdout",
          "text": [
            "Train score: 0.6063965884861408\n",
            "Test score: 0.5990909090909091\n"
          ]
        }
      ]
    },
    {
      "cell_type": "code",
      "source": [
        "pickle.dump(logreg_tfidf_small_sample,open('/content/drive/My Drive/Brainstation/models/log_reg_small_model', 'wb'))"
      ],
      "metadata": {
        "id": "nOcMoqQz-48R"
      },
      "id": "nOcMoqQz-48R",
      "execution_count": 21,
      "outputs": []
    },
    {
      "cell_type": "code",
      "source": [
        "# tsting to see if it loads\n",
        "loaded_logreg_model = pickle.load(open('/content/drive/My Drive/Brainstation/models/log_reg_small_model', 'rb'))\n",
        "y_pred = loaded_logreg_model.predict(X_test_transformed_tfidf)"
      ],
      "metadata": {
        "id": "d-T1ioLeCpZ6"
      },
      "id": "d-T1ioLeCpZ6",
      "execution_count": 28,
      "outputs": []
    },
    {
      "cell_type": "code",
      "source": [
        "#fit KNN model\n",
        "knn = KNeighborsClassifier(n_neighbors=50)\n",
        "knn.fit(X_train_transformed_tfidf, y_train)\n",
        "print(f'KNN train: {knn.score(X_train_transformed_tfidf, y_train)}')\n",
        "print(f'KNN val: {knn.score(X_val_transformed_tfidf, y_val)}')\n",
        "pickle.dump(knn,open('/content/drive/My Drive/Brainstation/models/knn_base_model', 'wb'))"
      ],
      "metadata": {
        "id": "NmI3TGlQyM5s",
        "outputId": "b16f8ae3-89e0-4837-b51b-8f20c13f1fc4",
        "colab": {
          "base_uri": "https://localhost:8080/"
        }
      },
      "id": "NmI3TGlQyM5s",
      "execution_count": 38,
      "outputs": [
        {
          "output_type": "stream",
          "name": "stdout",
          "text": [
            "KNN train: 0.6077825159914713\n",
            "KNN test: 0.5995454545454545\n"
          ]
        }
      ]
    },
    {
      "cell_type": "markdown",
      "source": [
        "I was worried there would be overfitting or lower results. Since KNNs are distance-based and this dataset is a combination of unbalanced data with no scaling, I was sure the results would be worse. You can't run a STandardScaler on a sparse matrix, so this is something to look into further."
      ],
      "metadata": {
        "id": "ca5R9sPLJZj4"
      },
      "id": "ca5R9sPLJZj4"
    },
    {
      "cell_type": "code",
      "source": [
        "#Fit decision tree\n",
        "dt = DecisionTreeClassifier(max_depth=10)\n",
        "dt.fit(X_train_transformed_tfidf, y_train)\n",
        "pickle.dump(dt,open('/content/drive/My Drive/Brainstation/models/decisiontree_base_model', 'wb'))\n",
        "\n",
        "print(f'DT train: {dt.score(X_train_transformed_tfidf, y_train)}')\n",
        "print(f'DT val:{dt.score(X_val_transformed_tfidf, y_val)}')"
      ],
      "metadata": {
        "id": "Ii06L3P-ymhd",
        "outputId": "d66edd65-01c2-4a99-ab99-bf25d026368b",
        "colab": {
          "base_uri": "https://localhost:8080/"
        }
      },
      "id": "Ii06L3P-ymhd",
      "execution_count": 37,
      "outputs": [
        {
          "output_type": "stream",
          "name": "stdout",
          "text": [
            "DT train: 0.6559701492537313\n",
            "DT test:0.5921212121212122\n"
          ]
        }
      ]
    },
    {
      "cell_type": "markdown",
      "source": [
        "There is a bit of overfitting here, but not much in comparison to my KNN base model."
      ],
      "metadata": {
        "id": "91fPm3dLJ5MA"
      },
      "id": "91fPm3dLJ5MA"
    },
    {
      "cell_type": "markdown",
      "source": [
        "Surprisingly, the base model scores for all three models (LogReg, KNN, DecisionTrees) were around the same value of ~.6 Between the three results, DecisionTree is the one I will choose to continue with. LogReg had the lowest average score, KNNs were the most overfitted, so Decision Tree it is!"
      ],
      "metadata": {
        "id": "3sWbQRIEMlXd"
      },
      "id": "3sWbQRIEMlXd"
    },
    {
      "cell_type": "code",
      "source": [
        "#Fit decision tree\n",
        "dt = DecisionTreeClassifier(max_depth=100,\n",
        "                            min_samples_leaf=100)\n",
        "dt.fit(X_train_transformed_tfidf, y_train)\n",
        "pickle.dump(dt,open('/content/drive/My Drive/Brainstation/models/decisiontree_v2_model', 'wb'))\n",
        "\n",
        "print(f'DT train: {dt.score(X_train_transformed_tfidf, y_train)}')\n",
        "print(f'DT val:{dt.score(X_val_transformed_tfidf, y_val)}')"
      ],
      "metadata": {
        "id": "SMr7jNm9dynp",
        "outputId": "142c7638-44a1-473e-8b24-27a846f7a047",
        "colab": {
          "base_uri": "https://localhost:8080/"
        }
      },
      "id": "SMr7jNm9dynp",
      "execution_count": 77,
      "outputs": [
        {
          "output_type": "stream",
          "name": "stdout",
          "text": [
            "DT train: 0.6047974413646056\n",
            "DT val:0.5917910447761194\n"
          ]
        }
      ]
    },
    {
      "cell_type": "markdown",
      "source": [
        "### Failed/Removed BERT Code"
      ],
      "metadata": {
        "id": "LLDYo8vg46zB"
      },
      "id": "LLDYo8vg46zB"
    },
    {
      "cell_type": "code",
      "source": [
        "# create function for encoding\n",
        "\n",
        "def encode_for_bert(data, text_col): #function version\n",
        "  input_ids = []\n",
        "  attention_masks = []\n",
        "\n",
        "  for sent in data[text_col]:\n",
        "    # Encode the sentence using the tokenizer\n",
        "    encoded_sent = tokenizer.encode_plus(\n",
        "        text=sent,  # Sentence to encode\n",
        "        add_special_tokens = True,  # Add [CLS] and [SEP], needed for BERT\n",
        "        max_length = 500,  # Truncate longer sentences\n",
        "        pad_to_max_length = True,  # Pad shorter sentences, needed\n",
        "        return_attention_mask = True,  # Generate attention mask\n",
        "        return_tensors='pt'  # Return PyTorch tensors\n",
        "    )\n",
        "    input_ids.append(encoded_sent['input_ids'])\n",
        "    attention_masks.append(encoded_sent['attention_mask'])\n",
        "\n",
        "    # create function for encoding\n",
        "\n",
        "input_ids = []\n",
        "attention_masks = []\n",
        "MAX_LEN = 500\n",
        "for sent in X_train['clean_review']:\n",
        "  encoded_sent = tokenizer.encode_plus( # Encode the sentence using the tokenizer\n",
        "      text=sent,  # Sentence to encode\n",
        "      add_special_tokens = True,  # Add [CLS] and [SEP], needed for BERT\n",
        "      truncation=True,\n",
        "      max_length = MAX_LEN,  # Truncate longer sentences\n",
        "      pad_to_max_length = True,  # Pad shorter sentences, needed\n",
        "      return_attention_mask = True,  # Generate attention mask\n",
        "      return_tensors='pt'  # Return PyTorch tensors\n",
        "    )\n",
        "input_ids.append(encoded_sent['input_ids'])\n",
        "attention_masks.append(encoded_sent['attention_mask'])\n",
        "# this code did not work"
      ],
      "metadata": {
        "id": "LhBywC0U5JIr"
      },
      "id": "LhBywC0U5JIr",
      "execution_count": null,
      "outputs": []
    },
    {
      "cell_type": "code",
      "source": [
        "from tensorflow.keras.layers import Input, GlobalAveragePooling1D\n",
        "from tensorflow.keras.models import Model\n",
        "\n",
        "input_ids = Input(shape=(None,), dtype=tf.int32, name='input_ids')\n",
        "attention_mask = Input(shape=(None,), dtype=tf.int32, name='attention_mask')\n",
        "bert_output = bert_model({'input_ids': input_ids, 'attention_mask': attention_mask})[0]\n",
        "embedding_layer = GlobalAveragePooling1D()(bert_output)\n",
        "embedding_model = Model(inputs=[input_ids, attention_mask], outputs=embedding_layer)"
      ],
      "metadata": {
        "id": "ktnZ8coP5Oui"
      },
      "id": "ktnZ8coP5Oui",
      "execution_count": null,
      "outputs": []
    },
    {
      "cell_type": "code",
      "source": [
        "from tensorflow.keras.callbacks import EarlyStopping\n",
        "\n",
        "embedding_model.compile(optimizer=tf.optimizers.Adam(), loss=tf.losses.CosineSimilarity(), metrics=[tf.metrics.CosineSimilarity()])\n",
        "\n",
        "early_stopping = EarlyStopping(monitor='loss', patience=3, restore_best_weights=True)\n",
        "embedding_model.fit(dataset.batch(32), epochs=10, callbacks=[early_stopping])"
      ],
      "metadata": {
        "id": "zUw0RhZW5WNf"
      },
      "id": "zUw0RhZW5WNf",
      "execution_count": null,
      "outputs": []
    },
    {
      "cell_type": "code",
      "source": [
        "#load data, and encode with tensor tokenizer\n",
        "text_data = X_train.review\n",
        "\n",
        "encoded_data = tokenizer.batch_encode_plus(text_data,\n",
        "                                           add_special_tokens=True,\n",
        "                                           return_attention_mask=True,\n",
        "                                           return_token_type_ids=False,\n",
        "                                           pad_to_max_length=True\n",
        "                                           )\n",
        "  # from code source: `padding=True` will pad the examples with zeros to the size of the longest one in a batch,\n",
        "    # and `truncation=True` will truncate the examples to the model's maximum context size.\n",
        "\n",
        "# 30 secs"
      ],
      "metadata": {
        "colab": {
          "base_uri": "https://localhost:8080/",
          "height": 367
        },
        "id": "mI-jS6HABsG4",
        "outputId": "cef6f2c7-8f60-462b-b96d-6ca5e2aa050b"
      },
      "id": "mI-jS6HABsG4",
      "execution_count": null,
      "outputs": [
        {
          "output_type": "error",
          "ename": "AttributeError",
          "evalue": "'DataFrame' object has no attribute 'review'",
          "traceback": [
            "\u001b[0;31m---------------------------------------------------------------------------\u001b[0m",
            "\u001b[0;31mAttributeError\u001b[0m                            Traceback (most recent call last)",
            "\u001b[0;32m<ipython-input-120-f04bf595891f>\u001b[0m in \u001b[0;36m<cell line: 2>\u001b[0;34m()\u001b[0m\n\u001b[1;32m      1\u001b[0m \u001b[0;31m#load data, and encode with tensor tokenizer\u001b[0m\u001b[0;34m\u001b[0m\u001b[0;34m\u001b[0m\u001b[0m\n\u001b[0;32m----> 2\u001b[0;31m \u001b[0mtext_data\u001b[0m \u001b[0;34m=\u001b[0m \u001b[0mX_train\u001b[0m\u001b[0;34m.\u001b[0m\u001b[0mreview\u001b[0m\u001b[0;34m\u001b[0m\u001b[0;34m\u001b[0m\u001b[0m\n\u001b[0m\u001b[1;32m      3\u001b[0m \u001b[0;34m\u001b[0m\u001b[0m\n\u001b[1;32m      4\u001b[0m encoded_data = tokenizer.batch_encode_plus(text_data,\n\u001b[1;32m      5\u001b[0m                                            \u001b[0madd_special_tokens\u001b[0m\u001b[0;34m=\u001b[0m\u001b[0;32mTrue\u001b[0m\u001b[0;34m,\u001b[0m\u001b[0;34m\u001b[0m\u001b[0;34m\u001b[0m\u001b[0m\n",
            "\u001b[0;32m/usr/local/lib/python3.10/dist-packages/pandas/core/generic.py\u001b[0m in \u001b[0;36m__getattr__\u001b[0;34m(self, name)\u001b[0m\n\u001b[1;32m   5900\u001b[0m         ):\n\u001b[1;32m   5901\u001b[0m             \u001b[0;32mreturn\u001b[0m \u001b[0mself\u001b[0m\u001b[0;34m[\u001b[0m\u001b[0mname\u001b[0m\u001b[0;34m]\u001b[0m\u001b[0;34m\u001b[0m\u001b[0;34m\u001b[0m\u001b[0m\n\u001b[0;32m-> 5902\u001b[0;31m         \u001b[0;32mreturn\u001b[0m \u001b[0mobject\u001b[0m\u001b[0;34m.\u001b[0m\u001b[0m__getattribute__\u001b[0m\u001b[0;34m(\u001b[0m\u001b[0mself\u001b[0m\u001b[0;34m,\u001b[0m \u001b[0mname\u001b[0m\u001b[0;34m)\u001b[0m\u001b[0;34m\u001b[0m\u001b[0;34m\u001b[0m\u001b[0m\n\u001b[0m\u001b[1;32m   5903\u001b[0m \u001b[0;34m\u001b[0m\u001b[0m\n\u001b[1;32m   5904\u001b[0m     \u001b[0;32mdef\u001b[0m \u001b[0m__setattr__\u001b[0m\u001b[0;34m(\u001b[0m\u001b[0mself\u001b[0m\u001b[0;34m,\u001b[0m \u001b[0mname\u001b[0m\u001b[0;34m:\u001b[0m \u001b[0mstr\u001b[0m\u001b[0;34m,\u001b[0m \u001b[0mvalue\u001b[0m\u001b[0;34m)\u001b[0m \u001b[0;34m->\u001b[0m \u001b[0;32mNone\u001b[0m\u001b[0;34m:\u001b[0m\u001b[0;34m\u001b[0m\u001b[0;34m\u001b[0m\u001b[0m\n",
            "\u001b[0;31mAttributeError\u001b[0m: 'DataFrame' object has no attribute 'review'"
          ]
        }
      ]
    },
    {
      "cell_type": "code",
      "source": [
        "#combine results from class above\n",
        "collate_tokenized_results(inputs):\n",
        "  def\n",
        "        input_ids = encoded['input_ids']\n",
        "        attn_mask = encoded['attention_mask']\n",
        "\n",
        "        return {\n",
        "            'input_ids': torch.tensor(input_ids),\n",
        "            'attn_mask': torch.tensor(attn_mask),\n",
        "            'label': torch.tensor(label)\n",
        "        }"
      ],
      "metadata": {
        "colab": {
          "base_uri": "https://localhost:8080/",
          "height": 141
        },
        "id": "Y9uCGfzg9yIN",
        "outputId": "d4c2096e-b9f8-4cb0-af65-28213b4d356d"
      },
      "id": "Y9uCGfzg9yIN",
      "execution_count": null,
      "outputs": [
        {
          "output_type": "error",
          "ename": "SyntaxError",
          "evalue": "invalid syntax (<ipython-input-114-b562926cf34b>, line 2)",
          "traceback": [
            "\u001b[0;36m  File \u001b[0;32m\"<ipython-input-114-b562926cf34b>\"\u001b[0;36m, line \u001b[0;32m2\u001b[0m\n\u001b[0;31m    collate_tokenized_results(inputs):\u001b[0m\n\u001b[0m                                     ^\u001b[0m\n\u001b[0;31mSyntaxError\u001b[0m\u001b[0;31m:\u001b[0m invalid syntax\n"
          ]
        }
      ]
    },
    {
      "cell_type": "code",
      "source": [
        "#encode_for_bert(X_train, \"clean_review\")\n",
        "#encode_for_bert(X_val, \"clean_review\")\n",
        "#encode_for_bert(X_test, \"clean_review\")\n",
        "\n",
        "encoded_test_dataset = X_train.map(encode_for_bert, batched=True) #can't map df?"
      ],
      "metadata": {
        "colab": {
          "base_uri": "https://localhost:8080/",
          "height": 332
        },
        "id": "C6rlZ2i-B2At",
        "outputId": "423a3ce8-c7d1-4410-8397-5033af329343"
      },
      "id": "C6rlZ2i-B2At",
      "execution_count": null,
      "outputs": [
        {
          "output_type": "error",
          "ename": "AttributeError",
          "evalue": "'DataFrame' object has no attribute 'map'",
          "traceback": [
            "\u001b[0;31m---------------------------------------------------------------------------\u001b[0m",
            "\u001b[0;31mAttributeError\u001b[0m                            Traceback (most recent call last)",
            "\u001b[0;32m<ipython-input-121-17a4a9b321d9>\u001b[0m in \u001b[0;36m<cell line: 5>\u001b[0;34m()\u001b[0m\n\u001b[1;32m      3\u001b[0m \u001b[0;31m#encode_for_bert(X_test, \"clean_review\")\u001b[0m\u001b[0;34m\u001b[0m\u001b[0;34m\u001b[0m\u001b[0m\n\u001b[1;32m      4\u001b[0m \u001b[0;34m\u001b[0m\u001b[0m\n\u001b[0;32m----> 5\u001b[0;31m \u001b[0mencoded_test_dataset\u001b[0m \u001b[0;34m=\u001b[0m \u001b[0mX_train\u001b[0m\u001b[0;34m.\u001b[0m\u001b[0mmap\u001b[0m\u001b[0;34m(\u001b[0m\u001b[0mencode_for_bert\u001b[0m\u001b[0;34m,\u001b[0m \u001b[0mbatched\u001b[0m\u001b[0;34m=\u001b[0m\u001b[0;32mTrue\u001b[0m\u001b[0;34m)\u001b[0m \u001b[0;31m#can't map df?\u001b[0m\u001b[0;34m\u001b[0m\u001b[0;34m\u001b[0m\u001b[0m\n\u001b[0m",
            "\u001b[0;32m/usr/local/lib/python3.10/dist-packages/pandas/core/generic.py\u001b[0m in \u001b[0;36m__getattr__\u001b[0;34m(self, name)\u001b[0m\n\u001b[1;32m   5900\u001b[0m         ):\n\u001b[1;32m   5901\u001b[0m             \u001b[0;32mreturn\u001b[0m \u001b[0mself\u001b[0m\u001b[0;34m[\u001b[0m\u001b[0mname\u001b[0m\u001b[0;34m]\u001b[0m\u001b[0;34m\u001b[0m\u001b[0;34m\u001b[0m\u001b[0m\n\u001b[0;32m-> 5902\u001b[0;31m         \u001b[0;32mreturn\u001b[0m \u001b[0mobject\u001b[0m\u001b[0;34m.\u001b[0m\u001b[0m__getattribute__\u001b[0m\u001b[0;34m(\u001b[0m\u001b[0mself\u001b[0m\u001b[0;34m,\u001b[0m \u001b[0mname\u001b[0m\u001b[0;34m)\u001b[0m\u001b[0;34m\u001b[0m\u001b[0;34m\u001b[0m\u001b[0m\n\u001b[0m\u001b[1;32m   5903\u001b[0m \u001b[0;34m\u001b[0m\u001b[0m\n\u001b[1;32m   5904\u001b[0m     \u001b[0;32mdef\u001b[0m \u001b[0m__setattr__\u001b[0m\u001b[0;34m(\u001b[0m\u001b[0mself\u001b[0m\u001b[0;34m,\u001b[0m \u001b[0mname\u001b[0m\u001b[0;34m:\u001b[0m \u001b[0mstr\u001b[0m\u001b[0;34m,\u001b[0m \u001b[0mvalue\u001b[0m\u001b[0;34m)\u001b[0m \u001b[0;34m->\u001b[0m \u001b[0;32mNone\u001b[0m\u001b[0;34m:\u001b[0m\u001b[0;34m\u001b[0m\u001b[0;34m\u001b[0m\u001b[0m\n",
            "\u001b[0;31mAttributeError\u001b[0m: 'DataFrame' object has no attribute 'map'"
          ]
        }
      ]
    },
    {
      "cell_type": "code",
      "source": [
        "tokenizer = DistilBertTokenizerFast.from_pretrained('distilbert-base-uncased')"
      ],
      "metadata": {
        "id": "aH2dgoluJEsu"
      },
      "id": "aH2dgoluJEsu",
      "execution_count": null,
      "outputs": []
    },
    {
      "cell_type": "code",
      "source": [],
      "metadata": {
        "id": "1MKLp4-XJE9G"
      },
      "id": "1MKLp4-XJE9G",
      "execution_count": null,
      "outputs": []
    },
    {
      "cell_type": "markdown",
      "source": [
        "# Word2Vec Method\n",
        "- I briefly attempted to use Word2Vec, but right away, the results were no differnt to TF-IDF, so I decided it would be better to try BERT."
      ],
      "metadata": {
        "id": "jDRgJEcy94Fm"
      },
      "id": "jDRgJEcy94Fm"
    },
    {
      "cell_type": "markdown",
      "source": [
        "\n",
        "\n",
        "---\n",
        "\n",
        "\n",
        "### Sources"
      ],
      "metadata": {
        "id": "MPiUCPOI03Ht"
      },
      "id": "MPiUCPOI03Ht"
    },
    {
      "cell_type": "markdown",
      "source": [
        "**For Learning and Implementing BERT Classification**<br>\n",
        "[Text Classification with BERT](https://medium.com/@khang.pham.exxact/text-classification-with-bert-7afaacc5e49b), *Kang Pham*, Medium Article\n",
        "\n",
        "[BERT Product Rating Predictor](https://github.com/csbanon/bert-product-rating-predictor/blob/master/bert-product-rating-predictor.ipynb), *csbanon*, Github Repo\n",
        "\n",
        "[Sentiment Analysis](https://www.kaggle.com/code/ahmedmoharm/sentiment-analysis-bert-pytorch) - Bert - PyTorch , *Ahmed Tarek*, Kaggle"
      ],
      "metadata": {
        "id": "1HsX3KsW0-9v"
      },
      "id": "1HsX3KsW0-9v"
    },
    {
      "cell_type": "markdown",
      "source": [
        "**Data Source**\n",
        "[Amazon Books Reviews](https://www.kaggle.com/datasets/mohamedbakhet/amazon-books-reviews?select=Books_rating.csv) on Kaggle, provided by Mohamed Bekheet<br>\n",
        "License CC0: Public Domain"
      ],
      "metadata": {
        "id": "WIivnYEF1V-2"
      },
      "id": "WIivnYEF1V-2"
    },
    {
      "cell_type": "markdown",
      "source": [
        "![picture](https://i.imgur.com/9ELRD7G.png)"
      ],
      "metadata": {
        "id": "yvsG0TNd3NM_"
      },
      "id": "yvsG0TNd3NM_"
    },
    {
      "cell_type": "code",
      "source": [],
      "metadata": {
        "id": "8OjBxNbV3tEv"
      },
      "id": "8OjBxNbV3tEv",
      "execution_count": null,
      "outputs": []
    }
  ],
  "metadata": {
    "kernelspec": {
      "display_name": "Python 3",
      "name": "python3"
    },
    "language_info": {
      "codemirror_mode": {
        "name": "ipython",
        "version": 3
      },
      "file_extension": ".py",
      "mimetype": "text/x-python",
      "name": "python",
      "nbconvert_exporter": "python",
      "pygments_lexer": "ipython3",
      "version": "3.11.5"
    },
    "colab": {
      "provenance": [],
      "toc_visible": true
    },
    "widgets": {
      "application/vnd.jupyter.widget-state+json": {
        "9f3bbb7d06f84361852aee04df2cc39f": {
          "model_module": "@jupyter-widgets/controls",
          "model_name": "HBoxModel",
          "model_module_version": "1.5.0",
          "state": {
            "_dom_classes": [],
            "_model_module": "@jupyter-widgets/controls",
            "_model_module_version": "1.5.0",
            "_model_name": "HBoxModel",
            "_view_count": null,
            "_view_module": "@jupyter-widgets/controls",
            "_view_module_version": "1.5.0",
            "_view_name": "HBoxView",
            "box_style": "",
            "children": [
              "IPY_MODEL_09674bb988d9488ca03d4ec48e0d2bed",
              "IPY_MODEL_ef2cf1a0cd034276b7bbb7dc6fdadccb",
              "IPY_MODEL_53252814ba624a0dae75dd68700bd4d2"
            ],
            "layout": "IPY_MODEL_c7f4529c81904867899d813913d64b19"
          }
        },
        "09674bb988d9488ca03d4ec48e0d2bed": {
          "model_module": "@jupyter-widgets/controls",
          "model_name": "HTMLModel",
          "model_module_version": "1.5.0",
          "state": {
            "_dom_classes": [],
            "_model_module": "@jupyter-widgets/controls",
            "_model_module_version": "1.5.0",
            "_model_name": "HTMLModel",
            "_view_count": null,
            "_view_module": "@jupyter-widgets/controls",
            "_view_module_version": "1.5.0",
            "_view_name": "HTMLView",
            "description": "",
            "description_tooltip": null,
            "layout": "IPY_MODEL_43587063c83f4731bce30705bff253d4",
            "placeholder": "​",
            "style": "IPY_MODEL_dea02b3ba70f45d78404d8d3858b487b",
            "value": "config.json: 100%"
          }
        },
        "ef2cf1a0cd034276b7bbb7dc6fdadccb": {
          "model_module": "@jupyter-widgets/controls",
          "model_name": "FloatProgressModel",
          "model_module_version": "1.5.0",
          "state": {
            "_dom_classes": [],
            "_model_module": "@jupyter-widgets/controls",
            "_model_module_version": "1.5.0",
            "_model_name": "FloatProgressModel",
            "_view_count": null,
            "_view_module": "@jupyter-widgets/controls",
            "_view_module_version": "1.5.0",
            "_view_name": "ProgressView",
            "bar_style": "success",
            "description": "",
            "description_tooltip": null,
            "layout": "IPY_MODEL_1b4e08d353d141cfbae7a53186796aca",
            "max": 570,
            "min": 0,
            "orientation": "horizontal",
            "style": "IPY_MODEL_d662741dbef945ee96d3f81a7921fdff",
            "value": 570
          }
        },
        "53252814ba624a0dae75dd68700bd4d2": {
          "model_module": "@jupyter-widgets/controls",
          "model_name": "HTMLModel",
          "model_module_version": "1.5.0",
          "state": {
            "_dom_classes": [],
            "_model_module": "@jupyter-widgets/controls",
            "_model_module_version": "1.5.0",
            "_model_name": "HTMLModel",
            "_view_count": null,
            "_view_module": "@jupyter-widgets/controls",
            "_view_module_version": "1.5.0",
            "_view_name": "HTMLView",
            "description": "",
            "description_tooltip": null,
            "layout": "IPY_MODEL_1ce63bf64237471e8a67668bf8622add",
            "placeholder": "​",
            "style": "IPY_MODEL_6f70051893914fe09a35d034ef0e63cf",
            "value": " 570/570 [00:00&lt;00:00, 26.8kB/s]"
          }
        },
        "c7f4529c81904867899d813913d64b19": {
          "model_module": "@jupyter-widgets/base",
          "model_name": "LayoutModel",
          "model_module_version": "1.2.0",
          "state": {
            "_model_module": "@jupyter-widgets/base",
            "_model_module_version": "1.2.0",
            "_model_name": "LayoutModel",
            "_view_count": null,
            "_view_module": "@jupyter-widgets/base",
            "_view_module_version": "1.2.0",
            "_view_name": "LayoutView",
            "align_content": null,
            "align_items": null,
            "align_self": null,
            "border": null,
            "bottom": null,
            "display": null,
            "flex": null,
            "flex_flow": null,
            "grid_area": null,
            "grid_auto_columns": null,
            "grid_auto_flow": null,
            "grid_auto_rows": null,
            "grid_column": null,
            "grid_gap": null,
            "grid_row": null,
            "grid_template_areas": null,
            "grid_template_columns": null,
            "grid_template_rows": null,
            "height": null,
            "justify_content": null,
            "justify_items": null,
            "left": null,
            "margin": null,
            "max_height": null,
            "max_width": null,
            "min_height": null,
            "min_width": null,
            "object_fit": null,
            "object_position": null,
            "order": null,
            "overflow": null,
            "overflow_x": null,
            "overflow_y": null,
            "padding": null,
            "right": null,
            "top": null,
            "visibility": null,
            "width": null
          }
        },
        "43587063c83f4731bce30705bff253d4": {
          "model_module": "@jupyter-widgets/base",
          "model_name": "LayoutModel",
          "model_module_version": "1.2.0",
          "state": {
            "_model_module": "@jupyter-widgets/base",
            "_model_module_version": "1.2.0",
            "_model_name": "LayoutModel",
            "_view_count": null,
            "_view_module": "@jupyter-widgets/base",
            "_view_module_version": "1.2.0",
            "_view_name": "LayoutView",
            "align_content": null,
            "align_items": null,
            "align_self": null,
            "border": null,
            "bottom": null,
            "display": null,
            "flex": null,
            "flex_flow": null,
            "grid_area": null,
            "grid_auto_columns": null,
            "grid_auto_flow": null,
            "grid_auto_rows": null,
            "grid_column": null,
            "grid_gap": null,
            "grid_row": null,
            "grid_template_areas": null,
            "grid_template_columns": null,
            "grid_template_rows": null,
            "height": null,
            "justify_content": null,
            "justify_items": null,
            "left": null,
            "margin": null,
            "max_height": null,
            "max_width": null,
            "min_height": null,
            "min_width": null,
            "object_fit": null,
            "object_position": null,
            "order": null,
            "overflow": null,
            "overflow_x": null,
            "overflow_y": null,
            "padding": null,
            "right": null,
            "top": null,
            "visibility": null,
            "width": null
          }
        },
        "dea02b3ba70f45d78404d8d3858b487b": {
          "model_module": "@jupyter-widgets/controls",
          "model_name": "DescriptionStyleModel",
          "model_module_version": "1.5.0",
          "state": {
            "_model_module": "@jupyter-widgets/controls",
            "_model_module_version": "1.5.0",
            "_model_name": "DescriptionStyleModel",
            "_view_count": null,
            "_view_module": "@jupyter-widgets/base",
            "_view_module_version": "1.2.0",
            "_view_name": "StyleView",
            "description_width": ""
          }
        },
        "1b4e08d353d141cfbae7a53186796aca": {
          "model_module": "@jupyter-widgets/base",
          "model_name": "LayoutModel",
          "model_module_version": "1.2.0",
          "state": {
            "_model_module": "@jupyter-widgets/base",
            "_model_module_version": "1.2.0",
            "_model_name": "LayoutModel",
            "_view_count": null,
            "_view_module": "@jupyter-widgets/base",
            "_view_module_version": "1.2.0",
            "_view_name": "LayoutView",
            "align_content": null,
            "align_items": null,
            "align_self": null,
            "border": null,
            "bottom": null,
            "display": null,
            "flex": null,
            "flex_flow": null,
            "grid_area": null,
            "grid_auto_columns": null,
            "grid_auto_flow": null,
            "grid_auto_rows": null,
            "grid_column": null,
            "grid_gap": null,
            "grid_row": null,
            "grid_template_areas": null,
            "grid_template_columns": null,
            "grid_template_rows": null,
            "height": null,
            "justify_content": null,
            "justify_items": null,
            "left": null,
            "margin": null,
            "max_height": null,
            "max_width": null,
            "min_height": null,
            "min_width": null,
            "object_fit": null,
            "object_position": null,
            "order": null,
            "overflow": null,
            "overflow_x": null,
            "overflow_y": null,
            "padding": null,
            "right": null,
            "top": null,
            "visibility": null,
            "width": null
          }
        },
        "d662741dbef945ee96d3f81a7921fdff": {
          "model_module": "@jupyter-widgets/controls",
          "model_name": "ProgressStyleModel",
          "model_module_version": "1.5.0",
          "state": {
            "_model_module": "@jupyter-widgets/controls",
            "_model_module_version": "1.5.0",
            "_model_name": "ProgressStyleModel",
            "_view_count": null,
            "_view_module": "@jupyter-widgets/base",
            "_view_module_version": "1.2.0",
            "_view_name": "StyleView",
            "bar_color": null,
            "description_width": ""
          }
        },
        "1ce63bf64237471e8a67668bf8622add": {
          "model_module": "@jupyter-widgets/base",
          "model_name": "LayoutModel",
          "model_module_version": "1.2.0",
          "state": {
            "_model_module": "@jupyter-widgets/base",
            "_model_module_version": "1.2.0",
            "_model_name": "LayoutModel",
            "_view_count": null,
            "_view_module": "@jupyter-widgets/base",
            "_view_module_version": "1.2.0",
            "_view_name": "LayoutView",
            "align_content": null,
            "align_items": null,
            "align_self": null,
            "border": null,
            "bottom": null,
            "display": null,
            "flex": null,
            "flex_flow": null,
            "grid_area": null,
            "grid_auto_columns": null,
            "grid_auto_flow": null,
            "grid_auto_rows": null,
            "grid_column": null,
            "grid_gap": null,
            "grid_row": null,
            "grid_template_areas": null,
            "grid_template_columns": null,
            "grid_template_rows": null,
            "height": null,
            "justify_content": null,
            "justify_items": null,
            "left": null,
            "margin": null,
            "max_height": null,
            "max_width": null,
            "min_height": null,
            "min_width": null,
            "object_fit": null,
            "object_position": null,
            "order": null,
            "overflow": null,
            "overflow_x": null,
            "overflow_y": null,
            "padding": null,
            "right": null,
            "top": null,
            "visibility": null,
            "width": null
          }
        },
        "6f70051893914fe09a35d034ef0e63cf": {
          "model_module": "@jupyter-widgets/controls",
          "model_name": "DescriptionStyleModel",
          "model_module_version": "1.5.0",
          "state": {
            "_model_module": "@jupyter-widgets/controls",
            "_model_module_version": "1.5.0",
            "_model_name": "DescriptionStyleModel",
            "_view_count": null,
            "_view_module": "@jupyter-widgets/base",
            "_view_module_version": "1.2.0",
            "_view_name": "StyleView",
            "description_width": ""
          }
        },
        "b573aedc30bc48dcb347cc3502c1a3e1": {
          "model_module": "@jupyter-widgets/controls",
          "model_name": "HBoxModel",
          "model_module_version": "1.5.0",
          "state": {
            "_dom_classes": [],
            "_model_module": "@jupyter-widgets/controls",
            "_model_module_version": "1.5.0",
            "_model_name": "HBoxModel",
            "_view_count": null,
            "_view_module": "@jupyter-widgets/controls",
            "_view_module_version": "1.5.0",
            "_view_name": "HBoxView",
            "box_style": "",
            "children": [
              "IPY_MODEL_608ef0b5a99a4011bc9d53d514b3c8b9",
              "IPY_MODEL_d2d7427e60ca4bc99262bc8a805e7c2a",
              "IPY_MODEL_f325901cbf5745cba219365e402d9736"
            ],
            "layout": "IPY_MODEL_3bb19edf28284b5090221e79341b00b7"
          }
        },
        "608ef0b5a99a4011bc9d53d514b3c8b9": {
          "model_module": "@jupyter-widgets/controls",
          "model_name": "HTMLModel",
          "model_module_version": "1.5.0",
          "state": {
            "_dom_classes": [],
            "_model_module": "@jupyter-widgets/controls",
            "_model_module_version": "1.5.0",
            "_model_name": "HTMLModel",
            "_view_count": null,
            "_view_module": "@jupyter-widgets/controls",
            "_view_module_version": "1.5.0",
            "_view_name": "HTMLView",
            "description": "",
            "description_tooltip": null,
            "layout": "IPY_MODEL_3da0c41a7bd6408991ea7c0564915621",
            "placeholder": "​",
            "style": "IPY_MODEL_90ddddf2ce9148a398ed7b0e3f2b7aae",
            "value": "model.safetensors: 100%"
          }
        },
        "d2d7427e60ca4bc99262bc8a805e7c2a": {
          "model_module": "@jupyter-widgets/controls",
          "model_name": "FloatProgressModel",
          "model_module_version": "1.5.0",
          "state": {
            "_dom_classes": [],
            "_model_module": "@jupyter-widgets/controls",
            "_model_module_version": "1.5.0",
            "_model_name": "FloatProgressModel",
            "_view_count": null,
            "_view_module": "@jupyter-widgets/controls",
            "_view_module_version": "1.5.0",
            "_view_name": "ProgressView",
            "bar_style": "success",
            "description": "",
            "description_tooltip": null,
            "layout": "IPY_MODEL_94cd62990087478292d013c5ac74a2af",
            "max": 440449768,
            "min": 0,
            "orientation": "horizontal",
            "style": "IPY_MODEL_6c22b4f0f80a4f41b616fa7332a7519d",
            "value": 440449768
          }
        },
        "f325901cbf5745cba219365e402d9736": {
          "model_module": "@jupyter-widgets/controls",
          "model_name": "HTMLModel",
          "model_module_version": "1.5.0",
          "state": {
            "_dom_classes": [],
            "_model_module": "@jupyter-widgets/controls",
            "_model_module_version": "1.5.0",
            "_model_name": "HTMLModel",
            "_view_count": null,
            "_view_module": "@jupyter-widgets/controls",
            "_view_module_version": "1.5.0",
            "_view_name": "HTMLView",
            "description": "",
            "description_tooltip": null,
            "layout": "IPY_MODEL_8c2763a53ffb40eb897adba9d9ffa05e",
            "placeholder": "​",
            "style": "IPY_MODEL_55891e9ad51340d48ae165d1b39b8cdf",
            "value": " 440M/440M [00:03&lt;00:00, 117MB/s]"
          }
        },
        "3bb19edf28284b5090221e79341b00b7": {
          "model_module": "@jupyter-widgets/base",
          "model_name": "LayoutModel",
          "model_module_version": "1.2.0",
          "state": {
            "_model_module": "@jupyter-widgets/base",
            "_model_module_version": "1.2.0",
            "_model_name": "LayoutModel",
            "_view_count": null,
            "_view_module": "@jupyter-widgets/base",
            "_view_module_version": "1.2.0",
            "_view_name": "LayoutView",
            "align_content": null,
            "align_items": null,
            "align_self": null,
            "border": null,
            "bottom": null,
            "display": null,
            "flex": null,
            "flex_flow": null,
            "grid_area": null,
            "grid_auto_columns": null,
            "grid_auto_flow": null,
            "grid_auto_rows": null,
            "grid_column": null,
            "grid_gap": null,
            "grid_row": null,
            "grid_template_areas": null,
            "grid_template_columns": null,
            "grid_template_rows": null,
            "height": null,
            "justify_content": null,
            "justify_items": null,
            "left": null,
            "margin": null,
            "max_height": null,
            "max_width": null,
            "min_height": null,
            "min_width": null,
            "object_fit": null,
            "object_position": null,
            "order": null,
            "overflow": null,
            "overflow_x": null,
            "overflow_y": null,
            "padding": null,
            "right": null,
            "top": null,
            "visibility": null,
            "width": null
          }
        },
        "3da0c41a7bd6408991ea7c0564915621": {
          "model_module": "@jupyter-widgets/base",
          "model_name": "LayoutModel",
          "model_module_version": "1.2.0",
          "state": {
            "_model_module": "@jupyter-widgets/base",
            "_model_module_version": "1.2.0",
            "_model_name": "LayoutModel",
            "_view_count": null,
            "_view_module": "@jupyter-widgets/base",
            "_view_module_version": "1.2.0",
            "_view_name": "LayoutView",
            "align_content": null,
            "align_items": null,
            "align_self": null,
            "border": null,
            "bottom": null,
            "display": null,
            "flex": null,
            "flex_flow": null,
            "grid_area": null,
            "grid_auto_columns": null,
            "grid_auto_flow": null,
            "grid_auto_rows": null,
            "grid_column": null,
            "grid_gap": null,
            "grid_row": null,
            "grid_template_areas": null,
            "grid_template_columns": null,
            "grid_template_rows": null,
            "height": null,
            "justify_content": null,
            "justify_items": null,
            "left": null,
            "margin": null,
            "max_height": null,
            "max_width": null,
            "min_height": null,
            "min_width": null,
            "object_fit": null,
            "object_position": null,
            "order": null,
            "overflow": null,
            "overflow_x": null,
            "overflow_y": null,
            "padding": null,
            "right": null,
            "top": null,
            "visibility": null,
            "width": null
          }
        },
        "90ddddf2ce9148a398ed7b0e3f2b7aae": {
          "model_module": "@jupyter-widgets/controls",
          "model_name": "DescriptionStyleModel",
          "model_module_version": "1.5.0",
          "state": {
            "_model_module": "@jupyter-widgets/controls",
            "_model_module_version": "1.5.0",
            "_model_name": "DescriptionStyleModel",
            "_view_count": null,
            "_view_module": "@jupyter-widgets/base",
            "_view_module_version": "1.2.0",
            "_view_name": "StyleView",
            "description_width": ""
          }
        },
        "94cd62990087478292d013c5ac74a2af": {
          "model_module": "@jupyter-widgets/base",
          "model_name": "LayoutModel",
          "model_module_version": "1.2.0",
          "state": {
            "_model_module": "@jupyter-widgets/base",
            "_model_module_version": "1.2.0",
            "_model_name": "LayoutModel",
            "_view_count": null,
            "_view_module": "@jupyter-widgets/base",
            "_view_module_version": "1.2.0",
            "_view_name": "LayoutView",
            "align_content": null,
            "align_items": null,
            "align_self": null,
            "border": null,
            "bottom": null,
            "display": null,
            "flex": null,
            "flex_flow": null,
            "grid_area": null,
            "grid_auto_columns": null,
            "grid_auto_flow": null,
            "grid_auto_rows": null,
            "grid_column": null,
            "grid_gap": null,
            "grid_row": null,
            "grid_template_areas": null,
            "grid_template_columns": null,
            "grid_template_rows": null,
            "height": null,
            "justify_content": null,
            "justify_items": null,
            "left": null,
            "margin": null,
            "max_height": null,
            "max_width": null,
            "min_height": null,
            "min_width": null,
            "object_fit": null,
            "object_position": null,
            "order": null,
            "overflow": null,
            "overflow_x": null,
            "overflow_y": null,
            "padding": null,
            "right": null,
            "top": null,
            "visibility": null,
            "width": null
          }
        },
        "6c22b4f0f80a4f41b616fa7332a7519d": {
          "model_module": "@jupyter-widgets/controls",
          "model_name": "ProgressStyleModel",
          "model_module_version": "1.5.0",
          "state": {
            "_model_module": "@jupyter-widgets/controls",
            "_model_module_version": "1.5.0",
            "_model_name": "ProgressStyleModel",
            "_view_count": null,
            "_view_module": "@jupyter-widgets/base",
            "_view_module_version": "1.2.0",
            "_view_name": "StyleView",
            "bar_color": null,
            "description_width": ""
          }
        },
        "8c2763a53ffb40eb897adba9d9ffa05e": {
          "model_module": "@jupyter-widgets/base",
          "model_name": "LayoutModel",
          "model_module_version": "1.2.0",
          "state": {
            "_model_module": "@jupyter-widgets/base",
            "_model_module_version": "1.2.0",
            "_model_name": "LayoutModel",
            "_view_count": null,
            "_view_module": "@jupyter-widgets/base",
            "_view_module_version": "1.2.0",
            "_view_name": "LayoutView",
            "align_content": null,
            "align_items": null,
            "align_self": null,
            "border": null,
            "bottom": null,
            "display": null,
            "flex": null,
            "flex_flow": null,
            "grid_area": null,
            "grid_auto_columns": null,
            "grid_auto_flow": null,
            "grid_auto_rows": null,
            "grid_column": null,
            "grid_gap": null,
            "grid_row": null,
            "grid_template_areas": null,
            "grid_template_columns": null,
            "grid_template_rows": null,
            "height": null,
            "justify_content": null,
            "justify_items": null,
            "left": null,
            "margin": null,
            "max_height": null,
            "max_width": null,
            "min_height": null,
            "min_width": null,
            "object_fit": null,
            "object_position": null,
            "order": null,
            "overflow": null,
            "overflow_x": null,
            "overflow_y": null,
            "padding": null,
            "right": null,
            "top": null,
            "visibility": null,
            "width": null
          }
        },
        "55891e9ad51340d48ae165d1b39b8cdf": {
          "model_module": "@jupyter-widgets/controls",
          "model_name": "DescriptionStyleModel",
          "model_module_version": "1.5.0",
          "state": {
            "_model_module": "@jupyter-widgets/controls",
            "_model_module_version": "1.5.0",
            "_model_name": "DescriptionStyleModel",
            "_view_count": null,
            "_view_module": "@jupyter-widgets/base",
            "_view_module_version": "1.2.0",
            "_view_name": "StyleView",
            "description_width": ""
          }
        },
        "bf4ec634aafc4ebfbea1a4a9c87a4c0b": {
          "model_module": "@jupyter-widgets/controls",
          "model_name": "HBoxModel",
          "model_module_version": "1.5.0",
          "state": {
            "_dom_classes": [],
            "_model_module": "@jupyter-widgets/controls",
            "_model_module_version": "1.5.0",
            "_model_name": "HBoxModel",
            "_view_count": null,
            "_view_module": "@jupyter-widgets/controls",
            "_view_module_version": "1.5.0",
            "_view_name": "HBoxView",
            "box_style": "",
            "children": [
              "IPY_MODEL_8a5c2242129d4d8597e67b3a107908e3",
              "IPY_MODEL_ddb3bf30b5e040eb9c49830707af4446",
              "IPY_MODEL_325aedc54d1f4cb2ab2f3a93ae8b3a97"
            ],
            "layout": "IPY_MODEL_44ae97ea1ea34454b76c5e03beb46884"
          }
        },
        "8a5c2242129d4d8597e67b3a107908e3": {
          "model_module": "@jupyter-widgets/controls",
          "model_name": "HTMLModel",
          "model_module_version": "1.5.0",
          "state": {
            "_dom_classes": [],
            "_model_module": "@jupyter-widgets/controls",
            "_model_module_version": "1.5.0",
            "_model_name": "HTMLModel",
            "_view_count": null,
            "_view_module": "@jupyter-widgets/controls",
            "_view_module_version": "1.5.0",
            "_view_name": "HTMLView",
            "description": "",
            "description_tooltip": null,
            "layout": "IPY_MODEL_e2a439b294944a44bc049e30f69beb9f",
            "placeholder": "​",
            "style": "IPY_MODEL_063391b3429245309bcdd1296b48a12f",
            "value": "tokenizer_config.json: 100%"
          }
        },
        "ddb3bf30b5e040eb9c49830707af4446": {
          "model_module": "@jupyter-widgets/controls",
          "model_name": "FloatProgressModel",
          "model_module_version": "1.5.0",
          "state": {
            "_dom_classes": [],
            "_model_module": "@jupyter-widgets/controls",
            "_model_module_version": "1.5.0",
            "_model_name": "FloatProgressModel",
            "_view_count": null,
            "_view_module": "@jupyter-widgets/controls",
            "_view_module_version": "1.5.0",
            "_view_name": "ProgressView",
            "bar_style": "success",
            "description": "",
            "description_tooltip": null,
            "layout": "IPY_MODEL_3ff3960ec6b5498e9ede5692387b0f60",
            "max": 28,
            "min": 0,
            "orientation": "horizontal",
            "style": "IPY_MODEL_102747835ca146539d707e73b1455bc5",
            "value": 28
          }
        },
        "325aedc54d1f4cb2ab2f3a93ae8b3a97": {
          "model_module": "@jupyter-widgets/controls",
          "model_name": "HTMLModel",
          "model_module_version": "1.5.0",
          "state": {
            "_dom_classes": [],
            "_model_module": "@jupyter-widgets/controls",
            "_model_module_version": "1.5.0",
            "_model_name": "HTMLModel",
            "_view_count": null,
            "_view_module": "@jupyter-widgets/controls",
            "_view_module_version": "1.5.0",
            "_view_name": "HTMLView",
            "description": "",
            "description_tooltip": null,
            "layout": "IPY_MODEL_b5c4e464f3544137b6611efb526b42dd",
            "placeholder": "​",
            "style": "IPY_MODEL_7adea33c3b144efbb2fceec5b347608b",
            "value": " 28.0/28.0 [00:00&lt;00:00, 1.31kB/s]"
          }
        },
        "44ae97ea1ea34454b76c5e03beb46884": {
          "model_module": "@jupyter-widgets/base",
          "model_name": "LayoutModel",
          "model_module_version": "1.2.0",
          "state": {
            "_model_module": "@jupyter-widgets/base",
            "_model_module_version": "1.2.0",
            "_model_name": "LayoutModel",
            "_view_count": null,
            "_view_module": "@jupyter-widgets/base",
            "_view_module_version": "1.2.0",
            "_view_name": "LayoutView",
            "align_content": null,
            "align_items": null,
            "align_self": null,
            "border": null,
            "bottom": null,
            "display": null,
            "flex": null,
            "flex_flow": null,
            "grid_area": null,
            "grid_auto_columns": null,
            "grid_auto_flow": null,
            "grid_auto_rows": null,
            "grid_column": null,
            "grid_gap": null,
            "grid_row": null,
            "grid_template_areas": null,
            "grid_template_columns": null,
            "grid_template_rows": null,
            "height": null,
            "justify_content": null,
            "justify_items": null,
            "left": null,
            "margin": null,
            "max_height": null,
            "max_width": null,
            "min_height": null,
            "min_width": null,
            "object_fit": null,
            "object_position": null,
            "order": null,
            "overflow": null,
            "overflow_x": null,
            "overflow_y": null,
            "padding": null,
            "right": null,
            "top": null,
            "visibility": null,
            "width": null
          }
        },
        "e2a439b294944a44bc049e30f69beb9f": {
          "model_module": "@jupyter-widgets/base",
          "model_name": "LayoutModel",
          "model_module_version": "1.2.0",
          "state": {
            "_model_module": "@jupyter-widgets/base",
            "_model_module_version": "1.2.0",
            "_model_name": "LayoutModel",
            "_view_count": null,
            "_view_module": "@jupyter-widgets/base",
            "_view_module_version": "1.2.0",
            "_view_name": "LayoutView",
            "align_content": null,
            "align_items": null,
            "align_self": null,
            "border": null,
            "bottom": null,
            "display": null,
            "flex": null,
            "flex_flow": null,
            "grid_area": null,
            "grid_auto_columns": null,
            "grid_auto_flow": null,
            "grid_auto_rows": null,
            "grid_column": null,
            "grid_gap": null,
            "grid_row": null,
            "grid_template_areas": null,
            "grid_template_columns": null,
            "grid_template_rows": null,
            "height": null,
            "justify_content": null,
            "justify_items": null,
            "left": null,
            "margin": null,
            "max_height": null,
            "max_width": null,
            "min_height": null,
            "min_width": null,
            "object_fit": null,
            "object_position": null,
            "order": null,
            "overflow": null,
            "overflow_x": null,
            "overflow_y": null,
            "padding": null,
            "right": null,
            "top": null,
            "visibility": null,
            "width": null
          }
        },
        "063391b3429245309bcdd1296b48a12f": {
          "model_module": "@jupyter-widgets/controls",
          "model_name": "DescriptionStyleModel",
          "model_module_version": "1.5.0",
          "state": {
            "_model_module": "@jupyter-widgets/controls",
            "_model_module_version": "1.5.0",
            "_model_name": "DescriptionStyleModel",
            "_view_count": null,
            "_view_module": "@jupyter-widgets/base",
            "_view_module_version": "1.2.0",
            "_view_name": "StyleView",
            "description_width": ""
          }
        },
        "3ff3960ec6b5498e9ede5692387b0f60": {
          "model_module": "@jupyter-widgets/base",
          "model_name": "LayoutModel",
          "model_module_version": "1.2.0",
          "state": {
            "_model_module": "@jupyter-widgets/base",
            "_model_module_version": "1.2.0",
            "_model_name": "LayoutModel",
            "_view_count": null,
            "_view_module": "@jupyter-widgets/base",
            "_view_module_version": "1.2.0",
            "_view_name": "LayoutView",
            "align_content": null,
            "align_items": null,
            "align_self": null,
            "border": null,
            "bottom": null,
            "display": null,
            "flex": null,
            "flex_flow": null,
            "grid_area": null,
            "grid_auto_columns": null,
            "grid_auto_flow": null,
            "grid_auto_rows": null,
            "grid_column": null,
            "grid_gap": null,
            "grid_row": null,
            "grid_template_areas": null,
            "grid_template_columns": null,
            "grid_template_rows": null,
            "height": null,
            "justify_content": null,
            "justify_items": null,
            "left": null,
            "margin": null,
            "max_height": null,
            "max_width": null,
            "min_height": null,
            "min_width": null,
            "object_fit": null,
            "object_position": null,
            "order": null,
            "overflow": null,
            "overflow_x": null,
            "overflow_y": null,
            "padding": null,
            "right": null,
            "top": null,
            "visibility": null,
            "width": null
          }
        },
        "102747835ca146539d707e73b1455bc5": {
          "model_module": "@jupyter-widgets/controls",
          "model_name": "ProgressStyleModel",
          "model_module_version": "1.5.0",
          "state": {
            "_model_module": "@jupyter-widgets/controls",
            "_model_module_version": "1.5.0",
            "_model_name": "ProgressStyleModel",
            "_view_count": null,
            "_view_module": "@jupyter-widgets/base",
            "_view_module_version": "1.2.0",
            "_view_name": "StyleView",
            "bar_color": null,
            "description_width": ""
          }
        },
        "b5c4e464f3544137b6611efb526b42dd": {
          "model_module": "@jupyter-widgets/base",
          "model_name": "LayoutModel",
          "model_module_version": "1.2.0",
          "state": {
            "_model_module": "@jupyter-widgets/base",
            "_model_module_version": "1.2.0",
            "_model_name": "LayoutModel",
            "_view_count": null,
            "_view_module": "@jupyter-widgets/base",
            "_view_module_version": "1.2.0",
            "_view_name": "LayoutView",
            "align_content": null,
            "align_items": null,
            "align_self": null,
            "border": null,
            "bottom": null,
            "display": null,
            "flex": null,
            "flex_flow": null,
            "grid_area": null,
            "grid_auto_columns": null,
            "grid_auto_flow": null,
            "grid_auto_rows": null,
            "grid_column": null,
            "grid_gap": null,
            "grid_row": null,
            "grid_template_areas": null,
            "grid_template_columns": null,
            "grid_template_rows": null,
            "height": null,
            "justify_content": null,
            "justify_items": null,
            "left": null,
            "margin": null,
            "max_height": null,
            "max_width": null,
            "min_height": null,
            "min_width": null,
            "object_fit": null,
            "object_position": null,
            "order": null,
            "overflow": null,
            "overflow_x": null,
            "overflow_y": null,
            "padding": null,
            "right": null,
            "top": null,
            "visibility": null,
            "width": null
          }
        },
        "7adea33c3b144efbb2fceec5b347608b": {
          "model_module": "@jupyter-widgets/controls",
          "model_name": "DescriptionStyleModel",
          "model_module_version": "1.5.0",
          "state": {
            "_model_module": "@jupyter-widgets/controls",
            "_model_module_version": "1.5.0",
            "_model_name": "DescriptionStyleModel",
            "_view_count": null,
            "_view_module": "@jupyter-widgets/base",
            "_view_module_version": "1.2.0",
            "_view_name": "StyleView",
            "description_width": ""
          }
        },
        "642564bb23574ba3bac331cb021d428a": {
          "model_module": "@jupyter-widgets/controls",
          "model_name": "HBoxModel",
          "model_module_version": "1.5.0",
          "state": {
            "_dom_classes": [],
            "_model_module": "@jupyter-widgets/controls",
            "_model_module_version": "1.5.0",
            "_model_name": "HBoxModel",
            "_view_count": null,
            "_view_module": "@jupyter-widgets/controls",
            "_view_module_version": "1.5.0",
            "_view_name": "HBoxView",
            "box_style": "",
            "children": [
              "IPY_MODEL_1e915d19ccc54cdeb97725550daf3d0f",
              "IPY_MODEL_75d731b6034548b1ab6019080521d72d",
              "IPY_MODEL_4553429a5d8e46e6b253e495521c9215"
            ],
            "layout": "IPY_MODEL_36acc46ae46c4603823a6d8a30e8470c"
          }
        },
        "1e915d19ccc54cdeb97725550daf3d0f": {
          "model_module": "@jupyter-widgets/controls",
          "model_name": "HTMLModel",
          "model_module_version": "1.5.0",
          "state": {
            "_dom_classes": [],
            "_model_module": "@jupyter-widgets/controls",
            "_model_module_version": "1.5.0",
            "_model_name": "HTMLModel",
            "_view_count": null,
            "_view_module": "@jupyter-widgets/controls",
            "_view_module_version": "1.5.0",
            "_view_name": "HTMLView",
            "description": "",
            "description_tooltip": null,
            "layout": "IPY_MODEL_21882461c71f4aa4ad8e1abc3c93fa89",
            "placeholder": "​",
            "style": "IPY_MODEL_33221b5e5df3415d95244a4efba03f71",
            "value": "vocab.txt: 100%"
          }
        },
        "75d731b6034548b1ab6019080521d72d": {
          "model_module": "@jupyter-widgets/controls",
          "model_name": "FloatProgressModel",
          "model_module_version": "1.5.0",
          "state": {
            "_dom_classes": [],
            "_model_module": "@jupyter-widgets/controls",
            "_model_module_version": "1.5.0",
            "_model_name": "FloatProgressModel",
            "_view_count": null,
            "_view_module": "@jupyter-widgets/controls",
            "_view_module_version": "1.5.0",
            "_view_name": "ProgressView",
            "bar_style": "success",
            "description": "",
            "description_tooltip": null,
            "layout": "IPY_MODEL_66249b4bdf02489ea8866ee874ba6edd",
            "max": 231508,
            "min": 0,
            "orientation": "horizontal",
            "style": "IPY_MODEL_7c542a7bbfd541e8a47858b9eeaee9f4",
            "value": 231508
          }
        },
        "4553429a5d8e46e6b253e495521c9215": {
          "model_module": "@jupyter-widgets/controls",
          "model_name": "HTMLModel",
          "model_module_version": "1.5.0",
          "state": {
            "_dom_classes": [],
            "_model_module": "@jupyter-widgets/controls",
            "_model_module_version": "1.5.0",
            "_model_name": "HTMLModel",
            "_view_count": null,
            "_view_module": "@jupyter-widgets/controls",
            "_view_module_version": "1.5.0",
            "_view_name": "HTMLView",
            "description": "",
            "description_tooltip": null,
            "layout": "IPY_MODEL_6b490f18bda64f9da30560451b503429",
            "placeholder": "​",
            "style": "IPY_MODEL_d2366f111b9946e79f1615bbb6c985be",
            "value": " 232k/232k [00:00&lt;00:00, 12.8MB/s]"
          }
        },
        "36acc46ae46c4603823a6d8a30e8470c": {
          "model_module": "@jupyter-widgets/base",
          "model_name": "LayoutModel",
          "model_module_version": "1.2.0",
          "state": {
            "_model_module": "@jupyter-widgets/base",
            "_model_module_version": "1.2.0",
            "_model_name": "LayoutModel",
            "_view_count": null,
            "_view_module": "@jupyter-widgets/base",
            "_view_module_version": "1.2.0",
            "_view_name": "LayoutView",
            "align_content": null,
            "align_items": null,
            "align_self": null,
            "border": null,
            "bottom": null,
            "display": null,
            "flex": null,
            "flex_flow": null,
            "grid_area": null,
            "grid_auto_columns": null,
            "grid_auto_flow": null,
            "grid_auto_rows": null,
            "grid_column": null,
            "grid_gap": null,
            "grid_row": null,
            "grid_template_areas": null,
            "grid_template_columns": null,
            "grid_template_rows": null,
            "height": null,
            "justify_content": null,
            "justify_items": null,
            "left": null,
            "margin": null,
            "max_height": null,
            "max_width": null,
            "min_height": null,
            "min_width": null,
            "object_fit": null,
            "object_position": null,
            "order": null,
            "overflow": null,
            "overflow_x": null,
            "overflow_y": null,
            "padding": null,
            "right": null,
            "top": null,
            "visibility": null,
            "width": null
          }
        },
        "21882461c71f4aa4ad8e1abc3c93fa89": {
          "model_module": "@jupyter-widgets/base",
          "model_name": "LayoutModel",
          "model_module_version": "1.2.0",
          "state": {
            "_model_module": "@jupyter-widgets/base",
            "_model_module_version": "1.2.0",
            "_model_name": "LayoutModel",
            "_view_count": null,
            "_view_module": "@jupyter-widgets/base",
            "_view_module_version": "1.2.0",
            "_view_name": "LayoutView",
            "align_content": null,
            "align_items": null,
            "align_self": null,
            "border": null,
            "bottom": null,
            "display": null,
            "flex": null,
            "flex_flow": null,
            "grid_area": null,
            "grid_auto_columns": null,
            "grid_auto_flow": null,
            "grid_auto_rows": null,
            "grid_column": null,
            "grid_gap": null,
            "grid_row": null,
            "grid_template_areas": null,
            "grid_template_columns": null,
            "grid_template_rows": null,
            "height": null,
            "justify_content": null,
            "justify_items": null,
            "left": null,
            "margin": null,
            "max_height": null,
            "max_width": null,
            "min_height": null,
            "min_width": null,
            "object_fit": null,
            "object_position": null,
            "order": null,
            "overflow": null,
            "overflow_x": null,
            "overflow_y": null,
            "padding": null,
            "right": null,
            "top": null,
            "visibility": null,
            "width": null
          }
        },
        "33221b5e5df3415d95244a4efba03f71": {
          "model_module": "@jupyter-widgets/controls",
          "model_name": "DescriptionStyleModel",
          "model_module_version": "1.5.0",
          "state": {
            "_model_module": "@jupyter-widgets/controls",
            "_model_module_version": "1.5.0",
            "_model_name": "DescriptionStyleModel",
            "_view_count": null,
            "_view_module": "@jupyter-widgets/base",
            "_view_module_version": "1.2.0",
            "_view_name": "StyleView",
            "description_width": ""
          }
        },
        "66249b4bdf02489ea8866ee874ba6edd": {
          "model_module": "@jupyter-widgets/base",
          "model_name": "LayoutModel",
          "model_module_version": "1.2.0",
          "state": {
            "_model_module": "@jupyter-widgets/base",
            "_model_module_version": "1.2.0",
            "_model_name": "LayoutModel",
            "_view_count": null,
            "_view_module": "@jupyter-widgets/base",
            "_view_module_version": "1.2.0",
            "_view_name": "LayoutView",
            "align_content": null,
            "align_items": null,
            "align_self": null,
            "border": null,
            "bottom": null,
            "display": null,
            "flex": null,
            "flex_flow": null,
            "grid_area": null,
            "grid_auto_columns": null,
            "grid_auto_flow": null,
            "grid_auto_rows": null,
            "grid_column": null,
            "grid_gap": null,
            "grid_row": null,
            "grid_template_areas": null,
            "grid_template_columns": null,
            "grid_template_rows": null,
            "height": null,
            "justify_content": null,
            "justify_items": null,
            "left": null,
            "margin": null,
            "max_height": null,
            "max_width": null,
            "min_height": null,
            "min_width": null,
            "object_fit": null,
            "object_position": null,
            "order": null,
            "overflow": null,
            "overflow_x": null,
            "overflow_y": null,
            "padding": null,
            "right": null,
            "top": null,
            "visibility": null,
            "width": null
          }
        },
        "7c542a7bbfd541e8a47858b9eeaee9f4": {
          "model_module": "@jupyter-widgets/controls",
          "model_name": "ProgressStyleModel",
          "model_module_version": "1.5.0",
          "state": {
            "_model_module": "@jupyter-widgets/controls",
            "_model_module_version": "1.5.0",
            "_model_name": "ProgressStyleModel",
            "_view_count": null,
            "_view_module": "@jupyter-widgets/base",
            "_view_module_version": "1.2.0",
            "_view_name": "StyleView",
            "bar_color": null,
            "description_width": ""
          }
        },
        "6b490f18bda64f9da30560451b503429": {
          "model_module": "@jupyter-widgets/base",
          "model_name": "LayoutModel",
          "model_module_version": "1.2.0",
          "state": {
            "_model_module": "@jupyter-widgets/base",
            "_model_module_version": "1.2.0",
            "_model_name": "LayoutModel",
            "_view_count": null,
            "_view_module": "@jupyter-widgets/base",
            "_view_module_version": "1.2.0",
            "_view_name": "LayoutView",
            "align_content": null,
            "align_items": null,
            "align_self": null,
            "border": null,
            "bottom": null,
            "display": null,
            "flex": null,
            "flex_flow": null,
            "grid_area": null,
            "grid_auto_columns": null,
            "grid_auto_flow": null,
            "grid_auto_rows": null,
            "grid_column": null,
            "grid_gap": null,
            "grid_row": null,
            "grid_template_areas": null,
            "grid_template_columns": null,
            "grid_template_rows": null,
            "height": null,
            "justify_content": null,
            "justify_items": null,
            "left": null,
            "margin": null,
            "max_height": null,
            "max_width": null,
            "min_height": null,
            "min_width": null,
            "object_fit": null,
            "object_position": null,
            "order": null,
            "overflow": null,
            "overflow_x": null,
            "overflow_y": null,
            "padding": null,
            "right": null,
            "top": null,
            "visibility": null,
            "width": null
          }
        },
        "d2366f111b9946e79f1615bbb6c985be": {
          "model_module": "@jupyter-widgets/controls",
          "model_name": "DescriptionStyleModel",
          "model_module_version": "1.5.0",
          "state": {
            "_model_module": "@jupyter-widgets/controls",
            "_model_module_version": "1.5.0",
            "_model_name": "DescriptionStyleModel",
            "_view_count": null,
            "_view_module": "@jupyter-widgets/base",
            "_view_module_version": "1.2.0",
            "_view_name": "StyleView",
            "description_width": ""
          }
        },
        "9ce3a38e607c4ca7a27327181ead2689": {
          "model_module": "@jupyter-widgets/controls",
          "model_name": "HBoxModel",
          "model_module_version": "1.5.0",
          "state": {
            "_dom_classes": [],
            "_model_module": "@jupyter-widgets/controls",
            "_model_module_version": "1.5.0",
            "_model_name": "HBoxModel",
            "_view_count": null,
            "_view_module": "@jupyter-widgets/controls",
            "_view_module_version": "1.5.0",
            "_view_name": "HBoxView",
            "box_style": "",
            "children": [
              "IPY_MODEL_d7c35a5114784b6aa491ddc69d7a4f93",
              "IPY_MODEL_e36e0ce769ea4ebf8bf6fd9e230eed53",
              "IPY_MODEL_24a6ed2a5e624f31a1ad51de71b43bf2"
            ],
            "layout": "IPY_MODEL_92cbaa3463ac49e4b208c493041ed774"
          }
        },
        "d7c35a5114784b6aa491ddc69d7a4f93": {
          "model_module": "@jupyter-widgets/controls",
          "model_name": "HTMLModel",
          "model_module_version": "1.5.0",
          "state": {
            "_dom_classes": [],
            "_model_module": "@jupyter-widgets/controls",
            "_model_module_version": "1.5.0",
            "_model_name": "HTMLModel",
            "_view_count": null,
            "_view_module": "@jupyter-widgets/controls",
            "_view_module_version": "1.5.0",
            "_view_name": "HTMLView",
            "description": "",
            "description_tooltip": null,
            "layout": "IPY_MODEL_c23bb79d8a114a80a380f9f35c57a3e2",
            "placeholder": "​",
            "style": "IPY_MODEL_a31c586f65014d69a2fc73773cf26c29",
            "value": "tokenizer.json: 100%"
          }
        },
        "e36e0ce769ea4ebf8bf6fd9e230eed53": {
          "model_module": "@jupyter-widgets/controls",
          "model_name": "FloatProgressModel",
          "model_module_version": "1.5.0",
          "state": {
            "_dom_classes": [],
            "_model_module": "@jupyter-widgets/controls",
            "_model_module_version": "1.5.0",
            "_model_name": "FloatProgressModel",
            "_view_count": null,
            "_view_module": "@jupyter-widgets/controls",
            "_view_module_version": "1.5.0",
            "_view_name": "ProgressView",
            "bar_style": "success",
            "description": "",
            "description_tooltip": null,
            "layout": "IPY_MODEL_e3c1520ad63b493ea821ce2e306cfa7f",
            "max": 466062,
            "min": 0,
            "orientation": "horizontal",
            "style": "IPY_MODEL_1110a62795284e1ebc0a61bdb296b50f",
            "value": 466062
          }
        },
        "24a6ed2a5e624f31a1ad51de71b43bf2": {
          "model_module": "@jupyter-widgets/controls",
          "model_name": "HTMLModel",
          "model_module_version": "1.5.0",
          "state": {
            "_dom_classes": [],
            "_model_module": "@jupyter-widgets/controls",
            "_model_module_version": "1.5.0",
            "_model_name": "HTMLModel",
            "_view_count": null,
            "_view_module": "@jupyter-widgets/controls",
            "_view_module_version": "1.5.0",
            "_view_name": "HTMLView",
            "description": "",
            "description_tooltip": null,
            "layout": "IPY_MODEL_04f12f4a839c4d9e87134c8706484a30",
            "placeholder": "​",
            "style": "IPY_MODEL_2fde33e33ca347658515c9fdd7be01e1",
            "value": " 466k/466k [00:00&lt;00:00, 8.05MB/s]"
          }
        },
        "92cbaa3463ac49e4b208c493041ed774": {
          "model_module": "@jupyter-widgets/base",
          "model_name": "LayoutModel",
          "model_module_version": "1.2.0",
          "state": {
            "_model_module": "@jupyter-widgets/base",
            "_model_module_version": "1.2.0",
            "_model_name": "LayoutModel",
            "_view_count": null,
            "_view_module": "@jupyter-widgets/base",
            "_view_module_version": "1.2.0",
            "_view_name": "LayoutView",
            "align_content": null,
            "align_items": null,
            "align_self": null,
            "border": null,
            "bottom": null,
            "display": null,
            "flex": null,
            "flex_flow": null,
            "grid_area": null,
            "grid_auto_columns": null,
            "grid_auto_flow": null,
            "grid_auto_rows": null,
            "grid_column": null,
            "grid_gap": null,
            "grid_row": null,
            "grid_template_areas": null,
            "grid_template_columns": null,
            "grid_template_rows": null,
            "height": null,
            "justify_content": null,
            "justify_items": null,
            "left": null,
            "margin": null,
            "max_height": null,
            "max_width": null,
            "min_height": null,
            "min_width": null,
            "object_fit": null,
            "object_position": null,
            "order": null,
            "overflow": null,
            "overflow_x": null,
            "overflow_y": null,
            "padding": null,
            "right": null,
            "top": null,
            "visibility": null,
            "width": null
          }
        },
        "c23bb79d8a114a80a380f9f35c57a3e2": {
          "model_module": "@jupyter-widgets/base",
          "model_name": "LayoutModel",
          "model_module_version": "1.2.0",
          "state": {
            "_model_module": "@jupyter-widgets/base",
            "_model_module_version": "1.2.0",
            "_model_name": "LayoutModel",
            "_view_count": null,
            "_view_module": "@jupyter-widgets/base",
            "_view_module_version": "1.2.0",
            "_view_name": "LayoutView",
            "align_content": null,
            "align_items": null,
            "align_self": null,
            "border": null,
            "bottom": null,
            "display": null,
            "flex": null,
            "flex_flow": null,
            "grid_area": null,
            "grid_auto_columns": null,
            "grid_auto_flow": null,
            "grid_auto_rows": null,
            "grid_column": null,
            "grid_gap": null,
            "grid_row": null,
            "grid_template_areas": null,
            "grid_template_columns": null,
            "grid_template_rows": null,
            "height": null,
            "justify_content": null,
            "justify_items": null,
            "left": null,
            "margin": null,
            "max_height": null,
            "max_width": null,
            "min_height": null,
            "min_width": null,
            "object_fit": null,
            "object_position": null,
            "order": null,
            "overflow": null,
            "overflow_x": null,
            "overflow_y": null,
            "padding": null,
            "right": null,
            "top": null,
            "visibility": null,
            "width": null
          }
        },
        "a31c586f65014d69a2fc73773cf26c29": {
          "model_module": "@jupyter-widgets/controls",
          "model_name": "DescriptionStyleModel",
          "model_module_version": "1.5.0",
          "state": {
            "_model_module": "@jupyter-widgets/controls",
            "_model_module_version": "1.5.0",
            "_model_name": "DescriptionStyleModel",
            "_view_count": null,
            "_view_module": "@jupyter-widgets/base",
            "_view_module_version": "1.2.0",
            "_view_name": "StyleView",
            "description_width": ""
          }
        },
        "e3c1520ad63b493ea821ce2e306cfa7f": {
          "model_module": "@jupyter-widgets/base",
          "model_name": "LayoutModel",
          "model_module_version": "1.2.0",
          "state": {
            "_model_module": "@jupyter-widgets/base",
            "_model_module_version": "1.2.0",
            "_model_name": "LayoutModel",
            "_view_count": null,
            "_view_module": "@jupyter-widgets/base",
            "_view_module_version": "1.2.0",
            "_view_name": "LayoutView",
            "align_content": null,
            "align_items": null,
            "align_self": null,
            "border": null,
            "bottom": null,
            "display": null,
            "flex": null,
            "flex_flow": null,
            "grid_area": null,
            "grid_auto_columns": null,
            "grid_auto_flow": null,
            "grid_auto_rows": null,
            "grid_column": null,
            "grid_gap": null,
            "grid_row": null,
            "grid_template_areas": null,
            "grid_template_columns": null,
            "grid_template_rows": null,
            "height": null,
            "justify_content": null,
            "justify_items": null,
            "left": null,
            "margin": null,
            "max_height": null,
            "max_width": null,
            "min_height": null,
            "min_width": null,
            "object_fit": null,
            "object_position": null,
            "order": null,
            "overflow": null,
            "overflow_x": null,
            "overflow_y": null,
            "padding": null,
            "right": null,
            "top": null,
            "visibility": null,
            "width": null
          }
        },
        "1110a62795284e1ebc0a61bdb296b50f": {
          "model_module": "@jupyter-widgets/controls",
          "model_name": "ProgressStyleModel",
          "model_module_version": "1.5.0",
          "state": {
            "_model_module": "@jupyter-widgets/controls",
            "_model_module_version": "1.5.0",
            "_model_name": "ProgressStyleModel",
            "_view_count": null,
            "_view_module": "@jupyter-widgets/base",
            "_view_module_version": "1.2.0",
            "_view_name": "StyleView",
            "bar_color": null,
            "description_width": ""
          }
        },
        "04f12f4a839c4d9e87134c8706484a30": {
          "model_module": "@jupyter-widgets/base",
          "model_name": "LayoutModel",
          "model_module_version": "1.2.0",
          "state": {
            "_model_module": "@jupyter-widgets/base",
            "_model_module_version": "1.2.0",
            "_model_name": "LayoutModel",
            "_view_count": null,
            "_view_module": "@jupyter-widgets/base",
            "_view_module_version": "1.2.0",
            "_view_name": "LayoutView",
            "align_content": null,
            "align_items": null,
            "align_self": null,
            "border": null,
            "bottom": null,
            "display": null,
            "flex": null,
            "flex_flow": null,
            "grid_area": null,
            "grid_auto_columns": null,
            "grid_auto_flow": null,
            "grid_auto_rows": null,
            "grid_column": null,
            "grid_gap": null,
            "grid_row": null,
            "grid_template_areas": null,
            "grid_template_columns": null,
            "grid_template_rows": null,
            "height": null,
            "justify_content": null,
            "justify_items": null,
            "left": null,
            "margin": null,
            "max_height": null,
            "max_width": null,
            "min_height": null,
            "min_width": null,
            "object_fit": null,
            "object_position": null,
            "order": null,
            "overflow": null,
            "overflow_x": null,
            "overflow_y": null,
            "padding": null,
            "right": null,
            "top": null,
            "visibility": null,
            "width": null
          }
        },
        "2fde33e33ca347658515c9fdd7be01e1": {
          "model_module": "@jupyter-widgets/controls",
          "model_name": "DescriptionStyleModel",
          "model_module_version": "1.5.0",
          "state": {
            "_model_module": "@jupyter-widgets/controls",
            "_model_module_version": "1.5.0",
            "_model_name": "DescriptionStyleModel",
            "_view_count": null,
            "_view_module": "@jupyter-widgets/base",
            "_view_module_version": "1.2.0",
            "_view_name": "StyleView",
            "description_width": ""
          }
        },
        "d4ce870c3f8147a1af6b4b6378643e32": {
          "model_module": "@jupyter-widgets/controls",
          "model_name": "HBoxModel",
          "model_module_version": "1.5.0",
          "state": {
            "_dom_classes": [],
            "_model_module": "@jupyter-widgets/controls",
            "_model_module_version": "1.5.0",
            "_model_name": "HBoxModel",
            "_view_count": null,
            "_view_module": "@jupyter-widgets/controls",
            "_view_module_version": "1.5.0",
            "_view_name": "HBoxView",
            "box_style": "",
            "children": [
              "IPY_MODEL_0256766b614c4eda95f4f35fb5f095ca",
              "IPY_MODEL_2fbf81d3f9a84acf945bb6495cb8b279",
              "IPY_MODEL_5003f6c489714e09a8fa49b38f97676a"
            ],
            "layout": "IPY_MODEL_3ef2a24f92744479bb3dddb58dd9bb25"
          }
        },
        "0256766b614c4eda95f4f35fb5f095ca": {
          "model_module": "@jupyter-widgets/controls",
          "model_name": "HTMLModel",
          "model_module_version": "1.5.0",
          "state": {
            "_dom_classes": [],
            "_model_module": "@jupyter-widgets/controls",
            "_model_module_version": "1.5.0",
            "_model_name": "HTMLModel",
            "_view_count": null,
            "_view_module": "@jupyter-widgets/controls",
            "_view_module_version": "1.5.0",
            "_view_name": "HTMLView",
            "description": "",
            "description_tooltip": null,
            "layout": "IPY_MODEL_2e82949f480740dd8e2f0f2d49468fb0",
            "placeholder": "​",
            "style": "IPY_MODEL_f54728f59daf4e85b4c98b3802e52104",
            "value": "config.json: 100%"
          }
        },
        "2fbf81d3f9a84acf945bb6495cb8b279": {
          "model_module": "@jupyter-widgets/controls",
          "model_name": "FloatProgressModel",
          "model_module_version": "1.5.0",
          "state": {
            "_dom_classes": [],
            "_model_module": "@jupyter-widgets/controls",
            "_model_module_version": "1.5.0",
            "_model_name": "FloatProgressModel",
            "_view_count": null,
            "_view_module": "@jupyter-widgets/controls",
            "_view_module_version": "1.5.0",
            "_view_name": "ProgressView",
            "bar_style": "success",
            "description": "",
            "description_tooltip": null,
            "layout": "IPY_MODEL_06563727b92d4176b32a4564e07c4a9d",
            "max": 570,
            "min": 0,
            "orientation": "horizontal",
            "style": "IPY_MODEL_0169f5badb7f4c259d5af99f362c1f7d",
            "value": 570
          }
        },
        "5003f6c489714e09a8fa49b38f97676a": {
          "model_module": "@jupyter-widgets/controls",
          "model_name": "HTMLModel",
          "model_module_version": "1.5.0",
          "state": {
            "_dom_classes": [],
            "_model_module": "@jupyter-widgets/controls",
            "_model_module_version": "1.5.0",
            "_model_name": "HTMLModel",
            "_view_count": null,
            "_view_module": "@jupyter-widgets/controls",
            "_view_module_version": "1.5.0",
            "_view_name": "HTMLView",
            "description": "",
            "description_tooltip": null,
            "layout": "IPY_MODEL_066027201bae4a9083e4f3b82493265d",
            "placeholder": "​",
            "style": "IPY_MODEL_0f96d720862a4038adede2884d56a86c",
            "value": " 570/570 [00:00&lt;00:00, 24.2kB/s]"
          }
        },
        "3ef2a24f92744479bb3dddb58dd9bb25": {
          "model_module": "@jupyter-widgets/base",
          "model_name": "LayoutModel",
          "model_module_version": "1.2.0",
          "state": {
            "_model_module": "@jupyter-widgets/base",
            "_model_module_version": "1.2.0",
            "_model_name": "LayoutModel",
            "_view_count": null,
            "_view_module": "@jupyter-widgets/base",
            "_view_module_version": "1.2.0",
            "_view_name": "LayoutView",
            "align_content": null,
            "align_items": null,
            "align_self": null,
            "border": null,
            "bottom": null,
            "display": null,
            "flex": null,
            "flex_flow": null,
            "grid_area": null,
            "grid_auto_columns": null,
            "grid_auto_flow": null,
            "grid_auto_rows": null,
            "grid_column": null,
            "grid_gap": null,
            "grid_row": null,
            "grid_template_areas": null,
            "grid_template_columns": null,
            "grid_template_rows": null,
            "height": null,
            "justify_content": null,
            "justify_items": null,
            "left": null,
            "margin": null,
            "max_height": null,
            "max_width": null,
            "min_height": null,
            "min_width": null,
            "object_fit": null,
            "object_position": null,
            "order": null,
            "overflow": null,
            "overflow_x": null,
            "overflow_y": null,
            "padding": null,
            "right": null,
            "top": null,
            "visibility": null,
            "width": null
          }
        },
        "2e82949f480740dd8e2f0f2d49468fb0": {
          "model_module": "@jupyter-widgets/base",
          "model_name": "LayoutModel",
          "model_module_version": "1.2.0",
          "state": {
            "_model_module": "@jupyter-widgets/base",
            "_model_module_version": "1.2.0",
            "_model_name": "LayoutModel",
            "_view_count": null,
            "_view_module": "@jupyter-widgets/base",
            "_view_module_version": "1.2.0",
            "_view_name": "LayoutView",
            "align_content": null,
            "align_items": null,
            "align_self": null,
            "border": null,
            "bottom": null,
            "display": null,
            "flex": null,
            "flex_flow": null,
            "grid_area": null,
            "grid_auto_columns": null,
            "grid_auto_flow": null,
            "grid_auto_rows": null,
            "grid_column": null,
            "grid_gap": null,
            "grid_row": null,
            "grid_template_areas": null,
            "grid_template_columns": null,
            "grid_template_rows": null,
            "height": null,
            "justify_content": null,
            "justify_items": null,
            "left": null,
            "margin": null,
            "max_height": null,
            "max_width": null,
            "min_height": null,
            "min_width": null,
            "object_fit": null,
            "object_position": null,
            "order": null,
            "overflow": null,
            "overflow_x": null,
            "overflow_y": null,
            "padding": null,
            "right": null,
            "top": null,
            "visibility": null,
            "width": null
          }
        },
        "f54728f59daf4e85b4c98b3802e52104": {
          "model_module": "@jupyter-widgets/controls",
          "model_name": "DescriptionStyleModel",
          "model_module_version": "1.5.0",
          "state": {
            "_model_module": "@jupyter-widgets/controls",
            "_model_module_version": "1.5.0",
            "_model_name": "DescriptionStyleModel",
            "_view_count": null,
            "_view_module": "@jupyter-widgets/base",
            "_view_module_version": "1.2.0",
            "_view_name": "StyleView",
            "description_width": ""
          }
        },
        "06563727b92d4176b32a4564e07c4a9d": {
          "model_module": "@jupyter-widgets/base",
          "model_name": "LayoutModel",
          "model_module_version": "1.2.0",
          "state": {
            "_model_module": "@jupyter-widgets/base",
            "_model_module_version": "1.2.0",
            "_model_name": "LayoutModel",
            "_view_count": null,
            "_view_module": "@jupyter-widgets/base",
            "_view_module_version": "1.2.0",
            "_view_name": "LayoutView",
            "align_content": null,
            "align_items": null,
            "align_self": null,
            "border": null,
            "bottom": null,
            "display": null,
            "flex": null,
            "flex_flow": null,
            "grid_area": null,
            "grid_auto_columns": null,
            "grid_auto_flow": null,
            "grid_auto_rows": null,
            "grid_column": null,
            "grid_gap": null,
            "grid_row": null,
            "grid_template_areas": null,
            "grid_template_columns": null,
            "grid_template_rows": null,
            "height": null,
            "justify_content": null,
            "justify_items": null,
            "left": null,
            "margin": null,
            "max_height": null,
            "max_width": null,
            "min_height": null,
            "min_width": null,
            "object_fit": null,
            "object_position": null,
            "order": null,
            "overflow": null,
            "overflow_x": null,
            "overflow_y": null,
            "padding": null,
            "right": null,
            "top": null,
            "visibility": null,
            "width": null
          }
        },
        "0169f5badb7f4c259d5af99f362c1f7d": {
          "model_module": "@jupyter-widgets/controls",
          "model_name": "ProgressStyleModel",
          "model_module_version": "1.5.0",
          "state": {
            "_model_module": "@jupyter-widgets/controls",
            "_model_module_version": "1.5.0",
            "_model_name": "ProgressStyleModel",
            "_view_count": null,
            "_view_module": "@jupyter-widgets/base",
            "_view_module_version": "1.2.0",
            "_view_name": "StyleView",
            "bar_color": null,
            "description_width": ""
          }
        },
        "066027201bae4a9083e4f3b82493265d": {
          "model_module": "@jupyter-widgets/base",
          "model_name": "LayoutModel",
          "model_module_version": "1.2.0",
          "state": {
            "_model_module": "@jupyter-widgets/base",
            "_model_module_version": "1.2.0",
            "_model_name": "LayoutModel",
            "_view_count": null,
            "_view_module": "@jupyter-widgets/base",
            "_view_module_version": "1.2.0",
            "_view_name": "LayoutView",
            "align_content": null,
            "align_items": null,
            "align_self": null,
            "border": null,
            "bottom": null,
            "display": null,
            "flex": null,
            "flex_flow": null,
            "grid_area": null,
            "grid_auto_columns": null,
            "grid_auto_flow": null,
            "grid_auto_rows": null,
            "grid_column": null,
            "grid_gap": null,
            "grid_row": null,
            "grid_template_areas": null,
            "grid_template_columns": null,
            "grid_template_rows": null,
            "height": null,
            "justify_content": null,
            "justify_items": null,
            "left": null,
            "margin": null,
            "max_height": null,
            "max_width": null,
            "min_height": null,
            "min_width": null,
            "object_fit": null,
            "object_position": null,
            "order": null,
            "overflow": null,
            "overflow_x": null,
            "overflow_y": null,
            "padding": null,
            "right": null,
            "top": null,
            "visibility": null,
            "width": null
          }
        },
        "0f96d720862a4038adede2884d56a86c": {
          "model_module": "@jupyter-widgets/controls",
          "model_name": "DescriptionStyleModel",
          "model_module_version": "1.5.0",
          "state": {
            "_model_module": "@jupyter-widgets/controls",
            "_model_module_version": "1.5.0",
            "_model_name": "DescriptionStyleModel",
            "_view_count": null,
            "_view_module": "@jupyter-widgets/base",
            "_view_module_version": "1.2.0",
            "_view_name": "StyleView",
            "description_width": ""
          }
        },
        "d0ada1b26eb341b585e26a4c09ce2446": {
          "model_module": "@jupyter-widgets/controls",
          "model_name": "HBoxModel",
          "model_module_version": "1.5.0",
          "state": {
            "_dom_classes": [],
            "_model_module": "@jupyter-widgets/controls",
            "_model_module_version": "1.5.0",
            "_model_name": "HBoxModel",
            "_view_count": null,
            "_view_module": "@jupyter-widgets/controls",
            "_view_module_version": "1.5.0",
            "_view_name": "HBoxView",
            "box_style": "",
            "children": [
              "IPY_MODEL_6f22edc5e19c4784a4c5bd6549ff06fa",
              "IPY_MODEL_cc22ce3c6ea84d16ac2db10c1fc2c5cd",
              "IPY_MODEL_6bcfccdb1d844720ba5871abc129e30e"
            ],
            "layout": "IPY_MODEL_7ced8c4578fc443998276d366f18d902"
          }
        },
        "6f22edc5e19c4784a4c5bd6549ff06fa": {
          "model_module": "@jupyter-widgets/controls",
          "model_name": "HTMLModel",
          "model_module_version": "1.5.0",
          "state": {
            "_dom_classes": [],
            "_model_module": "@jupyter-widgets/controls",
            "_model_module_version": "1.5.0",
            "_model_name": "HTMLModel",
            "_view_count": null,
            "_view_module": "@jupyter-widgets/controls",
            "_view_module_version": "1.5.0",
            "_view_name": "HTMLView",
            "description": "",
            "description_tooltip": null,
            "layout": "IPY_MODEL_aedd9ecb7638451f8c5887a969fda2c7",
            "placeholder": "​",
            "style": "IPY_MODEL_a51fc09a125149468bf91b8655c0850c",
            "value": "model.safetensors: 100%"
          }
        },
        "cc22ce3c6ea84d16ac2db10c1fc2c5cd": {
          "model_module": "@jupyter-widgets/controls",
          "model_name": "FloatProgressModel",
          "model_module_version": "1.5.0",
          "state": {
            "_dom_classes": [],
            "_model_module": "@jupyter-widgets/controls",
            "_model_module_version": "1.5.0",
            "_model_name": "FloatProgressModel",
            "_view_count": null,
            "_view_module": "@jupyter-widgets/controls",
            "_view_module_version": "1.5.0",
            "_view_name": "ProgressView",
            "bar_style": "success",
            "description": "",
            "description_tooltip": null,
            "layout": "IPY_MODEL_3fac5f4d8ff44c30a1b727b65da47bae",
            "max": 440449768,
            "min": 0,
            "orientation": "horizontal",
            "style": "IPY_MODEL_769661f6be3b4ce9abd515265e522925",
            "value": 440449768
          }
        },
        "6bcfccdb1d844720ba5871abc129e30e": {
          "model_module": "@jupyter-widgets/controls",
          "model_name": "HTMLModel",
          "model_module_version": "1.5.0",
          "state": {
            "_dom_classes": [],
            "_model_module": "@jupyter-widgets/controls",
            "_model_module_version": "1.5.0",
            "_model_name": "HTMLModel",
            "_view_count": null,
            "_view_module": "@jupyter-widgets/controls",
            "_view_module_version": "1.5.0",
            "_view_name": "HTMLView",
            "description": "",
            "description_tooltip": null,
            "layout": "IPY_MODEL_c3aa359aa3af41fd98a227beb40e6ff1",
            "placeholder": "​",
            "style": "IPY_MODEL_6bf1f263dcd84da5b41864db08d553c6",
            "value": " 440M/440M [00:05&lt;00:00, 99.4MB/s]"
          }
        },
        "7ced8c4578fc443998276d366f18d902": {
          "model_module": "@jupyter-widgets/base",
          "model_name": "LayoutModel",
          "model_module_version": "1.2.0",
          "state": {
            "_model_module": "@jupyter-widgets/base",
            "_model_module_version": "1.2.0",
            "_model_name": "LayoutModel",
            "_view_count": null,
            "_view_module": "@jupyter-widgets/base",
            "_view_module_version": "1.2.0",
            "_view_name": "LayoutView",
            "align_content": null,
            "align_items": null,
            "align_self": null,
            "border": null,
            "bottom": null,
            "display": null,
            "flex": null,
            "flex_flow": null,
            "grid_area": null,
            "grid_auto_columns": null,
            "grid_auto_flow": null,
            "grid_auto_rows": null,
            "grid_column": null,
            "grid_gap": null,
            "grid_row": null,
            "grid_template_areas": null,
            "grid_template_columns": null,
            "grid_template_rows": null,
            "height": null,
            "justify_content": null,
            "justify_items": null,
            "left": null,
            "margin": null,
            "max_height": null,
            "max_width": null,
            "min_height": null,
            "min_width": null,
            "object_fit": null,
            "object_position": null,
            "order": null,
            "overflow": null,
            "overflow_x": null,
            "overflow_y": null,
            "padding": null,
            "right": null,
            "top": null,
            "visibility": null,
            "width": null
          }
        },
        "aedd9ecb7638451f8c5887a969fda2c7": {
          "model_module": "@jupyter-widgets/base",
          "model_name": "LayoutModel",
          "model_module_version": "1.2.0",
          "state": {
            "_model_module": "@jupyter-widgets/base",
            "_model_module_version": "1.2.0",
            "_model_name": "LayoutModel",
            "_view_count": null,
            "_view_module": "@jupyter-widgets/base",
            "_view_module_version": "1.2.0",
            "_view_name": "LayoutView",
            "align_content": null,
            "align_items": null,
            "align_self": null,
            "border": null,
            "bottom": null,
            "display": null,
            "flex": null,
            "flex_flow": null,
            "grid_area": null,
            "grid_auto_columns": null,
            "grid_auto_flow": null,
            "grid_auto_rows": null,
            "grid_column": null,
            "grid_gap": null,
            "grid_row": null,
            "grid_template_areas": null,
            "grid_template_columns": null,
            "grid_template_rows": null,
            "height": null,
            "justify_content": null,
            "justify_items": null,
            "left": null,
            "margin": null,
            "max_height": null,
            "max_width": null,
            "min_height": null,
            "min_width": null,
            "object_fit": null,
            "object_position": null,
            "order": null,
            "overflow": null,
            "overflow_x": null,
            "overflow_y": null,
            "padding": null,
            "right": null,
            "top": null,
            "visibility": null,
            "width": null
          }
        },
        "a51fc09a125149468bf91b8655c0850c": {
          "model_module": "@jupyter-widgets/controls",
          "model_name": "DescriptionStyleModel",
          "model_module_version": "1.5.0",
          "state": {
            "_model_module": "@jupyter-widgets/controls",
            "_model_module_version": "1.5.0",
            "_model_name": "DescriptionStyleModel",
            "_view_count": null,
            "_view_module": "@jupyter-widgets/base",
            "_view_module_version": "1.2.0",
            "_view_name": "StyleView",
            "description_width": ""
          }
        },
        "3fac5f4d8ff44c30a1b727b65da47bae": {
          "model_module": "@jupyter-widgets/base",
          "model_name": "LayoutModel",
          "model_module_version": "1.2.0",
          "state": {
            "_model_module": "@jupyter-widgets/base",
            "_model_module_version": "1.2.0",
            "_model_name": "LayoutModel",
            "_view_count": null,
            "_view_module": "@jupyter-widgets/base",
            "_view_module_version": "1.2.0",
            "_view_name": "LayoutView",
            "align_content": null,
            "align_items": null,
            "align_self": null,
            "border": null,
            "bottom": null,
            "display": null,
            "flex": null,
            "flex_flow": null,
            "grid_area": null,
            "grid_auto_columns": null,
            "grid_auto_flow": null,
            "grid_auto_rows": null,
            "grid_column": null,
            "grid_gap": null,
            "grid_row": null,
            "grid_template_areas": null,
            "grid_template_columns": null,
            "grid_template_rows": null,
            "height": null,
            "justify_content": null,
            "justify_items": null,
            "left": null,
            "margin": null,
            "max_height": null,
            "max_width": null,
            "min_height": null,
            "min_width": null,
            "object_fit": null,
            "object_position": null,
            "order": null,
            "overflow": null,
            "overflow_x": null,
            "overflow_y": null,
            "padding": null,
            "right": null,
            "top": null,
            "visibility": null,
            "width": null
          }
        },
        "769661f6be3b4ce9abd515265e522925": {
          "model_module": "@jupyter-widgets/controls",
          "model_name": "ProgressStyleModel",
          "model_module_version": "1.5.0",
          "state": {
            "_model_module": "@jupyter-widgets/controls",
            "_model_module_version": "1.5.0",
            "_model_name": "ProgressStyleModel",
            "_view_count": null,
            "_view_module": "@jupyter-widgets/base",
            "_view_module_version": "1.2.0",
            "_view_name": "StyleView",
            "bar_color": null,
            "description_width": ""
          }
        },
        "c3aa359aa3af41fd98a227beb40e6ff1": {
          "model_module": "@jupyter-widgets/base",
          "model_name": "LayoutModel",
          "model_module_version": "1.2.0",
          "state": {
            "_model_module": "@jupyter-widgets/base",
            "_model_module_version": "1.2.0",
            "_model_name": "LayoutModel",
            "_view_count": null,
            "_view_module": "@jupyter-widgets/base",
            "_view_module_version": "1.2.0",
            "_view_name": "LayoutView",
            "align_content": null,
            "align_items": null,
            "align_self": null,
            "border": null,
            "bottom": null,
            "display": null,
            "flex": null,
            "flex_flow": null,
            "grid_area": null,
            "grid_auto_columns": null,
            "grid_auto_flow": null,
            "grid_auto_rows": null,
            "grid_column": null,
            "grid_gap": null,
            "grid_row": null,
            "grid_template_areas": null,
            "grid_template_columns": null,
            "grid_template_rows": null,
            "height": null,
            "justify_content": null,
            "justify_items": null,
            "left": null,
            "margin": null,
            "max_height": null,
            "max_width": null,
            "min_height": null,
            "min_width": null,
            "object_fit": null,
            "object_position": null,
            "order": null,
            "overflow": null,
            "overflow_x": null,
            "overflow_y": null,
            "padding": null,
            "right": null,
            "top": null,
            "visibility": null,
            "width": null
          }
        },
        "6bf1f263dcd84da5b41864db08d553c6": {
          "model_module": "@jupyter-widgets/controls",
          "model_name": "DescriptionStyleModel",
          "model_module_version": "1.5.0",
          "state": {
            "_model_module": "@jupyter-widgets/controls",
            "_model_module_version": "1.5.0",
            "_model_name": "DescriptionStyleModel",
            "_view_count": null,
            "_view_module": "@jupyter-widgets/base",
            "_view_module_version": "1.2.0",
            "_view_name": "StyleView",
            "description_width": ""
          }
        }
      }
    }
  },
  "nbformat": 4,
  "nbformat_minor": 5
}
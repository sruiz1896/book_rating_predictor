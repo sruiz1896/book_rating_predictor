{
  "nbformat": 4,
  "nbformat_minor": 0,
  "metadata": {
    "colab": {
      "provenance": [],
      "authorship_tag": "ABX9TyP16uluENYNscRUJJ04bXIw"
    },
    "kernelspec": {
      "name": "python3",
      "display_name": "Python 3"
    },
    "language_info": {
      "name": "python"
    }
  },
  "cells": [
    {
      "cell_type": "markdown",
      "source": [
        "# <font color=blue> *Modelling & Production Notebook* </font>\n",
        "Book Recommender System<br>\n",
        "Sabrina Ruiz"
      ],
      "metadata": {
        "id": "Bt287U9QlcxN"
      }
    },
    {
      "cell_type": "markdown",
      "source": [
        "# Set Up"
      ],
      "metadata": {
        "id": "fNG1YX4qlqmE"
      }
    },
    {
      "cell_type": "code",
      "execution_count": null,
      "metadata": {
        "id": "c2BGdSxXlZpR"
      },
      "outputs": [],
      "source": [
        "#libraries\n"
      ]
    },
    {
      "cell_type": "code",
      "source": [],
      "metadata": {
        "id": "0WGuPuFIlumQ"
      },
      "execution_count": null,
      "outputs": []
    }
  ]
}